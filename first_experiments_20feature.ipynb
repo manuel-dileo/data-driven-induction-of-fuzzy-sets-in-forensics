{
 "cells": [
  {
   "cell_type": "code",
   "execution_count": 1,
   "metadata": {},
   "outputs": [],
   "source": [
    "import pandas as pd\n",
    "import matplotlib.pyplot as plt\n",
    "pd.options.display.float_format = \"{:,.2f}\".format\n",
    "\n",
    "from experiments import *\n",
    "\n",
    "import sys\n",
    "\n",
    "sys.path.insert(1, '../fuzzylearn/')\n",
    "\n",
    "from fuzzylearn import *\n",
    "from fuzzylearn.fuzzifiers import LinearFuzzifier, CrispFuzzifier,ExponentialFuzzifier,QuantileLinearPiecewiseFuzzifier, QuantileConstantPiecewiseFuzzifier\n",
    "from fuzzylearn.kernel import GaussianKernel, LinearKernel, HyperbolicKernel, PolynomialKernel, HomogeneousPolynomialKernel\n",
    "from fuzzylearn import solve_optimization_gurobi\n",
    "\n",
    "from sklearn.preprocessing import StandardScaler, MinMaxScaler, MaxAbsScaler, QuantileTransformer, RobustScaler, PowerTransformer, Normalizer\n",
    "from sklearn.decomposition import PCA\n",
    "from sklearn.model_selection import GridSearchCV, cross_val_score\n",
    "\n",
    "dataset = pd.read_excel(\"dataset/IncidentiModificato.xlsx\")\n",
    "dataset = dataset.set_index(\"VERBALE\")"
   ]
  },
  {
   "cell_type": "code",
   "execution_count": 2,
   "metadata": {},
   "outputs": [
    {
     "data": {
      "text/html": [
       "<div>\n",
       "<style scoped>\n",
       "    .dataframe tbody tr th:only-of-type {\n",
       "        vertical-align: middle;\n",
       "    }\n",
       "\n",
       "    .dataframe tbody tr th {\n",
       "        vertical-align: top;\n",
       "    }\n",
       "\n",
       "    .dataframe thead th {\n",
       "        text-align: right;\n",
       "    }\n",
       "</style>\n",
       "<table border=\"1\" class=\"dataframe\">\n",
       "  <thead>\n",
       "    <tr style=\"text-align: right;\">\n",
       "      <th></th>\n",
       "      <th>DATA</th>\n",
       "      <th>SESSO</th>\n",
       "      <th>ANNI</th>\n",
       "      <th>PESO</th>\n",
       "      <th>ALTEZZA</th>\n",
       "      <th>BMI</th>\n",
       "      <th>Mezzo</th>\n",
       "      <th>Testa:Neurocranio</th>\n",
       "      <th>Testa:Splancnocranio</th>\n",
       "      <th>Testa:Telencefalo</th>\n",
       "      <th>...</th>\n",
       "      <th>II raggio sx.1</th>\n",
       "      <th>III raggio sx.1</th>\n",
       "      <th>IV raggio sx.1</th>\n",
       "      <th>V raggio sx.1</th>\n",
       "      <th>Art. coxo-femorale dx</th>\n",
       "      <th>Art. coxo-femorale sx</th>\n",
       "      <th>Rotula o Ginocchio dx</th>\n",
       "      <th>Rotula o Ginocchio sx</th>\n",
       "      <th>Caviglia dx</th>\n",
       "      <th>Caviglia sx</th>\n",
       "    </tr>\n",
       "    <tr>\n",
       "      <th>VERBALE</th>\n",
       "      <th></th>\n",
       "      <th></th>\n",
       "      <th></th>\n",
       "      <th></th>\n",
       "      <th></th>\n",
       "      <th></th>\n",
       "      <th></th>\n",
       "      <th></th>\n",
       "      <th></th>\n",
       "      <th></th>\n",
       "      <th></th>\n",
       "      <th></th>\n",
       "      <th></th>\n",
       "      <th></th>\n",
       "      <th></th>\n",
       "      <th></th>\n",
       "      <th></th>\n",
       "      <th></th>\n",
       "      <th></th>\n",
       "      <th></th>\n",
       "      <th></th>\n",
       "    </tr>\n",
       "  </thead>\n",
       "  <tbody>\n",
       "    <tr>\n",
       "      <th>85567</th>\n",
       "      <td>10893</td>\n",
       "      <td>0</td>\n",
       "      <td>81</td>\n",
       "      <td>84.00</td>\n",
       "      <td>1.75</td>\n",
       "      <td>27.43</td>\n",
       "      <td>0</td>\n",
       "      <td>1</td>\n",
       "      <td>0</td>\n",
       "      <td>0</td>\n",
       "      <td>...</td>\n",
       "      <td>0</td>\n",
       "      <td>0</td>\n",
       "      <td>0</td>\n",
       "      <td>0</td>\n",
       "      <td>0</td>\n",
       "      <td>0</td>\n",
       "      <td>0</td>\n",
       "      <td>0</td>\n",
       "      <td>0</td>\n",
       "      <td>0</td>\n",
       "    </tr>\n",
       "    <tr>\n",
       "      <th>85829</th>\n",
       "      <td>10970</td>\n",
       "      <td>1</td>\n",
       "      <td>69</td>\n",
       "      <td>69.00</td>\n",
       "      <td>1.62</td>\n",
       "      <td>26.29</td>\n",
       "      <td>1</td>\n",
       "      <td>4</td>\n",
       "      <td>4</td>\n",
       "      <td>4</td>\n",
       "      <td>...</td>\n",
       "      <td>0</td>\n",
       "      <td>0</td>\n",
       "      <td>0</td>\n",
       "      <td>0</td>\n",
       "      <td>0</td>\n",
       "      <td>0</td>\n",
       "      <td>0</td>\n",
       "      <td>0</td>\n",
       "      <td>0</td>\n",
       "      <td>0</td>\n",
       "    </tr>\n",
       "    <tr>\n",
       "      <th>85977</th>\n",
       "      <td>11026</td>\n",
       "      <td>1</td>\n",
       "      <td>71</td>\n",
       "      <td>67.00</td>\n",
       "      <td>1.55</td>\n",
       "      <td>27.89</td>\n",
       "      <td>1</td>\n",
       "      <td>2</td>\n",
       "      <td>0</td>\n",
       "      <td>1</td>\n",
       "      <td>...</td>\n",
       "      <td>0</td>\n",
       "      <td>0</td>\n",
       "      <td>0</td>\n",
       "      <td>0</td>\n",
       "      <td>0</td>\n",
       "      <td>0</td>\n",
       "      <td>0</td>\n",
       "      <td>0</td>\n",
       "      <td>0</td>\n",
       "      <td>0</td>\n",
       "    </tr>\n",
       "    <tr>\n",
       "      <th>86220</th>\n",
       "      <td>11122</td>\n",
       "      <td>1</td>\n",
       "      <td>54</td>\n",
       "      <td>60.00</td>\n",
       "      <td>1.59</td>\n",
       "      <td>23.73</td>\n",
       "      <td>1</td>\n",
       "      <td>4</td>\n",
       "      <td>0</td>\n",
       "      <td>0</td>\n",
       "      <td>...</td>\n",
       "      <td>0</td>\n",
       "      <td>0</td>\n",
       "      <td>0</td>\n",
       "      <td>0</td>\n",
       "      <td>0</td>\n",
       "      <td>0</td>\n",
       "      <td>0</td>\n",
       "      <td>0</td>\n",
       "      <td>0</td>\n",
       "      <td>0</td>\n",
       "    </tr>\n",
       "    <tr>\n",
       "      <th>86247</th>\n",
       "      <td>11130</td>\n",
       "      <td>1</td>\n",
       "      <td>78</td>\n",
       "      <td>69.00</td>\n",
       "      <td>1.67</td>\n",
       "      <td>24.74</td>\n",
       "      <td>1</td>\n",
       "      <td>2</td>\n",
       "      <td>0</td>\n",
       "      <td>0</td>\n",
       "      <td>...</td>\n",
       "      <td>0</td>\n",
       "      <td>0</td>\n",
       "      <td>0</td>\n",
       "      <td>0</td>\n",
       "      <td>0</td>\n",
       "      <td>0</td>\n",
       "      <td>0</td>\n",
       "      <td>0</td>\n",
       "      <td>0</td>\n",
       "      <td>0</td>\n",
       "    </tr>\n",
       "  </tbody>\n",
       "</table>\n",
       "<p>5 rows × 366 columns</p>\n",
       "</div>"
      ],
      "text/plain": [
       "          DATA  SESSO  ANNI  PESO  ALTEZZA   BMI  Mezzo  Testa:Neurocranio  \\\n",
       "VERBALE                                                                      \n",
       "85567    10893      0    81 84.00     1.75 27.43      0                  1   \n",
       "85829    10970      1    69 69.00     1.62 26.29      1                  4   \n",
       "85977    11026      1    71 67.00     1.55 27.89      1                  2   \n",
       "86220    11122      1    54 60.00     1.59 23.73      1                  4   \n",
       "86247    11130      1    78 69.00     1.67 24.74      1                  2   \n",
       "\n",
       "         Testa:Splancnocranio  Testa:Telencefalo  ...  II raggio sx.1  \\\n",
       "VERBALE                                           ...                   \n",
       "85567                       0                  0  ...               0   \n",
       "85829                       4                  4  ...               0   \n",
       "85977                       0                  1  ...               0   \n",
       "86220                       0                  0  ...               0   \n",
       "86247                       0                  0  ...               0   \n",
       "\n",
       "         III raggio sx.1  IV raggio sx.1  V raggio sx.1  \\\n",
       "VERBALE                                                   \n",
       "85567                  0               0              0   \n",
       "85829                  0               0              0   \n",
       "85977                  0               0              0   \n",
       "86220                  0               0              0   \n",
       "86247                  0               0              0   \n",
       "\n",
       "         Art. coxo-femorale dx  Art. coxo-femorale sx  Rotula o Ginocchio dx  \\\n",
       "VERBALE                                                                        \n",
       "85567                        0                      0                      0   \n",
       "85829                        0                      0                      0   \n",
       "85977                        0                      0                      0   \n",
       "86220                        0                      0                      0   \n",
       "86247                        0                      0                      0   \n",
       "\n",
       "         Rotula o Ginocchio sx  Caviglia dx  Caviglia sx  \n",
       "VERBALE                                                   \n",
       "85567                        0            0            0  \n",
       "85829                        0            0            0  \n",
       "85977                        0            0            0  \n",
       "86220                        0            0            0  \n",
       "86247                        0            0            0  \n",
       "\n",
       "[5 rows x 366 columns]"
      ]
     },
     "execution_count": 2,
     "metadata": {},
     "output_type": "execute_result"
    }
   ],
   "source": [
    "import datetime as dt\n",
    "\n",
    "dataset.DATA = dataset.DATA.apply(lambda d: (d - dt.datetime(1970,1,1)).days)\n",
    "\n",
    "dataset.head()"
   ]
  },
  {
   "cell_type": "code",
   "execution_count": 3,
   "metadata": {},
   "outputs": [],
   "source": [
    "import logging\n",
    "\n",
    "# create logger\n",
    "f_logger = logging.getLogger(__name__)\n",
    "f_logger.setLevel(logging.INFO)\n",
    "\n",
    "# create console handler and set level to debug\n",
    "file = logging.FileHandler('esperimenti.log')\n",
    "file.setLevel(logging.INFO)\n",
    "\n",
    "# create formatter\n",
    "formatter = logging.Formatter('%(asctime)s -%(message)s')\n",
    "\n",
    "# add formatter to ch\n",
    "file.setFormatter(formatter)\n",
    "\n",
    "# add ch to logger\n",
    "f_logger.addHandler(file)"
   ]
  },
  {
   "cell_type": "code",
   "execution_count": 4,
   "metadata": {},
   "outputs": [
    {
     "data": {
      "text/plain": [
       "'\\nwith open(\\'esperimenti.json\\', \"w\") as write_file:\\n    json.dump({}, write_file)\\nwith open(\\'fuzzifiers.json\\',\"w\") as write_file:\\n    json.dump({},write_file)\\nwith open(\\'esperimenti_kernels.json\\',\"w\") as write_file:\\n    json.dump({},write_file)\\nwith open(\\'fuzzifiers_kernels.json\\',\"w\") as write_file:\\n    json.dump({},write_file)\\nwith open(\\'fuzzifiers_tsne.json\\',\"w\") as write_file:\\n    json.dump({},write_file)\\n'"
      ]
     },
     "execution_count": 4,
     "metadata": {},
     "output_type": "execute_result"
    }
   ],
   "source": [
    "import json\n",
    "\n",
    "\"\"\"\n",
    "with open('esperimenti.json', \"w\") as write_file:\n",
    "    json.dump({}, write_file)\n",
    "with open('fuzzifiers.json',\"w\") as write_file:\n",
    "    json.dump({},write_file)\n",
    "with open('esperimenti_kernels.json',\"w\") as write_file:\n",
    "    json.dump({},write_file)\n",
    "with open('fuzzifiers_kernels.json',\"w\") as write_file:\n",
    "    json.dump({},write_file)\n",
    "with open('fuzzifiers_tsne.json',\"w\") as write_file:\n",
    "    json.dump({},write_file)\n",
    "\"\"\""
   ]
  },
  {
   "cell_type": "code",
   "execution_count": 18,
   "metadata": {},
   "outputs": [
    {
     "name": "stdout",
     "output_type": "stream",
     "text": [
      "\\begin{tabular}{lllll}\n",
      "\\toprule\n",
      "{} &               LesioniPCA10 &        LesioniPCA10\\_0 &               LesioniPCA20 &   LesioniPCA20\\_0 \\\\\n",
      "\\midrule\n",
      "c         &                        0.1 &                   0.1 &                        0.1 &              0.1 \\\\\n",
      "fuzzifier &            LinearFuzzifier &  ExponentialFuzzifier &       ExponentialFuzzifier &  LinearFuzzifier \\\\\n",
      "k         &  HyperbolicKernel(1, 0.01) &        LinearKernel() &  HyperbolicKernel(1, 0.01) &   LinearKernel() \\\\\n",
      "score     &                      -0.30 &                 -0.25 &                      -0.29 &            -0.25 \\\\\n",
      "\\bottomrule\n",
      "\\end{tabular}\n",
      "\n"
     ]
    }
   ],
   "source": [
    "risultati = pd.read_json('esperimenti20var.json')\n",
    "\n",
    "print(risultati[list(risultati.columns)[4:]].to_latex())"
   ]
  },
  {
   "cell_type": "code",
   "execution_count": 5,
   "metadata": {},
   "outputs": [],
   "source": [
    "def addestra(model_class, X, y, model_selection_grid, num_fold_grid_search, num_fold_cross_val, logger = None, scaling=StandardScaler(), dim_reduction=None):\n",
    "        \n",
    "    if logger is not None:\n",
    "        logger.info('Inizio Addestramento')\n",
    "        \n",
    "    X_std = scaling.fit_transform(X)  if scaling is not None else X\n",
    "    \n",
    "    X_std = dim_reduction.fit_transform(X_std) if dim_reduction is not None else X_std\n",
    "    \n",
    "    clf = GridSearchCV(estimator=model_class(), param_grid=model_selection_grid, cv=num_fold_grid_search, n_jobs=-1)\n",
    "    clf.fit(X_std,y)\n",
    "    \n",
    "    grid = clf.best_params_\n",
    "    for i, j in grid.items():\n",
    "        grid[i] = str(j)\n",
    "\n",
    "    val = cross_val_score(clf, X_std, y, cv=num_fold_cross_val)\n",
    "    \n",
    "    if logger is not None:\n",
    "        logger.info('%s',str(clf.best_params_))\n",
    "        logger.info('Scaler: %s', str(scaling))\n",
    "        logger.info('Scores: %s',str(val))\n",
    "        logger.info(\"Fine addestramento\")\n",
    "        \n",
    "    return val, grid"
   ]
  },
  {
   "cell_type": "code",
   "execution_count": 6,
   "metadata": {},
   "outputs": [],
   "source": [
    "def esperimento(dataset,columns,model_class, y, model_selection_grid, num_fold_grid_search, num_fold_cross_val, logger = None, scaling=StandardScaler(), dim_reduction=None,label=None):\n",
    "    grid = {}\n",
    "    if logger is not None:\n",
    "        name = label if label is not None else str(columns)\n",
    "        logger.info('ESPERIMENTO CON %s',name)\n",
    "        \n",
    "    dataset_values = dataset[columns].values\n",
    "    result, grid = addestra(FuzzyInductor,dataset_values,y,model_selection_grid,num_fold_grid_search,num_fold_cross_val,dim_reduction=dim_reduction,scaling=scaling,logger = logger)\n",
    "    \n",
    "    if logger is not None:\n",
    "        logger.info('Score: %s',str(result.mean()))\n",
    "        logger.info(\"FINE ESPERIMENTO\\n\")\n",
    "    \n",
    "    return result.mean(), grid"
   ]
  },
  {
   "cell_type": "code",
   "execution_count": 7,
   "metadata": {},
   "outputs": [],
   "source": [
    "def esperimento_registrato(dataset,columns,model_class, y, model_selection_grid, num_fold_grid_search, num_fold_cross_val, logger = None, file_json = None, scaling=StandardScaler(), dim_reduction=None,label=None):\n",
    "    grid = {}\n",
    "    sd_index = label if label is not None else str(columns)\n",
    "    if file_json is not None:\n",
    "        with open(file_json, \"r\") as read_file:\n",
    "            esperimenti = json.load(read_file)\n",
    "    else:\n",
    "        esperimenti = {}\n",
    "    if sd_index not in esperimenti.keys():\n",
    "        score, grid = esperimento(dataset,columns,model_class, y, model_selection_grid, num_fold_grid_search, num_fold_cross_val, logger = logger, scaling=scaling, dim_reduction=dim_reduction,label=sd_index)\n",
    "            \n",
    "        esperimenti[sd_index] = grid\n",
    "        esperimenti[sd_index]['score'] = score\n",
    "        with open(file_json, \"w\") as write_file:\n",
    "            json.dump(esperimenti, write_file)\n",
    "    col = pd.DataFrame(index=esperimenti[sd_index].keys())\n",
    "    col[sd_index] = esperimenti[sd_index].values()\n",
    "    return col"
   ]
  },
  {
   "cell_type": "code",
   "execution_count": 8,
   "metadata": {},
   "outputs": [],
   "source": [
    "sigmas = [.1,.255,.3,.4,.5,.6,.7,.8,.9]\n",
    "c_space = np.logspace(-4,3,10)\n",
    "params_grid = { 'c':c_space,\n",
    "               'k':[GaussianKernel(sigma) for sigma in sigmas],\n",
    "               'fuzzifier':[LinearFuzzifier,ExponentialFuzzifier, CrispFuzzifier, \n",
    "              QuantileConstantPiecewiseFuzzifier, QuantileLinearPiecewiseFuzzifier]\n",
    "}\n",
    "dataset_labels = dataset['Mezzo'].values"
   ]
  },
  {
   "cell_type": "markdown",
   "metadata": {},
   "source": [
    "# Esperimenti"
   ]
  },
  {
   "cell_type": "markdown",
   "metadata": {},
   "source": [
    "Esperimenti con i totali"
   ]
  },
  {
   "cell_type": "code",
   "execution_count": 9,
   "metadata": {},
   "outputs": [],
   "source": [
    "columns_noPCA = [['Totale'],['Tot Testa','Tot Torace','Tot Addome','Tot Scheletro'],['Totale','Tot Testa','Tot Torace','Tot Addome','Tot Scheletro']]\n",
    "labels = ['Totale','Totali distretti','Totali']"
   ]
  },
  {
   "cell_type": "code",
   "execution_count": 10,
   "metadata": {},
   "outputs": [
    {
     "data": {
      "text/plain": [
       "[                                                      Totale\n",
       " c                                       0.021544346900318846\n",
       " fuzzifier  <class 'fuzzylearn.fuzzifiers.ExponentialFuzzi...\n",
       " k                                        GaussianKernel(0.1)\n",
       " score                                                  -0.31,\n",
       "                                             Totali distretti\n",
       " c                                       0.021544346900318846\n",
       " fuzzifier  <class 'fuzzylearn.fuzzifiers.ExponentialFuzzi...\n",
       " k                                        GaussianKernel(0.7)\n",
       " score                                                  -0.30,\n",
       "                                                       Totali\n",
       " c                                       0.021544346900318846\n",
       " fuzzifier  <class 'fuzzylearn.fuzzifiers.ExponentialFuzzi...\n",
       " k                                        GaussianKernel(0.7)\n",
       " score                                                  -0.30]"
      ]
     },
     "execution_count": 10,
     "metadata": {},
     "output_type": "execute_result"
    }
   ],
   "source": [
    "[esperimento_registrato(dataset,cs,FuzzyInductor,dataset_labels,params_grid,3,3,logger = f_logger,file_json = 'esperimenti.json',label=l) for cs,l in zip(columns_noPCA,labels)]"
   ]
  },
  {
   "cell_type": "markdown",
   "metadata": {},
   "source": [
    "Esperimenti con le lesioni"
   ]
  },
  {
   "cell_type": "code",
   "execution_count": 11,
   "metadata": {},
   "outputs": [],
   "source": [
    "labels_lesioni = ['Lesioni 5 componenti','Lesioni 10 componenti','Lesioni 15 componenti','Lesioni 20 componenti']\n",
    "columns_lesioni = list(dataset.columns[7:27])"
   ]
  },
  {
   "cell_type": "code",
   "execution_count": 12,
   "metadata": {},
   "outputs": [],
   "source": [
    "for c,l in zip([5,10,15,20],labels_lesioni):\n",
    "    dim_red = PCA(n_components=c)\n",
    "    esperimento_registrato(dataset,columns_lesioni,FuzzyInductor,dataset_labels,params_grid,3,3,logger = f_logger,file_json = 'esperimenti.json',dim_reduction=dim_red,label=l)"
   ]
  },
  {
   "cell_type": "code",
   "execution_count": 13,
   "metadata": {},
   "outputs": [],
   "source": [
    "labels_totali_lesioni = ['LesioniTotali5','LesioniTotali10','LesioniTotali15','LesioniTotali20']\n",
    "columns_totali_lesioni = columns_lesioni + ['Totale','Tot Testa','Tot Torace','Tot Addome','Tot Scheletro']"
   ]
  },
  {
   "cell_type": "code",
   "execution_count": 14,
   "metadata": {},
   "outputs": [],
   "source": [
    "for c,l in zip([5,10,15,20],labels_totali_lesioni):\n",
    "    dim_red = PCA(n_components=c)\n",
    "    esperimento_registrato(dataset,columns_totali_lesioni,FuzzyInductor,dataset_labels,params_grid,3,3,logger = f_logger,file_json = 'esperimenti.json',dim_reduction=dim_red,label=l)"
   ]
  },
  {
   "cell_type": "markdown",
   "metadata": {},
   "source": [
    "Esperimenti con anagrafica"
   ]
  },
  {
   "cell_type": "code",
   "execution_count": 15,
   "metadata": {},
   "outputs": [],
   "source": [
    "columns_anagrafica = list(dataset.columns[1:5])"
   ]
  },
  {
   "cell_type": "code",
   "execution_count": 16,
   "metadata": {},
   "outputs": [],
   "source": [
    "columns_anagrafica_totale = columns_anagrafica + ['Totale']\n",
    "columns_anagrafica_totali = columns_anagrafica + ['Totale','Tot Testa','Tot Torace','Tot Addome','Tot Scheletro']\n",
    "columns_anagrafica_all = columns_anagrafica + columns_totali_lesioni"
   ]
  },
  {
   "cell_type": "code",
   "execution_count": 17,
   "metadata": {},
   "outputs": [],
   "source": [
    "label_anagrafica_totale = 'Anagrafica_Totale'\n",
    "label_anagrafica_totali = 'Anagrafica_Totali'\n",
    "labels_anagrafica_all = ['Anagrafica_Lesioni_Totali5','Anagrafica_Lesioni_Totali10','Anagrafica_Lesioni_Totali15','Anagrafica_Lesioni_Totali20']"
   ]
  },
  {
   "cell_type": "code",
   "execution_count": 18,
   "metadata": {},
   "outputs": [
    {
     "data": {
      "text/plain": [
       "[                                           Anagrafica_Totale\n",
       " c                                       0.021544346900318846\n",
       " fuzzifier  <class 'fuzzylearn.fuzzifiers.ExponentialFuzzi...\n",
       " k                                        GaussianKernel(0.9)\n",
       " score                                                  -0.32,\n",
       "                                            Anagrafica_Totali\n",
       " c                                       0.021544346900318846\n",
       " fuzzifier  <class 'fuzzylearn.fuzzifiers.QuantileConstant...\n",
       " k                                        GaussianKernel(0.1)\n",
       " score                                                  -0.33]"
      ]
     },
     "execution_count": 18,
     "metadata": {},
     "output_type": "execute_result"
    }
   ],
   "source": [
    "[esperimento_registrato(dataset,cs,FuzzyInductor,dataset_labels,params_grid,3,3,logger = f_logger,file_json = 'esperimenti.json',label=l) for cs,l in zip([columns_anagrafica_totale,columns_anagrafica_totali],[label_anagrafica_totale,label_anagrafica_totali])]"
   ]
  },
  {
   "cell_type": "code",
   "execution_count": 19,
   "metadata": {},
   "outputs": [],
   "source": [
    "for c,l in zip([5,10,15,20],labels_anagrafica_all):\n",
    "    dim_red = PCA(n_components=c)\n",
    "    esperimento_registrato(dataset,columns_anagrafica_all,FuzzyInductor,dataset_labels,params_grid,3,3,logger = f_logger,file_json = 'esperimenti.json',dim_reduction=dim_red,label=l)"
   ]
  },
  {
   "cell_type": "markdown",
   "metadata": {},
   "source": [
    "Esperimenti con BMI"
   ]
  },
  {
   "cell_type": "code",
   "execution_count": 20,
   "metadata": {},
   "outputs": [],
   "source": [
    "BMI = ['BMI']"
   ]
  },
  {
   "cell_type": "code",
   "execution_count": 21,
   "metadata": {},
   "outputs": [],
   "source": [
    "columns_BMI_totale = columns_anagrafica_totale + BMI\n",
    "columns_BMI_totali = columns_anagrafica_totali + BMI\n",
    "columns_BMI_all = columns_anagrafica_all + BMI"
   ]
  },
  {
   "cell_type": "code",
   "execution_count": 22,
   "metadata": {},
   "outputs": [],
   "source": [
    "label_BMI_totale = \"BMI_Totale\"\n",
    "label_BMI_totali = \"BMI_Totali\"\n",
    "labels_BMI_all=['BMI_Lesioni_Totali5','BMI_Lesioni_Totali10','BMI_Lesioni_Totali15','BMI_Lesioni_Totali20','BMI_Lesioni_Totali25','BMI_Lesioni_Totali30']"
   ]
  },
  {
   "cell_type": "code",
   "execution_count": 23,
   "metadata": {},
   "outputs": [
    {
     "data": {
      "text/plain": [
       "[                                                BMI_Totale\n",
       " c                                     0.021544346900318846\n",
       " fuzzifier  <class 'fuzzylearn.fuzzifiers.LinearFuzzifier'>\n",
       " k                                      GaussianKernel(0.9)\n",
       " score                                                -0.36,\n",
       "                                                   BMI_Totali\n",
       " c                                       0.021544346900318846\n",
       " fuzzifier  <class 'fuzzylearn.fuzzifiers.ExponentialFuzzi...\n",
       " k                                        GaussianKernel(0.1)\n",
       " score                                                  -0.46]"
      ]
     },
     "execution_count": 23,
     "metadata": {},
     "output_type": "execute_result"
    }
   ],
   "source": [
    "[esperimento_registrato(dataset,cs,FuzzyInductor,dataset_labels,params_grid,3,3,logger = f_logger,file_json = 'esperimenti.json',label=l) for cs,l in zip([columns_BMI_totale,columns_BMI_totali],[label_BMI_totale,label_BMI_totali])]"
   ]
  },
  {
   "cell_type": "code",
   "execution_count": 24,
   "metadata": {},
   "outputs": [],
   "source": [
    "for c,l in zip([5,10,15,20,25,30],labels_BMI_all):\n",
    "    dim_red = PCA(n_components=c)\n",
    "    esperimento_registrato(dataset,columns_BMI_all,FuzzyInductor,dataset_labels,params_grid,3,3,logger = f_logger,file_json = 'esperimenti.json',dim_reduction=dim_red,label=l)"
   ]
  },
  {
   "cell_type": "markdown",
   "metadata": {},
   "source": [
    "Esperimenti con data"
   ]
  },
  {
   "cell_type": "code",
   "execution_count": 25,
   "metadata": {},
   "outputs": [],
   "source": [
    "data = ['DATA']"
   ]
  },
  {
   "cell_type": "code",
   "execution_count": 26,
   "metadata": {},
   "outputs": [],
   "source": [
    "columns_data_totale = columns_anagrafica_totale + data\n",
    "columns_data_totali = columns_anagrafica_totali + data\n",
    "columns_data_all = columns_anagrafica_all + data"
   ]
  },
  {
   "cell_type": "code",
   "execution_count": 27,
   "metadata": {},
   "outputs": [],
   "source": [
    "label_data_totale = \"Data_Totale\"\n",
    "label_data_totali = \"Data_Totali\"\n",
    "labels_data_all=['Data_Lesioni_Totali5','Data_Lesioni_Totali10','Data_Lesioni_Totali15','Data_Lesioni_Totali20','Data_Lesioni_Totali25','Data_Lesioni_Totali30']"
   ]
  },
  {
   "cell_type": "code",
   "execution_count": 28,
   "metadata": {},
   "outputs": [
    {
     "data": {
      "text/plain": [
       "[                                                 Data_Totale\n",
       " c                                       0.021544346900318846\n",
       " fuzzifier  <class 'fuzzylearn.fuzzifiers.ExponentialFuzzi...\n",
       " k                                        GaussianKernel(0.9)\n",
       " score                                                  -0.38,\n",
       "                                                  Data_Totali\n",
       " c                                       0.021544346900318846\n",
       " fuzzifier  <class 'fuzzylearn.fuzzifiers.QuantileLinearPi...\n",
       " k                                        GaussianKernel(0.9)\n",
       " score                                                  -0.45]"
      ]
     },
     "execution_count": 28,
     "metadata": {},
     "output_type": "execute_result"
    }
   ],
   "source": [
    "[esperimento_registrato(dataset,cs,FuzzyInductor,dataset_labels,params_grid,3,3,logger = f_logger,file_json = 'esperimenti.json',label=l) for cs,l in zip([columns_data_totale,columns_data_totali],[label_data_totale,label_data_totali])]"
   ]
  },
  {
   "cell_type": "code",
   "execution_count": 29,
   "metadata": {},
   "outputs": [],
   "source": [
    "for c,l in zip([5,10,15,20,25,30],labels_data_all):\n",
    "    dim_red = PCA(n_components=c)\n",
    "    esperimento_registrato(dataset,columns_data_all,FuzzyInductor,dataset_labels,params_grid,3,3,logger = f_logger,file_json = 'esperimenti.json',dim_reduction=dim_red,label=l)"
   ]
  },
  {
   "cell_type": "markdown",
   "metadata": {},
   "source": [
    "esperimenti data e bmi"
   ]
  },
  {
   "cell_type": "code",
   "execution_count": 30,
   "metadata": {},
   "outputs": [],
   "source": [
    "data_bmi = ['DATA','BMI']"
   ]
  },
  {
   "cell_type": "code",
   "execution_count": 31,
   "metadata": {},
   "outputs": [],
   "source": [
    "columns_db_totale = columns_anagrafica_totale + BMI\n",
    "columns_db_totali = columns_anagrafica_totali + BMI\n",
    "columns_all = columns_anagrafica_all + BMI"
   ]
  },
  {
   "cell_type": "code",
   "execution_count": 32,
   "metadata": {},
   "outputs": [],
   "source": [
    "label_db_totale = \"DataBMI_Totale\"\n",
    "label_db_totali = \"DataBMI_Totali\"\n",
    "labels_all=['All5','All10','All15','All20','All25','All30']"
   ]
  },
  {
   "cell_type": "code",
   "execution_count": 33,
   "metadata": {},
   "outputs": [
    {
     "data": {
      "text/plain": [
       "[                                              DataBMI_Totale\n",
       " c                                       0.021544346900318846\n",
       " fuzzifier  <class 'fuzzylearn.fuzzifiers.ExponentialFuzzi...\n",
       " k                                        GaussianKernel(0.9)\n",
       " score                                                  -0.33,\n",
       "                                               DataBMI_Totali\n",
       " c                                       0.021544346900318846\n",
       " fuzzifier  <class 'fuzzylearn.fuzzifiers.QuantileLinearPi...\n",
       " k                                        GaussianKernel(0.1)\n",
       " score                                                  -0.33]"
      ]
     },
     "execution_count": 33,
     "metadata": {},
     "output_type": "execute_result"
    }
   ],
   "source": [
    "[esperimento_registrato(dataset,cs,FuzzyInductor,dataset_labels,params_grid,3,3,logger = f_logger,file_json = 'esperimenti.json',label=l) for cs,l in zip([columns_db_totale,columns_db_totali],[label_db_totale,label_db_totali])]"
   ]
  },
  {
   "cell_type": "code",
   "execution_count": 34,
   "metadata": {},
   "outputs": [],
   "source": [
    "for c,l in zip([5,10,15,20,25,30],labels_all):\n",
    "    dim_red = PCA(n_components=c)\n",
    "    esperimento_registrato(dataset,columns_all,FuzzyInductor,dataset_labels,params_grid,3,3,logger = f_logger,file_json = 'esperimenti.json',dim_reduction=dim_red,label=l)\n"
   ]
  },
  {
   "cell_type": "code",
   "execution_count": 35,
   "metadata": {},
   "outputs": [
    {
     "data": {
      "text/html": [
       "<div>\n",
       "<style scoped>\n",
       "    .dataframe tbody tr th:only-of-type {\n",
       "        vertical-align: middle;\n",
       "    }\n",
       "\n",
       "    .dataframe tbody tr th {\n",
       "        vertical-align: top;\n",
       "    }\n",
       "\n",
       "    .dataframe thead th {\n",
       "        text-align: right;\n",
       "    }\n",
       "</style>\n",
       "<table border=\"1\" class=\"dataframe\">\n",
       "  <thead>\n",
       "    <tr style=\"text-align: right;\">\n",
       "      <th></th>\n",
       "      <th>Totale</th>\n",
       "      <th>Totali distretti</th>\n",
       "      <th>Totali</th>\n",
       "      <th>Lesioni 5 componenti</th>\n",
       "      <th>Lesioni 10 componenti</th>\n",
       "      <th>Lesioni 15 componenti</th>\n",
       "      <th>Lesioni 20 componenti</th>\n",
       "      <th>LesioniTotali5</th>\n",
       "      <th>LesioniTotali10</th>\n",
       "      <th>LesioniTotali15</th>\n",
       "      <th>...</th>\n",
       "      <th>Data_Lesioni_Totali25</th>\n",
       "      <th>Data_Lesioni_Totali30</th>\n",
       "      <th>DataBMI_Totale</th>\n",
       "      <th>DataBMI_Totali</th>\n",
       "      <th>All5</th>\n",
       "      <th>All10</th>\n",
       "      <th>All15</th>\n",
       "      <th>All20</th>\n",
       "      <th>All25</th>\n",
       "      <th>All30</th>\n",
       "    </tr>\n",
       "  </thead>\n",
       "  <tbody>\n",
       "    <tr>\n",
       "      <th>c</th>\n",
       "      <td>0.021544346900318846</td>\n",
       "      <td>0.021544346900318846</td>\n",
       "      <td>0.021544346900318846</td>\n",
       "      <td>0.021544346900318846</td>\n",
       "      <td>0.021544346900318846</td>\n",
       "      <td>0.021544346900318846</td>\n",
       "      <td>0.021544346900318846</td>\n",
       "      <td>0.021544346900318846</td>\n",
       "      <td>0.021544346900318846</td>\n",
       "      <td>0.021544346900318846</td>\n",
       "      <td>...</td>\n",
       "      <td>0.021544346900318846</td>\n",
       "      <td>0.021544346900318846</td>\n",
       "      <td>0.021544346900318846</td>\n",
       "      <td>0.021544346900318846</td>\n",
       "      <td>0.021544346900318846</td>\n",
       "      <td>0.021544346900318846</td>\n",
       "      <td>0.021544346900318846</td>\n",
       "      <td>0.021544346900318846</td>\n",
       "      <td>0.021544346900318846</td>\n",
       "      <td>0.021544346900318846</td>\n",
       "    </tr>\n",
       "    <tr>\n",
       "      <th>fuzzifier</th>\n",
       "      <td>&lt;class 'fuzzylearn.fuzzifiers.ExponentialFuzzi...</td>\n",
       "      <td>&lt;class 'fuzzylearn.fuzzifiers.ExponentialFuzzi...</td>\n",
       "      <td>&lt;class 'fuzzylearn.fuzzifiers.ExponentialFuzzi...</td>\n",
       "      <td>&lt;class 'fuzzylearn.fuzzifiers.ExponentialFuzzi...</td>\n",
       "      <td>&lt;class 'fuzzylearn.fuzzifiers.ExponentialFuzzi...</td>\n",
       "      <td>&lt;class 'fuzzylearn.fuzzifiers.ExponentialFuzzi...</td>\n",
       "      <td>&lt;class 'fuzzylearn.fuzzifiers.QuantileConstant...</td>\n",
       "      <td>&lt;class 'fuzzylearn.fuzzifiers.ExponentialFuzzi...</td>\n",
       "      <td>&lt;class 'fuzzylearn.fuzzifiers.LinearFuzzifier'&gt;</td>\n",
       "      <td>&lt;class 'fuzzylearn.fuzzifiers.QuantileConstant...</td>\n",
       "      <td>...</td>\n",
       "      <td>&lt;class 'fuzzylearn.fuzzifiers.QuantileLinearPi...</td>\n",
       "      <td>&lt;class 'fuzzylearn.fuzzifiers.QuantileLinearPi...</td>\n",
       "      <td>&lt;class 'fuzzylearn.fuzzifiers.ExponentialFuzzi...</td>\n",
       "      <td>&lt;class 'fuzzylearn.fuzzifiers.QuantileLinearPi...</td>\n",
       "      <td>&lt;class 'fuzzylearn.fuzzifiers.QuantileLinearPi...</td>\n",
       "      <td>&lt;class 'fuzzylearn.fuzzifiers.QuantileLinearPi...</td>\n",
       "      <td>&lt;class 'fuzzylearn.fuzzifiers.QuantileLinearPi...</td>\n",
       "      <td>&lt;class 'fuzzylearn.fuzzifiers.QuantileConstant...</td>\n",
       "      <td>&lt;class 'fuzzylearn.fuzzifiers.QuantileConstant...</td>\n",
       "      <td>&lt;class 'fuzzylearn.fuzzifiers.QuantileConstant...</td>\n",
       "    </tr>\n",
       "    <tr>\n",
       "      <th>k</th>\n",
       "      <td>GaussianKernel(0.1)</td>\n",
       "      <td>GaussianKernel(0.7)</td>\n",
       "      <td>GaussianKernel(0.7)</td>\n",
       "      <td>GaussianKernel(0.9)</td>\n",
       "      <td>GaussianKernel(0.9)</td>\n",
       "      <td>GaussianKernel(0.5)</td>\n",
       "      <td>GaussianKernel(0.3)</td>\n",
       "      <td>GaussianKernel(0.9)</td>\n",
       "      <td>GaussianKernel(0.9)</td>\n",
       "      <td>GaussianKernel(0.3)</td>\n",
       "      <td>...</td>\n",
       "      <td>GaussianKernel(0.6)</td>\n",
       "      <td>GaussianKernel(0.6)</td>\n",
       "      <td>GaussianKernel(0.9)</td>\n",
       "      <td>GaussianKernel(0.1)</td>\n",
       "      <td>GaussianKernel(0.255)</td>\n",
       "      <td>GaussianKernel(0.5)</td>\n",
       "      <td>GaussianKernel(0.8)</td>\n",
       "      <td>GaussianKernel(0.4)</td>\n",
       "      <td>GaussianKernel(0.4)</td>\n",
       "      <td>GaussianKernel(0.4)</td>\n",
       "    </tr>\n",
       "    <tr>\n",
       "      <th>score</th>\n",
       "      <td>-0.31</td>\n",
       "      <td>-0.30</td>\n",
       "      <td>-0.30</td>\n",
       "      <td>-0.31</td>\n",
       "      <td>-0.47</td>\n",
       "      <td>-0.46</td>\n",
       "      <td>-0.32</td>\n",
       "      <td>-0.33</td>\n",
       "      <td>-0.33</td>\n",
       "      <td>-0.38</td>\n",
       "      <td>...</td>\n",
       "      <td>-0.45</td>\n",
       "      <td>-0.38</td>\n",
       "      <td>-0.33</td>\n",
       "      <td>-0.33</td>\n",
       "      <td>-0.37</td>\n",
       "      <td>-0.44</td>\n",
       "      <td>-0.44</td>\n",
       "      <td>-0.32</td>\n",
       "      <td>-0.33</td>\n",
       "      <td>-0.33</td>\n",
       "    </tr>\n",
       "  </tbody>\n",
       "</table>\n",
       "<p>4 rows × 41 columns</p>\n",
       "</div>"
      ],
      "text/plain": [
       "                                                      Totale  \\\n",
       "c                                       0.021544346900318846   \n",
       "fuzzifier  <class 'fuzzylearn.fuzzifiers.ExponentialFuzzi...   \n",
       "k                                        GaussianKernel(0.1)   \n",
       "score                                                  -0.31   \n",
       "\n",
       "                                            Totali distretti  \\\n",
       "c                                       0.021544346900318846   \n",
       "fuzzifier  <class 'fuzzylearn.fuzzifiers.ExponentialFuzzi...   \n",
       "k                                        GaussianKernel(0.7)   \n",
       "score                                                  -0.30   \n",
       "\n",
       "                                                      Totali  \\\n",
       "c                                       0.021544346900318846   \n",
       "fuzzifier  <class 'fuzzylearn.fuzzifiers.ExponentialFuzzi...   \n",
       "k                                        GaussianKernel(0.7)   \n",
       "score                                                  -0.30   \n",
       "\n",
       "                                        Lesioni 5 componenti  \\\n",
       "c                                       0.021544346900318846   \n",
       "fuzzifier  <class 'fuzzylearn.fuzzifiers.ExponentialFuzzi...   \n",
       "k                                        GaussianKernel(0.9)   \n",
       "score                                                  -0.31   \n",
       "\n",
       "                                       Lesioni 10 componenti  \\\n",
       "c                                       0.021544346900318846   \n",
       "fuzzifier  <class 'fuzzylearn.fuzzifiers.ExponentialFuzzi...   \n",
       "k                                        GaussianKernel(0.9)   \n",
       "score                                                  -0.47   \n",
       "\n",
       "                                       Lesioni 15 componenti  \\\n",
       "c                                       0.021544346900318846   \n",
       "fuzzifier  <class 'fuzzylearn.fuzzifiers.ExponentialFuzzi...   \n",
       "k                                        GaussianKernel(0.5)   \n",
       "score                                                  -0.46   \n",
       "\n",
       "                                       Lesioni 20 componenti  \\\n",
       "c                                       0.021544346900318846   \n",
       "fuzzifier  <class 'fuzzylearn.fuzzifiers.QuantileConstant...   \n",
       "k                                        GaussianKernel(0.3)   \n",
       "score                                                  -0.32   \n",
       "\n",
       "                                              LesioniTotali5  \\\n",
       "c                                       0.021544346900318846   \n",
       "fuzzifier  <class 'fuzzylearn.fuzzifiers.ExponentialFuzzi...   \n",
       "k                                        GaussianKernel(0.9)   \n",
       "score                                                  -0.33   \n",
       "\n",
       "                                           LesioniTotali10  \\\n",
       "c                                     0.021544346900318846   \n",
       "fuzzifier  <class 'fuzzylearn.fuzzifiers.LinearFuzzifier'>   \n",
       "k                                      GaussianKernel(0.9)   \n",
       "score                                                -0.33   \n",
       "\n",
       "                                             LesioniTotali15  ...  \\\n",
       "c                                       0.021544346900318846  ...   \n",
       "fuzzifier  <class 'fuzzylearn.fuzzifiers.QuantileConstant...  ...   \n",
       "k                                        GaussianKernel(0.3)  ...   \n",
       "score                                                  -0.38  ...   \n",
       "\n",
       "                                       Data_Lesioni_Totali25  \\\n",
       "c                                       0.021544346900318846   \n",
       "fuzzifier  <class 'fuzzylearn.fuzzifiers.QuantileLinearPi...   \n",
       "k                                        GaussianKernel(0.6)   \n",
       "score                                                  -0.45   \n",
       "\n",
       "                                       Data_Lesioni_Totali30  \\\n",
       "c                                       0.021544346900318846   \n",
       "fuzzifier  <class 'fuzzylearn.fuzzifiers.QuantileLinearPi...   \n",
       "k                                        GaussianKernel(0.6)   \n",
       "score                                                  -0.38   \n",
       "\n",
       "                                              DataBMI_Totale  \\\n",
       "c                                       0.021544346900318846   \n",
       "fuzzifier  <class 'fuzzylearn.fuzzifiers.ExponentialFuzzi...   \n",
       "k                                        GaussianKernel(0.9)   \n",
       "score                                                  -0.33   \n",
       "\n",
       "                                              DataBMI_Totali  \\\n",
       "c                                       0.021544346900318846   \n",
       "fuzzifier  <class 'fuzzylearn.fuzzifiers.QuantileLinearPi...   \n",
       "k                                        GaussianKernel(0.1)   \n",
       "score                                                  -0.33   \n",
       "\n",
       "                                                        All5  \\\n",
       "c                                       0.021544346900318846   \n",
       "fuzzifier  <class 'fuzzylearn.fuzzifiers.QuantileLinearPi...   \n",
       "k                                      GaussianKernel(0.255)   \n",
       "score                                                  -0.37   \n",
       "\n",
       "                                                       All10  \\\n",
       "c                                       0.021544346900318846   \n",
       "fuzzifier  <class 'fuzzylearn.fuzzifiers.QuantileLinearPi...   \n",
       "k                                        GaussianKernel(0.5)   \n",
       "score                                                  -0.44   \n",
       "\n",
       "                                                       All15  \\\n",
       "c                                       0.021544346900318846   \n",
       "fuzzifier  <class 'fuzzylearn.fuzzifiers.QuantileLinearPi...   \n",
       "k                                        GaussianKernel(0.8)   \n",
       "score                                                  -0.44   \n",
       "\n",
       "                                                       All20  \\\n",
       "c                                       0.021544346900318846   \n",
       "fuzzifier  <class 'fuzzylearn.fuzzifiers.QuantileConstant...   \n",
       "k                                        GaussianKernel(0.4)   \n",
       "score                                                  -0.32   \n",
       "\n",
       "                                                       All25  \\\n",
       "c                                       0.021544346900318846   \n",
       "fuzzifier  <class 'fuzzylearn.fuzzifiers.QuantileConstant...   \n",
       "k                                        GaussianKernel(0.4)   \n",
       "score                                                  -0.33   \n",
       "\n",
       "                                                       All30  \n",
       "c                                       0.021544346900318846  \n",
       "fuzzifier  <class 'fuzzylearn.fuzzifiers.QuantileConstant...  \n",
       "k                                        GaussianKernel(0.4)  \n",
       "score                                                  -0.33  \n",
       "\n",
       "[4 rows x 41 columns]"
      ]
     },
     "execution_count": 35,
     "metadata": {},
     "output_type": "execute_result"
    }
   ],
   "source": [
    "risultati_gaussian = pd.read_json(\"esperimenti.json\")\n",
    "risultati_gaussian"
   ]
  },
  {
   "cell_type": "markdown",
   "metadata": {},
   "source": [
    "### Proviamo ad aggiungere Kernel diversi da quello Gaussiano"
   ]
  },
  {
   "cell_type": "markdown",
   "metadata": {},
   "source": [
    "Eseguiamo solo gli esperimenti che ci hanno dato i risultati migliori"
   ]
  },
  {
   "cell_type": "code",
   "execution_count": 36,
   "metadata": {},
   "outputs": [],
   "source": [
    "degrees = list(range(1,11))\n",
    "offsets = list(range(0,6))\n",
    "params_grid_kernels = { 'c':c_space,\n",
    "               'k': [LinearKernel()] + [PolynomialKernel(d) for d in degrees] + \n",
    "                    [HomogeneousPolynomialKernel(d) for d in degrees] + [HyperbolicKernel(1,o) for o in offsets],\n",
    "               'fuzzifier':[LinearFuzzifier,ExponentialFuzzifier, CrispFuzzifier, \n",
    "              QuantileConstantPiecewiseFuzzifier, QuantileLinearPiecewiseFuzzifier]\n",
    "}"
   ]
  },
  {
   "cell_type": "code",
   "execution_count": 37,
   "metadata": {},
   "outputs": [],
   "source": [
    "for c,l in zip([columns_BMI_all,columns_all,columns_lesioni,columns_totali_lesioni],['BMI_Lesioni_Totali20K','All20K','Lesioni20K','LesioniTotali20K']):\n",
    "    dim_red = PCA(n_components=20)\n",
    "    esperimento_registrato(dataset,c,FuzzyInductor,dataset_labels,params_grid_kernels,3,3,logger = f_logger,file_json = 'esperimenti_kernels.json',dim_reduction=dim_red,label=l)"
   ]
  },
  {
   "cell_type": "code",
   "execution_count": 38,
   "metadata": {},
   "outputs": [],
   "source": [
    "for c,l in zip([['Totale'],['Tot Testa','Tot Torace','Tot Addome','Tot Scheletro'],['Totale','Tot Testa','Tot Torace','Tot Addome','Tot Scheletro']],['TotaleK','TotaliDistrettiK','TotaliK']):\n",
    "    esperimento_registrato(dataset,c,FuzzyInductor,dataset_labels,params_grid_kernels,3,3,logger = f_logger,file_json = 'esperimenti_kernels.json',label=l)"
   ]
  },
  {
   "cell_type": "code",
   "execution_count": 39,
   "metadata": {},
   "outputs": [
    {
     "data": {
      "text/html": [
       "<div>\n",
       "<style scoped>\n",
       "    .dataframe tbody tr th:only-of-type {\n",
       "        vertical-align: middle;\n",
       "    }\n",
       "\n",
       "    .dataframe tbody tr th {\n",
       "        vertical-align: top;\n",
       "    }\n",
       "\n",
       "    .dataframe thead th {\n",
       "        text-align: right;\n",
       "    }\n",
       "</style>\n",
       "<table border=\"1\" class=\"dataframe\">\n",
       "  <thead>\n",
       "    <tr style=\"text-align: right;\">\n",
       "      <th></th>\n",
       "      <th>TotaleK</th>\n",
       "      <th>TotaliK</th>\n",
       "      <th>TotaliDistrettiK</th>\n",
       "      <th>LesioniTotali20K</th>\n",
       "      <th>Lesioni20K</th>\n",
       "      <th>All20K</th>\n",
       "      <th>BMI_Lesioni_Totali20K</th>\n",
       "    </tr>\n",
       "  </thead>\n",
       "  <tbody>\n",
       "    <tr>\n",
       "      <th>c</th>\n",
       "      <td>0.021544346900318846</td>\n",
       "      <td>0.021544346900318846</td>\n",
       "      <td>0.021544346900318846</td>\n",
       "      <td>0.021544346900318846</td>\n",
       "      <td>0.021544346900318846</td>\n",
       "      <td>0.021544346900318846</td>\n",
       "      <td>0.021544346900318846</td>\n",
       "    </tr>\n",
       "    <tr>\n",
       "      <th>fuzzifier</th>\n",
       "      <td>&lt;class 'fuzzylearn.fuzzifiers.ExponentialFuzzi...</td>\n",
       "      <td>&lt;class 'fuzzylearn.fuzzifiers.ExponentialFuzzi...</td>\n",
       "      <td>&lt;class 'fuzzylearn.fuzzifiers.LinearFuzzifier'&gt;</td>\n",
       "      <td>&lt;class 'fuzzylearn.fuzzifiers.LinearFuzzifier'&gt;</td>\n",
       "      <td>&lt;class 'fuzzylearn.fuzzifiers.ExponentialFuzzi...</td>\n",
       "      <td>&lt;class 'fuzzylearn.fuzzifiers.LinearFuzzifier'&gt;</td>\n",
       "      <td>&lt;class 'fuzzylearn.fuzzifiers.LinearFuzzifier'&gt;</td>\n",
       "    </tr>\n",
       "    <tr>\n",
       "      <th>k</th>\n",
       "      <td>HomogeneousPolynomialKernel(4)</td>\n",
       "      <td>HyperbolicKernel(1, 1)</td>\n",
       "      <td>HyperbolicKernel(1, 1)</td>\n",
       "      <td>HyperbolicKernel(1, 0)</td>\n",
       "      <td>HyperbolicKernel(1, 0)</td>\n",
       "      <td>HyperbolicKernel(1, 0)</td>\n",
       "      <td>HyperbolicKernel(1, 0)</td>\n",
       "    </tr>\n",
       "    <tr>\n",
       "      <th>score</th>\n",
       "      <td>-0.31</td>\n",
       "      <td>-0.31</td>\n",
       "      <td>-0.32</td>\n",
       "      <td>-0.29</td>\n",
       "      <td>-0.29</td>\n",
       "      <td>-0.29</td>\n",
       "      <td>-0.29</td>\n",
       "    </tr>\n",
       "  </tbody>\n",
       "</table>\n",
       "</div>"
      ],
      "text/plain": [
       "                                                     TotaleK  \\\n",
       "c                                       0.021544346900318846   \n",
       "fuzzifier  <class 'fuzzylearn.fuzzifiers.ExponentialFuzzi...   \n",
       "k                             HomogeneousPolynomialKernel(4)   \n",
       "score                                                  -0.31   \n",
       "\n",
       "                                                     TotaliK  \\\n",
       "c                                       0.021544346900318846   \n",
       "fuzzifier  <class 'fuzzylearn.fuzzifiers.ExponentialFuzzi...   \n",
       "k                                     HyperbolicKernel(1, 1)   \n",
       "score                                                  -0.31   \n",
       "\n",
       "                                          TotaliDistrettiK  \\\n",
       "c                                     0.021544346900318846   \n",
       "fuzzifier  <class 'fuzzylearn.fuzzifiers.LinearFuzzifier'>   \n",
       "k                                   HyperbolicKernel(1, 1)   \n",
       "score                                                -0.32   \n",
       "\n",
       "                                          LesioniTotali20K  \\\n",
       "c                                     0.021544346900318846   \n",
       "fuzzifier  <class 'fuzzylearn.fuzzifiers.LinearFuzzifier'>   \n",
       "k                                   HyperbolicKernel(1, 0)   \n",
       "score                                                -0.29   \n",
       "\n",
       "                                                  Lesioni20K  \\\n",
       "c                                       0.021544346900318846   \n",
       "fuzzifier  <class 'fuzzylearn.fuzzifiers.ExponentialFuzzi...   \n",
       "k                                     HyperbolicKernel(1, 0)   \n",
       "score                                                  -0.29   \n",
       "\n",
       "                                                    All20K  \\\n",
       "c                                     0.021544346900318846   \n",
       "fuzzifier  <class 'fuzzylearn.fuzzifiers.LinearFuzzifier'>   \n",
       "k                                   HyperbolicKernel(1, 0)   \n",
       "score                                                -0.29   \n",
       "\n",
       "                                     BMI_Lesioni_Totali20K  \n",
       "c                                     0.021544346900318846  \n",
       "fuzzifier  <class 'fuzzylearn.fuzzifiers.LinearFuzzifier'>  \n",
       "k                                   HyperbolicKernel(1, 0)  \n",
       "score                                                -0.29  "
      ]
     },
     "execution_count": 39,
     "metadata": {},
     "output_type": "execute_result"
    }
   ],
   "source": [
    "risultati_other_kernels = pd.read_json(\"esperimenti_kernels.json\")\n",
    "risultati_other_kernels"
   ]
  },
  {
   "cell_type": "markdown",
   "metadata": {},
   "source": [
    "### Proviamo T-SNE"
   ]
  },
  {
   "cell_type": "code",
   "execution_count": 40,
   "metadata": {},
   "outputs": [],
   "source": [
    "from sklearn.manifold import TSNE"
   ]
  },
  {
   "cell_type": "code",
   "execution_count": 41,
   "metadata": {},
   "outputs": [
    {
     "data": {
      "text/plain": [
       "'\\nwith open(\\'esperimenti_tsne.json\\',\"w\") as write_file:\\n    json.dump({},write_file)\\n'"
      ]
     },
     "execution_count": 41,
     "metadata": {},
     "output_type": "execute_result"
    }
   ],
   "source": [
    "\"\"\"\n",
    "with open('esperimenti_tsne.json',\"w\") as write_file:\n",
    "    json.dump({},write_file)\n",
    "\"\"\""
   ]
  },
  {
   "cell_type": "markdown",
   "metadata": {},
   "source": [
    "Prova tsne con la riduzione a 5,10,15,20,25,30 componenti sul miglior sottodataset degli esperimenti gaussiani"
   ]
  },
  {
   "cell_type": "code",
   "execution_count": 42,
   "metadata": {},
   "outputs": [
    {
     "data": {
      "text/plain": [
       "['BMI_Lesioni_Totali20']"
      ]
     },
     "execution_count": 42,
     "metadata": {},
     "output_type": "execute_result"
    }
   ],
   "source": [
    "best_exp=[col for col in risultati_gaussian.columns if risultati_gaussian[col]['score'] == risultati_gaussian.loc['score'].max()]\n",
    "best_exp"
   ]
  },
  {
   "cell_type": "code",
   "execution_count": 43,
   "metadata": {},
   "outputs": [],
   "source": [
    "for c,l in zip([5,10,15,20,25,30],list(map(lambda x: str(x)+\"tsne\",labels_BMI_all))):\n",
    "    dim_red = TSNE(n_components=c,method='exact')\n",
    "    esperimento_registrato(dataset,columns_BMI_all,FuzzyInductor,dataset_labels,params_grid,3,3,logger = f_logger,file_json = 'esperimenti_tsne.json',dim_reduction=dim_red,label=l)"
   ]
  },
  {
   "cell_type": "code",
   "execution_count": 44,
   "metadata": {},
   "outputs": [
    {
     "data": {
      "text/html": [
       "<div>\n",
       "<style scoped>\n",
       "    .dataframe tbody tr th:only-of-type {\n",
       "        vertical-align: middle;\n",
       "    }\n",
       "\n",
       "    .dataframe tbody tr th {\n",
       "        vertical-align: top;\n",
       "    }\n",
       "\n",
       "    .dataframe thead th {\n",
       "        text-align: right;\n",
       "    }\n",
       "</style>\n",
       "<table border=\"1\" class=\"dataframe\">\n",
       "  <thead>\n",
       "    <tr style=\"text-align: right;\">\n",
       "      <th></th>\n",
       "      <th>BMI_Lesioni_Totali5tsne</th>\n",
       "      <th>BMI_Lesioni_Totali10tsne</th>\n",
       "      <th>BMI_Lesioni_Totali15tsne</th>\n",
       "      <th>BMI_Lesioni_Totali20tsne</th>\n",
       "      <th>BMI_Lesioni_Totali25tsne</th>\n",
       "      <th>BMI_Lesioni_Totali30tsne</th>\n",
       "    </tr>\n",
       "  </thead>\n",
       "  <tbody>\n",
       "    <tr>\n",
       "      <th>c</th>\n",
       "      <td>0.021544346900318846</td>\n",
       "      <td>0.021544346900318846</td>\n",
       "      <td>0.021544346900318846</td>\n",
       "      <td>0.021544346900318846</td>\n",
       "      <td>0.021544346900318846</td>\n",
       "      <td>0.021544346900318846</td>\n",
       "    </tr>\n",
       "    <tr>\n",
       "      <th>fuzzifier</th>\n",
       "      <td>&lt;class 'fuzzylearn.fuzzifiers.QuantileConstant...</td>\n",
       "      <td>&lt;class 'fuzzylearn.fuzzifiers.QuantileConstant...</td>\n",
       "      <td>&lt;class 'fuzzylearn.fuzzifiers.QuantileConstant...</td>\n",
       "      <td>&lt;class 'fuzzylearn.fuzzifiers.QuantileConstant...</td>\n",
       "      <td>&lt;class 'fuzzylearn.fuzzifiers.QuantileConstant...</td>\n",
       "      <td>&lt;class 'fuzzylearn.fuzzifiers.ExponentialFuzzi...</td>\n",
       "    </tr>\n",
       "    <tr>\n",
       "      <th>k</th>\n",
       "      <td>GaussianKernel(0.1)</td>\n",
       "      <td>GaussianKernel(0.1)</td>\n",
       "      <td>GaussianKernel(0.1)</td>\n",
       "      <td>GaussianKernel(0.1)</td>\n",
       "      <td>GaussianKernel(0.1)</td>\n",
       "      <td>GaussianKernel(0.9)</td>\n",
       "    </tr>\n",
       "    <tr>\n",
       "      <th>score</th>\n",
       "      <td>-0.33</td>\n",
       "      <td>-0.33</td>\n",
       "      <td>-0.33</td>\n",
       "      <td>-0.33</td>\n",
       "      <td>-0.33</td>\n",
       "      <td>-0.46</td>\n",
       "    </tr>\n",
       "  </tbody>\n",
       "</table>\n",
       "</div>"
      ],
      "text/plain": [
       "                                     BMI_Lesioni_Totali5tsne  \\\n",
       "c                                       0.021544346900318846   \n",
       "fuzzifier  <class 'fuzzylearn.fuzzifiers.QuantileConstant...   \n",
       "k                                        GaussianKernel(0.1)   \n",
       "score                                                  -0.33   \n",
       "\n",
       "                                    BMI_Lesioni_Totali10tsne  \\\n",
       "c                                       0.021544346900318846   \n",
       "fuzzifier  <class 'fuzzylearn.fuzzifiers.QuantileConstant...   \n",
       "k                                        GaussianKernel(0.1)   \n",
       "score                                                  -0.33   \n",
       "\n",
       "                                    BMI_Lesioni_Totali15tsne  \\\n",
       "c                                       0.021544346900318846   \n",
       "fuzzifier  <class 'fuzzylearn.fuzzifiers.QuantileConstant...   \n",
       "k                                        GaussianKernel(0.1)   \n",
       "score                                                  -0.33   \n",
       "\n",
       "                                    BMI_Lesioni_Totali20tsne  \\\n",
       "c                                       0.021544346900318846   \n",
       "fuzzifier  <class 'fuzzylearn.fuzzifiers.QuantileConstant...   \n",
       "k                                        GaussianKernel(0.1)   \n",
       "score                                                  -0.33   \n",
       "\n",
       "                                    BMI_Lesioni_Totali25tsne  \\\n",
       "c                                       0.021544346900318846   \n",
       "fuzzifier  <class 'fuzzylearn.fuzzifiers.QuantileConstant...   \n",
       "k                                        GaussianKernel(0.1)   \n",
       "score                                                  -0.33   \n",
       "\n",
       "                                    BMI_Lesioni_Totali30tsne  \n",
       "c                                       0.021544346900318846  \n",
       "fuzzifier  <class 'fuzzylearn.fuzzifiers.ExponentialFuzzi...  \n",
       "k                                        GaussianKernel(0.9)  \n",
       "score                                                  -0.46  "
      ]
     },
     "execution_count": 44,
     "metadata": {},
     "output_type": "execute_result"
    }
   ],
   "source": [
    "risultati_tsne = pd.read_json('esperimenti_tsne.json')\n",
    "risultati_tsne"
   ]
  },
  {
   "cell_type": "markdown",
   "metadata": {},
   "source": [
    "Compariamoli con i risultati con kernel gaussian della PCA"
   ]
  },
  {
   "cell_type": "code",
   "execution_count": 45,
   "metadata": {},
   "outputs": [
    {
     "data": {
      "text/html": [
       "<div>\n",
       "<style scoped>\n",
       "    .dataframe tbody tr th:only-of-type {\n",
       "        vertical-align: middle;\n",
       "    }\n",
       "\n",
       "    .dataframe tbody tr th {\n",
       "        vertical-align: top;\n",
       "    }\n",
       "\n",
       "    .dataframe thead th {\n",
       "        text-align: right;\n",
       "    }\n",
       "</style>\n",
       "<table border=\"1\" class=\"dataframe\">\n",
       "  <thead>\n",
       "    <tr style=\"text-align: right;\">\n",
       "      <th></th>\n",
       "      <th>BMI_Lesioni_Totali5</th>\n",
       "      <th>BMI_Lesioni_Totali10</th>\n",
       "      <th>BMI_Lesioni_Totali15</th>\n",
       "      <th>BMI_Lesioni_Totali20</th>\n",
       "      <th>BMI_Lesioni_Totali25</th>\n",
       "      <th>BMI_Lesioni_Totali30</th>\n",
       "    </tr>\n",
       "  </thead>\n",
       "  <tbody>\n",
       "    <tr>\n",
       "      <th>c</th>\n",
       "      <td>0.021544346900318846</td>\n",
       "      <td>0.021544346900318846</td>\n",
       "      <td>0.021544346900318846</td>\n",
       "      <td>0.021544346900318846</td>\n",
       "      <td>0.021544346900318846</td>\n",
       "      <td>0.021544346900318846</td>\n",
       "    </tr>\n",
       "    <tr>\n",
       "      <th>fuzzifier</th>\n",
       "      <td>&lt;class 'fuzzylearn.fuzzifiers.QuantileConstant...</td>\n",
       "      <td>&lt;class 'fuzzylearn.fuzzifiers.QuantileLinearPi...</td>\n",
       "      <td>&lt;class 'fuzzylearn.fuzzifiers.QuantileLinearPi...</td>\n",
       "      <td>&lt;class 'fuzzylearn.fuzzifiers.QuantileLinearPi...</td>\n",
       "      <td>&lt;class 'fuzzylearn.fuzzifiers.QuantileLinearPi...</td>\n",
       "      <td>&lt;class 'fuzzylearn.fuzzifiers.QuantileLinearPi...</td>\n",
       "    </tr>\n",
       "    <tr>\n",
       "      <th>k</th>\n",
       "      <td>GaussianKernel(0.255)</td>\n",
       "      <td>GaussianKernel(0.5)</td>\n",
       "      <td>GaussianKernel(0.8)</td>\n",
       "      <td>GaussianKernel(0.4)</td>\n",
       "      <td>GaussianKernel(0.4)</td>\n",
       "      <td>GaussianKernel(0.4)</td>\n",
       "    </tr>\n",
       "    <tr>\n",
       "      <th>score</th>\n",
       "      <td>-0.38</td>\n",
       "      <td>-0.44</td>\n",
       "      <td>-0.44</td>\n",
       "      <td>-0.29</td>\n",
       "      <td>-0.33</td>\n",
       "      <td>-0.33</td>\n",
       "    </tr>\n",
       "  </tbody>\n",
       "</table>\n",
       "</div>"
      ],
      "text/plain": [
       "                                         BMI_Lesioni_Totali5  \\\n",
       "c                                       0.021544346900318846   \n",
       "fuzzifier  <class 'fuzzylearn.fuzzifiers.QuantileConstant...   \n",
       "k                                      GaussianKernel(0.255)   \n",
       "score                                                  -0.38   \n",
       "\n",
       "                                        BMI_Lesioni_Totali10  \\\n",
       "c                                       0.021544346900318846   \n",
       "fuzzifier  <class 'fuzzylearn.fuzzifiers.QuantileLinearPi...   \n",
       "k                                        GaussianKernel(0.5)   \n",
       "score                                                  -0.44   \n",
       "\n",
       "                                        BMI_Lesioni_Totali15  \\\n",
       "c                                       0.021544346900318846   \n",
       "fuzzifier  <class 'fuzzylearn.fuzzifiers.QuantileLinearPi...   \n",
       "k                                        GaussianKernel(0.8)   \n",
       "score                                                  -0.44   \n",
       "\n",
       "                                        BMI_Lesioni_Totali20  \\\n",
       "c                                       0.021544346900318846   \n",
       "fuzzifier  <class 'fuzzylearn.fuzzifiers.QuantileLinearPi...   \n",
       "k                                        GaussianKernel(0.4)   \n",
       "score                                                  -0.29   \n",
       "\n",
       "                                        BMI_Lesioni_Totali25  \\\n",
       "c                                       0.021544346900318846   \n",
       "fuzzifier  <class 'fuzzylearn.fuzzifiers.QuantileLinearPi...   \n",
       "k                                        GaussianKernel(0.4)   \n",
       "score                                                  -0.33   \n",
       "\n",
       "                                        BMI_Lesioni_Totali30  \n",
       "c                                       0.021544346900318846  \n",
       "fuzzifier  <class 'fuzzylearn.fuzzifiers.QuantileLinearPi...  \n",
       "k                                        GaussianKernel(0.4)  \n",
       "score                                                  -0.33  "
      ]
     },
     "execution_count": 45,
     "metadata": {},
     "output_type": "execute_result"
    }
   ],
   "source": [
    "risultati_gaussian[labels_BMI_all]"
   ]
  },
  {
   "cell_type": "markdown",
   "metadata": {},
   "source": [
    "## Classe 0"
   ]
  },
  {
   "cell_type": "code",
   "execution_count": 46,
   "metadata": {},
   "outputs": [],
   "source": [
    "# create logger\n",
    "f0_logger = logging.getLogger(__name__)\n",
    "f0_logger.setLevel(logging.INFO)\n",
    "\n",
    "# create console handler and set level to debug\n",
    "file0 = logging.FileHandler('esperimenti0.log')\n",
    "file0.setLevel(logging.INFO)\n",
    "\n",
    "# create formatter\n",
    "formatter = logging.Formatter('%(asctime)s -%(message)s')\n",
    "\n",
    "# add formatter to ch\n",
    "file0.setFormatter(formatter)\n",
    "\n",
    "# add ch to logger\n",
    "f0_logger.addHandler(file0)"
   ]
  },
  {
   "cell_type": "code",
   "execution_count": 47,
   "metadata": {},
   "outputs": [],
   "source": [
    "params_grid_0 = { 'c':c_space,\n",
    "               'k': [LinearKernel()] + [PolynomialKernel(d) for d in degrees] + \n",
    "                    [HomogeneousPolynomialKernel(d) for d in degrees] + [HyperbolicKernel(1,o) for o in offsets] + \n",
    "                    [GaussianKernel(sigma) for sigma in sigmas],\n",
    "                'fuzzifier': [LinearFuzzifier,ExponentialFuzzifier, CrispFuzzifier, \n",
    "              QuantileConstantPiecewiseFuzzifier, QuantileLinearPiecewiseFuzzifier]\n",
    "}"
   ]
  },
  {
   "cell_type": "code",
   "execution_count": 48,
   "metadata": {},
   "outputs": [],
   "source": [
    "mu0 = list(map(lambda x: 0 if x else 1,dataset_labels))"
   ]
  },
  {
   "cell_type": "markdown",
   "metadata": {},
   "source": [
    "Effettuiamo solo gli esperimenti più ragionevoli con l'altra classe."
   ]
  },
  {
   "cell_type": "code",
   "execution_count": 49,
   "metadata": {},
   "outputs": [
    {
     "data": {
      "text/plain": [
       "['Totale',\n",
       " 'Totali distretti',\n",
       " 'Totali',\n",
       " 'Lesioni 5 componenti',\n",
       " 'Lesioni 20 componenti',\n",
       " 'Anagrafica_Totale',\n",
       " 'BMI_Lesioni_Totali20',\n",
       " 'All20',\n",
       " 'TotaleK',\n",
       " 'TotaliK',\n",
       " 'TotaliDistrettiK',\n",
       " 'LesioniTotali20K',\n",
       " 'Lesioni20K',\n",
       " 'All20K',\n",
       " 'BMI_Lesioni_Totali20K']"
      ]
     },
     "execution_count": 49,
     "metadata": {},
     "output_type": "execute_result"
    }
   ],
   "source": [
    "risultati = risultati_gaussian.join(risultati_other_kernels)\n",
    "[col for col in risultati.columns if risultati[col]['score']>= -0.33]"
   ]
  },
  {
   "cell_type": "code",
   "execution_count": 50,
   "metadata": {},
   "outputs": [],
   "source": [
    "for c,l in zip([columns_BMI_all,columns_all,columns_lesioni,columns_totali_lesioni],['BMI_Lesioni_Totali20_0','All20_0','Lesioni20_0','LesioniTotali20_0']):\n",
    "    dim_red = PCA(n_components=20)\n",
    "    esperimento_registrato(dataset,c,FuzzyInductor,mu0,params_grid_0,3,3,logger = f0_logger,file_json = 'esperimenti0.json',dim_reduction=dim_red,label=l)"
   ]
  },
  {
   "cell_type": "code",
   "execution_count": 51,
   "metadata": {},
   "outputs": [],
   "source": [
    "for c,l in zip([['Totale'],['Tot Testa','Tot Torace','Tot Addome','Tot Scheletro'],['Totale','Tot Testa','Tot Torace','Tot Addome','Tot Scheletro']],['Totale_0','TotaliDistretti_0','Totali_0']):\n",
    "    esperimento_registrato(dataset,c,FuzzyInductor,mu0,params_grid_0,3,3,logger = f0_logger,file_json = 'esperimenti0.json',label=l)"
   ]
  },
  {
   "cell_type": "code",
   "execution_count": 52,
   "metadata": {},
   "outputs": [
    {
     "data": {
      "text/html": [
       "<div>\n",
       "<style scoped>\n",
       "    .dataframe tbody tr th:only-of-type {\n",
       "        vertical-align: middle;\n",
       "    }\n",
       "\n",
       "    .dataframe tbody tr th {\n",
       "        vertical-align: top;\n",
       "    }\n",
       "\n",
       "    .dataframe thead th {\n",
       "        text-align: right;\n",
       "    }\n",
       "</style>\n",
       "<table border=\"1\" class=\"dataframe\">\n",
       "  <thead>\n",
       "    <tr style=\"text-align: right;\">\n",
       "      <th></th>\n",
       "      <th>BMI_Lesioni_Totali5_0</th>\n",
       "      <th>BMI_Lesioni_Totali10_0</th>\n",
       "      <th>BMI_Lesioni_Totali15_0</th>\n",
       "      <th>BMI_Lesioni_Totali20_0</th>\n",
       "      <th>Anagrafica_Totale_0</th>\n",
       "      <th>Lesioni5_0</th>\n",
       "      <th>Lesioni10_0</th>\n",
       "      <th>Lesioni15_0</th>\n",
       "      <th>Lesioni20_0</th>\n",
       "      <th>Totale_0</th>\n",
       "      <th>TotaliDistretti_0</th>\n",
       "      <th>Totali_0</th>\n",
       "      <th>All5_0</th>\n",
       "      <th>All10_0</th>\n",
       "      <th>All15_0</th>\n",
       "      <th>All20_0</th>\n",
       "      <th>LesioniTotali5_0</th>\n",
       "      <th>LesioniTotali10_0</th>\n",
       "      <th>LesioniTotali15_0</th>\n",
       "      <th>LesioniTotali20_0</th>\n",
       "    </tr>\n",
       "  </thead>\n",
       "  <tbody>\n",
       "    <tr>\n",
       "      <th>c</th>\n",
       "      <td>0.021544346900318846</td>\n",
       "      <td>0.021544346900318846</td>\n",
       "      <td>0.021544346900318846</td>\n",
       "      <td>0.021544346900318846</td>\n",
       "      <td>0.021544346900318846</td>\n",
       "      <td>0.021544346900318846</td>\n",
       "      <td>0.021544346900318846</td>\n",
       "      <td>0.021544346900318846</td>\n",
       "      <td>0.021544346900318846</td>\n",
       "      <td>0.021544346900318846</td>\n",
       "      <td>0.021544346900318846</td>\n",
       "      <td>0.021544346900318846</td>\n",
       "      <td>0.021544346900318846</td>\n",
       "      <td>0.021544346900318846</td>\n",
       "      <td>0.021544346900318846</td>\n",
       "      <td>0.021544346900318846</td>\n",
       "      <td>0.021544346900318846</td>\n",
       "      <td>0.021544346900318846</td>\n",
       "      <td>0.021544346900318846</td>\n",
       "      <td>0.021544346900318846</td>\n",
       "    </tr>\n",
       "    <tr>\n",
       "      <th>fuzzifier</th>\n",
       "      <td>&lt;class 'fuzzylearn.fuzzifiers.LinearFuzzifier'&gt;</td>\n",
       "      <td>&lt;class 'fuzzylearn.fuzzifiers.LinearFuzzifier'&gt;</td>\n",
       "      <td>&lt;class 'fuzzylearn.fuzzifiers.ExponentialFuzzi...</td>\n",
       "      <td>&lt;class 'fuzzylearn.fuzzifiers.LinearFuzzifier'&gt;</td>\n",
       "      <td>&lt;class 'fuzzylearn.fuzzifiers.LinearFuzzifier'&gt;</td>\n",
       "      <td>&lt;class 'fuzzylearn.fuzzifiers.LinearFuzzifier'&gt;</td>\n",
       "      <td>&lt;class 'fuzzylearn.fuzzifiers.ExponentialFuzzi...</td>\n",
       "      <td>&lt;class 'fuzzylearn.fuzzifiers.LinearFuzzifier'&gt;</td>\n",
       "      <td>&lt;class 'fuzzylearn.fuzzifiers.LinearFuzzifier'&gt;</td>\n",
       "      <td>&lt;class 'fuzzylearn.fuzzifiers.ExponentialFuzzi...</td>\n",
       "      <td>&lt;class 'fuzzylearn.fuzzifiers.ExponentialFuzzi...</td>\n",
       "      <td>&lt;class 'fuzzylearn.fuzzifiers.ExponentialFuzzi...</td>\n",
       "      <td>&lt;class 'fuzzylearn.fuzzifiers.LinearFuzzifier'&gt;</td>\n",
       "      <td>&lt;class 'fuzzylearn.fuzzifiers.LinearFuzzifier'&gt;</td>\n",
       "      <td>&lt;class 'fuzzylearn.fuzzifiers.ExponentialFuzzi...</td>\n",
       "      <td>&lt;class 'fuzzylearn.fuzzifiers.LinearFuzzifier'&gt;</td>\n",
       "      <td>&lt;class 'fuzzylearn.fuzzifiers.LinearFuzzifier'&gt;</td>\n",
       "      <td>&lt;class 'fuzzylearn.fuzzifiers.LinearFuzzifier'&gt;</td>\n",
       "      <td>&lt;class 'fuzzylearn.fuzzifiers.LinearFuzzifier'&gt;</td>\n",
       "      <td>&lt;class 'fuzzylearn.fuzzifiers.LinearFuzzifier'&gt;</td>\n",
       "    </tr>\n",
       "    <tr>\n",
       "      <th>k</th>\n",
       "      <td>HyperbolicKernel(1, 2)</td>\n",
       "      <td>HyperbolicKernel(1, 2)</td>\n",
       "      <td>LinearKernel()</td>\n",
       "      <td>LinearKernel()</td>\n",
       "      <td>HyperbolicKernel(1, 0)</td>\n",
       "      <td>HyperbolicKernel(1, 1)</td>\n",
       "      <td>LinearKernel()</td>\n",
       "      <td>LinearKernel()</td>\n",
       "      <td>LinearKernel()</td>\n",
       "      <td>GaussianKernel(0.9)</td>\n",
       "      <td>HyperbolicKernel(1, 1)</td>\n",
       "      <td>HyperbolicKernel(1, 1)</td>\n",
       "      <td>HyperbolicKernel(1, 2)</td>\n",
       "      <td>HyperbolicKernel(1, 2)</td>\n",
       "      <td>LinearKernel()</td>\n",
       "      <td>LinearKernel()</td>\n",
       "      <td>HyperbolicKernel(1, 1)</td>\n",
       "      <td>HyperbolicKernel(1, 2)</td>\n",
       "      <td>LinearKernel()</td>\n",
       "      <td>LinearKernel()</td>\n",
       "    </tr>\n",
       "    <tr>\n",
       "      <th>score</th>\n",
       "      <td>-0.25</td>\n",
       "      <td>-0.26</td>\n",
       "      <td>-0.26</td>\n",
       "      <td>-0.25</td>\n",
       "      <td>-0.28</td>\n",
       "      <td>-0.25</td>\n",
       "      <td>-0.25</td>\n",
       "      <td>-0.25</td>\n",
       "      <td>-0.24</td>\n",
       "      <td>-0.27</td>\n",
       "      <td>-0.26</td>\n",
       "      <td>-0.25</td>\n",
       "      <td>-0.25</td>\n",
       "      <td>-0.26</td>\n",
       "      <td>-0.26</td>\n",
       "      <td>-0.25</td>\n",
       "      <td>-0.25</td>\n",
       "      <td>-0.26</td>\n",
       "      <td>-0.25</td>\n",
       "      <td>-0.25</td>\n",
       "    </tr>\n",
       "  </tbody>\n",
       "</table>\n",
       "</div>"
      ],
      "text/plain": [
       "                                     BMI_Lesioni_Totali5_0  \\\n",
       "c                                     0.021544346900318846   \n",
       "fuzzifier  <class 'fuzzylearn.fuzzifiers.LinearFuzzifier'>   \n",
       "k                                   HyperbolicKernel(1, 2)   \n",
       "score                                                -0.25   \n",
       "\n",
       "                                    BMI_Lesioni_Totali10_0  \\\n",
       "c                                     0.021544346900318846   \n",
       "fuzzifier  <class 'fuzzylearn.fuzzifiers.LinearFuzzifier'>   \n",
       "k                                   HyperbolicKernel(1, 2)   \n",
       "score                                                -0.26   \n",
       "\n",
       "                                      BMI_Lesioni_Totali15_0  \\\n",
       "c                                       0.021544346900318846   \n",
       "fuzzifier  <class 'fuzzylearn.fuzzifiers.ExponentialFuzzi...   \n",
       "k                                             LinearKernel()   \n",
       "score                                                  -0.26   \n",
       "\n",
       "                                    BMI_Lesioni_Totali20_0  \\\n",
       "c                                     0.021544346900318846   \n",
       "fuzzifier  <class 'fuzzylearn.fuzzifiers.LinearFuzzifier'>   \n",
       "k                                           LinearKernel()   \n",
       "score                                                -0.25   \n",
       "\n",
       "                                       Anagrafica_Totale_0  \\\n",
       "c                                     0.021544346900318846   \n",
       "fuzzifier  <class 'fuzzylearn.fuzzifiers.LinearFuzzifier'>   \n",
       "k                                   HyperbolicKernel(1, 0)   \n",
       "score                                                -0.28   \n",
       "\n",
       "                                                Lesioni5_0  \\\n",
       "c                                     0.021544346900318846   \n",
       "fuzzifier  <class 'fuzzylearn.fuzzifiers.LinearFuzzifier'>   \n",
       "k                                   HyperbolicKernel(1, 1)   \n",
       "score                                                -0.25   \n",
       "\n",
       "                                                 Lesioni10_0  \\\n",
       "c                                       0.021544346900318846   \n",
       "fuzzifier  <class 'fuzzylearn.fuzzifiers.ExponentialFuzzi...   \n",
       "k                                             LinearKernel()   \n",
       "score                                                  -0.25   \n",
       "\n",
       "                                               Lesioni15_0  \\\n",
       "c                                     0.021544346900318846   \n",
       "fuzzifier  <class 'fuzzylearn.fuzzifiers.LinearFuzzifier'>   \n",
       "k                                           LinearKernel()   \n",
       "score                                                -0.25   \n",
       "\n",
       "                                               Lesioni20_0  \\\n",
       "c                                     0.021544346900318846   \n",
       "fuzzifier  <class 'fuzzylearn.fuzzifiers.LinearFuzzifier'>   \n",
       "k                                           LinearKernel()   \n",
       "score                                                -0.24   \n",
       "\n",
       "                                                    Totale_0  \\\n",
       "c                                       0.021544346900318846   \n",
       "fuzzifier  <class 'fuzzylearn.fuzzifiers.ExponentialFuzzi...   \n",
       "k                                        GaussianKernel(0.9)   \n",
       "score                                                  -0.27   \n",
       "\n",
       "                                           TotaliDistretti_0  \\\n",
       "c                                       0.021544346900318846   \n",
       "fuzzifier  <class 'fuzzylearn.fuzzifiers.ExponentialFuzzi...   \n",
       "k                                     HyperbolicKernel(1, 1)   \n",
       "score                                                  -0.26   \n",
       "\n",
       "                                                    Totali_0  \\\n",
       "c                                       0.021544346900318846   \n",
       "fuzzifier  <class 'fuzzylearn.fuzzifiers.ExponentialFuzzi...   \n",
       "k                                     HyperbolicKernel(1, 1)   \n",
       "score                                                  -0.25   \n",
       "\n",
       "                                                    All5_0  \\\n",
       "c                                     0.021544346900318846   \n",
       "fuzzifier  <class 'fuzzylearn.fuzzifiers.LinearFuzzifier'>   \n",
       "k                                   HyperbolicKernel(1, 2)   \n",
       "score                                                -0.25   \n",
       "\n",
       "                                                   All10_0  \\\n",
       "c                                     0.021544346900318846   \n",
       "fuzzifier  <class 'fuzzylearn.fuzzifiers.LinearFuzzifier'>   \n",
       "k                                   HyperbolicKernel(1, 2)   \n",
       "score                                                -0.26   \n",
       "\n",
       "                                                     All15_0  \\\n",
       "c                                       0.021544346900318846   \n",
       "fuzzifier  <class 'fuzzylearn.fuzzifiers.ExponentialFuzzi...   \n",
       "k                                             LinearKernel()   \n",
       "score                                                  -0.26   \n",
       "\n",
       "                                                   All20_0  \\\n",
       "c                                     0.021544346900318846   \n",
       "fuzzifier  <class 'fuzzylearn.fuzzifiers.LinearFuzzifier'>   \n",
       "k                                           LinearKernel()   \n",
       "score                                                -0.25   \n",
       "\n",
       "                                          LesioniTotali5_0  \\\n",
       "c                                     0.021544346900318846   \n",
       "fuzzifier  <class 'fuzzylearn.fuzzifiers.LinearFuzzifier'>   \n",
       "k                                   HyperbolicKernel(1, 1)   \n",
       "score                                                -0.25   \n",
       "\n",
       "                                         LesioniTotali10_0  \\\n",
       "c                                     0.021544346900318846   \n",
       "fuzzifier  <class 'fuzzylearn.fuzzifiers.LinearFuzzifier'>   \n",
       "k                                   HyperbolicKernel(1, 2)   \n",
       "score                                                -0.26   \n",
       "\n",
       "                                         LesioniTotali15_0  \\\n",
       "c                                     0.021544346900318846   \n",
       "fuzzifier  <class 'fuzzylearn.fuzzifiers.LinearFuzzifier'>   \n",
       "k                                           LinearKernel()   \n",
       "score                                                -0.25   \n",
       "\n",
       "                                         LesioniTotali20_0  \n",
       "c                                     0.021544346900318846  \n",
       "fuzzifier  <class 'fuzzylearn.fuzzifiers.LinearFuzzifier'>  \n",
       "k                                           LinearKernel()  \n",
       "score                                                -0.25  "
      ]
     },
     "execution_count": 52,
     "metadata": {},
     "output_type": "execute_result"
    }
   ],
   "source": [
    "risultati0 = pd.read_json(\"esperimenti0.json\")\n",
    "risultati0"
   ]
  },
  {
   "cell_type": "markdown",
   "metadata": {},
   "source": [
    "#### Proviamo scaler diversi sul subdataset che ha dato i risultati migliori"
   ]
  },
  {
   "cell_type": "code",
   "execution_count": 53,
   "metadata": {},
   "outputs": [
    {
     "data": {
      "text/plain": [
       "(['Lesioni20K'], ['Lesioni20_0'])"
      ]
     },
     "execution_count": 53,
     "metadata": {},
     "output_type": "execute_result"
    }
   ],
   "source": [
    "best_exp = [col for col in risultati.columns if risultati[col]['score'] == risultati.loc['score'].max()]\n",
    "best_exp0 = [col for col in risultati0.columns if risultati0[col]['score'] == risultati0.loc['score'].max()]\n",
    "best_exp,best_exp0"
   ]
  },
  {
   "cell_type": "code",
   "execution_count": 54,
   "metadata": {},
   "outputs": [],
   "source": [
    "dim_red=PCA(n_components=20)\n",
    "scalers = [StandardScaler(),MinMaxScaler(), MaxAbsScaler(), QuantileTransformer(output_distribution='normal'), \n",
    "           QuantileTransformer(output_distribution='uniform'), Normalizer(),\n",
    "           RobustScaler(quantile_range=(25, 75)), PowerTransformer(method='yeo-johnson')]"
   ]
  },
  {
   "cell_type": "code",
   "execution_count": 55,
   "metadata": {},
   "outputs": [
    {
     "data": {
      "text/plain": [
       "'\\nscalers_table_1 = {}\\nscalers_table_0 = {}\\n\\n'"
      ]
     },
     "execution_count": 55,
     "metadata": {},
     "output_type": "execute_result"
    }
   ],
   "source": [
    "\"\"\"\n",
    "scalers_table_1 = {}\n",
    "scalers_table_0 = {}\n",
    "\n",
    "\"\"\""
   ]
  },
  {
   "cell_type": "code",
   "execution_count": 56,
   "metadata": {},
   "outputs": [],
   "source": [
    "X = dataset[columns_lesioni].values"
   ]
  },
  {
   "cell_type": "code",
   "execution_count": 57,
   "metadata": {},
   "outputs": [],
   "source": [
    "best_params_esp1 = {\n",
    "    'c': [0.021544346900318846],\n",
    "    'k': [HyperbolicKernel(1,0)],\n",
    "    'fuzzifier': [ExponentialFuzzifier]\n",
    "}"
   ]
  },
  {
   "cell_type": "code",
   "execution_count": 58,
   "metadata": {},
   "outputs": [],
   "source": [
    "best_params_esp0 = {\n",
    "    'c': [0.021544346900318846],\n",
    "    'k': [LinearKernel()],\n",
    "    'fuzzifier': [LinearFuzzifier]\n",
    "}"
   ]
  },
  {
   "cell_type": "code",
   "execution_count": 59,
   "metadata": {},
   "outputs": [
    {
     "data": {
      "text/plain": [
       "'\\nfor scaler in scalers:\\n    scores, _ = addestra(FuzzyInductor, X, dataset_labels, best_params_esp1, 3, 3, logger = f_logger, scaling=scaler, dim_reduction=dim_red)\\n    scalers_table_1[str(scaler)] = scores.mean()\\n'"
      ]
     },
     "execution_count": 59,
     "metadata": {},
     "output_type": "execute_result"
    }
   ],
   "source": [
    "\"\"\"\n",
    "for scaler in scalers:\n",
    "    scores, _ = addestra(FuzzyInductor, X, dataset_labels, best_params_esp1, 3, 3, logger = f_logger, scaling=scaler, dim_reduction=dim_red)\n",
    "    scalers_table_1[str(scaler)] = scores.mean()\n",
    "\"\"\""
   ]
  },
  {
   "cell_type": "code",
   "execution_count": 60,
   "metadata": {},
   "outputs": [
    {
     "data": {
      "text/plain": [
       "'\\nfor scaler in scalers:\\n    scores , _ = addestra(FuzzyInductor, X, mu0, best_params_esp0, 3, 3, logger = f0_logger, scaling=scaler, dim_reduction=dim_red)\\n    scalers_table_0[str(scaler)] = scores.mean()\\n'"
      ]
     },
     "execution_count": 60,
     "metadata": {},
     "output_type": "execute_result"
    }
   ],
   "source": [
    "\"\"\"\n",
    "for scaler in scalers:\n",
    "    scores , _ = addestra(FuzzyInductor, X, mu0, best_params_esp0, 3, 3, logger = f0_logger, scaling=scaler, dim_reduction=dim_red)\n",
    "    scalers_table_0[str(scaler)] = scores.mean()\n",
    "\"\"\""
   ]
  },
  {
   "cell_type": "code",
   "execution_count": 61,
   "metadata": {},
   "outputs": [],
   "source": [
    "#scalers_table_best1 = pd.DataFrame.from_dict(scalers_table_1,orient='index')"
   ]
  },
  {
   "cell_type": "code",
   "execution_count": 62,
   "metadata": {},
   "outputs": [],
   "source": [
    "#scalers_table_best0 = pd.DataFrame.from_dict(scalers_table_0,orient='index')"
   ]
  },
  {
   "cell_type": "code",
   "execution_count": 63,
   "metadata": {},
   "outputs": [],
   "source": [
    "#scalers_table_best1 = scalers_table_best1.rename(columns={0:best_exp[0]})"
   ]
  },
  {
   "cell_type": "code",
   "execution_count": 64,
   "metadata": {},
   "outputs": [],
   "source": [
    "#scalers_table_best0 = scalers_table_best0.rename(columns={0:best_exp0[0]})"
   ]
  },
  {
   "cell_type": "code",
   "execution_count": 65,
   "metadata": {},
   "outputs": [],
   "source": [
    "#scalers_table = scalers_table_best1.join(scalers_table_best0)\n",
    "#scalers_table.to_json(\"scalers.json\")"
   ]
  },
  {
   "cell_type": "code",
   "execution_count": 66,
   "metadata": {},
   "outputs": [
    {
     "data": {
      "text/html": [
       "<div>\n",
       "<style scoped>\n",
       "    .dataframe tbody tr th:only-of-type {\n",
       "        vertical-align: middle;\n",
       "    }\n",
       "\n",
       "    .dataframe tbody tr th {\n",
       "        vertical-align: top;\n",
       "    }\n",
       "\n",
       "    .dataframe thead th {\n",
       "        text-align: right;\n",
       "    }\n",
       "</style>\n",
       "<table border=\"1\" class=\"dataframe\">\n",
       "  <thead>\n",
       "    <tr style=\"text-align: right;\">\n",
       "      <th></th>\n",
       "      <th>Lesioni20K</th>\n",
       "      <th>Lesioni20_0</th>\n",
       "    </tr>\n",
       "  </thead>\n",
       "  <tbody>\n",
       "    <tr>\n",
       "      <th>StandardScaler(copy=True, with_mean=True, with_std=True)</th>\n",
       "      <td>-0.29</td>\n",
       "      <td>-0.24</td>\n",
       "    </tr>\n",
       "    <tr>\n",
       "      <th>MinMaxScaler(copy=True, feature_range=(0, 1))</th>\n",
       "      <td>-0.32</td>\n",
       "      <td>-0.24</td>\n",
       "    </tr>\n",
       "    <tr>\n",
       "      <th>MaxAbsScaler(copy=True)</th>\n",
       "      <td>-0.32</td>\n",
       "      <td>-0.24</td>\n",
       "    </tr>\n",
       "    <tr>\n",
       "      <th>QuantileTransformer(copy=True, ignore_implicit_zeros=False, n_quantiles=1000,\\n                    output_distribution='normal', random_state=None,\\n                    subsample=100000)</th>\n",
       "      <td>-0.28</td>\n",
       "      <td>-0.24</td>\n",
       "    </tr>\n",
       "    <tr>\n",
       "      <th>QuantileTransformer(copy=True, ignore_implicit_zeros=False, n_quantiles=1000,\\n                    output_distribution='uniform', random_state=None,\\n                    subsample=100000)</th>\n",
       "      <td>-0.29</td>\n",
       "      <td>-0.25</td>\n",
       "    </tr>\n",
       "    <tr>\n",
       "      <th>Normalizer(copy=True, norm='l2')</th>\n",
       "      <td>-0.54</td>\n",
       "      <td>-0.34</td>\n",
       "    </tr>\n",
       "    <tr>\n",
       "      <th>RobustScaler(copy=True, quantile_range=(25, 75), with_centering=True,\\n             with_scaling=True)</th>\n",
       "      <td>-0.29</td>\n",
       "      <td>-0.24</td>\n",
       "    </tr>\n",
       "    <tr>\n",
       "      <th>PowerTransformer(copy=True, method='yeo-johnson', standardize=True)</th>\n",
       "      <td>-0.28</td>\n",
       "      <td>-0.26</td>\n",
       "    </tr>\n",
       "  </tbody>\n",
       "</table>\n",
       "</div>"
      ],
      "text/plain": [
       "                                                    Lesioni20K  Lesioni20_0\n",
       "StandardScaler(copy=True, with_mean=True, with_...       -0.29        -0.24\n",
       "MinMaxScaler(copy=True, feature_range=(0, 1))            -0.32        -0.24\n",
       "MaxAbsScaler(copy=True)                                  -0.32        -0.24\n",
       "QuantileTransformer(copy=True, ignore_implicit_...       -0.28        -0.24\n",
       "QuantileTransformer(copy=True, ignore_implicit_...       -0.29        -0.25\n",
       "Normalizer(copy=True, norm='l2')                         -0.54        -0.34\n",
       "RobustScaler(copy=True, quantile_range=(25, 75)...       -0.29        -0.24\n",
       "PowerTransformer(copy=True, method='yeo-johnson...       -0.28        -0.26"
      ]
     },
     "execution_count": 66,
     "metadata": {},
     "output_type": "execute_result"
    }
   ],
   "source": [
    "scalers_table = pd.read_json(\"scalers.json\")\n",
    "scalers_table"
   ]
  },
  {
   "cell_type": "markdown",
   "metadata": {},
   "source": [
    "# Fuzzifier table"
   ]
  },
  {
   "cell_type": "code",
   "execution_count": 67,
   "metadata": {},
   "outputs": [],
   "source": [
    "def fuzzifier_table(dataset,fuzzifiers,columns,model_class, y, model_selection_grid, num_fold_grid_search, num_fold_cross_val, logger = None, scaling=StandardScaler(), dim_reduction=None,label=None):\n",
    "    sd_index = label if label is not None else str(columns)\n",
    "    table = pd.DataFrame({sd_index:[None for f in fuzzifiers]},index=[fuzzifiers_to_string[f] for f in fuzzifiers])\n",
    "\n",
    "    X = dataset[columns].values\n",
    "    \n",
    "    X_std = scaling.fit_transform(X)  if scaling is not None else X\n",
    "    \n",
    "    X_std = dim_reduction.fit_transform(X_std) if dim_reduction is not None else X_std\n",
    "    \n",
    "    clf = GridSearchCV(estimator=model_class(), param_grid=model_selection_grid, cv=num_fold_grid_search, n_jobs=-1)\n",
    "    clf.fit(X_std,y)\n",
    "    \n",
    "    bs_grid = clf.best_params_\n",
    "    \n",
    "    for i,j in bs_grid.items():\n",
    "        bs_grid[i] = [j]\n",
    "    \n",
    "    for fuzzifier in fuzzifiers:\n",
    "        params_fuzzifier = bs_grid\n",
    "        params_fuzzifier['fuzzifier'] = [fuzzifier]\n",
    "        score, _ = esperimento(dataset,columns,model_class, y, params_fuzzifier, num_fold_grid_search, num_fold_cross_val, logger = logger, scaling=scaling, dim_reduction=dim_reduction,label=sd_index)\n",
    "        table.loc[fuzzifiers_to_string[fuzzifier]][sd_index] = score\n",
    "    return table"
   ]
  },
  {
   "cell_type": "code",
   "execution_count": 68,
   "metadata": {},
   "outputs": [],
   "source": [
    "def incidenti_fuzzifier_table(dataset,subdatasets,fuzzifiers,model_class, y, model_selection_grid, num_fold_grid_search, num_fold_cross_val, logger = None, scaling=StandardScaler(), dim_reduction=None, file_json=None,labels=None):\n",
    "    table = pd.read_json(file_json) if file_json is not None else pd.DataFrame(index=[fuzzifiers_to_string[f] for f in fuzzifiers])\n",
    "    if len(table.index) == 0:\n",
    "        table = pd.DataFrame(index=[fuzzifiers_to_string[f] for f in fuzzifiers])\n",
    "    df_cols = labels if labels is not None else subdatasets\n",
    "    for col,sd in zip(df_cols,subdatasets):\n",
    "        if str(col) not in table.columns:\n",
    "            table[str(col)] = fuzzifier_table(dataset,fuzzifiers,sd,model_class, y, model_selection_grid, num_fold_grid_search, num_fold_cross_val, logger = logger, scaling = scaling,dim_reduction=dim_reduction,label=str(col))\n",
    "            if file_json is not None:\n",
    "                 with open(file_json, \"w\") as write_file:\n",
    "                    json.dump(table.to_dict(), write_file)\n",
    "    return table"
   ]
  },
  {
   "cell_type": "code",
   "execution_count": 69,
   "metadata": {},
   "outputs": [],
   "source": [
    "fuzzifiers_class = [LinearFuzzifier,ExponentialFuzzifier, CrispFuzzifier, QuantileConstantPiecewiseFuzzifier, QuantileLinearPiecewiseFuzzifier]\n",
    "fuzzifiers_to_string = {LinearFuzzifier: \"LinearFuzzifier\",\n",
    "                        ExponentialFuzzifier:\"ExponentialFuzzifier\",\n",
    "                        CrispFuzzifier: \"CrispFuzzifier\",\n",
    "                        QuantileConstantPiecewiseFuzzifier: \" QuantileConstantPiecewiseFuzzifier\",\n",
    "                        QuantileLinearPiecewiseFuzzifier: \"QuantileLinearPiecewiseFuzzifier\"}\n",
    "\n",
    "params_grid_noFuzzifier = {'c':c_space,\n",
    "       'k':[GaussianKernel(sigma) for sigma in sigmas],   \n",
    "}"
   ]
  },
  {
   "cell_type": "markdown",
   "metadata": {},
   "source": [
    "Totali"
   ]
  },
  {
   "cell_type": "code",
   "execution_count": 70,
   "metadata": {},
   "outputs": [],
   "source": [
    "ft = incidenti_fuzzifier_table(dataset,columns_noPCA,fuzzifiers_class,FuzzyInductor,dataset_labels,params_grid_noFuzzifier,3,3,logger=f_logger,file_json='fuzzifiers.json',labels=labels)"
   ]
  },
  {
   "cell_type": "code",
   "execution_count": 71,
   "metadata": {},
   "outputs": [],
   "source": [
    "ft.to_json('fuzzifiers.json')"
   ]
  },
  {
   "cell_type": "markdown",
   "metadata": {},
   "source": [
    "Lesioni"
   ]
  },
  {
   "cell_type": "code",
   "execution_count": 72,
   "metadata": {},
   "outputs": [],
   "source": [
    "for i,l in zip([5,10,15,20],labels_lesioni):\n",
    "    dim_red=PCA(n_components=i)\n",
    "    t = incidenti_fuzzifier_table(dataset,[columns_lesioni],fuzzifiers_class,FuzzyInductor,dataset_labels,params_grid_noFuzzifier,3,3,logger=f_logger,dim_reduction=dim_red,file_json='fuzzifiers.json',labels=[l])\n",
    "    t.to_json('fuzzifiers.json')"
   ]
  },
  {
   "cell_type": "code",
   "execution_count": 73,
   "metadata": {},
   "outputs": [],
   "source": [
    "for i,l in zip([5,10,15,20],labels_totali_lesioni):\n",
    "    dim_red=PCA(n_components=i)\n",
    "    t = incidenti_fuzzifier_table(dataset,[columns_totali_lesioni],fuzzifiers_class,FuzzyInductor,dataset_labels,params_grid_noFuzzifier,3,3,logger=f_logger,dim_reduction=dim_red,file_json='fuzzifiers.json',labels=[l])\n",
    "    t.to_json('fuzzifiers.json')"
   ]
  },
  {
   "cell_type": "markdown",
   "metadata": {},
   "source": [
    "Anagrafica"
   ]
  },
  {
   "cell_type": "code",
   "execution_count": 74,
   "metadata": {
    "scrolled": true
   },
   "outputs": [],
   "source": [
    "for cs,l in zip([columns_anagrafica_totale,columns_anagrafica_totali],[label_anagrafica_totale,label_anagrafica_totali]):\n",
    "    t = incidenti_fuzzifier_table(dataset,[cs],fuzzifiers_class,FuzzyInductor,dataset_labels,params_grid_noFuzzifier,3,3,logger=f_logger,file_json='fuzzifiers.json',labels=[l])\n",
    "    t.to_json('fuzzifiers.json')"
   ]
  },
  {
   "cell_type": "code",
   "execution_count": 75,
   "metadata": {
    "scrolled": true
   },
   "outputs": [],
   "source": [
    "for i,l in zip([5,10,15,20],labels_anagrafica_all):\n",
    "    dim_red=PCA(n_components=i)\n",
    "    t = incidenti_fuzzifier_table(dataset,[columns_anagrafica_all],fuzzifiers_class,FuzzyInductor,dataset_labels,params_grid_noFuzzifier,3,3,logger=f_logger,dim_reduction=dim_red,file_json='fuzzifiers.json',labels=[l])\n",
    "    t.to_json('fuzzifiers.json')"
   ]
  },
  {
   "cell_type": "markdown",
   "metadata": {},
   "source": [
    "BMI"
   ]
  },
  {
   "cell_type": "code",
   "execution_count": 76,
   "metadata": {},
   "outputs": [],
   "source": [
    "for cs,l in zip([columns_BMI_totale,columns_BMI_totali],[label_BMI_totale,label_BMI_totali]):\n",
    "    t = incidenti_fuzzifier_table(dataset,[cs],fuzzifiers_class,FuzzyInductor,dataset_labels,params_grid_noFuzzifier,3,3,logger=f_logger,file_json='fuzzifiers.json',labels=[l])\n",
    "    t.to_json('fuzzifiers.json')"
   ]
  },
  {
   "cell_type": "code",
   "execution_count": 77,
   "metadata": {},
   "outputs": [],
   "source": [
    "for i,l in zip([5,10,15,20,25,30],labels_BMI_all):\n",
    "    dim_red=PCA(n_components=i)\n",
    "    t = incidenti_fuzzifier_table(dataset,[columns_BMI_all],fuzzifiers_class,FuzzyInductor,dataset_labels,params_grid_noFuzzifier,3,3,logger=f_logger,dim_reduction=dim_red,file_json='fuzzifiers.json',labels=[l])\n",
    "    t.to_json('fuzzifiers.json')"
   ]
  },
  {
   "cell_type": "markdown",
   "metadata": {},
   "source": [
    "Data"
   ]
  },
  {
   "cell_type": "code",
   "execution_count": 78,
   "metadata": {
    "scrolled": true
   },
   "outputs": [],
   "source": [
    "for cs,l in zip([columns_data_totale,columns_data_totali],[label_data_totale,label_data_totali]):\n",
    "    t = incidenti_fuzzifier_table(dataset,[cs],fuzzifiers_class,FuzzyInductor,dataset_labels,params_grid_noFuzzifier,3,3,logger=f_logger,file_json='fuzzifiers.json',labels=[l])\n",
    "    t.to_json('fuzzifiers.json')"
   ]
  },
  {
   "cell_type": "code",
   "execution_count": 79,
   "metadata": {
    "scrolled": true
   },
   "outputs": [],
   "source": [
    "for i,l in zip([5,10,15,20,25,30],labels_data_all):\n",
    "    dim_red=PCA(n_components=i)\n",
    "    t = incidenti_fuzzifier_table(dataset,[columns_data_all],fuzzifiers_class,FuzzyInductor,dataset_labels,params_grid_noFuzzifier,3,3,logger=f_logger,dim_reduction=dim_red,file_json='fuzzifiers.json',labels=[l])\n",
    "    t.to_json('fuzzifiers.json')"
   ]
  },
  {
   "cell_type": "markdown",
   "metadata": {},
   "source": [
    "All"
   ]
  },
  {
   "cell_type": "code",
   "execution_count": 80,
   "metadata": {},
   "outputs": [],
   "source": [
    "for cs,l in zip([columns_db_totale,columns_db_totali],[label_db_totale,label_db_totali]):\n",
    "    t = incidenti_fuzzifier_table(dataset,[cs],fuzzifiers_class,FuzzyInductor,dataset_labels,params_grid_noFuzzifier,3,3,logger=f_logger,file_json='fuzzifiers.json',labels=[l])\n",
    "    t.to_json('fuzzifiers.json')"
   ]
  },
  {
   "cell_type": "code",
   "execution_count": 81,
   "metadata": {},
   "outputs": [],
   "source": [
    "for i,l in zip([5,10,15,20,25,30],labels_all):\n",
    "    dim_red=PCA(n_components=i)\n",
    "    t = incidenti_fuzzifier_table(dataset,[columns_all],fuzzifiers_class,FuzzyInductor,dataset_labels,params_grid_noFuzzifier,3,3,logger=f_logger,dim_reduction=dim_red,file_json='fuzzifiers.json',labels=[l])\n",
    "    t.to_json('fuzzifiers.json')"
   ]
  },
  {
   "cell_type": "code",
   "execution_count": 82,
   "metadata": {},
   "outputs": [
    {
     "data": {
      "text/plain": [
       " QuantileConstantPiecewiseFuzzifier   -0.38\n",
       "CrispFuzzifier                        -0.46\n",
       "ExponentialFuzzifier                  -0.46\n",
       "LinearFuzzifier                       -0.46\n",
       "QuantileLinearPiecewiseFuzzifier      -0.37\n",
       "Name: Anagrafica_Lesioni_Totali20, dtype: float64"
      ]
     },
     "execution_count": 82,
     "metadata": {},
     "output_type": "execute_result"
    }
   ],
   "source": [
    "t['Anagrafica_Lesioni_Totali20']"
   ]
  },
  {
   "cell_type": "code",
   "execution_count": 83,
   "metadata": {},
   "outputs": [
    {
     "data": {
      "text/html": [
       "<div>\n",
       "<style scoped>\n",
       "    .dataframe tbody tr th:only-of-type {\n",
       "        vertical-align: middle;\n",
       "    }\n",
       "\n",
       "    .dataframe tbody tr th {\n",
       "        vertical-align: top;\n",
       "    }\n",
       "\n",
       "    .dataframe thead th {\n",
       "        text-align: right;\n",
       "    }\n",
       "</style>\n",
       "<table border=\"1\" class=\"dataframe\">\n",
       "  <thead>\n",
       "    <tr style=\"text-align: right;\">\n",
       "      <th></th>\n",
       "      <th>Totale</th>\n",
       "      <th>Totali distretti</th>\n",
       "      <th>Totali</th>\n",
       "      <th>Lesioni 5 componenti</th>\n",
       "      <th>Lesioni 10 componenti</th>\n",
       "      <th>Lesioni 15 componenti</th>\n",
       "      <th>Lesioni 20 componenti</th>\n",
       "      <th>LesioniTotali5</th>\n",
       "      <th>LesioniTotali10</th>\n",
       "      <th>LesioniTotali15</th>\n",
       "      <th>...</th>\n",
       "      <th>All5</th>\n",
       "      <th>All10</th>\n",
       "      <th>All15</th>\n",
       "      <th>All20</th>\n",
       "      <th>All25</th>\n",
       "      <th>All30</th>\n",
       "      <th>PesoLesioni20</th>\n",
       "      <th>AltezzaLesioni20</th>\n",
       "      <th>BMILesioniNokgh20</th>\n",
       "      <th>TotaliDistretti_MSOrdini</th>\n",
       "    </tr>\n",
       "  </thead>\n",
       "  <tbody>\n",
       "    <tr>\n",
       "      <th>QuantileConstantPiecewiseFuzzifier</th>\n",
       "      <td>-0.53</td>\n",
       "      <td>-0.54</td>\n",
       "      <td>-0.53</td>\n",
       "      <td>-0.57</td>\n",
       "      <td>-0.51</td>\n",
       "      <td>-0.45</td>\n",
       "      <td>-0.32</td>\n",
       "      <td>-0.53</td>\n",
       "      <td>-0.45</td>\n",
       "      <td>-0.45</td>\n",
       "      <td>...</td>\n",
       "      <td>-0.38</td>\n",
       "      <td>-0.44</td>\n",
       "      <td>-0.45</td>\n",
       "      <td>-0.32</td>\n",
       "      <td>-0.33</td>\n",
       "      <td>-0.33</td>\n",
       "      <td>-0.37</td>\n",
       "      <td>-0.35</td>\n",
       "      <td>-0.37</td>\n",
       "      <td>-0.49</td>\n",
       "    </tr>\n",
       "    <tr>\n",
       "      <th>CrispFuzzifier</th>\n",
       "      <td>-0.55</td>\n",
       "      <td>-0.61</td>\n",
       "      <td>-0.60</td>\n",
       "      <td>-0.62</td>\n",
       "      <td>-0.63</td>\n",
       "      <td>-0.48</td>\n",
       "      <td>-0.46</td>\n",
       "      <td>-0.65</td>\n",
       "      <td>-0.50</td>\n",
       "      <td>-0.48</td>\n",
       "      <td>...</td>\n",
       "      <td>-0.46</td>\n",
       "      <td>-0.46</td>\n",
       "      <td>-0.46</td>\n",
       "      <td>-0.46</td>\n",
       "      <td>-0.46</td>\n",
       "      <td>-0.46</td>\n",
       "      <td>-0.45</td>\n",
       "      <td>-0.41</td>\n",
       "      <td>-0.41</td>\n",
       "      <td>-0.54</td>\n",
       "    </tr>\n",
       "    <tr>\n",
       "      <th>ExponentialFuzzifier</th>\n",
       "      <td>-0.31</td>\n",
       "      <td>-0.30</td>\n",
       "      <td>-0.30</td>\n",
       "      <td>-0.31</td>\n",
       "      <td>-0.42</td>\n",
       "      <td>-0.46</td>\n",
       "      <td>-0.46</td>\n",
       "      <td>-0.33</td>\n",
       "      <td>-0.45</td>\n",
       "      <td>-0.46</td>\n",
       "      <td>...</td>\n",
       "      <td>-0.46</td>\n",
       "      <td>-0.46</td>\n",
       "      <td>-0.46</td>\n",
       "      <td>-0.46</td>\n",
       "      <td>-0.46</td>\n",
       "      <td>-0.46</td>\n",
       "      <td>-0.29</td>\n",
       "      <td>-0.29</td>\n",
       "      <td>-0.29</td>\n",
       "      <td>-0.31</td>\n",
       "    </tr>\n",
       "    <tr>\n",
       "      <th>LinearFuzzifier</th>\n",
       "      <td>-0.31</td>\n",
       "      <td>-0.31</td>\n",
       "      <td>-0.31</td>\n",
       "      <td>-0.32</td>\n",
       "      <td>-0.57</td>\n",
       "      <td>-0.45</td>\n",
       "      <td>-0.46</td>\n",
       "      <td>-0.36</td>\n",
       "      <td>-0.46</td>\n",
       "      <td>-0.45</td>\n",
       "      <td>...</td>\n",
       "      <td>-0.46</td>\n",
       "      <td>-0.46</td>\n",
       "      <td>-0.46</td>\n",
       "      <td>-0.46</td>\n",
       "      <td>-0.46</td>\n",
       "      <td>-0.46</td>\n",
       "      <td>-0.29</td>\n",
       "      <td>-0.29</td>\n",
       "      <td>-0.29</td>\n",
       "      <td>-0.32</td>\n",
       "    </tr>\n",
       "    <tr>\n",
       "      <th>QuantileLinearPiecewiseFuzzifier</th>\n",
       "      <td>-0.53</td>\n",
       "      <td>-0.58</td>\n",
       "      <td>-0.56</td>\n",
       "      <td>-0.57</td>\n",
       "      <td>-0.53</td>\n",
       "      <td>-0.46</td>\n",
       "      <td>-0.32</td>\n",
       "      <td>-0.55</td>\n",
       "      <td>-0.46</td>\n",
       "      <td>-0.45</td>\n",
       "      <td>...</td>\n",
       "      <td>-0.37</td>\n",
       "      <td>-0.44</td>\n",
       "      <td>-0.44</td>\n",
       "      <td>-0.32</td>\n",
       "      <td>-0.33</td>\n",
       "      <td>-0.33</td>\n",
       "      <td>-0.37</td>\n",
       "      <td>-0.32</td>\n",
       "      <td>-0.35</td>\n",
       "      <td>-0.48</td>\n",
       "    </tr>\n",
       "  </tbody>\n",
       "</table>\n",
       "<p>5 rows × 45 columns</p>\n",
       "</div>"
      ],
      "text/plain": [
       "                                     Totale  Totali distretti  Totali  \\\n",
       " QuantileConstantPiecewiseFuzzifier   -0.53             -0.54   -0.53   \n",
       "CrispFuzzifier                        -0.55             -0.61   -0.60   \n",
       "ExponentialFuzzifier                  -0.31             -0.30   -0.30   \n",
       "LinearFuzzifier                       -0.31             -0.31   -0.31   \n",
       "QuantileLinearPiecewiseFuzzifier      -0.53             -0.58   -0.56   \n",
       "\n",
       "                                     Lesioni 5 componenti  \\\n",
       " QuantileConstantPiecewiseFuzzifier                 -0.57   \n",
       "CrispFuzzifier                                      -0.62   \n",
       "ExponentialFuzzifier                                -0.31   \n",
       "LinearFuzzifier                                     -0.32   \n",
       "QuantileLinearPiecewiseFuzzifier                    -0.57   \n",
       "\n",
       "                                     Lesioni 10 componenti  \\\n",
       " QuantileConstantPiecewiseFuzzifier                  -0.51   \n",
       "CrispFuzzifier                                       -0.63   \n",
       "ExponentialFuzzifier                                 -0.42   \n",
       "LinearFuzzifier                                      -0.57   \n",
       "QuantileLinearPiecewiseFuzzifier                     -0.53   \n",
       "\n",
       "                                     Lesioni 15 componenti  \\\n",
       " QuantileConstantPiecewiseFuzzifier                  -0.45   \n",
       "CrispFuzzifier                                       -0.48   \n",
       "ExponentialFuzzifier                                 -0.46   \n",
       "LinearFuzzifier                                      -0.45   \n",
       "QuantileLinearPiecewiseFuzzifier                     -0.46   \n",
       "\n",
       "                                     Lesioni 20 componenti  LesioniTotali5  \\\n",
       " QuantileConstantPiecewiseFuzzifier                  -0.32           -0.53   \n",
       "CrispFuzzifier                                       -0.46           -0.65   \n",
       "ExponentialFuzzifier                                 -0.46           -0.33   \n",
       "LinearFuzzifier                                      -0.46           -0.36   \n",
       "QuantileLinearPiecewiseFuzzifier                     -0.32           -0.55   \n",
       "\n",
       "                                     LesioniTotali10  LesioniTotali15  ...  \\\n",
       " QuantileConstantPiecewiseFuzzifier            -0.45            -0.45  ...   \n",
       "CrispFuzzifier                                 -0.50            -0.48  ...   \n",
       "ExponentialFuzzifier                           -0.45            -0.46  ...   \n",
       "LinearFuzzifier                                -0.46            -0.45  ...   \n",
       "QuantileLinearPiecewiseFuzzifier               -0.46            -0.45  ...   \n",
       "\n",
       "                                     All5  All10  All15  All20  All25  All30  \\\n",
       " QuantileConstantPiecewiseFuzzifier -0.38  -0.44  -0.45  -0.32  -0.33  -0.33   \n",
       "CrispFuzzifier                      -0.46  -0.46  -0.46  -0.46  -0.46  -0.46   \n",
       "ExponentialFuzzifier                -0.46  -0.46  -0.46  -0.46  -0.46  -0.46   \n",
       "LinearFuzzifier                     -0.46  -0.46  -0.46  -0.46  -0.46  -0.46   \n",
       "QuantileLinearPiecewiseFuzzifier    -0.37  -0.44  -0.44  -0.32  -0.33  -0.33   \n",
       "\n",
       "                                     PesoLesioni20  AltezzaLesioni20  \\\n",
       " QuantileConstantPiecewiseFuzzifier          -0.37             -0.35   \n",
       "CrispFuzzifier                               -0.45             -0.41   \n",
       "ExponentialFuzzifier                         -0.29             -0.29   \n",
       "LinearFuzzifier                              -0.29             -0.29   \n",
       "QuantileLinearPiecewiseFuzzifier             -0.37             -0.32   \n",
       "\n",
       "                                     BMILesioniNokgh20  \\\n",
       " QuantileConstantPiecewiseFuzzifier              -0.37   \n",
       "CrispFuzzifier                                   -0.41   \n",
       "ExponentialFuzzifier                             -0.29   \n",
       "LinearFuzzifier                                  -0.29   \n",
       "QuantileLinearPiecewiseFuzzifier                 -0.35   \n",
       "\n",
       "                                     TotaliDistretti_MSOrdini  \n",
       " QuantileConstantPiecewiseFuzzifier                     -0.49  \n",
       "CrispFuzzifier                                          -0.54  \n",
       "ExponentialFuzzifier                                    -0.31  \n",
       "LinearFuzzifier                                         -0.32  \n",
       "QuantileLinearPiecewiseFuzzifier                        -0.48  \n",
       "\n",
       "[5 rows x 45 columns]"
      ]
     },
     "execution_count": 83,
     "metadata": {},
     "output_type": "execute_result"
    }
   ],
   "source": [
    "t"
   ]
  },
  {
   "cell_type": "markdown",
   "metadata": {},
   "source": [
    "Altri kernel"
   ]
  },
  {
   "cell_type": "code",
   "execution_count": 84,
   "metadata": {},
   "outputs": [],
   "source": [
    "params_grid_kernels_noFuzzifier = { 'c':c_space,\n",
    "               'k': [LinearKernel()] + [PolynomialKernel(d) for d in degrees] + \n",
    "                    [HomogeneousPolynomialKernel(d) for d in degrees] + [HyperbolicKernel(1,o) for o in offsets],\n",
    "}"
   ]
  },
  {
   "cell_type": "code",
   "execution_count": 85,
   "metadata": {},
   "outputs": [],
   "source": [
    "for c,l in zip([['Totale'],['Tot Testa','Tot Torace','Tot Addome','Tot Scheletro'],['Totale','Tot Testa','Tot Torace','Tot Addome','Tot Scheletro']],['TotaleK','TotaliDistrettiK','TotaliK']):\n",
    "    tk= incidenti_fuzzifier_table(dataset,[c],fuzzifiers_class,FuzzyInductor,dataset_labels,params_grid_kernels_noFuzzifier,3,3,logger=f_logger,file_json='fuzzifiers_kernels.json',labels=[l])\n",
    "    tk.to_json('fuzzifiers_kernels.json')"
   ]
  },
  {
   "cell_type": "code",
   "execution_count": 86,
   "metadata": {},
   "outputs": [],
   "source": [
    "for c,l in zip([columns_BMI_all,columns_all,columns_lesioni,columns_totali_lesioni],['BMI_Lesioni_Totali20K','All20K','Lesioni20K','LesioniTotali20K']):\n",
    "    dim_red = PCA(n_components=20)\n",
    "    tk= incidenti_fuzzifier_table(dataset,[c],fuzzifiers_class,FuzzyInductor,dataset_labels,params_grid_kernels_noFuzzifier,3,3,logger=f_logger,dim_reduction=dim_red,file_json='fuzzifiers_kernels.json',labels=[l])\n",
    "    tk.to_json('fuzzifiers_kernels.json')"
   ]
  },
  {
   "cell_type": "code",
   "execution_count": 87,
   "metadata": {},
   "outputs": [
    {
     "data": {
      "text/html": [
       "<div>\n",
       "<style scoped>\n",
       "    .dataframe tbody tr th:only-of-type {\n",
       "        vertical-align: middle;\n",
       "    }\n",
       "\n",
       "    .dataframe tbody tr th {\n",
       "        vertical-align: top;\n",
       "    }\n",
       "\n",
       "    .dataframe thead th {\n",
       "        text-align: right;\n",
       "    }\n",
       "</style>\n",
       "<table border=\"1\" class=\"dataframe\">\n",
       "  <thead>\n",
       "    <tr style=\"text-align: right;\">\n",
       "      <th></th>\n",
       "      <th>TotaleK</th>\n",
       "      <th>BMI_Lesioni_Totali20K</th>\n",
       "      <th>All20K</th>\n",
       "      <th>Lesioni20K</th>\n",
       "      <th>LesioniTotali20K</th>\n",
       "      <th>TotaliDistrettiK</th>\n",
       "      <th>TotaliK</th>\n",
       "    </tr>\n",
       "  </thead>\n",
       "  <tbody>\n",
       "    <tr>\n",
       "      <th>QuantileConstantPiecewiseFuzzifier</th>\n",
       "      <td>-0.56</td>\n",
       "      <td>-0.43</td>\n",
       "      <td>-0.44</td>\n",
       "      <td>-0.35</td>\n",
       "      <td>-0.41</td>\n",
       "      <td>-0.49</td>\n",
       "      <td>-0.46</td>\n",
       "    </tr>\n",
       "    <tr>\n",
       "      <th>CrispFuzzifier</th>\n",
       "      <td>-0.43</td>\n",
       "      <td>-0.43</td>\n",
       "      <td>-0.43</td>\n",
       "      <td>-0.43</td>\n",
       "      <td>-0.45</td>\n",
       "      <td>-0.54</td>\n",
       "      <td>-0.49</td>\n",
       "    </tr>\n",
       "    <tr>\n",
       "      <th>ExponentialFuzzifier</th>\n",
       "      <td>-0.31</td>\n",
       "      <td>-0.29</td>\n",
       "      <td>-0.29</td>\n",
       "      <td>-0.29</td>\n",
       "      <td>-0.29</td>\n",
       "      <td>-0.31</td>\n",
       "      <td>-0.31</td>\n",
       "    </tr>\n",
       "    <tr>\n",
       "      <th>LinearFuzzifier</th>\n",
       "      <td>-0.58</td>\n",
       "      <td>-0.29</td>\n",
       "      <td>-0.29</td>\n",
       "      <td>-0.29</td>\n",
       "      <td>-0.29</td>\n",
       "      <td>-0.32</td>\n",
       "      <td>-0.31</td>\n",
       "    </tr>\n",
       "    <tr>\n",
       "      <th>QuantileLinearPiecewiseFuzzifier</th>\n",
       "      <td>-0.56</td>\n",
       "      <td>-0.42</td>\n",
       "      <td>-0.41</td>\n",
       "      <td>-0.36</td>\n",
       "      <td>-0.39</td>\n",
       "      <td>-0.49</td>\n",
       "      <td>-0.46</td>\n",
       "    </tr>\n",
       "  </tbody>\n",
       "</table>\n",
       "</div>"
      ],
      "text/plain": [
       "                                     TotaleK  BMI_Lesioni_Totali20K  All20K  \\\n",
       " QuantileConstantPiecewiseFuzzifier    -0.56                  -0.43   -0.44   \n",
       "CrispFuzzifier                         -0.43                  -0.43   -0.43   \n",
       "ExponentialFuzzifier                   -0.31                  -0.29   -0.29   \n",
       "LinearFuzzifier                        -0.58                  -0.29   -0.29   \n",
       "QuantileLinearPiecewiseFuzzifier       -0.56                  -0.42   -0.41   \n",
       "\n",
       "                                     Lesioni20K  LesioniTotali20K  \\\n",
       " QuantileConstantPiecewiseFuzzifier       -0.35             -0.41   \n",
       "CrispFuzzifier                            -0.43             -0.45   \n",
       "ExponentialFuzzifier                      -0.29             -0.29   \n",
       "LinearFuzzifier                           -0.29             -0.29   \n",
       "QuantileLinearPiecewiseFuzzifier          -0.36             -0.39   \n",
       "\n",
       "                                     TotaliDistrettiK  TotaliK  \n",
       " QuantileConstantPiecewiseFuzzifier             -0.49    -0.46  \n",
       "CrispFuzzifier                                  -0.54    -0.49  \n",
       "ExponentialFuzzifier                            -0.31    -0.31  \n",
       "LinearFuzzifier                                 -0.32    -0.31  \n",
       "QuantileLinearPiecewiseFuzzifier                -0.49    -0.46  "
      ]
     },
     "execution_count": 87,
     "metadata": {},
     "output_type": "execute_result"
    }
   ],
   "source": [
    "tk = pd.read_json(\"fuzzifiers_kernels.json\")\n",
    "tk"
   ]
  },
  {
   "cell_type": "markdown",
   "metadata": {},
   "source": [
    "t-SNE"
   ]
  },
  {
   "cell_type": "code",
   "execution_count": 88,
   "metadata": {},
   "outputs": [],
   "source": [
    "labels_BMI_all_tsne = list(map(lambda x: str(x)+\"tsne\",labels_BMI_all))\n",
    "\n",
    "for i,l in zip([5,10,15,20,25,30],labels_BMI_all_tsne):\n",
    "    dim_red=TSNE(n_components=i,method='exact')\n",
    "    t = incidenti_fuzzifier_table(dataset,[columns_BMI_all],fuzzifiers_class,FuzzyInductor,dataset_labels,params_grid_noFuzzifier,3,3,logger=f_logger,dim_reduction=dim_red,file_json='fuzzifiers_tsne.json',labels=[l])\n",
    "    t.to_json('fuzzifiers_tsne.json')"
   ]
  },
  {
   "cell_type": "code",
   "execution_count": 89,
   "metadata": {},
   "outputs": [
    {
     "data": {
      "text/html": [
       "<div>\n",
       "<style scoped>\n",
       "    .dataframe tbody tr th:only-of-type {\n",
       "        vertical-align: middle;\n",
       "    }\n",
       "\n",
       "    .dataframe tbody tr th {\n",
       "        vertical-align: top;\n",
       "    }\n",
       "\n",
       "    .dataframe thead th {\n",
       "        text-align: right;\n",
       "    }\n",
       "</style>\n",
       "<table border=\"1\" class=\"dataframe\">\n",
       "  <thead>\n",
       "    <tr style=\"text-align: right;\">\n",
       "      <th></th>\n",
       "      <th>BMI_Lesioni_Totali5tsne</th>\n",
       "      <th>BMI_Lesioni_Totali10tsne</th>\n",
       "      <th>BMI_Lesioni_Totali15tsne</th>\n",
       "      <th>BMI_Lesioni_Totali20tsne</th>\n",
       "      <th>BMI_Lesioni_Totali25tsne</th>\n",
       "      <th>BMI_Lesioni_Totali30tsne</th>\n",
       "    </tr>\n",
       "  </thead>\n",
       "  <tbody>\n",
       "    <tr>\n",
       "      <th>QuantileConstantPiecewiseFuzzifier</th>\n",
       "      <td>-0.33</td>\n",
       "      <td>-0.33</td>\n",
       "      <td>-0.33</td>\n",
       "      <td>-0.33</td>\n",
       "      <td>-0.33</td>\n",
       "      <td>-0.46</td>\n",
       "    </tr>\n",
       "    <tr>\n",
       "      <th>CrispFuzzifier</th>\n",
       "      <td>-0.46</td>\n",
       "      <td>-0.46</td>\n",
       "      <td>-0.46</td>\n",
       "      <td>-0.46</td>\n",
       "      <td>-0.46</td>\n",
       "      <td>-0.46</td>\n",
       "    </tr>\n",
       "    <tr>\n",
       "      <th>ExponentialFuzzifier</th>\n",
       "      <td>-0.46</td>\n",
       "      <td>-0.46</td>\n",
       "      <td>-0.46</td>\n",
       "      <td>-0.46</td>\n",
       "      <td>-0.46</td>\n",
       "      <td>-0.46</td>\n",
       "    </tr>\n",
       "    <tr>\n",
       "      <th>LinearFuzzifier</th>\n",
       "      <td>-0.46</td>\n",
       "      <td>-0.46</td>\n",
       "      <td>-0.46</td>\n",
       "      <td>-0.46</td>\n",
       "      <td>-0.46</td>\n",
       "      <td>-0.46</td>\n",
       "    </tr>\n",
       "    <tr>\n",
       "      <th>QuantileLinearPiecewiseFuzzifier</th>\n",
       "      <td>-0.33</td>\n",
       "      <td>-0.33</td>\n",
       "      <td>-0.33</td>\n",
       "      <td>-0.33</td>\n",
       "      <td>-0.33</td>\n",
       "      <td>-0.46</td>\n",
       "    </tr>\n",
       "  </tbody>\n",
       "</table>\n",
       "</div>"
      ],
      "text/plain": [
       "                                     BMI_Lesioni_Totali5tsne  \\\n",
       " QuantileConstantPiecewiseFuzzifier                    -0.33   \n",
       "CrispFuzzifier                                         -0.46   \n",
       "ExponentialFuzzifier                                   -0.46   \n",
       "LinearFuzzifier                                        -0.46   \n",
       "QuantileLinearPiecewiseFuzzifier                       -0.33   \n",
       "\n",
       "                                     BMI_Lesioni_Totali10tsne  \\\n",
       " QuantileConstantPiecewiseFuzzifier                     -0.33   \n",
       "CrispFuzzifier                                          -0.46   \n",
       "ExponentialFuzzifier                                    -0.46   \n",
       "LinearFuzzifier                                         -0.46   \n",
       "QuantileLinearPiecewiseFuzzifier                        -0.33   \n",
       "\n",
       "                                     BMI_Lesioni_Totali15tsne  \\\n",
       " QuantileConstantPiecewiseFuzzifier                     -0.33   \n",
       "CrispFuzzifier                                          -0.46   \n",
       "ExponentialFuzzifier                                    -0.46   \n",
       "LinearFuzzifier                                         -0.46   \n",
       "QuantileLinearPiecewiseFuzzifier                        -0.33   \n",
       "\n",
       "                                     BMI_Lesioni_Totali20tsne  \\\n",
       " QuantileConstantPiecewiseFuzzifier                     -0.33   \n",
       "CrispFuzzifier                                          -0.46   \n",
       "ExponentialFuzzifier                                    -0.46   \n",
       "LinearFuzzifier                                         -0.46   \n",
       "QuantileLinearPiecewiseFuzzifier                        -0.33   \n",
       "\n",
       "                                     BMI_Lesioni_Totali25tsne  \\\n",
       " QuantileConstantPiecewiseFuzzifier                     -0.33   \n",
       "CrispFuzzifier                                          -0.46   \n",
       "ExponentialFuzzifier                                    -0.46   \n",
       "LinearFuzzifier                                         -0.46   \n",
       "QuantileLinearPiecewiseFuzzifier                        -0.33   \n",
       "\n",
       "                                     BMI_Lesioni_Totali30tsne  \n",
       " QuantileConstantPiecewiseFuzzifier                     -0.46  \n",
       "CrispFuzzifier                                          -0.46  \n",
       "ExponentialFuzzifier                                    -0.46  \n",
       "LinearFuzzifier                                         -0.46  \n",
       "QuantileLinearPiecewiseFuzzifier                        -0.46  "
      ]
     },
     "execution_count": 89,
     "metadata": {},
     "output_type": "execute_result"
    }
   ],
   "source": [
    "ftsample_tsne = pd.read_json('fuzzifiers_tsne.json')\n",
    "ftsample_tsne"
   ]
  },
  {
   "cell_type": "markdown",
   "metadata": {},
   "source": [
    "Classe 0"
   ]
  },
  {
   "cell_type": "code",
   "execution_count": 90,
   "metadata": {},
   "outputs": [],
   "source": [
    "mu0 = list(map(lambda x: 0 if x else 1,dataset_labels))"
   ]
  },
  {
   "cell_type": "code",
   "execution_count": 91,
   "metadata": {},
   "outputs": [],
   "source": [
    "params_grid_0_noFuzzifier = params_grid_kernels_noFuzzifier = { 'c':c_space,\n",
    "               'k': [LinearKernel()] + [PolynomialKernel(d) for d in degrees] + \n",
    "                    [HomogeneousPolynomialKernel(d) for d in degrees] + [HyperbolicKernel(1,o) for o in offsets] + \n",
    "                    [GaussianKernel(sigma) for sigma in sigmas]\n",
    "}"
   ]
  },
  {
   "cell_type": "code",
   "execution_count": 92,
   "metadata": {},
   "outputs": [
    {
     "data": {
      "text/plain": [
       "'\\nwith open(\\'fuzzifiers0.json\\',\"w\") as write_file:\\n    json.dump({},write_file)\\n'"
      ]
     },
     "execution_count": 92,
     "metadata": {},
     "output_type": "execute_result"
    }
   ],
   "source": [
    "\"\"\"\n",
    "with open('fuzzifiers0.json',\"w\") as write_file:\n",
    "    json.dump({},write_file)\n",
    "\"\"\""
   ]
  },
  {
   "cell_type": "code",
   "execution_count": 93,
   "metadata": {},
   "outputs": [],
   "source": [
    "for c,l in zip([['Totale'],['Tot Testa','Tot Torace','Tot Addome','Tot Scheletro'],['Totale','Tot Testa','Tot Torace','Tot Addome','Tot Scheletro']],['Totale_0','TotaliDistretti_0','Totali_0']):\n",
    "    tk= incidenti_fuzzifier_table(dataset,[c],fuzzifiers_class,FuzzyInductor,mu0,params_grid_0_noFuzzifier,3,3,logger=f0_logger,file_json='fuzzifiers0.json',labels=[l])\n",
    "    tk.to_json('fuzzifiers0.json')"
   ]
  },
  {
   "cell_type": "code",
   "execution_count": 94,
   "metadata": {
    "scrolled": true
   },
   "outputs": [],
   "source": [
    "for c,l in zip([columns_BMI_all,columns_all,columns_lesioni,columns_totali_lesioni],['BMI_Lesioni_Totali20_0','All20_0','Lesioni20_0','LesioniTotali20_0']):\n",
    "    dim_red = PCA(n_components=20)\n",
    "    t0= incidenti_fuzzifier_table(dataset,[c],fuzzifiers_class,FuzzyInductor,mu0,params_grid_0_noFuzzifier,3,3,logger=f0_logger,dim_reduction=dim_red,file_json='fuzzifiers0.json',labels=[l])\n",
    "    t0.to_json('fuzzifiers0.json')"
   ]
  },
  {
   "cell_type": "code",
   "execution_count": 95,
   "metadata": {
    "scrolled": true
   },
   "outputs": [],
   "source": [
    "dim_red = PCA(n_components=5)\n",
    "l='Lesioni5_0'\n",
    "t0= incidenti_fuzzifier_table(dataset,[columns_lesioni],fuzzifiers_class,FuzzyInductor,mu0,params_grid_0_noFuzzifier,3,3,logger=f0_logger,dim_reduction=dim_red,file_json='fuzzifiers0.json',labels=[l])\n",
    "t0.to_json('fuzzifiers0.json')"
   ]
  },
  {
   "cell_type": "code",
   "execution_count": 96,
   "metadata": {},
   "outputs": [],
   "source": [
    "l='Anagrafica_Totale_0'\n",
    "t0= incidenti_fuzzifier_table(dataset,[columns_anagrafica_totale],fuzzifiers_class,FuzzyInductor,mu0,params_grid_0_noFuzzifier,3,3,logger=f0_logger,file_json='fuzzifiers0.json',labels=[l])\n",
    "t0.to_json('fuzzifiers0.json')"
   ]
  },
  {
   "cell_type": "code",
   "execution_count": 97,
   "metadata": {},
   "outputs": [],
   "source": [
    "for c,l in zip([10,15],['Lesioni10_0','Lesioni15_0']):\n",
    "    dim_red=PCA(n_components=c)\n",
    "    t0 = incidenti_fuzzifier_table(dataset,[columns_lesioni],fuzzifiers_class,FuzzyInductor,mu0,params_grid_0_noFuzzifier,3,3,logger=f0_logger,dim_reduction=dim_red,file_json='fuzzifiers0.json',labels=[l])\n",
    "    t0.to_json('fuzzifiers0.json')"
   ]
  },
  {
   "cell_type": "code",
   "execution_count": 98,
   "metadata": {},
   "outputs": [],
   "source": [
    "for c,l in zip([5,10,15],['All5_0','All10_0','All15_0']):\n",
    "    dim_red=PCA(n_components=c)\n",
    "    t0 = incidenti_fuzzifier_table(dataset,[columns_all],fuzzifiers_class,FuzzyInductor,mu0,params_grid_0_noFuzzifier,3,3,logger=f0_logger,dim_reduction=dim_red,file_json='fuzzifiers0.json',labels=[l])\n",
    "    t0.to_json('fuzzifiers0.json')"
   ]
  },
  {
   "cell_type": "code",
   "execution_count": 99,
   "metadata": {},
   "outputs": [],
   "source": [
    "for c,l in zip([5,10,15],['LesioniTotali5_0','LesioniTotali10_0','LesioniTotali15_0']):\n",
    "    dim_red=PCA(n_components=c)\n",
    "    t0 = incidenti_fuzzifier_table(dataset,[columns_totali_lesioni],fuzzifiers_class,FuzzyInductor,mu0,params_grid_0_noFuzzifier,3,3,logger=f0_logger,dim_reduction=dim_red,file_json='fuzzifiers0.json',labels=[l])\n",
    "    t0.to_json('fuzzifiers0.json')"
   ]
  },
  {
   "cell_type": "code",
   "execution_count": 100,
   "metadata": {},
   "outputs": [],
   "source": [
    "for c,l in zip([5,10,15],['BMI_Lesioni_Totali5_0','BMI_Lesioni_Totali110_0','BMI_Lesioni_Totali15_0']):\n",
    "    dim_red=PCA(n_components=c)\n",
    "    t0 = incidenti_fuzzifier_table(dataset,[columns_BMI_all],fuzzifiers_class,FuzzyInductor,mu0,params_grid_0_noFuzzifier,3,3,logger=f0_logger,dim_reduction=dim_red,file_json='fuzzifiers0.json',labels=[l])\n",
    "    t0.to_json('fuzzifiers0.json')"
   ]
  },
  {
   "cell_type": "code",
   "execution_count": 101,
   "metadata": {},
   "outputs": [
    {
     "data": {
      "text/html": [
       "<div>\n",
       "<style scoped>\n",
       "    .dataframe tbody tr th:only-of-type {\n",
       "        vertical-align: middle;\n",
       "    }\n",
       "\n",
       "    .dataframe tbody tr th {\n",
       "        vertical-align: top;\n",
       "    }\n",
       "\n",
       "    .dataframe thead th {\n",
       "        text-align: right;\n",
       "    }\n",
       "</style>\n",
       "<table border=\"1\" class=\"dataframe\">\n",
       "  <thead>\n",
       "    <tr style=\"text-align: right;\">\n",
       "      <th></th>\n",
       "      <th>BMI_Lesioni_Totali20_0</th>\n",
       "      <th>Totale_0</th>\n",
       "      <th>TotaliDistretti_0</th>\n",
       "      <th>Totali_0</th>\n",
       "      <th>All20_0</th>\n",
       "      <th>Lesioni20_0</th>\n",
       "      <th>LesioniTotali20_0</th>\n",
       "      <th>Lesioni5_0</th>\n",
       "      <th>Anagrafica_Totale_0</th>\n",
       "      <th>Lesioni10_0</th>\n",
       "      <th>...</th>\n",
       "      <th>LesioniTotali5_0</th>\n",
       "      <th>LesioniTotali10_0</th>\n",
       "      <th>LesioniTotali15_0</th>\n",
       "      <th>BMI_Lesioni_Totali5_0</th>\n",
       "      <th>BMI_Lesioni_Totali110_0</th>\n",
       "      <th>BMI_Lesioni_Totali15_0</th>\n",
       "      <th>PesoLesioni20_0</th>\n",
       "      <th>AltezzaLesioni20_0</th>\n",
       "      <th>BMILesioniNokgh20_0</th>\n",
       "      <th>TotaliDistretti_MSOrdine_0</th>\n",
       "    </tr>\n",
       "  </thead>\n",
       "  <tbody>\n",
       "    <tr>\n",
       "      <th>QuantileConstantPiecewiseFuzzifier</th>\n",
       "      <td>-0.38</td>\n",
       "      <td>-0.31</td>\n",
       "      <td>-0.29</td>\n",
       "      <td>-0.29</td>\n",
       "      <td>-0.38</td>\n",
       "      <td>-0.36</td>\n",
       "      <td>-0.34</td>\n",
       "      <td>-0.31</td>\n",
       "      <td>-0.29</td>\n",
       "      <td>-0.35</td>\n",
       "      <td>...</td>\n",
       "      <td>-0.28</td>\n",
       "      <td>-0.32</td>\n",
       "      <td>-0.34</td>\n",
       "      <td>-0.32</td>\n",
       "      <td>-0.34</td>\n",
       "      <td>-0.38</td>\n",
       "      <td>-0.37</td>\n",
       "      <td>-0.37</td>\n",
       "      <td>-0.32</td>\n",
       "      <td>-0.29</td>\n",
       "    </tr>\n",
       "    <tr>\n",
       "      <th>CrispFuzzifier</th>\n",
       "      <td>-0.54</td>\n",
       "      <td>-0.38</td>\n",
       "      <td>-0.33</td>\n",
       "      <td>-0.31</td>\n",
       "      <td>-0.54</td>\n",
       "      <td>-0.54</td>\n",
       "      <td>-0.54</td>\n",
       "      <td>-0.31</td>\n",
       "      <td>-0.34</td>\n",
       "      <td>-0.53</td>\n",
       "      <td>...</td>\n",
       "      <td>-0.32</td>\n",
       "      <td>-0.31</td>\n",
       "      <td>-0.54</td>\n",
       "      <td>-0.31</td>\n",
       "      <td>-0.32</td>\n",
       "      <td>-0.54</td>\n",
       "      <td>-0.54</td>\n",
       "      <td>-0.54</td>\n",
       "      <td>-0.34</td>\n",
       "      <td>-0.33</td>\n",
       "    </tr>\n",
       "    <tr>\n",
       "      <th>ExponentialFuzzifier</th>\n",
       "      <td>-0.26</td>\n",
       "      <td>-0.27</td>\n",
       "      <td>-0.26</td>\n",
       "      <td>-0.25</td>\n",
       "      <td>-0.26</td>\n",
       "      <td>-0.25</td>\n",
       "      <td>-0.25</td>\n",
       "      <td>-0.26</td>\n",
       "      <td>-0.28</td>\n",
       "      <td>-0.25</td>\n",
       "      <td>...</td>\n",
       "      <td>-0.25</td>\n",
       "      <td>-0.26</td>\n",
       "      <td>-0.25</td>\n",
       "      <td>-0.26</td>\n",
       "      <td>-0.26</td>\n",
       "      <td>-0.26</td>\n",
       "      <td>-0.25</td>\n",
       "      <td>-0.26</td>\n",
       "      <td>-0.25</td>\n",
       "      <td>-0.26</td>\n",
       "    </tr>\n",
       "    <tr>\n",
       "      <th>LinearFuzzifier</th>\n",
       "      <td>-0.25</td>\n",
       "      <td>-0.27</td>\n",
       "      <td>-0.26</td>\n",
       "      <td>-0.26</td>\n",
       "      <td>-0.25</td>\n",
       "      <td>-0.24</td>\n",
       "      <td>-0.25</td>\n",
       "      <td>-0.25</td>\n",
       "      <td>-0.28</td>\n",
       "      <td>-0.26</td>\n",
       "      <td>...</td>\n",
       "      <td>-0.25</td>\n",
       "      <td>-0.26</td>\n",
       "      <td>-0.25</td>\n",
       "      <td>-0.25</td>\n",
       "      <td>-0.26</td>\n",
       "      <td>-0.27</td>\n",
       "      <td>-0.25</td>\n",
       "      <td>-0.25</td>\n",
       "      <td>-0.25</td>\n",
       "      <td>-0.26</td>\n",
       "    </tr>\n",
       "    <tr>\n",
       "      <th>QuantileLinearPiecewiseFuzzifier</th>\n",
       "      <td>-0.38</td>\n",
       "      <td>-0.32</td>\n",
       "      <td>-0.30</td>\n",
       "      <td>-0.30</td>\n",
       "      <td>-0.38</td>\n",
       "      <td>-0.36</td>\n",
       "      <td>-0.34</td>\n",
       "      <td>-0.30</td>\n",
       "      <td>-0.30</td>\n",
       "      <td>-0.35</td>\n",
       "      <td>...</td>\n",
       "      <td>-0.28</td>\n",
       "      <td>-0.31</td>\n",
       "      <td>-0.34</td>\n",
       "      <td>-0.30</td>\n",
       "      <td>-0.32</td>\n",
       "      <td>-0.38</td>\n",
       "      <td>-0.37</td>\n",
       "      <td>-0.37</td>\n",
       "      <td>-0.33</td>\n",
       "      <td>-0.30</td>\n",
       "    </tr>\n",
       "  </tbody>\n",
       "</table>\n",
       "<p>5 rows × 24 columns</p>\n",
       "</div>"
      ],
      "text/plain": [
       "                                     BMI_Lesioni_Totali20_0  Totale_0  \\\n",
       " QuantileConstantPiecewiseFuzzifier                   -0.38     -0.31   \n",
       "CrispFuzzifier                                        -0.54     -0.38   \n",
       "ExponentialFuzzifier                                  -0.26     -0.27   \n",
       "LinearFuzzifier                                       -0.25     -0.27   \n",
       "QuantileLinearPiecewiseFuzzifier                      -0.38     -0.32   \n",
       "\n",
       "                                     TotaliDistretti_0  Totali_0  All20_0  \\\n",
       " QuantileConstantPiecewiseFuzzifier              -0.29     -0.29    -0.38   \n",
       "CrispFuzzifier                                   -0.33     -0.31    -0.54   \n",
       "ExponentialFuzzifier                             -0.26     -0.25    -0.26   \n",
       "LinearFuzzifier                                  -0.26     -0.26    -0.25   \n",
       "QuantileLinearPiecewiseFuzzifier                 -0.30     -0.30    -0.38   \n",
       "\n",
       "                                     Lesioni20_0  LesioniTotali20_0  \\\n",
       " QuantileConstantPiecewiseFuzzifier        -0.36              -0.34   \n",
       "CrispFuzzifier                             -0.54              -0.54   \n",
       "ExponentialFuzzifier                       -0.25              -0.25   \n",
       "LinearFuzzifier                            -0.24              -0.25   \n",
       "QuantileLinearPiecewiseFuzzifier           -0.36              -0.34   \n",
       "\n",
       "                                     Lesioni5_0  Anagrafica_Totale_0  \\\n",
       " QuantileConstantPiecewiseFuzzifier       -0.31                -0.29   \n",
       "CrispFuzzifier                            -0.31                -0.34   \n",
       "ExponentialFuzzifier                      -0.26                -0.28   \n",
       "LinearFuzzifier                           -0.25                -0.28   \n",
       "QuantileLinearPiecewiseFuzzifier          -0.30                -0.30   \n",
       "\n",
       "                                     Lesioni10_0  ...  LesioniTotali5_0  \\\n",
       " QuantileConstantPiecewiseFuzzifier        -0.35  ...             -0.28   \n",
       "CrispFuzzifier                             -0.53  ...             -0.32   \n",
       "ExponentialFuzzifier                       -0.25  ...             -0.25   \n",
       "LinearFuzzifier                            -0.26  ...             -0.25   \n",
       "QuantileLinearPiecewiseFuzzifier           -0.35  ...             -0.28   \n",
       "\n",
       "                                     LesioniTotali10_0  LesioniTotali15_0  \\\n",
       " QuantileConstantPiecewiseFuzzifier              -0.32              -0.34   \n",
       "CrispFuzzifier                                   -0.31              -0.54   \n",
       "ExponentialFuzzifier                             -0.26              -0.25   \n",
       "LinearFuzzifier                                  -0.26              -0.25   \n",
       "QuantileLinearPiecewiseFuzzifier                 -0.31              -0.34   \n",
       "\n",
       "                                     BMI_Lesioni_Totali5_0  \\\n",
       " QuantileConstantPiecewiseFuzzifier                  -0.32   \n",
       "CrispFuzzifier                                       -0.31   \n",
       "ExponentialFuzzifier                                 -0.26   \n",
       "LinearFuzzifier                                      -0.25   \n",
       "QuantileLinearPiecewiseFuzzifier                     -0.30   \n",
       "\n",
       "                                     BMI_Lesioni_Totali110_0  \\\n",
       " QuantileConstantPiecewiseFuzzifier                    -0.34   \n",
       "CrispFuzzifier                                         -0.32   \n",
       "ExponentialFuzzifier                                   -0.26   \n",
       "LinearFuzzifier                                        -0.26   \n",
       "QuantileLinearPiecewiseFuzzifier                       -0.32   \n",
       "\n",
       "                                     BMI_Lesioni_Totali15_0  PesoLesioni20_0  \\\n",
       " QuantileConstantPiecewiseFuzzifier                   -0.38            -0.37   \n",
       "CrispFuzzifier                                        -0.54            -0.54   \n",
       "ExponentialFuzzifier                                  -0.26            -0.25   \n",
       "LinearFuzzifier                                       -0.27            -0.25   \n",
       "QuantileLinearPiecewiseFuzzifier                      -0.38            -0.37   \n",
       "\n",
       "                                     AltezzaLesioni20_0  BMILesioniNokgh20_0  \\\n",
       " QuantileConstantPiecewiseFuzzifier               -0.37                -0.32   \n",
       "CrispFuzzifier                                    -0.54                -0.34   \n",
       "ExponentialFuzzifier                              -0.26                -0.25   \n",
       "LinearFuzzifier                                   -0.25                -0.25   \n",
       "QuantileLinearPiecewiseFuzzifier                  -0.37                -0.33   \n",
       "\n",
       "                                     TotaliDistretti_MSOrdine_0  \n",
       " QuantileConstantPiecewiseFuzzifier                       -0.29  \n",
       "CrispFuzzifier                                            -0.33  \n",
       "ExponentialFuzzifier                                      -0.26  \n",
       "LinearFuzzifier                                           -0.26  \n",
       "QuantileLinearPiecewiseFuzzifier                          -0.30  \n",
       "\n",
       "[5 rows x 24 columns]"
      ]
     },
     "execution_count": 101,
     "metadata": {},
     "output_type": "execute_result"
    }
   ],
   "source": [
    "ft0 = pd.read_json(\"fuzzifiers0.json\")\n",
    "ft0"
   ]
  },
  {
   "cell_type": "markdown",
   "metadata": {},
   "source": [
    "### Introduciamo generator diversi"
   ]
  },
  {
   "cell_type": "code",
   "execution_count": 102,
   "metadata": {},
   "outputs": [],
   "source": [
    "sigma_space = [i for i in range (1,11)]\n",
    "\n",
    "params_grid_generator = {\n",
    "    'c': c_space,\n",
    "    'k': [GaussianKernel(sigma) for sigma in sigma_space] + [LinearKernel()] + [PolynomialKernel(d) for d in degrees] + \n",
    "         [HomogeneousPolynomialKernel(d) for d in degrees] + [HyperbolicKernel(1,o) for o in offsets] + [GaussianKernel(sigma) for sigma in sigmas],             \n",
    "    'sample_generator': [None, lambda x: -8+x*16, lambda x: -16+x*32]\n",
    "}\n",
    "l = 'Lesioni20Gen'"
   ]
  },
  {
   "cell_type": "code",
   "execution_count": 103,
   "metadata": {},
   "outputs": [],
   "source": [
    "#tgen = incidenti_fuzzifier_table(dataset,[columns_lesioni],fuzzifiers_class,FuzzyInductor,dataset_labels,params_grid_generator,3,3,logger=f_logger,dim_reduction=PCA(n_components=20),labels=[l])"
   ]
  },
  {
   "cell_type": "code",
   "execution_count": 104,
   "metadata": {},
   "outputs": [
    {
     "data": {
      "text/html": [
       "<div>\n",
       "<style scoped>\n",
       "    .dataframe tbody tr th:only-of-type {\n",
       "        vertical-align: middle;\n",
       "    }\n",
       "\n",
       "    .dataframe tbody tr th {\n",
       "        vertical-align: top;\n",
       "    }\n",
       "\n",
       "    .dataframe thead th {\n",
       "        text-align: right;\n",
       "    }\n",
       "</style>\n",
       "<table border=\"1\" class=\"dataframe\">\n",
       "  <thead>\n",
       "    <tr style=\"text-align: right;\">\n",
       "      <th></th>\n",
       "      <th>Lesioni20Gen</th>\n",
       "    </tr>\n",
       "  </thead>\n",
       "  <tbody>\n",
       "    <tr>\n",
       "      <th>QuantileConstantPiecewiseFuzzifier</th>\n",
       "      <td>-0.36</td>\n",
       "    </tr>\n",
       "    <tr>\n",
       "      <th>CrispFuzzifier</th>\n",
       "      <td>-0.43</td>\n",
       "    </tr>\n",
       "    <tr>\n",
       "      <th>ExponentialFuzzifier</th>\n",
       "      <td>-0.29</td>\n",
       "    </tr>\n",
       "    <tr>\n",
       "      <th>LinearFuzzifier</th>\n",
       "      <td>-0.29</td>\n",
       "    </tr>\n",
       "    <tr>\n",
       "      <th>QuantileLinearPiecewiseFuzzifier</th>\n",
       "      <td>-0.36</td>\n",
       "    </tr>\n",
       "  </tbody>\n",
       "</table>\n",
       "</div>"
      ],
      "text/plain": [
       "                                     Lesioni20Gen\n",
       " QuantileConstantPiecewiseFuzzifier         -0.36\n",
       "CrispFuzzifier                              -0.43\n",
       "ExponentialFuzzifier                        -0.29\n",
       "LinearFuzzifier                             -0.29\n",
       "QuantileLinearPiecewiseFuzzifier            -0.36"
      ]
     },
     "execution_count": 104,
     "metadata": {},
     "output_type": "execute_result"
    }
   ],
   "source": [
    "pd.read_json(\"sample_generators_example.json\")"
   ]
  },
  {
   "cell_type": "markdown",
   "metadata": {},
   "source": [
    "Generatore migliore è l'identità"
   ]
  },
  {
   "cell_type": "markdown",
   "metadata": {},
   "source": [
    "### MODEL SELECTION MIRATA"
   ]
  },
  {
   "cell_type": "code",
   "execution_count": 105,
   "metadata": {},
   "outputs": [],
   "source": [
    "ordini_grandezza=[.01,.1,1,10,100,1000]\n",
    "params_grid_ordini_grandezza = {\n",
    "    'c': ordini_grandezza,\n",
    "    'k': [GaussianKernel(sigma) for sigma in ordini_grandezza] + [LinearKernel()]\n",
    "}"
   ]
  },
  {
   "cell_type": "code",
   "execution_count": 106,
   "metadata": {},
   "outputs": [],
   "source": [
    "#l = 'Lesioni20OrdineGrandezza'\n",
    "#ftog = incidenti_fuzzifier_table(dataset,[columns_lesioni],fuzzifiers_class,FuzzyInductor,dataset_labels,params_grid_ordini_grandezza,3,3,logger=f_logger,dim_reduction=PCA(n_components=20),labels=[l])\n",
    "#ftog"
   ]
  },
  {
   "cell_type": "code",
   "execution_count": 107,
   "metadata": {},
   "outputs": [],
   "source": [
    "#l = 'Lesioni20OrdineGrandezza_0'\n",
    "#ftog0 = incidenti_fuzzifier_table(dataset,[columns_lesioni],fuzzifiers_class,FuzzyInductor,mu0,params_grid_ordini_grandezza,3,3,logger=f0_logger,dim_reduction=PCA(n_components=20),labels=[l])\n",
    "#ftog0"
   ]
  },
  {
   "cell_type": "markdown",
   "metadata": {},
   "source": [
    "#### Dai log apprendo che l'ordine di grandezza sia per c che per sigma è .1"
   ]
  },
  {
   "cell_type": "code",
   "execution_count": 108,
   "metadata": {},
   "outputs": [],
   "source": [
    "valori_mirati = np.arange(.1,1,.1)\n",
    "params_grid_mirata = {\n",
    "    'c': valori_mirati,\n",
    "    'k': [GaussianKernel(sigma) for sigma in valori_mirati] + [LinearKernel()]\n",
    "}"
   ]
  },
  {
   "cell_type": "code",
   "execution_count": 109,
   "metadata": {},
   "outputs": [],
   "source": [
    "#l = 'Lesioni20Grandezza.1'\n",
    "#ft01 = incidenti_fuzzifier_table(dataset,[columns_lesioni],fuzzifiers_class,FuzzyInductor,dataset_labels,params_grid_mirata,3,3,logger=f_logger,dim_reduction=PCA(n_components=20),labels=[l])\n",
    "#ft01"
   ]
  },
  {
   "cell_type": "code",
   "execution_count": 110,
   "metadata": {},
   "outputs": [],
   "source": [
    "#l = 'Lesioni20Grandezza.1_0'\n",
    "#ft01_0 = incidenti_fuzzifier_table(dataset,[columns_lesioni],fuzzifiers_class,FuzzyInductor,mu0,params_grid_mirata,3,3,logger=f0_logger,dim_reduction=PCA(n_components=20),labels=[l])\n",
    "#ft01_0"
   ]
  },
  {
   "cell_type": "markdown",
   "metadata": {},
   "source": [
    "#### Riconcentriamoci su totali distretti"
   ]
  },
  {
   "cell_type": "code",
   "execution_count": 133,
   "metadata": {},
   "outputs": [],
   "source": [
    "totali_distretti = ['Tot Testa','Tot Torace','Tot Addome','Tot Scheletro']\n",
    "X = dataset[totali_distretti].values\n",
    "y = dataset['Mezzo'].values"
   ]
  },
  {
   "cell_type": "code",
   "execution_count": 134,
   "metadata": {},
   "outputs": [],
   "source": [
    "ordini = [.001,.1,1,10,100,1000]\n",
    "pg_ordini = {\n",
    "    'c' : ordini,\n",
    "    'k' : [LinearKernel()]+\\\n",
    "        [GaussianKernel(sigma) for sigma in ordini]+\\\n",
    "        [HyperbolicKernel(1,offset) for offset in ordini]\n",
    "}"
   ]
  },
  {
   "cell_type": "code",
   "execution_count": 135,
   "metadata": {},
   "outputs": [],
   "source": [
    "l = 'TotaliDistretti_MSOrdini'\n",
    "ft = incidenti_fuzzifier_table(dataset,[totali_distretti],fuzzifiers_class,FuzzyInductor,\\\n",
    "                                dataset_labels,pg_ordini,3,3,logger=f_logger,\\\n",
    "                                file_json='fuzzifiers.json',labels=[l])\n",
    "ft.to_json('fuzzifiers.json')"
   ]
  },
  {
   "cell_type": "code",
   "execution_count": 136,
   "metadata": {},
   "outputs": [],
   "source": [
    "l= 'TotaliDistretti_MSOrdine_0'"
   ]
  },
  {
   "cell_type": "code",
   "execution_count": 137,
   "metadata": {},
   "outputs": [],
   "source": [
    "ftb0 = incidenti_fuzzifier_table(dataset,[totali_distretti],fuzzifiers_class,FuzzyInductor,mu0,pg_ordini,3,3,\\\n",
    "                                 logger=f0_logger,file_json='fuzzifiers0.json',labels=[l])\n",
    "ftb0.to_json('fuzzifiers0.json')"
   ]
  }
 ],
 "metadata": {
  "kernelspec": {
   "display_name": "Python 3",
   "language": "python",
   "name": "python3"
  },
  "language_info": {
   "codemirror_mode": {
    "name": "ipython",
    "version": 3
   },
   "file_extension": ".py",
   "mimetype": "text/x-python",
   "name": "python",
   "nbconvert_exporter": "python",
   "pygments_lexer": "ipython3",
   "version": "3.7.3"
  }
 },
 "nbformat": 4,
 "nbformat_minor": 2
}
