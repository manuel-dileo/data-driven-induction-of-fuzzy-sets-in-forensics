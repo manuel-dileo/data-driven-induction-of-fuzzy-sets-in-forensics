{
 "cells": [
  {
   "cell_type": "code",
   "execution_count": 2,
   "metadata": {},
   "outputs": [],
   "source": [
    "import pandas as pd\n",
    "import matplotlib.pyplot as plt\n",
    "pd.options.display.float_format = \"{:,.2f}\".format\n",
    "\n",
    "from experiments import *\n",
    "\n",
    "import sys\n",
    "\n",
    "sys.path.insert(1, '../fuzzylearn/')\n",
    "\n",
    "from fuzzylearn import *\n",
    "from fuzzylearn.fuzzifiers import LinearFuzzifier, CrispFuzzifier,ExponentialFuzzifier,QuantileLinearPiecewiseFuzzifier, QuantileConstantPiecewiseFuzzifier\n",
    "from fuzzylearn.kernel import GaussianKernel, LinearKernel, HyperbolicKernel, PolynomialKernel, HomogeneousPolynomialKernel\n",
    "from fuzzylearn import solve_optimization_gurobi\n",
    "\n",
    "from sklearn.preprocessing import StandardScaler, MinMaxScaler, MaxAbsScaler, QuantileTransformer, RobustScaler, PowerTransformer, Normalizer\n",
    "from sklearn.decomposition import PCA\n",
    "from sklearn.model_selection import GridSearchCV, cross_val_score\n",
    "\n",
    "dataset = pd.read_excel(\"dataset/IncidentiModificato.xlsx\")\n",
    "dataset = dataset.set_index(\"VERBALE\")"
   ]
  },
  {
   "cell_type": "code",
   "execution_count": 3,
   "metadata": {},
   "outputs": [
    {
     "data": {
      "text/html": [
       "<div>\n",
       "<style scoped>\n",
       "    .dataframe tbody tr th:only-of-type {\n",
       "        vertical-align: middle;\n",
       "    }\n",
       "\n",
       "    .dataframe tbody tr th {\n",
       "        vertical-align: top;\n",
       "    }\n",
       "\n",
       "    .dataframe thead th {\n",
       "        text-align: right;\n",
       "    }\n",
       "</style>\n",
       "<table border=\"1\" class=\"dataframe\">\n",
       "  <thead>\n",
       "    <tr style=\"text-align: right;\">\n",
       "      <th></th>\n",
       "      <th>DATA</th>\n",
       "      <th>SESSO</th>\n",
       "      <th>ANNI</th>\n",
       "      <th>PESO</th>\n",
       "      <th>ALTEZZA</th>\n",
       "      <th>BMI</th>\n",
       "      <th>Mezzo</th>\n",
       "      <th>Testa:Neurocranio</th>\n",
       "      <th>Testa:Splancnocranio</th>\n",
       "      <th>Testa:Telencefalo</th>\n",
       "      <th>...</th>\n",
       "      <th>Scheletro:Rachide-cervicale</th>\n",
       "      <th>Scheletro:Rachide-toracico</th>\n",
       "      <th>Scheletro:Rachide-lombare</th>\n",
       "      <th>Scheletro:Bacino-e-sacro</th>\n",
       "      <th>Scheletro:Complesso-sterno/claveo/costale</th>\n",
       "      <th>Tot Testa</th>\n",
       "      <th>Tot Torace</th>\n",
       "      <th>Tot Addome</th>\n",
       "      <th>Tot Scheletro</th>\n",
       "      <th>Totale</th>\n",
       "    </tr>\n",
       "    <tr>\n",
       "      <th>VERBALE</th>\n",
       "      <th></th>\n",
       "      <th></th>\n",
       "      <th></th>\n",
       "      <th></th>\n",
       "      <th></th>\n",
       "      <th></th>\n",
       "      <th></th>\n",
       "      <th></th>\n",
       "      <th></th>\n",
       "      <th></th>\n",
       "      <th></th>\n",
       "      <th></th>\n",
       "      <th></th>\n",
       "      <th></th>\n",
       "      <th></th>\n",
       "      <th></th>\n",
       "      <th></th>\n",
       "      <th></th>\n",
       "      <th></th>\n",
       "      <th></th>\n",
       "      <th></th>\n",
       "    </tr>\n",
       "  </thead>\n",
       "  <tbody>\n",
       "    <tr>\n",
       "      <th>85567</th>\n",
       "      <td>10893</td>\n",
       "      <td>0</td>\n",
       "      <td>81</td>\n",
       "      <td>84.00</td>\n",
       "      <td>1.75</td>\n",
       "      <td>27.43</td>\n",
       "      <td>0</td>\n",
       "      <td>1</td>\n",
       "      <td>0</td>\n",
       "      <td>0</td>\n",
       "      <td>...</td>\n",
       "      <td>0</td>\n",
       "      <td>3</td>\n",
       "      <td>0</td>\n",
       "      <td>3</td>\n",
       "      <td>3</td>\n",
       "      <td>2</td>\n",
       "      <td>0</td>\n",
       "      <td>3</td>\n",
       "      <td>9</td>\n",
       "      <td>14</td>\n",
       "    </tr>\n",
       "    <tr>\n",
       "      <th>85829</th>\n",
       "      <td>10970</td>\n",
       "      <td>1</td>\n",
       "      <td>69</td>\n",
       "      <td>69.00</td>\n",
       "      <td>1.62</td>\n",
       "      <td>26.29</td>\n",
       "      <td>1</td>\n",
       "      <td>4</td>\n",
       "      <td>4</td>\n",
       "      <td>4</td>\n",
       "      <td>...</td>\n",
       "      <td>0</td>\n",
       "      <td>0</td>\n",
       "      <td>0</td>\n",
       "      <td>0</td>\n",
       "      <td>4</td>\n",
       "      <td>20</td>\n",
       "      <td>7</td>\n",
       "      <td>1</td>\n",
       "      <td>4</td>\n",
       "      <td>32</td>\n",
       "    </tr>\n",
       "    <tr>\n",
       "      <th>85977</th>\n",
       "      <td>11026</td>\n",
       "      <td>1</td>\n",
       "      <td>71</td>\n",
       "      <td>67.00</td>\n",
       "      <td>1.55</td>\n",
       "      <td>27.89</td>\n",
       "      <td>1</td>\n",
       "      <td>2</td>\n",
       "      <td>0</td>\n",
       "      <td>1</td>\n",
       "      <td>...</td>\n",
       "      <td>0</td>\n",
       "      <td>0</td>\n",
       "      <td>0</td>\n",
       "      <td>0</td>\n",
       "      <td>4</td>\n",
       "      <td>6</td>\n",
       "      <td>0</td>\n",
       "      <td>0</td>\n",
       "      <td>4</td>\n",
       "      <td>10</td>\n",
       "    </tr>\n",
       "    <tr>\n",
       "      <th>86220</th>\n",
       "      <td>11122</td>\n",
       "      <td>1</td>\n",
       "      <td>54</td>\n",
       "      <td>60.00</td>\n",
       "      <td>1.59</td>\n",
       "      <td>23.73</td>\n",
       "      <td>1</td>\n",
       "      <td>4</td>\n",
       "      <td>0</td>\n",
       "      <td>0</td>\n",
       "      <td>...</td>\n",
       "      <td>0</td>\n",
       "      <td>0</td>\n",
       "      <td>0</td>\n",
       "      <td>0</td>\n",
       "      <td>4</td>\n",
       "      <td>5</td>\n",
       "      <td>3</td>\n",
       "      <td>2</td>\n",
       "      <td>4</td>\n",
       "      <td>14</td>\n",
       "    </tr>\n",
       "    <tr>\n",
       "      <th>86247</th>\n",
       "      <td>11130</td>\n",
       "      <td>1</td>\n",
       "      <td>78</td>\n",
       "      <td>69.00</td>\n",
       "      <td>1.67</td>\n",
       "      <td>24.74</td>\n",
       "      <td>1</td>\n",
       "      <td>2</td>\n",
       "      <td>0</td>\n",
       "      <td>0</td>\n",
       "      <td>...</td>\n",
       "      <td>0</td>\n",
       "      <td>0</td>\n",
       "      <td>0</td>\n",
       "      <td>0</td>\n",
       "      <td>4</td>\n",
       "      <td>2</td>\n",
       "      <td>0</td>\n",
       "      <td>2</td>\n",
       "      <td>4</td>\n",
       "      <td>8</td>\n",
       "    </tr>\n",
       "  </tbody>\n",
       "</table>\n",
       "<p>5 rows × 32 columns</p>\n",
       "</div>"
      ],
      "text/plain": [
       "          DATA  SESSO  ANNI  PESO  ALTEZZA   BMI  Mezzo  Testa:Neurocranio  \\\n",
       "VERBALE                                                                      \n",
       "85567    10893      0    81 84.00     1.75 27.43      0                  1   \n",
       "85829    10970      1    69 69.00     1.62 26.29      1                  4   \n",
       "85977    11026      1    71 67.00     1.55 27.89      1                  2   \n",
       "86220    11122      1    54 60.00     1.59 23.73      1                  4   \n",
       "86247    11130      1    78 69.00     1.67 24.74      1                  2   \n",
       "\n",
       "         Testa:Splancnocranio  Testa:Telencefalo  ...  \\\n",
       "VERBALE                                           ...   \n",
       "85567                       0                  0  ...   \n",
       "85829                       4                  4  ...   \n",
       "85977                       0                  1  ...   \n",
       "86220                       0                  0  ...   \n",
       "86247                       0                  0  ...   \n",
       "\n",
       "         Scheletro:Rachide-cervicale  Scheletro:Rachide-toracico  \\\n",
       "VERBALE                                                            \n",
       "85567                              0                           3   \n",
       "85829                              0                           0   \n",
       "85977                              0                           0   \n",
       "86220                              0                           0   \n",
       "86247                              0                           0   \n",
       "\n",
       "         Scheletro:Rachide-lombare  Scheletro:Bacino-e-sacro  \\\n",
       "VERBALE                                                        \n",
       "85567                            0                         3   \n",
       "85829                            0                         0   \n",
       "85977                            0                         0   \n",
       "86220                            0                         0   \n",
       "86247                            0                         0   \n",
       "\n",
       "         Scheletro:Complesso-sterno/claveo/costale  Tot Testa  Tot Torace  \\\n",
       "VERBALE                                                                     \n",
       "85567                                            3          2           0   \n",
       "85829                                            4         20           7   \n",
       "85977                                            4          6           0   \n",
       "86220                                            4          5           3   \n",
       "86247                                            4          2           0   \n",
       "\n",
       "         Tot Addome  Tot Scheletro  Totale  \n",
       "VERBALE                                     \n",
       "85567             3              9      14  \n",
       "85829             1              4      32  \n",
       "85977             0              4      10  \n",
       "86220             2              4      14  \n",
       "86247             2              4       8  \n",
       "\n",
       "[5 rows x 32 columns]"
      ]
     },
     "execution_count": 3,
     "metadata": {},
     "output_type": "execute_result"
    }
   ],
   "source": [
    "import datetime as dt\n",
    "\n",
    "dataset.DATA = dataset.DATA.apply(lambda d: (d - dt.datetime(1970,1,1)).days)\n",
    "\n",
    "dataset.head()"
   ]
  },
  {
   "cell_type": "code",
   "execution_count": 13,
   "metadata": {},
   "outputs": [],
   "source": [
    "import logging\n",
    "\n",
    "# create logger\n",
    "f_logger = logging.getLogger(__name__)\n",
    "f_logger.setLevel(logging.INFO)\n",
    "\n",
    "# create console handler and set level to debug\n",
    "file = logging.FileHandler('exp20.log')\n",
    "file.setLevel(logging.INFO)\n",
    "\n",
    "# create formatter\n",
    "formatter = logging.Formatter('%(asctime)s -%(message)s')\n",
    "\n",
    "# add formatter to ch\n",
    "file.setFormatter(formatter)\n",
    "\n",
    "# add ch to logger\n",
    "f_logger.addHandler(file)"
   ]
  },
  {
   "cell_type": "code",
   "execution_count": 21,
   "metadata": {},
   "outputs": [],
   "source": [
    "filejson = 'json_result/exp20.json'"
   ]
  },
  {
   "cell_type": "code",
   "execution_count": 5,
   "metadata": {},
   "outputs": [],
   "source": [
    "import json\n",
    "from experiments import *\n",
    "from defuzzification import *"
   ]
  },
  {
   "cell_type": "code",
   "execution_count": 19,
   "metadata": {},
   "outputs": [],
   "source": [
    "ordini = [.01,.1,1,10,100,1000]\n",
    "pg_ordini = {\n",
    "    'c': [.1],\n",
    "    'k': [GaussianKernel(sigma) for sigma in ordini] + [HyperbolicKernel(1,o) for o in ordini] +\n",
    "        [LinearKernel()]\n",
    "}"
   ]
  },
  {
   "cell_type": "code",
   "execution_count": 7,
   "metadata": {},
   "outputs": [],
   "source": [
    "# Totale, Totali, Lesioni5,10,15,20, Anagrafica+Lesioni"
   ]
  },
  {
   "cell_type": "code",
   "execution_count": 11,
   "metadata": {},
   "outputs": [],
   "source": [
    "y = dataset['Mezzo'].values"
   ]
  },
  {
   "cell_type": "markdown",
   "metadata": {},
   "source": [
    "Totale"
   ]
  },
  {
   "cell_type": "code",
   "execution_count": 17,
   "metadata": {},
   "outputs": [],
   "source": [
    "tot = ['Totale']\n",
    "tots = list(dataset.columns[-5:-1])\n",
    "col_exp = [tot,tots]\n",
    "labels = ['Totale','Totali']"
   ]
  },
  {
   "cell_type": "code",
   "execution_count": 10,
   "metadata": {},
   "outputs": [],
   "source": [
    "ft = incidenti_fuzzifier_table(dataset,col_exp,fuzzifiers_class,FuzzyInductor,y,\\\n",
    "                               pg_ordini, 3,3,logger=f_logger,scaling=StandardScaler(),labels=labels,\\\n",
    "                               file_json=filejson)"
   ]
  },
  {
   "cell_type": "code",
   "execution_count": 22,
   "metadata": {},
   "outputs": [],
   "source": [
    "mu0 = [1 if e==0 else 0 for e in y]\n",
    "labels0 = list(map(lambda x: x+\"_0\",labels))\n",
    "ft = incidenti_fuzzifier_table(dataset,col_exp,fuzzifiers_class,FuzzyInductor,mu0,\\\n",
    "                               pg_ordini, 3,3,logger=f_logger,scaling=StandardScaler(),labels=labels0,\\\n",
    "                               file_json=filejson)"
   ]
  },
  {
   "cell_type": "code",
   "execution_count": 12,
   "metadata": {},
   "outputs": [],
   "source": [
    "columns_lesioni = list(dataset.columns)[7:27]\n",
    "labels = ['lesioniPCA5','lesioniPCA10','lesioniPCA15','lesioniPCA20']"
   ]
  },
  {
   "cell_type": "code",
   "execution_count": 13,
   "metadata": {},
   "outputs": [],
   "source": [
    "for c,l in zip([5,10,15,20],labels):\n",
    "    ft = incidenti_fuzzifier_table(dataset,[columns_lesioni],fuzzifiers_class,FuzzyInductor,y,\\\n",
    "                               pg_ordini, 3,3,logger=f_logger,scaling=StandardScaler(),dim_reduction=PCA(n_components=c),\\\n",
    "                                labels=[l],file_json=filejson)"
   ]
  },
  {
   "cell_type": "code",
   "execution_count": 14,
   "metadata": {},
   "outputs": [],
   "source": [
    "labels0 = list(map(lambda x: x+\"_0\",labels))\n",
    "for c,l in zip([5,10],labels0[0:2]):\n",
    "    ft = incidenti_fuzzifier_table(dataset,[columns_lesioni],fuzzifiers_class,FuzzyInductor,mu0,\\\n",
    "                               pg_ordini, 3,3,logger=f_logger,scaling=StandardScaler(),dim_reduction=PCA(n_components=c),\\\n",
    "                                labels=[l],file_json=filejson)"
   ]
  },
  {
   "cell_type": "code",
   "execution_count": 15,
   "metadata": {},
   "outputs": [],
   "source": [
    "for c,l in zip([15,20],labels0[2:]):\n",
    "    ft = incidenti_fuzzifier_table(dataset,[columns_lesioni],fuzzifiers_class,FuzzyInductor,mu0,\\\n",
    "                               pg_ordini, 3,3,logger=f_logger,scaling=StandardScaler(),dim_reduction=PCA(n_components=c),\\\n",
    "                                labels=[l],file_json=filejson)"
   ]
  },
  {
   "cell_type": "markdown",
   "metadata": {},
   "source": [
    "Nuovi esperimenti peso, altezza, BMI"
   ]
  },
  {
   "cell_type": "code",
   "execution_count": 6,
   "metadata": {},
   "outputs": [],
   "source": [
    "offsets = list(range(0,6))\n",
    "sigmas = [.1,.255,.3,.4,.5,.6,.7,.8,.9]\n",
    "pg = {'c':[0.021544346900318846], \n",
    "      'k': [LinearKernel()] + [HyperbolicKernel(1,o) for o in offsets] + [GaussianKernel(sigma) for sigma in sigmas]\n",
    "     }"
   ]
  },
  {
   "cell_type": "code",
   "execution_count": 7,
   "metadata": {},
   "outputs": [],
   "source": [
    "columns_anagrafica = list(dataset.columns[1:5])\n",
    "columns_lesioni = list(dataset.columns[7:27])"
   ]
  },
  {
   "cell_type": "code",
   "execution_count": 8,
   "metadata": {},
   "outputs": [],
   "source": [
    "columns_peso = columns_lesioni + [col for col in columns_anagrafica if col != 'ALTEZZA']"
   ]
  },
  {
   "cell_type": "code",
   "execution_count": 14,
   "metadata": {},
   "outputs": [],
   "source": [
    "l='PesoLesioni20'\n",
    "dim_red = PCA(n_components=20)\n",
    "\n",
    "ftp = incidenti_fuzzifier_table(dataset,[columns_peso],fuzzifiers_class,FuzzyInductor,y,pg,3,3,\\\n",
    "                                logger=f_logger,dim_reduction=dim_red,file_json='fuzzifiers.json',labels=[l])"
   ]
  },
  {
   "cell_type": "code",
   "execution_count": 23,
   "metadata": {},
   "outputs": [],
   "source": [
    "l='PesoLesioni20_0'\n",
    "ftp0 = incidenti_fuzzifier_table(dataset,[columns_peso],fuzzifiers_class,FuzzyInductor,mu0,pg,3,3,logger=f_logger,\\\n",
    "                                 dim_reduction=dim_red,file_json='fuzzifiers0.json',labels=[l])"
   ]
  },
  {
   "cell_type": "code",
   "execution_count": 24,
   "metadata": {},
   "outputs": [],
   "source": [
    "columns_altezza = columns_lesioni + [col for col in columns_anagrafica if col != 'PESO']"
   ]
  },
  {
   "cell_type": "code",
   "execution_count": 25,
   "metadata": {},
   "outputs": [],
   "source": [
    "l='AltezzaLesioni20'\n",
    "dim_red = PCA(n_components=20)\n",
    "fta = incidenti_fuzzifier_table(dataset,[columns_altezza],fuzzifiers_class,FuzzyInductor,y,pg,3,3,\\\n",
    "                                logger=f_logger,dim_reduction=dim_red,file_json='fuzzifiers.json',labels=[l])"
   ]
  },
  {
   "cell_type": "code",
   "execution_count": 26,
   "metadata": {},
   "outputs": [],
   "source": [
    "l = 'AltezzaLesioni20_0'\n",
    "fta0 = incidenti_fuzzifier_table(dataset,[columns_altezza],fuzzifiers_class,FuzzyInductor,mu0,pg,3,3,\\\n",
    "                                 logger=f_logger,dim_reduction=dim_red,file_json='fuzzifiers0.json',labels=[l])"
   ]
  },
  {
   "cell_type": "code",
   "execution_count": 28,
   "metadata": {},
   "outputs": [],
   "source": [
    "BMI = ['BMI']\n",
    "columns_BMI = columns_lesioni + BMI + [col for col in columns_anagrafica if col!='PESO' and col!='ALTEZZA']"
   ]
  },
  {
   "cell_type": "code",
   "execution_count": 29,
   "metadata": {},
   "outputs": [],
   "source": [
    "l='BMILesioniNokgh20'\n",
    "dim_red = PCA(n_components=20)\n",
    "\n",
    "ftb = incidenti_fuzzifier_table(dataset,[columns_BMI],fuzzifiers_class,FuzzyInductor,mu0,pg,3,3,\\\n",
    "                                logger=f_logger,dim_reduction=dim_red,file_json='fuzzifiers.json',labels=[l])"
   ]
  },
  {
   "cell_type": "code",
   "execution_count": 31,
   "metadata": {},
   "outputs": [],
   "source": [
    "l = 'BMILesioniNokgh20_0'\n",
    "ftb0 = incidenti_fuzzifier_table(dataset,[columns_BMI],fuzzifiers_class,FuzzyInductor,mu0,pg,3,3,logger=f_logger,dim_reduction=dim_red,file_json='fuzzifiers0.json',labels=[l])"
   ]
  },
  {
   "cell_type": "code",
   "execution_count": 20,
   "metadata": {},
   "outputs": [
    {
     "name": "stderr",
     "output_type": "stream",
     "text": [
      "100%|██████████| 100/100 [00:50<00:00,  1.99it/s]\n",
      "100%|██████████| 100/100 [00:47<00:00,  2.11it/s]\n",
      "100%|██████████| 100/100 [00:31<00:00,  3.14it/s]\n",
      "100%|██████████| 100/100 [00:41<00:00,  2.38it/s]\n",
      "100%|██████████| 100/100 [00:44<00:00,  2.24it/s]\n",
      "100%|██████████| 100/100 [01:05<00:00,  1.52it/s]\n",
      "100%|██████████| 100/100 [00:51<00:00,  1.96it/s]\n",
      "100%|██████████| 100/100 [00:48<00:00,  2.07it/s]\n",
      "100%|██████████| 100/100 [00:27<00:00,  3.64it/s]\n",
      "100%|██████████| 100/100 [00:57<00:00,  1.73it/s]\n",
      "/home/manueldileo/anaconda3/lib/python3.7/site-packages/scipy/optimize/minpack.py:808: OptimizeWarning: Covariance of the parameters could not be estimated\n",
      "  category=OptimizeWarning)\n",
      "100%|██████████| 100/100 [00:33<00:00,  2.95it/s]\n",
      "/home/manueldileo/anaconda3/lib/python3.7/site-packages/scipy/optimize/minpack.py:808: OptimizeWarning: Covariance of the parameters could not be estimated\n",
      "  category=OptimizeWarning)\n",
      "100%|██████████| 100/100 [00:30<00:00,  3.33it/s]\n",
      "/home/manueldileo/anaconda3/lib/python3.7/site-packages/scipy/optimize/minpack.py:808: OptimizeWarning: Covariance of the parameters could not be estimated\n",
      "  category=OptimizeWarning)\n",
      "100%|██████████| 100/100 [00:26<00:00,  3.75it/s]\n",
      "/home/manueldileo/anaconda3/lib/python3.7/site-packages/scipy/optimize/minpack.py:808: OptimizeWarning: Covariance of the parameters could not be estimated\n",
      "  category=OptimizeWarning)\n",
      "100%|██████████| 100/100 [00:40<00:00,  2.47it/s]\n",
      "100%|██████████| 100/100 [00:31<00:00,  3.13it/s]\n",
      "100%|██████████| 100/100 [00:25<00:00,  3.93it/s]\n",
      "100%|██████████| 100/100 [00:43<00:00,  2.29it/s]\n",
      "100%|██████████| 100/100 [00:54<00:00,  1.85it/s]\n",
      "100%|██████████| 100/100 [00:38<00:00,  2.60it/s]\n",
      "100%|██████████| 100/100 [00:43<00:00,  2.28it/s]\n",
      "100%|██████████| 100/100 [00:44<00:00,  2.27it/s]\n"
     ]
    }
   ],
   "source": [
    "columns_anagrafica = list(dataset.columns[0:6])\n",
    "ph = ['PESO','ALTEZZA']\n",
    "columns = columns_lesioni + ph\n",
    "label = 'PesoAltezzaLesioni20_0'\n",
    "ft = incidenti_fuzzifier_table(dataset,[columns],fuzzifiers_class,FuzzyInductor,mu0,\\\n",
    "                               pg_ordini, 3,3,logger=f_logger,scaling=StandardScaler(),dim_reduction=PCA(n_components=20),\\\n",
    "                                labels=[label],file_json=filejson)"
   ]
  }
 ],
 "metadata": {
  "kernelspec": {
   "display_name": "Python 3",
   "language": "python",
   "name": "python3"
  },
  "language_info": {
   "codemirror_mode": {
    "name": "ipython",
    "version": 3
   },
   "file_extension": ".py",
   "mimetype": "text/x-python",
   "name": "python",
   "nbconvert_exporter": "python",
   "pygments_lexer": "ipython3",
   "version": "3.7.3"
  }
 },
 "nbformat": 4,
 "nbformat_minor": 4
}
