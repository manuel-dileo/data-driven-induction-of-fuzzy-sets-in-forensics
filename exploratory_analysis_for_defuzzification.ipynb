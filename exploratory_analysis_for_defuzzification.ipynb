{
 "cells": [
  {
   "cell_type": "code",
   "execution_count": 1,
   "metadata": {},
   "outputs": [],
   "source": [
    "import pandas as pd\n",
    "import matplotlib.pyplot as plt\n",
    "pd.options.display.float_format = \"{:,.2f}\".format\n",
    "\n",
    "from experiments import *\n",
    "\n",
    "import sys\n",
    "\n",
    "sys.path.insert(1, '../fuzzylearn/')\n",
    "\n",
    "from fuzzylearn import *\n",
    "from fuzzylearn.fuzzifiers import LinearFuzzifier, CrispFuzzifier,ExponentialFuzzifier,QuantileLinearPiecewiseFuzzifier, QuantileConstantPiecewiseFuzzifier\n",
    "from fuzzylearn.kernel import GaussianKernel, LinearKernel, HyperbolicKernel, PolynomialKernel, HomogeneousPolynomialKernel\n",
    "from fuzzylearn import solve_optimization_gurobi\n",
    "\n",
    "from sklearn.preprocessing import StandardScaler, MinMaxScaler, MaxAbsScaler, QuantileTransformer, RobustScaler, PowerTransformer, Normalizer\n",
    "from sklearn.decomposition import PCA\n",
    "from sklearn.model_selection import GridSearchCV, cross_val_score\n",
    "\n",
    "dataset = pd.read_excel(\"dataset/IncidentiModificato.xlsx\")\n",
    "dataset = dataset.set_index(\"VERBALE\")"
   ]
  },
  {
   "cell_type": "code",
   "execution_count": 2,
   "metadata": {},
   "outputs": [
    {
     "data": {
      "text/html": [
       "<div>\n",
       "<style scoped>\n",
       "    .dataframe tbody tr th:only-of-type {\n",
       "        vertical-align: middle;\n",
       "    }\n",
       "\n",
       "    .dataframe tbody tr th {\n",
       "        vertical-align: top;\n",
       "    }\n",
       "\n",
       "    .dataframe thead th {\n",
       "        text-align: right;\n",
       "    }\n",
       "</style>\n",
       "<table border=\"1\" class=\"dataframe\">\n",
       "  <thead>\n",
       "    <tr style=\"text-align: right;\">\n",
       "      <th></th>\n",
       "      <th>DATA</th>\n",
       "      <th>SESSO</th>\n",
       "      <th>ANNI</th>\n",
       "      <th>PESO</th>\n",
       "      <th>ALTEZZA</th>\n",
       "      <th>BMI</th>\n",
       "      <th>Mezzo</th>\n",
       "      <th>Testa:Neurocranio</th>\n",
       "      <th>Testa:Splancnocranio</th>\n",
       "      <th>Testa:Telencefalo</th>\n",
       "      <th>...</th>\n",
       "      <th>Scheletro:Rachide-cervicale</th>\n",
       "      <th>Scheletro:Rachide-toracico</th>\n",
       "      <th>Scheletro:Rachide-lombare</th>\n",
       "      <th>Scheletro:Bacino-e-sacro</th>\n",
       "      <th>Scheletro:Complesso-sterno/claveo/costale</th>\n",
       "      <th>Tot Testa</th>\n",
       "      <th>Tot Torace</th>\n",
       "      <th>Tot Addome</th>\n",
       "      <th>Tot Scheletro</th>\n",
       "      <th>Totale</th>\n",
       "    </tr>\n",
       "    <tr>\n",
       "      <th>VERBALE</th>\n",
       "      <th></th>\n",
       "      <th></th>\n",
       "      <th></th>\n",
       "      <th></th>\n",
       "      <th></th>\n",
       "      <th></th>\n",
       "      <th></th>\n",
       "      <th></th>\n",
       "      <th></th>\n",
       "      <th></th>\n",
       "      <th></th>\n",
       "      <th></th>\n",
       "      <th></th>\n",
       "      <th></th>\n",
       "      <th></th>\n",
       "      <th></th>\n",
       "      <th></th>\n",
       "      <th></th>\n",
       "      <th></th>\n",
       "      <th></th>\n",
       "      <th></th>\n",
       "    </tr>\n",
       "  </thead>\n",
       "  <tbody>\n",
       "    <tr>\n",
       "      <th>85567</th>\n",
       "      <td>10893</td>\n",
       "      <td>0</td>\n",
       "      <td>81</td>\n",
       "      <td>84.00</td>\n",
       "      <td>1.75</td>\n",
       "      <td>27.43</td>\n",
       "      <td>0</td>\n",
       "      <td>1</td>\n",
       "      <td>0</td>\n",
       "      <td>0</td>\n",
       "      <td>...</td>\n",
       "      <td>0</td>\n",
       "      <td>3</td>\n",
       "      <td>0</td>\n",
       "      <td>3</td>\n",
       "      <td>3</td>\n",
       "      <td>2</td>\n",
       "      <td>0</td>\n",
       "      <td>3</td>\n",
       "      <td>9</td>\n",
       "      <td>14</td>\n",
       "    </tr>\n",
       "    <tr>\n",
       "      <th>85829</th>\n",
       "      <td>10970</td>\n",
       "      <td>1</td>\n",
       "      <td>69</td>\n",
       "      <td>69.00</td>\n",
       "      <td>1.62</td>\n",
       "      <td>26.29</td>\n",
       "      <td>1</td>\n",
       "      <td>4</td>\n",
       "      <td>4</td>\n",
       "      <td>4</td>\n",
       "      <td>...</td>\n",
       "      <td>0</td>\n",
       "      <td>0</td>\n",
       "      <td>0</td>\n",
       "      <td>0</td>\n",
       "      <td>4</td>\n",
       "      <td>20</td>\n",
       "      <td>7</td>\n",
       "      <td>1</td>\n",
       "      <td>4</td>\n",
       "      <td>32</td>\n",
       "    </tr>\n",
       "    <tr>\n",
       "      <th>85977</th>\n",
       "      <td>11026</td>\n",
       "      <td>1</td>\n",
       "      <td>71</td>\n",
       "      <td>67.00</td>\n",
       "      <td>1.55</td>\n",
       "      <td>27.89</td>\n",
       "      <td>1</td>\n",
       "      <td>2</td>\n",
       "      <td>0</td>\n",
       "      <td>1</td>\n",
       "      <td>...</td>\n",
       "      <td>0</td>\n",
       "      <td>0</td>\n",
       "      <td>0</td>\n",
       "      <td>0</td>\n",
       "      <td>4</td>\n",
       "      <td>6</td>\n",
       "      <td>0</td>\n",
       "      <td>0</td>\n",
       "      <td>4</td>\n",
       "      <td>10</td>\n",
       "    </tr>\n",
       "    <tr>\n",
       "      <th>86220</th>\n",
       "      <td>11122</td>\n",
       "      <td>1</td>\n",
       "      <td>54</td>\n",
       "      <td>60.00</td>\n",
       "      <td>1.59</td>\n",
       "      <td>23.73</td>\n",
       "      <td>1</td>\n",
       "      <td>4</td>\n",
       "      <td>0</td>\n",
       "      <td>0</td>\n",
       "      <td>...</td>\n",
       "      <td>0</td>\n",
       "      <td>0</td>\n",
       "      <td>0</td>\n",
       "      <td>0</td>\n",
       "      <td>4</td>\n",
       "      <td>5</td>\n",
       "      <td>3</td>\n",
       "      <td>2</td>\n",
       "      <td>4</td>\n",
       "      <td>14</td>\n",
       "    </tr>\n",
       "    <tr>\n",
       "      <th>86247</th>\n",
       "      <td>11130</td>\n",
       "      <td>1</td>\n",
       "      <td>78</td>\n",
       "      <td>69.00</td>\n",
       "      <td>1.67</td>\n",
       "      <td>24.74</td>\n",
       "      <td>1</td>\n",
       "      <td>2</td>\n",
       "      <td>0</td>\n",
       "      <td>0</td>\n",
       "      <td>...</td>\n",
       "      <td>0</td>\n",
       "      <td>0</td>\n",
       "      <td>0</td>\n",
       "      <td>0</td>\n",
       "      <td>4</td>\n",
       "      <td>2</td>\n",
       "      <td>0</td>\n",
       "      <td>2</td>\n",
       "      <td>4</td>\n",
       "      <td>8</td>\n",
       "    </tr>\n",
       "  </tbody>\n",
       "</table>\n",
       "<p>5 rows × 32 columns</p>\n",
       "</div>"
      ],
      "text/plain": [
       "          DATA  SESSO  ANNI  PESO  ALTEZZA   BMI  Mezzo  Testa:Neurocranio  \\\n",
       "VERBALE                                                                      \n",
       "85567    10893      0    81 84.00     1.75 27.43      0                  1   \n",
       "85829    10970      1    69 69.00     1.62 26.29      1                  4   \n",
       "85977    11026      1    71 67.00     1.55 27.89      1                  2   \n",
       "86220    11122      1    54 60.00     1.59 23.73      1                  4   \n",
       "86247    11130      1    78 69.00     1.67 24.74      1                  2   \n",
       "\n",
       "         Testa:Splancnocranio  Testa:Telencefalo  ...  \\\n",
       "VERBALE                                           ...   \n",
       "85567                       0                  0  ...   \n",
       "85829                       4                  4  ...   \n",
       "85977                       0                  1  ...   \n",
       "86220                       0                  0  ...   \n",
       "86247                       0                  0  ...   \n",
       "\n",
       "         Scheletro:Rachide-cervicale  Scheletro:Rachide-toracico  \\\n",
       "VERBALE                                                            \n",
       "85567                              0                           3   \n",
       "85829                              0                           0   \n",
       "85977                              0                           0   \n",
       "86220                              0                           0   \n",
       "86247                              0                           0   \n",
       "\n",
       "         Scheletro:Rachide-lombare  Scheletro:Bacino-e-sacro  \\\n",
       "VERBALE                                                        \n",
       "85567                            0                         3   \n",
       "85829                            0                         0   \n",
       "85977                            0                         0   \n",
       "86220                            0                         0   \n",
       "86247                            0                         0   \n",
       "\n",
       "         Scheletro:Complesso-sterno/claveo/costale  Tot Testa  Tot Torace  \\\n",
       "VERBALE                                                                     \n",
       "85567                                            3          2           0   \n",
       "85829                                            4         20           7   \n",
       "85977                                            4          6           0   \n",
       "86220                                            4          5           3   \n",
       "86247                                            4          2           0   \n",
       "\n",
       "         Tot Addome  Tot Scheletro  Totale  \n",
       "VERBALE                                     \n",
       "85567             3              9      14  \n",
       "85829             1              4      32  \n",
       "85977             0              4      10  \n",
       "86220             2              4      14  \n",
       "86247             2              4       8  \n",
       "\n",
       "[5 rows x 32 columns]"
      ]
     },
     "execution_count": 2,
     "metadata": {},
     "output_type": "execute_result"
    }
   ],
   "source": [
    "import datetime as dt\n",
    "\n",
    "dataset.DATA = dataset.DATA.apply(lambda d: (d - dt.datetime(1970,1,1)).days)\n",
    "\n",
    "dataset.head()"
   ]
  },
  {
   "cell_type": "code",
   "execution_count": 3,
   "metadata": {},
   "outputs": [],
   "source": [
    "mu1 = dataset['Mezzo'].values\n",
    "mu0 = [0 if x else 1 for x in mu1]\n"
   ]
  },
  {
   "cell_type": "markdown",
   "metadata": {},
   "source": [
    "# Lesioni 20"
   ]
  },
  {
   "cell_type": "code",
   "execution_count": 4,
   "metadata": {},
   "outputs": [],
   "source": [
    "values = dataset[list(dataset.columns)[7:27]].values\n",
    "values_scal = StandardScaler().fit_transform(values)\n",
    "values_20d = PCA(n_components=20).fit_transform(values_scal)"
   ]
  },
  {
   "cell_type": "code",
   "execution_count": 5,
   "metadata": {},
   "outputs": [],
   "source": [
    "be1l = FuzzyInductor(fuzzifier=ExponentialFuzzifier,c=0.1,k=HyperbolicKernel(1, 0.01))\n",
    "be0l = FuzzyInductor(fuzzifier=LinearFuzzifier,c=0.1,k=LinearKernel())\n",
    "besl = [be1l,be0l]\n",
    "\n",
    "classes = (1,0)"
   ]
  },
  {
   "cell_type": "code",
   "execution_count": 6,
   "metadata": {},
   "outputs": [],
   "source": [
    "def to_membership_values(labels, target):\n",
    "    return [1 if l==target else 0 for l in labels]"
   ]
  },
  {
   "cell_type": "code",
   "execution_count": 7,
   "metadata": {},
   "outputs": [],
   "source": [
    "def get_estimated_membership(bes,classes,data_index,data_values,data_labels):\n",
    "    n = len(data_values)\n",
    "\n",
    "    permuted_indices = np.random.permutation(n)\n",
    "    train_indices = permuted_indices[:int(n*0.7)]\n",
    "    test_indices = permuted_indices[int(n*0.7):]\n",
    "    \n",
    "    train_values = [data_values[i] for i in train_indices]\n",
    "    \n",
    "    test_values = [data_values[i] for i in test_indices]\n",
    "    \n",
    "    train_values_arr = np.asarray(train_values)\n",
    "    \n",
    "    mu = {} \n",
    "    mu_train = {}\n",
    "    mu_test = {}\n",
    "    \n",
    "    for target in classes:\n",
    "            mu[target] = to_membership_values(data_labels, target)\n",
    "            mu_train[target] = [mu[target][i] for i in train_indices]\n",
    "            mu_test[target] = [mu[target][i] for i in test_indices]\n",
    "            \n",
    "    labels_train = [data_labels[i] for i in train_indices]\n",
    "    labels_test = [data_labels[i] for i in test_indices]\n",
    "        \n",
    "    est_mu = {}\n",
    "        \n",
    "    targets = classes\n",
    "        \n",
    "    for target,be in zip(targets,bes):\n",
    "        be.fit(train_values_arr, mu_train[target], n_jobs=-1)\n",
    "        est_mu[target] = be.estimated_membership_\n",
    "\n",
    "        if len(est_mu.values()) < len(classes):\n",
    "            continue # at least one class not inferred\n",
    "    \"\"\"    \n",
    "    #print(est_mu)\n",
    "    \n",
    "    index_train = [data_index[i] for i in train_indices]\n",
    "    index_test = [data_index[i] for i in test_indices]\n",
    "    \n",
    "    results_train = list(zip(index_train,\\\n",
    "                             map(lambda x:x,train_values),\\\n",
    "                             map(lambda x : est_mu[0](x),train_values),\\\n",
    "                             map(lambda x: est_mu[1](x),train_values)))\n",
    "    \n",
    "    results_test = list(zip(index_test,\\\n",
    "                             map(lambda x:x,test_values),\\\n",
    "                             map(lambda x : est_mu[0](x),test_values),\\\n",
    "                             map(lambda x: est_mu[1](x),test_values)))\n",
    "    \n",
    "    return results_train, results_test\n",
    "    \"\"\"\n",
    "    return est_mu"
   ]
  },
  {
   "cell_type": "code",
   "execution_count": 8,
   "metadata": {},
   "outputs": [
    {
     "name": "stderr",
     "output_type": "stream",
     "text": [
      "100%|██████████| 100/100 [00:23<00:00,  4.25it/s]\n",
      "100%|██████████| 100/100 [00:23<00:00,  4.29it/s]\n"
     ]
    }
   ],
   "source": [
    "est_mul = get_estimated_membership(besl,classes,dataset.index,values_20d,mu1)"
   ]
  },
  {
   "cell_type": "code",
   "execution_count": 9,
   "metadata": {},
   "outputs": [],
   "source": [
    "Xl = values_20d\n",
    "y1l = [est_mul[1](item) for item in Xl]\n",
    "y0l = [est_mul[0](item) for item in Xl]"
   ]
  },
  {
   "cell_type": "code",
   "execution_count": 23,
   "metadata": {},
   "outputs": [
    {
     "data": {
      "image/png": "[encoded data removed]",
      "text/plain": [
       "<Figure size 432x288 with 1 Axes>"
      ]
     },
     "metadata": {
      "needs_background": "light"
     },
     "output_type": "display_data"
    }
   ],
   "source": [
    "pd.Series(y0l).plot.hist(bins=np.arange(0,1.1,0.1))\n",
    "plt.savefig('lesioni0-membership-hist.pdf')"
   ]
  },
  {
   "cell_type": "code",
   "execution_count": 24,
   "metadata": {},
   "outputs": [
    {
     "data": {
      "image/png": "[encoded data removed]",
      "text/plain": [
       "<Figure size 432x288 with 1 Axes>"
      ]
     },
     "metadata": {
      "needs_background": "light"
     },
     "output_type": "display_data"
    }
   ],
   "source": [
    "pd.Series(y1l).plot.hist(bins=np.arange(0,1.1,0.1))\n",
    "plt.savefig('lesioni1-membership-hist.pdf')"
   ]
  },
  {
   "cell_type": "code",
   "execution_count": 36,
   "metadata": {},
   "outputs": [
    {
     "data": {
      "text/plain": [
       "<matplotlib.collections.PathCollection at 0x7fbfa8773cf8>"
      ]
     },
     "execution_count": 36,
     "metadata": {},
     "output_type": "execute_result"
    },
    {
     "data": {
      "image/png": "[encoded data removed]",
      "text/plain": [
       "<Figure size 432x288 with 1 Axes>"
      ]
     },
     "metadata": {
      "needs_background": "light"
     },
     "output_type": "display_data"
    }
   ],
   "source": [
    "plt.scatter(y0l,y1l,c=['red' if m else 'blue' for m in mezzo])\n",
    "#plt.savefig('lesioni-membership-scatter.pdf')"
   ]
  },
  {
   "cell_type": "code",
   "execution_count": 13,
   "metadata": {},
   "outputs": [
    {
     "data": {
      "text/html": [
       "<div>\n",
       "<style scoped>\n",
       "    .dataframe tbody tr th:only-of-type {\n",
       "        vertical-align: middle;\n",
       "    }\n",
       "\n",
       "    .dataframe tbody tr th {\n",
       "        vertical-align: top;\n",
       "    }\n",
       "\n",
       "    .dataframe thead th {\n",
       "        text-align: right;\n",
       "    }\n",
       "</style>\n",
       "<table border=\"1\" class=\"dataframe\">\n",
       "  <thead>\n",
       "    <tr style=\"text-align: right;\">\n",
       "      <th>col_0</th>\n",
       "      <th>[0.3, 0.4)</th>\n",
       "      <th>[0.4, 0.5)</th>\n",
       "      <th>[0.5, 0.6)</th>\n",
       "      <th>[0.6, 0.7)</th>\n",
       "    </tr>\n",
       "    <tr>\n",
       "      <th>row_0</th>\n",
       "      <th></th>\n",
       "      <th></th>\n",
       "      <th></th>\n",
       "      <th></th>\n",
       "    </tr>\n",
       "  </thead>\n",
       "  <tbody>\n",
       "    <tr>\n",
       "      <th>[0.0, 0.1)</th>\n",
       "      <td>2</td>\n",
       "      <td>15</td>\n",
       "      <td>6</td>\n",
       "      <td>1</td>\n",
       "    </tr>\n",
       "    <tr>\n",
       "      <th>[0.1, 0.2)</th>\n",
       "      <td>0</td>\n",
       "      <td>1</td>\n",
       "      <td>0</td>\n",
       "      <td>0</td>\n",
       "    </tr>\n",
       "    <tr>\n",
       "      <th>[0.2, 0.3)</th>\n",
       "      <td>0</td>\n",
       "      <td>3</td>\n",
       "      <td>3</td>\n",
       "      <td>0</td>\n",
       "    </tr>\n",
       "    <tr>\n",
       "      <th>[0.3, 0.4)</th>\n",
       "      <td>2</td>\n",
       "      <td>0</td>\n",
       "      <td>1</td>\n",
       "      <td>0</td>\n",
       "    </tr>\n",
       "    <tr>\n",
       "      <th>[0.4, 0.5)</th>\n",
       "      <td>0</td>\n",
       "      <td>9</td>\n",
       "      <td>0</td>\n",
       "      <td>0</td>\n",
       "    </tr>\n",
       "    <tr>\n",
       "      <th>[0.5, 0.6)</th>\n",
       "      <td>1</td>\n",
       "      <td>8</td>\n",
       "      <td>3</td>\n",
       "      <td>0</td>\n",
       "    </tr>\n",
       "    <tr>\n",
       "      <th>[0.6, 0.7)</th>\n",
       "      <td>1</td>\n",
       "      <td>7</td>\n",
       "      <td>3</td>\n",
       "      <td>1</td>\n",
       "    </tr>\n",
       "    <tr>\n",
       "      <th>[0.7, 0.8)</th>\n",
       "      <td>3</td>\n",
       "      <td>17</td>\n",
       "      <td>9</td>\n",
       "      <td>1</td>\n",
       "    </tr>\n",
       "    <tr>\n",
       "      <th>[0.8, 0.9)</th>\n",
       "      <td>0</td>\n",
       "      <td>10</td>\n",
       "      <td>22</td>\n",
       "      <td>1</td>\n",
       "    </tr>\n",
       "  </tbody>\n",
       "</table>\n",
       "</div>"
      ],
      "text/plain": [
       "col_0       [0.3, 0.4)  [0.4, 0.5)  [0.5, 0.6)  [0.6, 0.7)\n",
       "row_0                                                     \n",
       "[0.0, 0.1)           2          15           6           1\n",
       "[0.1, 0.2)           0           1           0           0\n",
       "[0.2, 0.3)           0           3           3           0\n",
       "[0.3, 0.4)           2           0           1           0\n",
       "[0.4, 0.5)           0           9           0           0\n",
       "[0.5, 0.6)           1           8           3           0\n",
       "[0.6, 0.7)           1           7           3           1\n",
       "[0.7, 0.8)           3          17           9           1\n",
       "[0.8, 0.9)           0          10          22           1"
      ]
     },
     "execution_count": 13,
     "metadata": {},
     "output_type": "execute_result"
    }
   ],
   "source": [
    "pd.crosstab(index=pd.cut(pd.Series(y0l), bins=np.arange(0,1.1,0.1), right=False),\n",
    "            columns=pd.cut(pd.Series(y1l), bins=np.arange(0,1.1,0.1), right=False))"
   ]
  },
  {
   "cell_type": "code",
   "execution_count": 58,
   "metadata": {},
   "outputs": [
    {
     "name": "stdout",
     "output_type": "stream",
     "text": [
      "\\begin{tabular}{lrrrr}\n",
      "\\toprule\n",
      "{} &  [0.3,0.4) &  [0.4,0.5) &  [0.5,0.6) &  [0.6,0.7) \\\\\n",
      "\\midrule\n",
      "[0.0,0.1) &          2 &         15 &          6 &          1 \\\\\n",
      "[0.1,0.2) &          0 &          1 &          0 &          0 \\\\\n",
      "[0.2,0.3) &          0 &          3 &          3 &          0 \\\\\n",
      "[0.3,0.4) &          2 &          0 &          1 &          0 \\\\\n",
      "[0.4,0.5) &          0 &          9 &          0 &          0 \\\\\n",
      "[0.5,0.6) &          1 &          8 &          3 &          0 \\\\\n",
      "[0.6,0.7) &          1 &          7 &          3 &          1 \\\\\n",
      "[0.7,0.8) &          3 &         17 &          9 &          1 \\\\\n",
      "[0.8,0.9) &          0 &         10 &         22 &          1 \\\\\n",
      "\\bottomrule\n",
      "\\end{tabular}\n",
      "\n"
     ]
    }
   ],
   "source": [
    "aux = pd.DataFrame(index=['[0.0,0.1)','[0.1,0.2)','[0.2,0.3)','[0.3,0.4)','[0.4,0.5)','[0.5,0.6)','[0.6,0.7)',\\\n",
    "                    '[0.7,0.8)','[0.8,0.9)'])\n",
    "columns = ['[0.3,0.4)','[0.4,0.5)','[0.5,0.6)','[0.6,0.7)']\n",
    "\n",
    "aux[columns[0]] = [2,0,0,2,0,1,1,3,0]\n",
    "aux[columns[1]] = [15,1,3,0,9,8,7,17,10]\n",
    "aux[columns[2]] = [6,0,3,1,0,3,3,9,22]\n",
    "aux[columns[3]] = [1,0,0,0,0,0,1,1,1]\n",
    "\n",
    "print(aux.to_latex())"
   ]
  },
  {
   "cell_type": "markdown",
   "metadata": {},
   "source": [
    "# DFPCA2Lesioni"
   ]
  },
  {
   "cell_type": "code",
   "execution_count": 14,
   "metadata": {},
   "outputs": [
    {
     "data": {
      "text/html": [
       "<div>\n",
       "<style scoped>\n",
       "    .dataframe tbody tr th:only-of-type {\n",
       "        vertical-align: middle;\n",
       "    }\n",
       "\n",
       "    .dataframe tbody tr th {\n",
       "        vertical-align: top;\n",
       "    }\n",
       "\n",
       "    .dataframe thead th {\n",
       "        text-align: right;\n",
       "    }\n",
       "</style>\n",
       "<table border=\"1\" class=\"dataframe\">\n",
       "  <thead>\n",
       "    <tr style=\"text-align: right;\">\n",
       "      <th></th>\n",
       "      <th>SESSO</th>\n",
       "      <th>ANNI</th>\n",
       "      <th>PESO</th>\n",
       "      <th>ALTEZZA</th>\n",
       "      <th>BMI</th>\n",
       "      <th>Testa</th>\n",
       "      <th>Testa2</th>\n",
       "      <th>Torace</th>\n",
       "      <th>Torace2</th>\n",
       "      <th>Addome</th>\n",
       "      <th>Addome2</th>\n",
       "      <th>Scheletro</th>\n",
       "      <th>Scheletro2</th>\n",
       "    </tr>\n",
       "    <tr>\n",
       "      <th>VERBALE</th>\n",
       "      <th></th>\n",
       "      <th></th>\n",
       "      <th></th>\n",
       "      <th></th>\n",
       "      <th></th>\n",
       "      <th></th>\n",
       "      <th></th>\n",
       "      <th></th>\n",
       "      <th></th>\n",
       "      <th></th>\n",
       "      <th></th>\n",
       "      <th></th>\n",
       "      <th></th>\n",
       "    </tr>\n",
       "  </thead>\n",
       "  <tbody>\n",
       "    <tr>\n",
       "      <th>101618</th>\n",
       "      <td>1</td>\n",
       "      <td>82</td>\n",
       "      <td>80.20</td>\n",
       "      <td>1.62</td>\n",
       "      <td>30.56</td>\n",
       "      <td>-1.64</td>\n",
       "      <td>-0.01</td>\n",
       "      <td>-0.92</td>\n",
       "      <td>0.18</td>\n",
       "      <td>-1.29</td>\n",
       "      <td>0.14</td>\n",
       "      <td>-3.13</td>\n",
       "      <td>0.75</td>\n",
       "    </tr>\n",
       "    <tr>\n",
       "      <th>101288E</th>\n",
       "      <td>1</td>\n",
       "      <td>70</td>\n",
       "      <td>75.60</td>\n",
       "      <td>1.57</td>\n",
       "      <td>30.67</td>\n",
       "      <td>-1.11</td>\n",
       "      <td>0.37</td>\n",
       "      <td>-1.50</td>\n",
       "      <td>-0.37</td>\n",
       "      <td>-1.29</td>\n",
       "      <td>0.14</td>\n",
       "      <td>-1.02</td>\n",
       "      <td>-1.19</td>\n",
       "    </tr>\n",
       "    <tr>\n",
       "      <th>E-97586</th>\n",
       "      <td>0</td>\n",
       "      <td>45</td>\n",
       "      <td>45.00</td>\n",
       "      <td>1.77</td>\n",
       "      <td>14.36</td>\n",
       "      <td>-2.17</td>\n",
       "      <td>-0.39</td>\n",
       "      <td>-0.91</td>\n",
       "      <td>0.19</td>\n",
       "      <td>-1.29</td>\n",
       "      <td>0.14</td>\n",
       "      <td>1.65</td>\n",
       "      <td>1.02</td>\n",
       "    </tr>\n",
       "    <tr>\n",
       "      <th>X</th>\n",
       "      <td>0</td>\n",
       "      <td>54</td>\n",
       "      <td>89.60</td>\n",
       "      <td>1.68</td>\n",
       "      <td>31.75</td>\n",
       "      <td>-1.38</td>\n",
       "      <td>-0.88</td>\n",
       "      <td>-0.60</td>\n",
       "      <td>0.57</td>\n",
       "      <td>-0.15</td>\n",
       "      <td>-0.35</td>\n",
       "      <td>0.66</td>\n",
       "      <td>-0.41</td>\n",
       "    </tr>\n",
       "    <tr>\n",
       "      <th>X1</th>\n",
       "      <td>1</td>\n",
       "      <td>86</td>\n",
       "      <td>50.00</td>\n",
       "      <td>1.55</td>\n",
       "      <td>20.81</td>\n",
       "      <td>-0.90</td>\n",
       "      <td>-0.95</td>\n",
       "      <td>-0.60</td>\n",
       "      <td>0.57</td>\n",
       "      <td>1.03</td>\n",
       "      <td>-1.68</td>\n",
       "      <td>1.65</td>\n",
       "      <td>0.44</td>\n",
       "    </tr>\n",
       "  </tbody>\n",
       "</table>\n",
       "</div>"
      ],
      "text/plain": [
       "         SESSO  ANNI  PESO  ALTEZZA   BMI  Testa  Testa2  Torace  Torace2  \\\n",
       "VERBALE                                                                     \n",
       "101618       1    82 80.20     1.62 30.56  -1.64   -0.01   -0.92     0.18   \n",
       "101288E      1    70 75.60     1.57 30.67  -1.11    0.37   -1.50    -0.37   \n",
       "E-97586      0    45 45.00     1.77 14.36  -2.17   -0.39   -0.91     0.19   \n",
       "X            0    54 89.60     1.68 31.75  -1.38   -0.88   -0.60     0.57   \n",
       "X1           1    86 50.00     1.55 20.81  -0.90   -0.95   -0.60     0.57   \n",
       "\n",
       "         Addome  Addome2  Scheletro  Scheletro2  \n",
       "VERBALE                                          \n",
       "101618    -1.29     0.14      -3.13        0.75  \n",
       "101288E   -1.29     0.14      -1.02       -1.19  \n",
       "E-97586   -1.29     0.14       1.65        1.02  \n",
       "X         -0.15    -0.35       0.66       -0.41  \n",
       "X1         1.03    -1.68       1.65        0.44  "
      ]
     },
     "execution_count": 14,
     "metadata": {},
     "output_type": "execute_result"
    }
   ],
   "source": [
    "anagrafica = dataset[list(dataset.columns)[1:6]]\n",
    "lesioni = dataset[list(dataset.columns)[7:27]]\n",
    "\n",
    "labels_zone = ['Testa','Torace','Addome','Scheletro']\n",
    "labels_zone2 = list(zip(['Testa','Torace','Addome','Scheletro'],list(map(lambda x: x+\"2\",labels_zone))))\n",
    "\n",
    "df_compresso2 = anagrafica.copy()\n",
    "for i,l in zip(range(0,len(lesioni.columns),5),labels_zone2): \n",
    "    l1,l2 = l\n",
    "    zona = lesioni[list(lesioni.columns)[i:(i+5)]]\n",
    "    component = PCA(n_components=2).fit_transform(zona.values)\n",
    "    component_to_values1 = [v[0] for v in component]\n",
    "    serie = pd.Series(component_to_values1,index=zona.index)\n",
    "    df_compresso2[l1] = serie\n",
    "    component_to_values2 = [v[1] for v in component]\n",
    "    serie = pd.Series(component_to_values2,index=zona.index)\n",
    "    df_compresso2[l2] = serie\n",
    "df_compresso2.tail()"
   ]
  },
  {
   "cell_type": "code",
   "execution_count": 15,
   "metadata": {},
   "outputs": [],
   "source": [
    "columns_lesioni2 = list(df_compresso2.columns)[5:]\n",
    "\n",
    "values_pca = df_compresso2[columns_lesioni2].values\n",
    "values_scal_pca = StandardScaler().fit_transform(values)\n",
    "values_fpca = values_scal_pca"
   ]
  },
  {
   "cell_type": "code",
   "execution_count": 16,
   "metadata": {},
   "outputs": [],
   "source": [
    "be1p = FuzzyInductor(fuzzifier=ExponentialFuzzifier,c=0.1,k=HyperbolicKernel(1,0.01))\n",
    "be0p = FuzzyInductor(fuzzifier=LinearFuzzifier,c=0.1,k=HyperbolicKernel(1,0.01))\n",
    "besp = [be1p,be0p]\n",
    "\n",
    "classes = (1,0)"
   ]
  },
  {
   "cell_type": "code",
   "execution_count": 17,
   "metadata": {},
   "outputs": [
    {
     "name": "stderr",
     "output_type": "stream",
     "text": [
      "100%|██████████| 100/100 [00:23<00:00,  4.29it/s]\n",
      "100%|██████████| 100/100 [00:23<00:00,  4.33it/s]\n"
     ]
    }
   ],
   "source": [
    "est_mup = get_estimated_membership(besp,classes,df_compresso2.index,values_fpca,mu1)"
   ]
  },
  {
   "cell_type": "code",
   "execution_count": 18,
   "metadata": {},
   "outputs": [],
   "source": [
    "Xp = values_fpca\n",
    "y1p = [est_mup[1](item) for item in Xp]\n",
    "y0p = [est_mup[0](item) for item in Xp]"
   ]
  },
  {
   "cell_type": "code",
   "execution_count": 26,
   "metadata": {},
   "outputs": [
    {
     "data": {
      "image/png": "[encoded data removed]",
      "text/plain": [
       "<Figure size 432x288 with 1 Axes>"
      ]
     },
     "metadata": {
      "needs_background": "light"
     },
     "output_type": "display_data"
    }
   ],
   "source": [
    "pd.Series(y0p).plot.hist(bins=np.arange(0,1.1,0.1))\n",
    "plt.savefig('dfpca0-membership-hist.pdf')"
   ]
  },
  {
   "cell_type": "code",
   "execution_count": 27,
   "metadata": {},
   "outputs": [
    {
     "data": {
      "image/png": "[encoded data removed]",
      "text/plain": [
       "<Figure size 432x288 with 1 Axes>"
      ]
     },
     "metadata": {
      "needs_background": "light"
     },
     "output_type": "display_data"
    }
   ],
   "source": [
    "pd.Series(y1p).plot.hist(bins=np.arange(0,1.1,0.1))\n",
    "plt.savefig('dfpca1-membership-hist.pdf')"
   ]
  },
  {
   "cell_type": "code",
   "execution_count": 34,
   "metadata": {},
   "outputs": [],
   "source": [
    "mezzo = dataset['Mezzo'].values"
   ]
  },
  {
   "cell_type": "code",
   "execution_count": 37,
   "metadata": {},
   "outputs": [
    {
     "data": {
      "image/png": "[encoded data removed]",
      "text/plain": [
       "<Figure size 432x288 with 1 Axes>"
      ]
     },
     "metadata": {
      "needs_background": "light"
     },
     "output_type": "display_data"
    }
   ],
   "source": [
    "plt.scatter(y0p,y1p,c=['red' if m else 'blue' for m in mezzo])\n",
    "plt.savefig('dfpca-membership-scatter-alpha.pdf')"
   ]
  },
  {
   "cell_type": "code",
   "execution_count": 22,
   "metadata": {},
   "outputs": [
    {
     "data": {
      "text/html": [
       "<div>\n",
       "<style scoped>\n",
       "    .dataframe tbody tr th:only-of-type {\n",
       "        vertical-align: middle;\n",
       "    }\n",
       "\n",
       "    .dataframe tbody tr th {\n",
       "        vertical-align: top;\n",
       "    }\n",
       "\n",
       "    .dataframe thead th {\n",
       "        text-align: right;\n",
       "    }\n",
       "</style>\n",
       "<table border=\"1\" class=\"dataframe\">\n",
       "  <thead>\n",
       "    <tr style=\"text-align: right;\">\n",
       "      <th>col_0</th>\n",
       "      <th>[0.2, 0.3)</th>\n",
       "      <th>[0.3, 0.4)</th>\n",
       "      <th>[0.4, 0.5)</th>\n",
       "      <th>[0.5, 0.6)</th>\n",
       "      <th>[0.6, 0.7)</th>\n",
       "    </tr>\n",
       "    <tr>\n",
       "      <th>row_0</th>\n",
       "      <th></th>\n",
       "      <th></th>\n",
       "      <th></th>\n",
       "      <th></th>\n",
       "      <th></th>\n",
       "    </tr>\n",
       "  </thead>\n",
       "  <tbody>\n",
       "    <tr>\n",
       "      <th>[0.1, 0.2)</th>\n",
       "      <td>0</td>\n",
       "      <td>0</td>\n",
       "      <td>1</td>\n",
       "      <td>0</td>\n",
       "      <td>0</td>\n",
       "    </tr>\n",
       "    <tr>\n",
       "      <th>[0.2, 0.3)</th>\n",
       "      <td>0</td>\n",
       "      <td>5</td>\n",
       "      <td>4</td>\n",
       "      <td>2</td>\n",
       "      <td>0</td>\n",
       "    </tr>\n",
       "    <tr>\n",
       "      <th>[0.3, 0.4)</th>\n",
       "      <td>1</td>\n",
       "      <td>1</td>\n",
       "      <td>4</td>\n",
       "      <td>9</td>\n",
       "      <td>1</td>\n",
       "    </tr>\n",
       "    <tr>\n",
       "      <th>[0.4, 0.5)</th>\n",
       "      <td>2</td>\n",
       "      <td>9</td>\n",
       "      <td>8</td>\n",
       "      <td>8</td>\n",
       "      <td>0</td>\n",
       "    </tr>\n",
       "    <tr>\n",
       "      <th>[0.5, 0.6)</th>\n",
       "      <td>1</td>\n",
       "      <td>4</td>\n",
       "      <td>7</td>\n",
       "      <td>6</td>\n",
       "      <td>0</td>\n",
       "    </tr>\n",
       "    <tr>\n",
       "      <th>[0.6, 0.7)</th>\n",
       "      <td>2</td>\n",
       "      <td>8</td>\n",
       "      <td>10</td>\n",
       "      <td>8</td>\n",
       "      <td>0</td>\n",
       "    </tr>\n",
       "    <tr>\n",
       "      <th>[0.7, 0.8)</th>\n",
       "      <td>0</td>\n",
       "      <td>9</td>\n",
       "      <td>15</td>\n",
       "      <td>5</td>\n",
       "      <td>0</td>\n",
       "    </tr>\n",
       "  </tbody>\n",
       "</table>\n",
       "</div>"
      ],
      "text/plain": [
       "col_0       [0.2, 0.3)  [0.3, 0.4)  [0.4, 0.5)  [0.5, 0.6)  [0.6, 0.7)\n",
       "row_0                                                                 \n",
       "[0.1, 0.2)           0           0           1           0           0\n",
       "[0.2, 0.3)           0           5           4           2           0\n",
       "[0.3, 0.4)           1           1           4           9           1\n",
       "[0.4, 0.5)           2           9           8           8           0\n",
       "[0.5, 0.6)           1           4           7           6           0\n",
       "[0.6, 0.7)           2           8          10           8           0\n",
       "[0.7, 0.8)           0           9          15           5           0"
      ]
     },
     "execution_count": 22,
     "metadata": {},
     "output_type": "execute_result"
    }
   ],
   "source": [
    "pd.crosstab(index=pd.cut(pd.Series(y0p), bins=np.arange(0,1.1,0.1), right=False),\n",
    "            columns=pd.cut(pd.Series(y1p), bins=np.arange(0,1.1,0.1), right=False))"
   ]
  }
 ],
 "metadata": {
  "kernelspec": {
   "display_name": "Python 3",
   "language": "python",
   "name": "python3"
  },
  "language_info": {
   "codemirror_mode": {
    "name": "ipython",
    "version": 3
   },
   "file_extension": ".py",
   "mimetype": "text/x-python",
   "name": "python",
   "nbconvert_exporter": "python",
   "pygments_lexer": "ipython3",
   "version": "3.7.3"
  }
 },
 "nbformat": 4,
 "nbformat_minor": 4
}
