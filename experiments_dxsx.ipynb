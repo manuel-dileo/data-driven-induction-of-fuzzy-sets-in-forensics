{
 "cells": [
  {
   "cell_type": "code",
   "execution_count": 1,
   "metadata": {},
   "outputs": [
    {
     "name": "stderr",
     "output_type": "stream",
     "text": [
      "/home/manueldileo/anaconda3/lib/python3.7/site-packages/umap/spectral.py:4: NumbaDeprecationWarning: \u001b[1mNo direct replacement for 'numba.targets' available. Visit https://gitter.im/numba/numba-dev to request help. Thanks!\u001b[0m\n",
      "  import numba.targets\n"
     ]
    }
   ],
   "source": [
    "import pandas as pd\n",
    "import matplotlib.pyplot as plt\n",
    "import json\n",
    "pd.options.display.float_format = \"{:,.2f}\".format\n",
    "\n",
    "from experiments import *\n",
    "from defuzzification import *\n",
    "\n",
    "import sys\n",
    "\n",
    "sys.path.insert(1, '../fuzzylearn/')\n",
    "\n",
    "from fuzzylearn import *\n",
    "from fuzzylearn.fuzzifiers import LinearFuzzifier, CrispFuzzifier,ExponentialFuzzifier,QuantileLinearPiecewiseFuzzifier, QuantileConstantPiecewiseFuzzifier\n",
    "from fuzzylearn.kernel import GaussianKernel, LinearKernel, HyperbolicKernel, PolynomialKernel, HomogeneousPolynomialKernel\n",
    "from fuzzylearn import solve_optimization_gurobi\n",
    "\n",
    "from sklearn.preprocessing import StandardScaler, MinMaxScaler, MaxAbsScaler, QuantileTransformer, RobustScaler, PowerTransformer, Normalizer\n",
    "from sklearn.decomposition import PCA\n",
    "from sklearn.manifold import TSNE\n",
    "from umap import UMAP\n",
    "from sklearn.model_selection import GridSearchCV, cross_val_score\n",
    "\n",
    "import datetime as dt"
   ]
  },
  {
   "cell_type": "code",
   "execution_count": 2,
   "metadata": {},
   "outputs": [],
   "source": [
    "import logging\n",
    "\n",
    "# create logger\n",
    "f_logger = logging.getLogger(__name__)\n",
    "f_logger.setLevel(logging.INFO)\n",
    "\n",
    "# create console handler and set level to debug\n",
    "file = logging.FileHandler('esperimenti_dxsx.log')\n",
    "file.setLevel(logging.INFO)\n",
    "\n",
    "# create formatter\n",
    "formatter = logging.Formatter('%(asctime)s -%(message)s')\n",
    "\n",
    "# add formatter to ch\n",
    "file.setFormatter(formatter)\n",
    "\n",
    "# add ch to logger\n",
    "f_logger.addHandler(file)\n",
    "\n",
    "filejson = 'json_result/exp_dxsxunique.json'"
   ]
  },
  {
   "cell_type": "code",
   "execution_count": 3,
   "metadata": {},
   "outputs": [
    {
     "data": {
      "text/html": [
       "<div>\n",
       "<style scoped>\n",
       "    .dataframe tbody tr th:only-of-type {\n",
       "        vertical-align: middle;\n",
       "    }\n",
       "\n",
       "    .dataframe tbody tr th {\n",
       "        vertical-align: top;\n",
       "    }\n",
       "\n",
       "    .dataframe thead th {\n",
       "        text-align: right;\n",
       "    }\n",
       "</style>\n",
       "<table border=\"1\" class=\"dataframe\">\n",
       "  <thead>\n",
       "    <tr style=\"text-align: right;\">\n",
       "      <th></th>\n",
       "      <th>DATA</th>\n",
       "      <th>SESSO</th>\n",
       "      <th>ANNI</th>\n",
       "      <th>PESO</th>\n",
       "      <th>ALTEZZA</th>\n",
       "      <th>BMI</th>\n",
       "      <th>Mezzo</th>\n",
       "      <th>Testa:Neurocranio</th>\n",
       "      <th>Testa:Splancnocranio</th>\n",
       "      <th>Testa:Telencefalo</th>\n",
       "      <th>...</th>\n",
       "      <th>II raggio sx.1</th>\n",
       "      <th>III raggio sx.1</th>\n",
       "      <th>IV raggio sx.1</th>\n",
       "      <th>V raggio sx.1</th>\n",
       "      <th>Art. coxo-femorale dx</th>\n",
       "      <th>Art. coxo-femorale sx</th>\n",
       "      <th>Rotula o Ginocchio dx</th>\n",
       "      <th>Rotula o Ginocchio sx</th>\n",
       "      <th>Caviglia dx</th>\n",
       "      <th>Caviglia sx</th>\n",
       "    </tr>\n",
       "    <tr>\n",
       "      <th>VERBALE</th>\n",
       "      <th></th>\n",
       "      <th></th>\n",
       "      <th></th>\n",
       "      <th></th>\n",
       "      <th></th>\n",
       "      <th></th>\n",
       "      <th></th>\n",
       "      <th></th>\n",
       "      <th></th>\n",
       "      <th></th>\n",
       "      <th></th>\n",
       "      <th></th>\n",
       "      <th></th>\n",
       "      <th></th>\n",
       "      <th></th>\n",
       "      <th></th>\n",
       "      <th></th>\n",
       "      <th></th>\n",
       "      <th></th>\n",
       "      <th></th>\n",
       "      <th></th>\n",
       "    </tr>\n",
       "  </thead>\n",
       "  <tbody>\n",
       "    <tr>\n",
       "      <th>85567</th>\n",
       "      <td>10893</td>\n",
       "      <td>0</td>\n",
       "      <td>81</td>\n",
       "      <td>84.00</td>\n",
       "      <td>1.75</td>\n",
       "      <td>27.43</td>\n",
       "      <td>0</td>\n",
       "      <td>1</td>\n",
       "      <td>0</td>\n",
       "      <td>0</td>\n",
       "      <td>...</td>\n",
       "      <td>0</td>\n",
       "      <td>0</td>\n",
       "      <td>0</td>\n",
       "      <td>0</td>\n",
       "      <td>0</td>\n",
       "      <td>0</td>\n",
       "      <td>0</td>\n",
       "      <td>0</td>\n",
       "      <td>0</td>\n",
       "      <td>0</td>\n",
       "    </tr>\n",
       "    <tr>\n",
       "      <th>85829</th>\n",
       "      <td>10970</td>\n",
       "      <td>1</td>\n",
       "      <td>69</td>\n",
       "      <td>69.00</td>\n",
       "      <td>1.62</td>\n",
       "      <td>26.29</td>\n",
       "      <td>1</td>\n",
       "      <td>4</td>\n",
       "      <td>4</td>\n",
       "      <td>4</td>\n",
       "      <td>...</td>\n",
       "      <td>0</td>\n",
       "      <td>0</td>\n",
       "      <td>0</td>\n",
       "      <td>0</td>\n",
       "      <td>0</td>\n",
       "      <td>0</td>\n",
       "      <td>0</td>\n",
       "      <td>0</td>\n",
       "      <td>0</td>\n",
       "      <td>0</td>\n",
       "    </tr>\n",
       "    <tr>\n",
       "      <th>85977</th>\n",
       "      <td>11026</td>\n",
       "      <td>1</td>\n",
       "      <td>71</td>\n",
       "      <td>67.00</td>\n",
       "      <td>1.55</td>\n",
       "      <td>27.89</td>\n",
       "      <td>1</td>\n",
       "      <td>2</td>\n",
       "      <td>0</td>\n",
       "      <td>1</td>\n",
       "      <td>...</td>\n",
       "      <td>0</td>\n",
       "      <td>0</td>\n",
       "      <td>0</td>\n",
       "      <td>0</td>\n",
       "      <td>0</td>\n",
       "      <td>0</td>\n",
       "      <td>0</td>\n",
       "      <td>0</td>\n",
       "      <td>0</td>\n",
       "      <td>0</td>\n",
       "    </tr>\n",
       "    <tr>\n",
       "      <th>86220</th>\n",
       "      <td>11122</td>\n",
       "      <td>1</td>\n",
       "      <td>54</td>\n",
       "      <td>60.00</td>\n",
       "      <td>1.59</td>\n",
       "      <td>23.73</td>\n",
       "      <td>1</td>\n",
       "      <td>4</td>\n",
       "      <td>0</td>\n",
       "      <td>0</td>\n",
       "      <td>...</td>\n",
       "      <td>0</td>\n",
       "      <td>0</td>\n",
       "      <td>0</td>\n",
       "      <td>0</td>\n",
       "      <td>0</td>\n",
       "      <td>0</td>\n",
       "      <td>0</td>\n",
       "      <td>0</td>\n",
       "      <td>0</td>\n",
       "      <td>0</td>\n",
       "    </tr>\n",
       "    <tr>\n",
       "      <th>86247</th>\n",
       "      <td>11130</td>\n",
       "      <td>1</td>\n",
       "      <td>78</td>\n",
       "      <td>69.00</td>\n",
       "      <td>1.67</td>\n",
       "      <td>24.74</td>\n",
       "      <td>1</td>\n",
       "      <td>2</td>\n",
       "      <td>0</td>\n",
       "      <td>0</td>\n",
       "      <td>...</td>\n",
       "      <td>0</td>\n",
       "      <td>0</td>\n",
       "      <td>0</td>\n",
       "      <td>0</td>\n",
       "      <td>0</td>\n",
       "      <td>0</td>\n",
       "      <td>0</td>\n",
       "      <td>0</td>\n",
       "      <td>0</td>\n",
       "      <td>0</td>\n",
       "    </tr>\n",
       "  </tbody>\n",
       "</table>\n",
       "<p>5 rows × 366 columns</p>\n",
       "</div>"
      ],
      "text/plain": [
       "          DATA  SESSO  ANNI  PESO  ALTEZZA   BMI  Mezzo  Testa:Neurocranio  \\\n",
       "VERBALE                                                                      \n",
       "85567    10893      0    81 84.00     1.75 27.43      0                  1   \n",
       "85829    10970      1    69 69.00     1.62 26.29      1                  4   \n",
       "85977    11026      1    71 67.00     1.55 27.89      1                  2   \n",
       "86220    11122      1    54 60.00     1.59 23.73      1                  4   \n",
       "86247    11130      1    78 69.00     1.67 24.74      1                  2   \n",
       "\n",
       "         Testa:Splancnocranio  Testa:Telencefalo  ...  II raggio sx.1  \\\n",
       "VERBALE                                           ...                   \n",
       "85567                       0                  0  ...               0   \n",
       "85829                       4                  4  ...               0   \n",
       "85977                       0                  1  ...               0   \n",
       "86220                       0                  0  ...               0   \n",
       "86247                       0                  0  ...               0   \n",
       "\n",
       "         III raggio sx.1  IV raggio sx.1  V raggio sx.1  \\\n",
       "VERBALE                                                   \n",
       "85567                  0               0              0   \n",
       "85829                  0               0              0   \n",
       "85977                  0               0              0   \n",
       "86220                  0               0              0   \n",
       "86247                  0               0              0   \n",
       "\n",
       "         Art. coxo-femorale dx  Art. coxo-femorale sx  Rotula o Ginocchio dx  \\\n",
       "VERBALE                                                                        \n",
       "85567                        0                      0                      0   \n",
       "85829                        0                      0                      0   \n",
       "85977                        0                      0                      0   \n",
       "86220                        0                      0                      0   \n",
       "86247                        0                      0                      0   \n",
       "\n",
       "         Rotula o Ginocchio sx  Caviglia dx  Caviglia sx  \n",
       "VERBALE                                                   \n",
       "85567                        0            0            0  \n",
       "85829                        0            0            0  \n",
       "85977                        0            0            0  \n",
       "86220                        0            0            0  \n",
       "86247                        0            0            0  \n",
       "\n",
       "[5 rows x 366 columns]"
      ]
     },
     "execution_count": 3,
     "metadata": {},
     "output_type": "execute_result"
    }
   ],
   "source": [
    "dataset = pd.read_excel(\"dataset/DATABASE_UNITO_modificato.xlsx\")\n",
    "dataset = dataset.set_index(\"VERBALE\")\n",
    "dataset.DATA = dataset.DATA.apply(lambda d: (d - dt.datetime(1970,1,1)).days)\n",
    "dataset.head()"
   ]
  },
  {
   "cell_type": "code",
   "execution_count": 4,
   "metadata": {},
   "outputs": [],
   "source": [
    "mu1 = dataset['Mezzo']\n",
    "mu0 = [0 if mu else 1 for mu in mu1]\n",
    "\n",
    "ordini = [.01,.1,1,10,100]\n",
    "\n",
    "param_grid = {\n",
    "    'c' : ordini,\n",
    "    'k' : [LinearKernel()] + [HyperbolicKernel(1,o) for o in ordini] + [GaussianKernel(s) for s in ordini]\n",
    "}"
   ]
  },
  {
   "cell_type": "markdown",
   "metadata": {},
   "source": [
    "# Suddivisione feature"
   ]
  },
  {
   "cell_type": "code",
   "execution_count": 5,
   "metadata": {},
   "outputs": [],
   "source": [
    "anagrafica = list(dataset.columns)[:6]\n",
    "\n",
    "featuresx = [f for f in list(dataset.columns) if 'sx' in f]\n",
    "featuredx = [f for f in list(dataset.columns) if 'dx' in f]\n",
    "\n",
    "totali = [f for f in list(dataset.columns) if 'tot' in f.lower() and f != 'Totale']\n",
    "\n",
    "featureuq = [f for f in list(dataset.columns)\\\n",
    "                  if f not in featuresx \\\n",
    "                  and f not in featuredx \\\n",
    "                 and f not in anagrafica \\\n",
    "                 and f not in totali \\\n",
    "                 and f != 'Mezzo']"
   ]
  },
  {
   "cell_type": "markdown",
   "metadata": {},
   "source": [
    "### Alcuni Controlli"
   ]
  },
  {
   "cell_type": "code",
   "execution_count": 6,
   "metadata": {},
   "outputs": [
    {
     "data": {
      "text/plain": [
       "True"
      ]
     },
     "execution_count": 6,
     "metadata": {},
     "output_type": "execute_result"
    }
   ],
   "source": [
    "len(featuresx) == len(featuredx)"
   ]
  },
  {
   "cell_type": "code",
   "execution_count": 7,
   "metadata": {},
   "outputs": [
    {
     "data": {
      "text/plain": [
       "True"
      ]
     },
     "execution_count": 7,
     "metadata": {},
     "output_type": "execute_result"
    }
   ],
   "source": [
    "len(anagrafica) + len(featuresx) + len(featuredx) + len(totali) + len(featureuq) == len(dataset.columns)-1"
   ]
  },
  {
   "cell_type": "markdown",
   "metadata": {},
   "source": [
    "### Feature selection anagrafica"
   ]
  },
  {
   "cell_type": "code",
   "execution_count": 8,
   "metadata": {},
   "outputs": [],
   "source": [
    "anagsel = [f for f in anagrafica if f != 'DATA' and f != 'BMI']"
   ]
  },
  {
   "cell_type": "markdown",
   "metadata": {},
   "source": [
    "# Esperimenti"
   ]
  },
  {
   "cell_type": "markdown",
   "metadata": {},
   "source": [
    "### Totali"
   ]
  },
  {
   "cell_type": "markdown",
   "metadata": {},
   "source": [
    "totali semplici"
   ]
  },
  {
   "cell_type": "code",
   "execution_count": 9,
   "metadata": {},
   "outputs": [],
   "source": [
    "l = 'Totali'\n",
    "ftp = incidenti_fuzzifier_table(dataset,[totali],fuzzifiers_class,FuzzyInductor,\\\n",
    "                                mu1,param_grid,3,3,logger=f_logger,\\\n",
    "                                dim_reduction=None,scaling=StandardScaler(),\\\n",
    "                                file_json=filejson,labels=[l])\n",
    "ftp.to_json(filejson)"
   ]
  },
  {
   "cell_type": "markdown",
   "metadata": {},
   "source": [
    "totali PCA"
   ]
  },
  {
   "cell_type": "code",
   "execution_count": 10,
   "metadata": {},
   "outputs": [],
   "source": [
    "lab = ['TotaliPCA5','TotaliPCA10','TotaliPCA15']\n",
    "for c,l in zip([5,10,15],lab):\n",
    "    dim_red = PCA(n_components=c)\n",
    "    ftp = incidenti_fuzzifier_table(dataset,[totali],fuzzifiers_class,FuzzyInductor,\\\n",
    "                                mu1,param_grid,3,3,logger=f_logger,\\\n",
    "                                dim_reduction=dim_red,scaling=StandardScaler(),\\\n",
    "                                file_json=filejson,labels=[l])\n",
    "    ftp.to_json(filejson)"
   ]
  },
  {
   "cell_type": "markdown",
   "metadata": {},
   "source": [
    "totali + anagrafica"
   ]
  },
  {
   "cell_type": "code",
   "execution_count": 11,
   "metadata": {},
   "outputs": [],
   "source": [
    "l = 'TotaliAnagrafica'\n",
    "totanag = anagsel + totali\n",
    "ftp = incidenti_fuzzifier_table(dataset,[totanag],fuzzifiers_class,FuzzyInductor,\\\n",
    "                                mu1,param_grid,3,3,logger=f_logger,\\\n",
    "                                dim_reduction=None,scaling=StandardScaler(),\\\n",
    "                                file_json=filejson,labels=[l])"
   ]
  },
  {
   "cell_type": "markdown",
   "metadata": {},
   "source": [
    "Insieme fuzzy mezzo leggero"
   ]
  },
  {
   "cell_type": "code",
   "execution_count": 12,
   "metadata": {},
   "outputs": [],
   "source": [
    "l = 'TotaliAnagrafica_0'\n",
    "ftp = incidenti_fuzzifier_table(dataset,[totanag],fuzzifiers_class,FuzzyInductor,\\\n",
    "                                mu0,param_grid,3,3,logger=f_logger,\\\n",
    "                                dim_reduction=None,scaling=StandardScaler(),\\\n",
    "                                file_json=filejson,labels=[l])"
   ]
  },
  {
   "cell_type": "markdown",
   "metadata": {},
   "source": [
    "## Feature uniche"
   ]
  },
  {
   "cell_type": "markdown",
   "metadata": {},
   "source": [
    "semplici"
   ]
  },
  {
   "cell_type": "code",
   "execution_count": 13,
   "metadata": {},
   "outputs": [],
   "source": [
    "l = 'Uniche_0'\n",
    "ftp = incidenti_fuzzifier_table(dataset,[featureuq],fuzzifiers_class,FuzzyInductor,\\\n",
    "                                mu0,param_grid,3,3,logger=f_logger,\\\n",
    "                                dim_reduction=None,scaling=StandardScaler(),\\\n",
    "                                file_json=filejson,labels=[l])"
   ]
  },
  {
   "cell_type": "markdown",
   "metadata": {},
   "source": [
    "PCA"
   ]
  },
  {
   "cell_type": "code",
   "execution_count": 14,
   "metadata": {},
   "outputs": [],
   "source": [
    "labelsPCA = ['UnichePCA10_0','UnichePCA30_0','UnichePCA50_0']\n",
    "for c,l in zip([10,30,50],labelsPCA):\n",
    "    dim_red = PCA(n_components=c)\n",
    "    ftp = incidenti_fuzzifier_table(dataset,[featureuq],fuzzifiers_class,FuzzyInductor,\\\n",
    "                                mu0,param_grid,3,3,logger=f_logger,\\\n",
    "                                dim_reduction=dim_red,scaling=StandardScaler(),\\\n",
    "                                file_json=filejson,labels=[l])"
   ]
  },
  {
   "cell_type": "markdown",
   "metadata": {},
   "source": [
    "anagrafica"
   ]
  },
  {
   "cell_type": "code",
   "execution_count": 15,
   "metadata": {},
   "outputs": [],
   "source": [
    "l = 'UnicheAnagrafica_0'\n",
    "uqanag = anagsel + featureuq\n",
    "ftp = incidenti_fuzzifier_table(dataset,[uqanag],fuzzifiers_class,FuzzyInductor,\\\n",
    "                                mu0,param_grid,3,3,logger=f_logger,\\\n",
    "                                dim_reduction=None,scaling=StandardScaler(),\\\n",
    "                                file_json=filejson,labels=[l])"
   ]
  },
  {
   "cell_type": "markdown",
   "metadata": {},
   "source": [
    "## dx"
   ]
  },
  {
   "cell_type": "code",
   "execution_count": 16,
   "metadata": {},
   "outputs": [],
   "source": [
    "coste = [f for f in featuredx if 'costa' in f]\n",
    "cranio = [f for f in featuredx if 'cranica' in f or 'Splancnoc' in f]\n",
    "lin = [f for f in featuredx if 'Linea' in f]\n",
    "linee = lin[0:7]\n",
    "metacarpo = [f for f in featuredx if 'metacarpo' in f]\n",
    "rag = [f for f in featuredx if 'raggio' in f]\n",
    "raggio = rag[0:5]\n",
    "metatarso = [f for f in featuredx if 'metatarso' in f]\n",
    "uniquedx = [f for f in featuredx \n",
    "            if f not in coste \n",
    "            and f not in cranio\n",
    "           and f not in lin\n",
    "           and f not in metacarpo\n",
    "           and f not in rag\n",
    "           and f not in metatarso]"
   ]
  },
  {
   "cell_type": "code",
   "execution_count": 17,
   "metadata": {},
   "outputs": [
    {
     "data": {
      "text/plain": [
       "True"
      ]
     },
     "execution_count": 17,
     "metadata": {},
     "output_type": "execute_result"
    }
   ],
   "source": [
    "len(featuredx) \\\n",
    "== \\\n",
    "(len(coste) + len(cranio) + len(lin) + len(metacarpo) + len(rag) + len(metatarso) + len(uniquedx))"
   ]
  },
  {
   "cell_type": "markdown",
   "metadata": {},
   "source": [
    "Nessuno ha subito danni al metatarso"
   ]
  },
  {
   "cell_type": "code",
   "execution_count": 18,
   "metadata": {},
   "outputs": [],
   "source": [
    "from functools import reduce,partial"
   ]
  },
  {
   "cell_type": "code",
   "execution_count": 19,
   "metadata": {},
   "outputs": [
    {
     "name": "stderr",
     "output_type": "stream",
     "text": [
      "/home/manueldileo/anaconda3/lib/python3.7/site-packages/ipykernel_launcher.py:4: SettingWithCopyWarning: \n",
      "A value is trying to be set on a copy of a slice from a DataFrame.\n",
      "Try using .loc[row_indexer,col_indexer] = value instead\n",
      "\n",
      "See the caveats in the documentation: https://pandas.pydata.org/pandas-docs/stable/user_guide/indexing.html#returning-a-view-versus-a-copy\n",
      "  after removing the cwd from sys.path.\n"
     ]
    }
   ],
   "source": [
    "dfdx = dataset[uniquedx]\n",
    "for columns,label in zip([coste,cranio,linee,metacarpo,raggio],['Coste','Cranio','Linee','Metacarpo','Raggio']):\n",
    "    values = list(map(lambda l: reduce(lambda x,y : x+y,l),dataset[columns].values.tolist()))\n",
    "    dfdx[label] = values"
   ]
  },
  {
   "cell_type": "markdown",
   "metadata": {},
   "source": [
    "semplici"
   ]
  },
  {
   "cell_type": "code",
   "execution_count": 20,
   "metadata": {},
   "outputs": [],
   "source": [
    "l = 'Dx_0'\n",
    "ftp = incidenti_fuzzifier_table(dfdx,[list(dfdx.columns)],fuzzifiers_class,FuzzyInductor,\\\n",
    "                                mu0,param_grid,3,3,logger=f_logger,\\\n",
    "                                dim_reduction=None,scaling=StandardScaler(),\\\n",
    "                                file_json=filejson,labels=[l])"
   ]
  },
  {
   "cell_type": "markdown",
   "metadata": {},
   "source": [
    "PCA"
   ]
  },
  {
   "cell_type": "code",
   "execution_count": 21,
   "metadata": {},
   "outputs": [],
   "source": [
    "dxPCA = ['DxPCA5_0','DxPCA15_0','DxPCA25_0']\n",
    "for c,l in zip([5,15,25],dxPCA):\n",
    "    dim_red = PCA(n_components=c)\n",
    "    ftp = incidenti_fuzzifier_table(dfdx,[list(dfdx.columns)],fuzzifiers_class,FuzzyInductor,\\\n",
    "                                mu0,param_grid,3,3,logger=f_logger,\\\n",
    "                                dim_reduction=dim_red,scaling=StandardScaler(),\\\n",
    "                                file_json=filejson,labels=[l])"
   ]
  },
  {
   "cell_type": "markdown",
   "metadata": {},
   "source": [
    "anagrafica"
   ]
  },
  {
   "cell_type": "code",
   "execution_count": 22,
   "metadata": {},
   "outputs": [],
   "source": [
    "dfdxanag = dataset[anagsel].join(dfdx)\n",
    "\n",
    "l = 'DxAnagrafica_0'\n",
    "ftp = incidenti_fuzzifier_table(dfdxanag,[list(dfdxanag.columns)],fuzzifiers_class,FuzzyInductor,\\\n",
    "                                mu0,param_grid,3,3,logger=f_logger,\\\n",
    "                                dim_reduction=None,scaling=StandardScaler(),\\\n",
    "                                file_json=filejson,labels=[l])"
   ]
  },
  {
   "cell_type": "markdown",
   "metadata": {},
   "source": [
    "## sx"
   ]
  },
  {
   "cell_type": "code",
   "execution_count": 23,
   "metadata": {},
   "outputs": [],
   "source": [
    "coste = [f for f in featuresx if 'costa' in f]\n",
    "cranio = [f for f in featuresx if 'cranica' in f or 'Splancnoc' in f]\n",
    "lin = [f for f in featuresx if 'Linea' in f]\n",
    "linee = lin[0:7]\n",
    "metacarpo = [f for f in featuresx if 'metacarpo' in f]\n",
    "rag = [f for f in featuresx if 'raggio' in f]\n",
    "raggio = rag[0:5]\n",
    "metatarso = [f for f in featuresx if 'metatarso' in f]\n",
    "uniquesx = [f for f in featuresx \n",
    "            if f not in coste \n",
    "            and f not in cranio\n",
    "           and f not in lin\n",
    "           and f not in metacarpo\n",
    "           and f not in rag\n",
    "           and f not in metatarso]"
   ]
  },
  {
   "cell_type": "code",
   "execution_count": 24,
   "metadata": {},
   "outputs": [
    {
     "data": {
      "text/plain": [
       "True"
      ]
     },
     "execution_count": 24,
     "metadata": {},
     "output_type": "execute_result"
    }
   ],
   "source": [
    "len(featuresx) \\\n",
    "== \\\n",
    "(len(coste) + len(cranio) + len(lin) + len(metacarpo) + len(rag) + len(metatarso) + len(uniquesx))"
   ]
  },
  {
   "cell_type": "code",
   "execution_count": 25,
   "metadata": {},
   "outputs": [
    {
     "name": "stderr",
     "output_type": "stream",
     "text": [
      "/home/manueldileo/anaconda3/lib/python3.7/site-packages/ipykernel_launcher.py:4: SettingWithCopyWarning: \n",
      "A value is trying to be set on a copy of a slice from a DataFrame.\n",
      "Try using .loc[row_indexer,col_indexer] = value instead\n",
      "\n",
      "See the caveats in the documentation: https://pandas.pydata.org/pandas-docs/stable/user_guide/indexing.html#returning-a-view-versus-a-copy\n",
      "  after removing the cwd from sys.path.\n"
     ]
    }
   ],
   "source": [
    "dfsx = dataset[uniquesx]\n",
    "for columns,label in zip([coste,cranio,linee,metacarpo,raggio],['Coste','Cranio','Linee','Metacarpo','Raggio']):\n",
    "    values = list(map(lambda l: reduce(lambda x,y : x+y,l),dataset[columns].values.tolist()))\n",
    "    dfsx[label] = values"
   ]
  },
  {
   "cell_type": "code",
   "execution_count": 26,
   "metadata": {},
   "outputs": [],
   "source": [
    "l = 'Sx_0'\n",
    "ftp = incidenti_fuzzifier_table(dfsx,[list(dfsx.columns)],fuzzifiers_class,FuzzyInductor,\\\n",
    "                                mu0,param_grid,3,3,logger=f_logger,\\\n",
    "                                dim_reduction=None,scaling=StandardScaler(),\\\n",
    "                                file_json=filejson,labels=[l])"
   ]
  },
  {
   "cell_type": "code",
   "execution_count": 27,
   "metadata": {},
   "outputs": [],
   "source": [
    "dfsxanag = dataset[anagsel].join(dfsx)\n",
    "\n",
    "l = 'SxAnagrafica_0'\n",
    "ftp = incidenti_fuzzifier_table(dfsxanag,[list(dfsxanag.columns)],fuzzifiers_class,FuzzyInductor,\\\n",
    "                                mu0,param_grid,3,3,logger=f_logger,\\\n",
    "                                dim_reduction=None,scaling=StandardScaler(),\\\n",
    "                                file_json=filejson,labels=[l])"
   ]
  },
  {
   "cell_type": "code",
   "execution_count": 28,
   "metadata": {},
   "outputs": [
    {
     "data": {
      "text/html": [
       "<div>\n",
       "<style scoped>\n",
       "    .dataframe tbody tr th:only-of-type {\n",
       "        vertical-align: middle;\n",
       "    }\n",
       "\n",
       "    .dataframe tbody tr th {\n",
       "        vertical-align: top;\n",
       "    }\n",
       "\n",
       "    .dataframe thead th {\n",
       "        text-align: right;\n",
       "    }\n",
       "</style>\n",
       "<table border=\"1\" class=\"dataframe\">\n",
       "  <thead>\n",
       "    <tr style=\"text-align: right;\">\n",
       "      <th></th>\n",
       "      <th>Totali</th>\n",
       "      <th>TotaliPCA5</th>\n",
       "      <th>TotaliPCA10</th>\n",
       "      <th>TotaliPCA15</th>\n",
       "      <th>TotaliAnagrafica</th>\n",
       "      <th>TotaliAnagrafica_0</th>\n",
       "      <th>Uniche_0</th>\n",
       "      <th>UnichePCA10_0</th>\n",
       "      <th>UnichePCA30_0</th>\n",
       "      <th>UnichePCA50_0</th>\n",
       "      <th>UnicheAnagrafica_0</th>\n",
       "      <th>Dx_0</th>\n",
       "      <th>DxPCA5_0</th>\n",
       "      <th>DxPCA15_0</th>\n",
       "      <th>DxPCA25_0</th>\n",
       "      <th>DxAnagrafica_0</th>\n",
       "      <th>Sx_0</th>\n",
       "      <th>SxAnagrafica_0</th>\n",
       "    </tr>\n",
       "  </thead>\n",
       "  <tbody>\n",
       "    <tr>\n",
       "      <th>QuantileConstantPiecewiseFuzzifier</th>\n",
       "      <td>-0.42</td>\n",
       "      <td>-0.38</td>\n",
       "      <td>-0.41</td>\n",
       "      <td>-0.41</td>\n",
       "      <td>-0.38</td>\n",
       "      <td>-0.38</td>\n",
       "      <td>-0.30</td>\n",
       "      <td>-0.28</td>\n",
       "      <td>-0.31</td>\n",
       "      <td>-0.32</td>\n",
       "      <td>-0.31</td>\n",
       "      <td>-0.30</td>\n",
       "      <td>-0.36</td>\n",
       "      <td>-0.37</td>\n",
       "      <td>-0.37</td>\n",
       "      <td>-0.29</td>\n",
       "      <td>-0.36</td>\n",
       "      <td>-0.32</td>\n",
       "    </tr>\n",
       "    <tr>\n",
       "      <th>CrispFuzzifier</th>\n",
       "      <td>-0.42</td>\n",
       "      <td>-0.41</td>\n",
       "      <td>-0.42</td>\n",
       "      <td>-0.42</td>\n",
       "      <td>-0.35</td>\n",
       "      <td>-0.54</td>\n",
       "      <td>-0.34</td>\n",
       "      <td>-0.33</td>\n",
       "      <td>-0.32</td>\n",
       "      <td>-0.34</td>\n",
       "      <td>-0.38</td>\n",
       "      <td>-0.39</td>\n",
       "      <td>-0.41</td>\n",
       "      <td>-0.43</td>\n",
       "      <td>-0.39</td>\n",
       "      <td>-0.38</td>\n",
       "      <td>-0.43</td>\n",
       "      <td>-0.45</td>\n",
       "    </tr>\n",
       "    <tr>\n",
       "      <th>ExponentialFuzzifier</th>\n",
       "      <td>-0.29</td>\n",
       "      <td>-0.29</td>\n",
       "      <td>-0.29</td>\n",
       "      <td>-0.29</td>\n",
       "      <td>-0.29</td>\n",
       "      <td>-0.26</td>\n",
       "      <td>-0.25</td>\n",
       "      <td>-0.25</td>\n",
       "      <td>-0.25</td>\n",
       "      <td>-0.25</td>\n",
       "      <td>-0.25</td>\n",
       "      <td>-0.31</td>\n",
       "      <td>-0.32</td>\n",
       "      <td>-0.30</td>\n",
       "      <td>-0.31</td>\n",
       "      <td>-0.30</td>\n",
       "      <td>-0.29</td>\n",
       "      <td>-0.29</td>\n",
       "    </tr>\n",
       "    <tr>\n",
       "      <th>LinearFuzzifier</th>\n",
       "      <td>-0.30</td>\n",
       "      <td>-0.29</td>\n",
       "      <td>-0.30</td>\n",
       "      <td>-0.30</td>\n",
       "      <td>-0.29</td>\n",
       "      <td>-0.26</td>\n",
       "      <td>-0.25</td>\n",
       "      <td>-0.25</td>\n",
       "      <td>-0.25</td>\n",
       "      <td>-0.25</td>\n",
       "      <td>-0.24</td>\n",
       "      <td>-0.28</td>\n",
       "      <td>-0.28</td>\n",
       "      <td>-0.30</td>\n",
       "      <td>-0.28</td>\n",
       "      <td>-0.27</td>\n",
       "      <td>-0.29</td>\n",
       "      <td>-0.29</td>\n",
       "    </tr>\n",
       "    <tr>\n",
       "      <th>QuantileLinearPiecewiseFuzzifier</th>\n",
       "      <td>-0.42</td>\n",
       "      <td>-0.38</td>\n",
       "      <td>-0.40</td>\n",
       "      <td>-0.40</td>\n",
       "      <td>-0.39</td>\n",
       "      <td>-0.36</td>\n",
       "      <td>-0.31</td>\n",
       "      <td>-0.28</td>\n",
       "      <td>-0.30</td>\n",
       "      <td>-0.30</td>\n",
       "      <td>-0.32</td>\n",
       "      <td>-0.31</td>\n",
       "      <td>-0.34</td>\n",
       "      <td>-0.37</td>\n",
       "      <td>-0.36</td>\n",
       "      <td>-0.32</td>\n",
       "      <td>-0.34</td>\n",
       "      <td>-0.33</td>\n",
       "    </tr>\n",
       "  </tbody>\n",
       "</table>\n",
       "</div>"
      ],
      "text/plain": [
       "                                     Totali  TotaliPCA5  TotaliPCA10  \\\n",
       " QuantileConstantPiecewiseFuzzifier   -0.42       -0.38        -0.41   \n",
       "CrispFuzzifier                        -0.42       -0.41        -0.42   \n",
       "ExponentialFuzzifier                  -0.29       -0.29        -0.29   \n",
       "LinearFuzzifier                       -0.30       -0.29        -0.30   \n",
       "QuantileLinearPiecewiseFuzzifier      -0.42       -0.38        -0.40   \n",
       "\n",
       "                                     TotaliPCA15  TotaliAnagrafica  \\\n",
       " QuantileConstantPiecewiseFuzzifier        -0.41             -0.38   \n",
       "CrispFuzzifier                             -0.42             -0.35   \n",
       "ExponentialFuzzifier                       -0.29             -0.29   \n",
       "LinearFuzzifier                            -0.30             -0.29   \n",
       "QuantileLinearPiecewiseFuzzifier           -0.40             -0.39   \n",
       "\n",
       "                                     TotaliAnagrafica_0  Uniche_0  \\\n",
       " QuantileConstantPiecewiseFuzzifier               -0.38     -0.30   \n",
       "CrispFuzzifier                                    -0.54     -0.34   \n",
       "ExponentialFuzzifier                              -0.26     -0.25   \n",
       "LinearFuzzifier                                   -0.26     -0.25   \n",
       "QuantileLinearPiecewiseFuzzifier                  -0.36     -0.31   \n",
       "\n",
       "                                     UnichePCA10_0  UnichePCA30_0  \\\n",
       " QuantileConstantPiecewiseFuzzifier          -0.28          -0.31   \n",
       "CrispFuzzifier                               -0.33          -0.32   \n",
       "ExponentialFuzzifier                         -0.25          -0.25   \n",
       "LinearFuzzifier                              -0.25          -0.25   \n",
       "QuantileLinearPiecewiseFuzzifier             -0.28          -0.30   \n",
       "\n",
       "                                     UnichePCA50_0  UnicheAnagrafica_0  Dx_0  \\\n",
       " QuantileConstantPiecewiseFuzzifier          -0.32               -0.31 -0.30   \n",
       "CrispFuzzifier                               -0.34               -0.38 -0.39   \n",
       "ExponentialFuzzifier                         -0.25               -0.25 -0.31   \n",
       "LinearFuzzifier                              -0.25               -0.24 -0.28   \n",
       "QuantileLinearPiecewiseFuzzifier             -0.30               -0.32 -0.31   \n",
       "\n",
       "                                     DxPCA5_0  DxPCA15_0  DxPCA25_0  \\\n",
       " QuantileConstantPiecewiseFuzzifier     -0.36      -0.37      -0.37   \n",
       "CrispFuzzifier                          -0.41      -0.43      -0.39   \n",
       "ExponentialFuzzifier                    -0.32      -0.30      -0.31   \n",
       "LinearFuzzifier                         -0.28      -0.30      -0.28   \n",
       "QuantileLinearPiecewiseFuzzifier        -0.34      -0.37      -0.36   \n",
       "\n",
       "                                     DxAnagrafica_0  Sx_0  SxAnagrafica_0  \n",
       " QuantileConstantPiecewiseFuzzifier           -0.29 -0.36           -0.32  \n",
       "CrispFuzzifier                                -0.38 -0.43           -0.45  \n",
       "ExponentialFuzzifier                          -0.30 -0.29           -0.29  \n",
       "LinearFuzzifier                               -0.27 -0.29           -0.29  \n",
       "QuantileLinearPiecewiseFuzzifier              -0.32 -0.34           -0.33  "
      ]
     },
     "execution_count": 28,
     "metadata": {},
     "output_type": "execute_result"
    }
   ],
   "source": [
    "ftp"
   ]
  },
  {
   "cell_type": "markdown",
   "metadata": {},
   "source": [
    "# Defuzzificazione"
   ]
  },
  {
   "cell_type": "code",
   "execution_count": 33,
   "metadata": {},
   "outputs": [],
   "source": [
    "be1 = FuzzyInductor(c=.1,fuzzifier=ExponentialFuzzifier,k=HyperbolicKernel(1,.01))\n",
    "be0 = FuzzyInductor(c=.1,fuzzifier=LinearFuzzifier,k=HyperbolicKernel(1,1))\n",
    "bes = [be1,be0]\n",
    "\n",
    "classes = (1,0)\n",
    "\n",
    "scaling = StandardScaler()\n",
    "\n",
    "variables = uqanag\n",
    "\n",
    "values = dataset[variables].values\n",
    "values_std = scaling.fit_transform(values)\n",
    "values_20d = values_std\n"
   ]
  },
  {
   "cell_type": "code",
   "execution_count": 34,
   "metadata": {},
   "outputs": [],
   "source": [
    "results_df = pd.DataFrame()"
   ]
  },
  {
   "cell_type": "code",
   "execution_count": 40,
   "metadata": {},
   "outputs": [
    {
     "name": "stderr",
     "output_type": "stream",
     "text": [
      "100%|██████████| 100/100 [00:22<00:00,  4.38it/s]\n",
      "100%|██████████| 100/100 [00:21<00:00,  4.59it/s]\n",
      "100%|██████████| 100/100 [00:21<00:00,  4.57it/s]\n",
      "100%|██████████| 100/100 [00:22<00:00,  4.51it/s]\n",
      "100%|██████████| 100/100 [00:22<00:00,  4.52it/s]\n",
      "100%|██████████| 100/100 [00:21<00:00,  4.56it/s]\n"
     ]
    }
   ],
   "source": [
    "perf_train, perf_test =best_estimator_holdout(bes,dataset.index,values_20d, mu1.values,\n",
    "                                              classes,0.7,classify,3)"
   ]
  },
  {
   "cell_type": "code",
   "execution_count": 42,
   "metadata": {},
   "outputs": [],
   "source": [
    "results_df = results_df.append({'esperimento': 'UnicheAnagrafica','defuzz': 'max','train_err': perf_train,\\\n",
    "                               'test_err': perf_test},ignore_index=True)"
   ]
  },
  {
   "cell_type": "code",
   "execution_count": 48,
   "metadata": {},
   "outputs": [
    {
     "data": {
      "text/plain": [
       "functools.partial(<function alpha_cut at 0x7f5a4b41fc80>, 3, 0)"
      ]
     },
     "execution_count": 48,
     "metadata": {},
     "output_type": "execute_result"
    }
   ],
   "source": [
    "partial(alpha_cut,3,0)"
   ]
  },
  {
   "cell_type": "code",
   "execution_count": 49,
   "metadata": {},
   "outputs": [
    {
     "name": "stderr",
     "output_type": "stream",
     "text": [
      "100%|██████████| 100/100 [00:21<00:00,  4.60it/s]\n",
      "100%|██████████| 100/100 [00:21<00:00,  4.63it/s]\n",
      "100%|██████████| 100/100 [00:21<00:00,  4.55it/s]\n",
      "100%|██████████| 100/100 [00:21<00:00,  4.76it/s]\n",
      "100%|██████████| 100/100 [00:20<00:00,  4.81it/s]\n",
      "100%|██████████| 100/100 [00:21<00:00,  4.69it/s]\n",
      "100%|██████████| 100/100 [00:21<00:00,  4.76it/s]\n",
      "100%|██████████| 100/100 [00:24<00:00,  4.15it/s]\n",
      "100%|██████████| 100/100 [00:32<00:00,  3.03it/s]\n",
      "100%|██████████| 100/100 [00:24<00:00,  4.01it/s]\n",
      "100%|██████████| 100/100 [00:22<00:00,  4.54it/s]\n",
      "100%|██████████| 100/100 [00:20<00:00,  4.81it/s]\n",
      "100%|██████████| 100/100 [00:20<00:00,  4.84it/s]\n",
      "100%|██████████| 100/100 [00:20<00:00,  4.83it/s]\n",
      "100%|██████████| 100/100 [00:20<00:00,  5.00it/s]\n",
      "100%|██████████| 100/100 [00:20<00:00,  4.88it/s]\n",
      "100%|██████████| 100/100 [00:20<00:00,  4.84it/s]\n",
      "100%|██████████| 100/100 [00:19<00:00,  5.07it/s]\n",
      "100%|██████████| 100/100 [00:20<00:00,  4.82it/s]\n",
      "100%|██████████| 100/100 [00:19<00:00,  5.02it/s]\n",
      "100%|██████████| 100/100 [00:20<00:00,  4.89it/s]\n",
      "100%|██████████| 100/100 [00:19<00:00,  5.11it/s]\n",
      "100%|██████████| 100/100 [00:20<00:00,  4.95it/s]\n",
      "100%|██████████| 100/100 [00:21<00:00,  4.73it/s]\n",
      "100%|██████████| 100/100 [00:20<00:00,  4.91it/s]\n",
      "100%|██████████| 100/100 [00:21<00:00,  4.75it/s]\n",
      "100%|██████████| 100/100 [00:19<00:00,  5.09it/s]\n",
      "100%|██████████| 100/100 [00:19<00:00,  5.13it/s]\n",
      "100%|██████████| 100/100 [00:19<00:00,  5.02it/s]\n",
      "100%|██████████| 100/100 [00:20<00:00,  4.83it/s]\n",
      "100%|██████████| 100/100 [00:20<00:00,  4.89it/s]\n",
      "100%|██████████| 100/100 [00:19<00:00,  5.00it/s]\n",
      "100%|██████████| 100/100 [00:19<00:00,  5.15it/s]\n",
      "100%|██████████| 100/100 [00:19<00:00,  5.13it/s]\n",
      "100%|██████████| 100/100 [00:20<00:00,  4.80it/s]\n",
      "100%|██████████| 100/100 [00:20<00:00,  4.86it/s]\n",
      "100%|██████████| 100/100 [00:19<00:00,  5.02it/s]\n",
      "100%|██████████| 100/100 [00:19<00:00,  5.22it/s]\n",
      "100%|██████████| 100/100 [00:20<00:00,  4.92it/s]\n",
      "100%|██████████| 100/100 [00:19<00:00,  5.03it/s]\n",
      "100%|██████████| 100/100 [00:19<00:00,  5.01it/s]\n",
      "100%|██████████| 100/100 [00:19<00:00,  5.09it/s]\n",
      "100%|██████████| 100/100 [00:20<00:00,  4.86it/s]\n",
      "100%|██████████| 100/100 [00:20<00:00,  4.78it/s]\n",
      "100%|██████████| 100/100 [00:20<00:00,  4.99it/s]\n",
      "100%|██████████| 100/100 [00:20<00:00,  4.83it/s]\n",
      "100%|██████████| 100/100 [00:19<00:00,  5.06it/s]\n",
      "100%|██████████| 100/100 [00:19<00:00,  5.04it/s]\n",
      "100%|██████████| 100/100 [00:20<00:00,  4.95it/s]\n",
      "100%|██████████| 100/100 [00:19<00:00,  5.21it/s]\n",
      "100%|██████████| 100/100 [00:20<00:00,  4.88it/s]\n",
      "100%|██████████| 100/100 [00:20<00:00,  4.97it/s]\n",
      "100%|██████████| 100/100 [00:20<00:00,  4.92it/s]\n",
      "100%|██████████| 100/100 [00:19<00:00,  5.17it/s]\n",
      "100%|██████████| 100/100 [00:20<00:00,  4.99it/s]\n",
      "100%|██████████| 100/100 [00:21<00:00,  4.75it/s]\n",
      "100%|██████████| 100/100 [00:20<00:00,  4.90it/s]\n",
      "100%|██████████| 100/100 [00:19<00:00,  5.02it/s]\n",
      "100%|██████████| 100/100 [00:21<00:00,  4.57it/s]\n",
      "100%|██████████| 100/100 [00:20<00:00,  4.81it/s]\n",
      "100%|██████████| 100/100 [00:21<00:00,  4.76it/s]\n",
      "100%|██████████| 100/100 [00:19<00:00,  5.06it/s]\n",
      "100%|██████████| 100/100 [00:19<00:00,  5.08it/s]\n",
      "100%|██████████| 100/100 [00:20<00:00,  4.98it/s]\n",
      "100%|██████████| 100/100 [00:19<00:00,  5.02it/s]\n",
      "100%|██████████| 100/100 [00:23<00:00,  4.17it/s]\n",
      "100%|██████████| 100/100 [00:22<00:00,  4.37it/s]\n",
      "100%|██████████| 100/100 [00:22<00:00,  4.43it/s]\n",
      "100%|██████████| 100/100 [00:21<00:00,  4.75it/s]\n",
      "100%|██████████| 100/100 [00:21<00:00,  4.70it/s]\n",
      "100%|██████████| 100/100 [00:22<00:00,  4.44it/s]\n",
      "100%|██████████| 100/100 [00:21<00:00,  4.63it/s]\n",
      "100%|██████████| 100/100 [00:20<00:00,  4.80it/s]\n",
      "100%|██████████| 100/100 [00:21<00:00,  4.61it/s]\n",
      "100%|██████████| 100/100 [00:21<00:00,  4.70it/s]\n",
      "100%|██████████| 100/100 [00:21<00:00,  4.66it/s]\n",
      "100%|██████████| 100/100 [00:20<00:00,  4.76it/s]\n",
      "100%|██████████| 100/100 [00:21<00:00,  4.69it/s]\n",
      "100%|██████████| 100/100 [00:21<00:00,  4.73it/s]\n",
      "100%|██████████| 100/100 [00:21<00:00,  4.65it/s]\n",
      "100%|██████████| 100/100 [00:21<00:00,  4.76it/s]\n",
      "100%|██████████| 100/100 [00:22<00:00,  4.47it/s]\n",
      "100%|██████████| 100/100 [00:21<00:00,  4.69it/s]\n",
      "100%|██████████| 100/100 [00:21<00:00,  4.59it/s]\n",
      "100%|██████████| 100/100 [00:23<00:00,  4.30it/s]\n",
      "100%|██████████| 100/100 [00:35<00:00,  2.81it/s]\n",
      "100%|██████████| 100/100 [00:34<00:00,  2.91it/s]\n",
      "100%|██████████| 100/100 [00:29<00:00,  3.44it/s]\n",
      "100%|██████████| 100/100 [00:29<00:00,  3.41it/s]\n",
      "100%|██████████| 100/100 [00:50<00:00,  1.99it/s]\n",
      "100%|██████████| 100/100 [00:48<00:00,  2.04it/s]\n",
      "100%|██████████| 100/100 [00:47<00:00,  2.10it/s]\n",
      "100%|██████████| 100/100 [00:51<00:00,  1.96it/s]\n",
      "100%|██████████| 100/100 [00:47<00:00,  2.09it/s]\n",
      "100%|██████████| 100/100 [00:47<00:00,  2.11it/s]\n",
      "100%|██████████| 100/100 [00:49<00:00,  2.03it/s]\n",
      "100%|██████████| 100/100 [00:46<00:00,  2.13it/s]\n",
      "100%|██████████| 100/100 [00:46<00:00,  2.14it/s]\n",
      "100%|██████████| 100/100 [00:47<00:00,  2.11it/s]\n",
      "100%|██████████| 100/100 [00:47<00:00,  2.13it/s]\n",
      "100%|██████████| 100/100 [00:47<00:00,  2.10it/s]\n",
      "100%|██████████| 100/100 [00:47<00:00,  2.12it/s]\n",
      "100%|██████████| 100/100 [00:46<00:00,  2.13it/s]\n",
      "100%|██████████| 100/100 [00:44<00:00,  2.24it/s]\n",
      "100%|██████████| 100/100 [00:43<00:00,  2.31it/s]\n",
      "100%|██████████| 100/100 [00:44<00:00,  2.27it/s]\n",
      "100%|██████████| 100/100 [00:44<00:00,  2.27it/s]\n",
      "100%|██████████| 100/100 [00:45<00:00,  2.21it/s]\n",
      "100%|██████████| 100/100 [00:44<00:00,  2.26it/s]\n",
      "100%|██████████| 100/100 [00:45<00:00,  2.20it/s]\n"
     ]
    }
   ],
   "source": [
    "alpha = np.arange(0,1.1,.1)\n",
    "for a in alpha:\n",
    "    perf_train, perf_test = best_estimator_holdout(bes,dataset.index,values_20d, mu1.values,\n",
    "                                              classes,0.7,partial(alpha_cut,a,0),5)\n",
    "    results_df = results_df.append({'esperimento': 'UnicheAnagrafica',\\\n",
    "                                    'defuzz': 'alpha_cut({})'.format(a),\\\n",
    "                                   'train_err': perf_train,\\\n",
    "                                   'test_err': perf_test},\\\n",
    "                                  ignore_index=True)"
   ]
  },
  {
   "cell_type": "code",
   "execution_count": 50,
   "metadata": {},
   "outputs": [
    {
     "data": {
      "text/html": [
       "<div>\n",
       "<style scoped>\n",
       "    .dataframe tbody tr th:only-of-type {\n",
       "        vertical-align: middle;\n",
       "    }\n",
       "\n",
       "    .dataframe tbody tr th {\n",
       "        vertical-align: top;\n",
       "    }\n",
       "\n",
       "    .dataframe thead th {\n",
       "        text-align: right;\n",
       "    }\n",
       "</style>\n",
       "<table border=\"1\" class=\"dataframe\">\n",
       "  <thead>\n",
       "    <tr style=\"text-align: right;\">\n",
       "      <th></th>\n",
       "      <th>defuzz</th>\n",
       "      <th>esperimento</th>\n",
       "      <th>test_err</th>\n",
       "      <th>train_err</th>\n",
       "    </tr>\n",
       "  </thead>\n",
       "  <tbody>\n",
       "    <tr>\n",
       "      <th>0</th>\n",
       "      <td>max</td>\n",
       "      <td>UnicheAnagrafica</td>\n",
       "      <td>0.33</td>\n",
       "      <td>0.27</td>\n",
       "    </tr>\n",
       "    <tr>\n",
       "      <th>1</th>\n",
       "      <td>alpha_cut(0.0)</td>\n",
       "      <td>UnicheAnagrafica</td>\n",
       "      <td>0.42</td>\n",
       "      <td>0.48</td>\n",
       "    </tr>\n",
       "    <tr>\n",
       "      <th>2</th>\n",
       "      <td>alpha_cut(0.1)</td>\n",
       "      <td>UnicheAnagrafica</td>\n",
       "      <td>0.47</td>\n",
       "      <td>0.45</td>\n",
       "    </tr>\n",
       "    <tr>\n",
       "      <th>3</th>\n",
       "      <td>alpha_cut(0.2)</td>\n",
       "      <td>UnicheAnagrafica</td>\n",
       "      <td>0.41</td>\n",
       "      <td>0.43</td>\n",
       "    </tr>\n",
       "    <tr>\n",
       "      <th>4</th>\n",
       "      <td>alpha_cut(0.30000000000000004)</td>\n",
       "      <td>UnicheAnagrafica</td>\n",
       "      <td>0.42</td>\n",
       "      <td>0.33</td>\n",
       "    </tr>\n",
       "    <tr>\n",
       "      <th>5</th>\n",
       "      <td>alpha_cut(0.4)</td>\n",
       "      <td>UnicheAnagrafica</td>\n",
       "      <td>0.35</td>\n",
       "      <td>0.34</td>\n",
       "    </tr>\n",
       "    <tr>\n",
       "      <th>6</th>\n",
       "      <td>alpha_cut(0.5)</td>\n",
       "      <td>UnicheAnagrafica</td>\n",
       "      <td>0.34</td>\n",
       "      <td>0.35</td>\n",
       "    </tr>\n",
       "    <tr>\n",
       "      <th>7</th>\n",
       "      <td>alpha_cut(0.6000000000000001)</td>\n",
       "      <td>UnicheAnagrafica</td>\n",
       "      <td>0.38</td>\n",
       "      <td>0.36</td>\n",
       "    </tr>\n",
       "    <tr>\n",
       "      <th>8</th>\n",
       "      <td>alpha_cut(0.7000000000000001)</td>\n",
       "      <td>UnicheAnagrafica</td>\n",
       "      <td>0.46</td>\n",
       "      <td>0.43</td>\n",
       "    </tr>\n",
       "    <tr>\n",
       "      <th>9</th>\n",
       "      <td>alpha_cut(0.8)</td>\n",
       "      <td>UnicheAnagrafica</td>\n",
       "      <td>0.63</td>\n",
       "      <td>0.50</td>\n",
       "    </tr>\n",
       "    <tr>\n",
       "      <th>10</th>\n",
       "      <td>alpha_cut(0.9)</td>\n",
       "      <td>UnicheAnagrafica</td>\n",
       "      <td>0.53</td>\n",
       "      <td>0.54</td>\n",
       "    </tr>\n",
       "    <tr>\n",
       "      <th>11</th>\n",
       "      <td>alpha_cut(1.0)</td>\n",
       "      <td>UnicheAnagrafica</td>\n",
       "      <td>0.56</td>\n",
       "      <td>0.53</td>\n",
       "    </tr>\n",
       "  </tbody>\n",
       "</table>\n",
       "</div>"
      ],
      "text/plain": [
       "                            defuzz       esperimento  test_err  train_err\n",
       "0                              max  UnicheAnagrafica      0.33       0.27\n",
       "1                   alpha_cut(0.0)  UnicheAnagrafica      0.42       0.48\n",
       "2                   alpha_cut(0.1)  UnicheAnagrafica      0.47       0.45\n",
       "3                   alpha_cut(0.2)  UnicheAnagrafica      0.41       0.43\n",
       "4   alpha_cut(0.30000000000000004)  UnicheAnagrafica      0.42       0.33\n",
       "5                   alpha_cut(0.4)  UnicheAnagrafica      0.35       0.34\n",
       "6                   alpha_cut(0.5)  UnicheAnagrafica      0.34       0.35\n",
       "7    alpha_cut(0.6000000000000001)  UnicheAnagrafica      0.38       0.36\n",
       "8    alpha_cut(0.7000000000000001)  UnicheAnagrafica      0.46       0.43\n",
       "9                   alpha_cut(0.8)  UnicheAnagrafica      0.63       0.50\n",
       "10                  alpha_cut(0.9)  UnicheAnagrafica      0.53       0.54\n",
       "11                  alpha_cut(1.0)  UnicheAnagrafica      0.56       0.53"
      ]
     },
     "execution_count": 50,
     "metadata": {},
     "output_type": "execute_result"
    }
   ],
   "source": [
    "results_df"
   ]
  }
 ],
 "metadata": {
  "kernelspec": {
   "display_name": "Python 3",
   "language": "python",
   "name": "python3"
  },
  "language_info": {
   "codemirror_mode": {
    "name": "ipython",
    "version": 3
   },
   "file_extension": ".py",
   "mimetype": "text/x-python",
   "name": "python",
   "nbconvert_exporter": "python",
   "pygments_lexer": "ipython3",
   "version": "3.7.3"
  }
 },
 "nbformat": 4,
 "nbformat_minor": 4
}
