{
 "cells": [
  {
   "cell_type": "code",
   "execution_count": null,
   "metadata": {},
   "outputs": [],
   "source": [
    "import pandas as pd\n",
    "import numpy as np\n",
    "from warnings import warn"
   ]
  },
  {
   "cell_type": "code",
   "execution_count": null,
   "metadata": {},
   "outputs": [],
   "source": [
    "def add_new_elements(error_distrib,n_elements,n_columns,dataset,\\\n",
    "                     label_col):\n",
    "    \n",
    "    x = error_distrib['x']\n",
    "    px = error_distrib['px']\n",
    "    \n",
    "    count_elements = 0\n",
    "    \n",
    "    df_result = dataset\n",
    "    \n",
    "    eq_freq = []\n",
    "    count_neq_label = 0\n",
    "    \n",
    "    while True:\n",
    "        #Scelta elemento da cui partire\n",
    "        from_item = np.random.choice(dataset.index)\n",
    "        elem = dataset[dataset.index==from_item]\n",
    "        new_index = ['F'+str(ind) for ind in list(elem.index)]\n",
    "        elem.rename({from_item:'FAKE'+str(from_item)},inplace=True)\n",
    "        \n",
    "        \n",
    "        #scelta colonne da perturbare\n",
    "        columns = set()\n",
    "        columns_to_extract = list(set(dataset.columns)-set([label_col]))\n",
    "        while(len(columns)!=n_columns):\n",
    "            extract = np.random.choice(columns_to_extract)\n",
    "            columns.add(extract)\n",
    "            columns_to_extract = list(set(columns_to_extract)-set([extract]))\n",
    "        columns_list = list(columns)\n",
    "        \n",
    "                       \n",
    "        #perturbazione\n",
    "        for col in columns_list:\n",
    "            #check rimanga in valori del dominio\n",
    "            while True:\n",
    "                perturbation = np.random.choice(x,p=px)\n",
    "                new_value = elem.iloc[0][col]+perturbation\n",
    "                if new_value >= 0 and new_value<=4: break\n",
    "            elem[col]=new_value\n",
    "        \n",
    "        #check elementi uguali\n",
    "        eq_list = [x for x,y in dataset.iterrows() if all(y==elem.iloc[0])]\n",
    "        if len(eq_list)>0:\n",
    "            eq_item = eq_list[0]\n",
    "            eq_label = elem.iloc[0][label_col]\\\n",
    "                        == dataset.loc[eq_item][label_col] \n",
    "            eq_freq.append(count_elements)\n",
    "            if not eq_label:\n",
    "                count_neq_label+=1\n",
    "            \"\"\"\n",
    "            warn(\"Creato un elemento già presente\"+\\\n",
    "                \" ho perturbato {} colonne\".format(n_columns)+\\\n",
    "                \" ho già creato {} elementi\".format(count_elements)+\\\n",
    "                \" px: {}\".format(px)+\\\n",
    "                \" label uguali: {}\".format(eq_label))\n",
    "            \"\"\"\n",
    "        else:\n",
    "            count_elements+=1\n",
    "            df_result = df_result.append(elem)\n",
    "        \n",
    "        if count_elements==n_elements: break\n",
    "            \n",
    "    return df_result,eq_freq,count_neq_label"
   ]
  },
  {
   "cell_type": "code",
   "execution_count": null,
   "metadata": {},
   "outputs": [],
   "source": [
    "import pandas as pd\n",
    "import matplotlib.pyplot as plt\n",
    "pd.options.display.float_format = \"{:,.2f}\".format\n",
    "\n",
    "from experiments import *\n",
    "\n",
    "import sys\n",
    "\n",
    "sys.path.insert(1, '../fuzzylearn/')\n",
    "\n",
    "from fuzzylearn import *\n",
    "from fuzzylearn.fuzzifiers import LinearFuzzifier, CrispFuzzifier,ExponentialFuzzifier,QuantileLinearPiecewiseFuzzifier, QuantileConstantPiecewiseFuzzifier\n",
    "from fuzzylearn.kernel import GaussianKernel, LinearKernel, HyperbolicKernel, PolynomialKernel, HomogeneousPolynomialKernel\n",
    "from fuzzylearn import solve_optimization_gurobi\n",
    "\n",
    "from sklearn.preprocessing import StandardScaler, MinMaxScaler, MaxAbsScaler, QuantileTransformer, RobustScaler, PowerTransformer, Normalizer\n",
    "from sklearn.decomposition import PCA\n",
    "from sklearn.model_selection import GridSearchCV, cross_val_score\n",
    "\n",
    "dataset = pd.read_excel(\"dataset/IncidentiModificato.xlsx\")\n",
    "dataset = dataset.set_index(\"VERBALE\")"
   ]
  },
  {
   "cell_type": "code",
   "execution_count": null,
   "metadata": {},
   "outputs": [],
   "source": [
    "import datetime as dt\n",
    "\n",
    "dataset.DATA = dataset.DATA.apply(lambda d: (d - dt.datetime(1970,1,1)).days)\n",
    "\n",
    "dataset.head()"
   ]
  },
  {
   "cell_type": "code",
   "execution_count": null,
   "metadata": {},
   "outputs": [],
   "source": [
    "df_start = dataset[list(dataset.columns)[7:27]+['Mezzo']]\n",
    "len(df_start)"
   ]
  },
  {
   "cell_type": "code",
   "execution_count": null,
   "metadata": {},
   "outputs": [],
   "source": [
    "error_distrib ={\n",
    "    'x': [-2,-1,0,1,2],\n",
    "    'px': [.1,.2,.4,.2,.1]\n",
    "}"
   ]
  },
  {
   "cell_type": "markdown",
   "metadata": {},
   "source": [
    "## Esperimenti con best estimators"
   ]
  },
  {
   "cell_type": "code",
   "execution_count": null,
   "metadata": {},
   "outputs": [],
   "source": [
    "be1 = FuzzyInductor(fuzzifier=ExponentialFuzzifier,c=0.021544346900318846,k=HyperbolicKernel(1,0))\n",
    "be0 = FuzzyInductor(fuzzifier=LinearFuzzifier,c=0.021544346900318846,k=LinearKernel())\n",
    "bes = [be1,be0]\n",
    "\n",
    "classes = (1,0)\n",
    "\n",
    "dim_red = PCA(n_components=20)\n",
    "scaling = QuantileTransformer(output_distribution='normal')"
   ]
  },
  {
   "cell_type": "code",
   "execution_count": null,
   "metadata": {},
   "outputs": [],
   "source": [
    "\"\"\"\n",
    "results_da = pd.DataFrame()\n",
    "for n_col in [3,5,7,10,12,15,18,20]:\n",
    "    df_end, eq_distrib, neq_labels = add_new_elements(error_distrib,500,n_col,df_start,'Mezzo')\n",
    "    \n",
    "    values = df_end[list(df_end.columns)[:-1]].values\n",
    "    values_std = scaling.fit_transform(values)\n",
    "    values_20d = dim_red.fit_transform(values_std)\n",
    "    labels = df_end['Mezzo'].values\n",
    "    \n",
    "    perf_train, perf_test = best_estimator_holdout(bes,df_end.index,values_20d, labels,\n",
    "                                              classes,0.7,classify,5)\n",
    "    \n",
    "    results_da = results_da.append({'colonne_perturbate': n_col,\\\n",
    "                      'cloni_dopo': eq_distrib,\\\n",
    "                      'ncloni_discordi': neq_labels,\\\n",
    "                      'train_err': perf_train,\\\n",
    "                      'test_err': perf_test},ignore_index=True)\n",
    "\"\"\""
   ]
  },
  {
   "cell_type": "markdown",
   "metadata": {},
   "source": [
    "### Proviamo alpha cut"
   ]
  },
  {
   "cell_type": "code",
   "execution_count": null,
   "metadata": {},
   "outputs": [],
   "source": [
    "from defuzzification import *\n",
    "from functools import partial"
   ]
  },
  {
   "cell_type": "code",
   "execution_count": null,
   "metadata": {
    "scrolled": true
   },
   "outputs": [],
   "source": [
    "\"\"\"\n",
    "for n_col in [5,10,15]:\n",
    "    \n",
    "    df_end, eq_distrib, neq_labels = add_new_elements(error_distrib,500,n_col,df_start,'Mezzo')\n",
    "    \n",
    "    values = df_end[list(df_end.columns)[:-1]].values\n",
    "    values_std = scaling.fit_transform(values)\n",
    "    values_20d = dim_red.fit_transform(values_std)\n",
    "    labels = df_end['Mezzo'].values\n",
    "    \n",
    "    for alpha in np.arange(.25,.85,.05):\n",
    "        perf_train, perf_test = best_estimator_holdout(bes,df_end.index,values_20d, labels,\\\n",
    "                                              classes,0.7,partial(alpha_cut,alpha,0),5)\n",
    "        \n",
    "        results_da = results_da.append({'colonne_perturbate': n_col,\\\n",
    "                      'cloni_dopo': eq_distrib,\\\n",
    "                      'ncloni_discordi': neq_labels,\\\n",
    "                      'train_err': perf_train,\\\n",
    "                      'test_err': perf_test,\\\n",
    "                      'px': error_distrib['px'],\\\n",
    "                      'defuzzification': 'alpha_cut({},{})'.format(alpha,0)},ignore_index=True)\n",
    "\"\"\""
   ]
  },
  {
   "cell_type": "code",
   "execution_count": null,
   "metadata": {},
   "outputs": [],
   "source": [
    "results_da = pd.read_json('data_augmentation.json')\n",
    "results_da.head()"
   ]
  },
  {
   "cell_type": "markdown",
   "metadata": {},
   "source": [
    "## Informazioni su distribuzioni cloni"
   ]
  },
  {
   "cell_type": "code",
   "execution_count": null,
   "metadata": {},
   "outputs": [],
   "source": [
    "p_cloni = [len(l)/500 for l in results_da['cloni_dopo']]"
   ]
  },
  {
   "cell_type": "code",
   "execution_count": null,
   "metadata": {},
   "outputs": [],
   "source": [
    "def distanze_cloni(l):\n",
    "    dstart = 0\n",
    "    res = []\n",
    "    for e in l:\n",
    "        res.append(e-dstart)\n",
    "        dstart = e\n",
    "    return res"
   ]
  },
  {
   "cell_type": "code",
   "execution_count": null,
   "metadata": {},
   "outputs": [],
   "source": [
    "distanze = [distanze_cloni(l) for l in results_da['cloni_dopo']]\n",
    "distrib = {(n_col,p,np.mean(d),np.std(d)) for n_col,p,d in \\\n",
    "           zip(results_da['colonne_perturbate'],p_cloni,distanze) if d}"
   ]
  },
  {
   "cell_type": "code",
   "execution_count": null,
   "metadata": {},
   "outputs": [],
   "source": [
    "distrib"
   ]
  },
  {
   "cell_type": "markdown",
   "metadata": {},
   "source": [
    "## Accuracy plot"
   ]
  },
  {
   "cell_type": "code",
   "execution_count": null,
   "metadata": {},
   "outputs": [],
   "source": [
    "import matplotlib.pyplot as plt"
   ]
  },
  {
   "cell_type": "code",
   "execution_count": null,
   "metadata": {},
   "outputs": [],
   "source": [
    "n_samples = [len(df_start)]\n",
    "accuracies = [1-(.26+.3)/2]\n",
    "elements_to_add = [170,370,870,1870,2870,3870,4870]\n",
    "n_col = 5"
   ]
  },
  {
   "cell_type": "code",
   "execution_count": null,
   "metadata": {},
   "outputs": [],
   "source": [
    "\"\"\"\n",
    "for n_elements in elements_to_add:\n",
    "    df_end,_,_ = add_new_elements(error_distrib,n_elements,n_col,df_start,'Mezzo')\n",
    "    \n",
    "    values = df_end[list(df_end.columns)[:-1]].values\n",
    "    values_std = scaling.fit_transform(values)\n",
    "    values_20d = dim_red.fit_transform(values_std)\n",
    "    labels = df_end['Mezzo'].values\n",
    "    \n",
    "    perf_train, perf_test = best_estimator_holdout(bes,df_end.index,values_20d, labels,\n",
    "                                              classes,0.7,classify,5)\n",
    "    err = (perf_train + perf_test)/2\n",
    "    accuracy = 1-err\n",
    "    n_samples.append(len(df_end))\n",
    "    accuracies.append(accuracy)\n",
    "    print(len(df_end),accuracy)\n",
    "    if accuracy>=0.98: break\n",
    "\"\"\""
   ]
  },
  {
   "cell_type": "code",
   "execution_count": null,
   "metadata": {},
   "outputs": [],
   "source": [
    "plt.plot(n_samples,accuracies)\n",
    "plt.show()"
   ]
  },
  {
   "cell_type": "markdown",
   "metadata": {},
   "source": [
    "# SMOTE"
   ]
  },
  {
   "cell_type": "markdown",
   "metadata": {},
   "source": [
    "## 20 lesioni"
   ]
  },
  {
   "cell_type": "code",
   "execution_count": null,
   "metadata": {},
   "outputs": [],
   "source": [
    "X = dataset[list(dataset.columns)[7:27]].values\n",
    "y = dataset['Mezzo'].values"
   ]
  },
  {
   "cell_type": "code",
   "execution_count": null,
   "metadata": {},
   "outputs": [],
   "source": [
    "n_samples = []\n",
    "accuracies = []\n",
    "n_samples.append(len(X))\n",
    "accuracies.append(.72)"
   ]
  },
  {
   "cell_type": "code",
   "execution_count": 48,
   "metadata": {},
   "outputs": [
    {
     "data": {
      "text/plain": [
       "'\\nfor elements in [2000,2500,3000]:\\n    smote = SMOTE(sampling_strategy = {0: elements,1:elements})\\n    X_os,y_os = smote.fit_resample(X,y)\\n    X_os_std = StandardScaler().fit_transform(X_os)\\n    perf_train, perf_test = best_estimator_holdout(bes,pd.DataFrame(X_os_std).index,X_os_std, y_os,\\n                                              classes,0.7,classify,5)\\n    err = (perf_train + perf_test)/2\\n    accuracy = 1-err\\n    n_samples.append(len(X_os))\\n    accuracies.append(accuracy)\\n    print(len(X_os),accuracy)\\n    if accuracy>=0.98: break\\n'"
      ]
     },
     "execution_count": 48,
     "metadata": {},
     "output_type": "execute_result"
    }
   ],
   "source": [
    "from imblearn.over_sampling import SMOTE\n",
    "\n",
    "\"\"\"\n",
    "for elements in [2000,2500,3000]:\n",
    "    smote = SMOTE(sampling_strategy = {0: elements,1:elements})\n",
    "    X_os,y_os = smote.fit_resample(X,y)\n",
    "    X_os_std = StandardScaler().fit_transform(X_os)\n",
    "    perf_train, perf_test = best_estimator_holdout(bes,pd.DataFrame(X_os_std).index,X_os_std, y_os,\n",
    "                                              classes,0.7,classify,5)\n",
    "    err = (perf_train + perf_test)/2\n",
    "    accuracy = 1-err\n",
    "    n_samples.append(len(X_os))\n",
    "    accuracies.append(accuracy)\n",
    "    print(len(X_os),accuracy)\n",
    "    if accuracy>=0.98: break\n",
    "\"\"\""
   ]
  },
  {
   "cell_type": "code",
   "execution_count": 40,
   "metadata": {},
   "outputs": [
    {
     "data": {
      "image/png": "[encoded data removed]",
      "text/plain": [
       "<Figure size 432x288 with 1 Axes>"
      ]
     },
     "metadata": {
      "needs_background": "light"
     },
     "output_type": "display_data"
    }
   ],
   "source": [
    "plt.plot(n_samples,accuracies)\n",
    "plt.show()"
   ]
  },
  {
   "cell_type": "code",
   "execution_count": 41,
   "metadata": {},
   "outputs": [
    {
     "data": {
      "text/plain": [
       "([130, 1000, 2000, 3000, 4000, 5000],\n",
       " [0.72,\n",
       "  0.6964285714285714,\n",
       "  0.6681428571428571,\n",
       "  0.6705079365079365,\n",
       "  0.6712619047619047,\n",
       "  0.4981333333333333])"
      ]
     },
     "execution_count": 41,
     "metadata": {},
     "output_type": "execute_result"
    }
   ],
   "source": [
    "n_samples,accuracies"
   ]
  },
  {
   "cell_type": "markdown",
   "metadata": {},
   "source": [
    "## Totali Distretti"
   ]
  },
  {
   "cell_type": "code",
   "execution_count": 42,
   "metadata": {},
   "outputs": [],
   "source": [
    "from defuzzification import *\n",
    "from functools import partial"
   ]
  },
  {
   "cell_type": "code",
   "execution_count": 43,
   "metadata": {},
   "outputs": [],
   "source": [
    "be1 = FuzzyInductor(fuzzifier=ExponentialFuzzifier,c=0.1,k=HyperbolicKernel(1,1))\n",
    "bes = [be1,be1]\n",
    "\n",
    "classes = (1,0)\n",
    "scaling = StandardScaler()\n",
    "X = dataset[['Tot Testa','Tot Torace','Tot Addome','Tot Scheletro']].values"
   ]
  },
  {
   "cell_type": "code",
   "execution_count": 49,
   "metadata": {},
   "outputs": [
    {
     "data": {
      "text/plain": [
       "'\\nn_samples = []\\naccuracies = []\\nn_samples.append(len(X))\\naccuracies.append(.72)\\n\\nfor elements in [250,500,1000,1500,2000,2500]:\\n    smote = SMOTE(sampling_strategy = {0: elements,1:elements})\\n    X_os,y_os = smote.fit_resample(X,y)\\n    X_os_std = StandardScaler().fit_transform(X_os)\\n    perf_train, perf_test = best_estimator_holdout(bes,pd.DataFrame(X_os_std).index,X_os_std, y_os,\\n                                              classes,0.7,partial(alpha_cut,.45,0),5)\\n    err = (perf_train + perf_test)/2\\n    accuracy = 1-err\\n    n_samples.append(len(X_os))\\n    accuracies.append(accuracy)\\n    print(len(X_os),accuracy)\\n    if accuracy>=0.98: break\\n'"
      ]
     },
     "execution_count": 49,
     "metadata": {},
     "output_type": "execute_result"
    }
   ],
   "source": [
    "\"\"\"\n",
    "n_samples = []\n",
    "accuracies = []\n",
    "n_samples.append(len(X))\n",
    "accuracies.append(.72)\n",
    "\n",
    "for elements in [250,500,1000,1500,2000,2500]:\n",
    "    smote = SMOTE(sampling_strategy = {0: elements,1:elements})\n",
    "    X_os,y_os = smote.fit_resample(X,y)\n",
    "    X_os_std = StandardScaler().fit_transform(X_os)\n",
    "    perf_train, perf_test = best_estimator_holdout(bes,pd.DataFrame(X_os_std).index,X_os_std, y_os,\n",
    "                                              classes,0.7,partial(alpha_cut,.45,0),5)\n",
    "    err = (perf_train + perf_test)/2\n",
    "    accuracy = 1-err\n",
    "    n_samples.append(len(X_os))\n",
    "    accuracies.append(accuracy)\n",
    "    print(len(X_os),accuracy)\n",
    "    if accuracy>=0.98: break\n",
    "\"\"\""
   ]
  },
  {
   "cell_type": "code",
   "execution_count": 45,
   "metadata": {},
   "outputs": [
    {
     "data": {
      "text/plain": [
       "([130, 500, 1000, 2000, 3000, 4000, 5000],\n",
       " [0.72,\n",
       "  0.6504761904761904,\n",
       "  0.6742857142857143,\n",
       "  0.6762619047619047,\n",
       "  0.6736349206349206,\n",
       "  0.6824166666666667,\n",
       "  0.6769047619047619])"
      ]
     },
     "execution_count": 45,
     "metadata": {},
     "output_type": "execute_result"
    }
   ],
   "source": [
    "n_samples,accuracies"
   ]
  },
  {
   "cell_type": "code",
   "execution_count": 46,
   "metadata": {},
   "outputs": [
    {
     "data": {
      "image/png": "[encoded data removed]",
      "text/plain": [
       "<Figure size 432x288 with 1 Axes>"
      ]
     },
     "metadata": {
      "needs_background": "light"
     },
     "output_type": "display_data"
    }
   ],
   "source": [
    "plt.plot(n_samples,accuracies)\n",
    "plt.show()"
   ]
  }
 ],
 "metadata": {
  "kernelspec": {
   "display_name": "Python 3",
   "language": "python",
   "name": "python3"
  },
  "language_info": {
   "codemirror_mode": {
    "name": "ipython",
    "version": 3
   },
   "file_extension": ".py",
   "mimetype": "text/x-python",
   "name": "python",
   "nbconvert_exporter": "python",
   "pygments_lexer": "ipython3",
   "version": "3.7.3"
  }
 },
 "nbformat": 4,
 "nbformat_minor": 4
}
