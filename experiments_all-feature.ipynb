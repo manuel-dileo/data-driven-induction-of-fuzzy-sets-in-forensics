{
 "cells": [
  {
   "cell_type": "code",
   "execution_count": 1,
   "metadata": {},
   "outputs": [],
   "source": [
    "import pandas as pd\n",
    "import matplotlib.pyplot as plt\n",
    "pd.options.display.float_format = \"{:,.2f}\".format\n",
    "\n",
    "from experiments import *\n",
    "\n",
    "import sys\n",
    "\n",
    "sys.path.insert(1, '../fuzzylearn/')\n",
    "\n",
    "from fuzzylearn import *\n",
    "from fuzzylearn.fuzzifiers import LinearFuzzifier, CrispFuzzifier,ExponentialFuzzifier,QuantileLinearPiecewiseFuzzifier, QuantileConstantPiecewiseFuzzifier\n",
    "from fuzzylearn.kernel import GaussianKernel, LinearKernel, HyperbolicKernel, PolynomialKernel, HomogeneousPolynomialKernel\n",
    "from fuzzylearn import solve_optimization_gurobi\n",
    "\n",
    "from sklearn.preprocessing import StandardScaler, MinMaxScaler, MaxAbsScaler, QuantileTransformer, RobustScaler, PowerTransformer, Normalizer\n",
    "from sklearn.decomposition import PCA\n",
    "from sklearn.model_selection import GridSearchCV, cross_val_score"
   ]
  },
  {
   "cell_type": "code",
   "execution_count": 2,
   "metadata": {},
   "outputs": [
    {
     "data": {
      "text/html": [
       "<div>\n",
       "<style scoped>\n",
       "    .dataframe tbody tr th:only-of-type {\n",
       "        vertical-align: middle;\n",
       "    }\n",
       "\n",
       "    .dataframe tbody tr th {\n",
       "        vertical-align: top;\n",
       "    }\n",
       "\n",
       "    .dataframe thead th {\n",
       "        text-align: right;\n",
       "    }\n",
       "</style>\n",
       "<table border=\"1\" class=\"dataframe\">\n",
       "  <thead>\n",
       "    <tr style=\"text-align: right;\">\n",
       "      <th></th>\n",
       "      <th>DATA</th>\n",
       "      <th>SESSO</th>\n",
       "      <th>ANNI</th>\n",
       "      <th>PESO</th>\n",
       "      <th>ALTEZZA</th>\n",
       "      <th>BMI</th>\n",
       "      <th>Mezzo</th>\n",
       "      <th>Testa:Neurocranio</th>\n",
       "      <th>Testa:Splancnocranio</th>\n",
       "      <th>Testa:Telencefalo</th>\n",
       "      <th>...</th>\n",
       "      <th>II raggio sx.1</th>\n",
       "      <th>III raggio sx.1</th>\n",
       "      <th>IV raggio sx.1</th>\n",
       "      <th>V raggio sx.1</th>\n",
       "      <th>Art. coxo-femorale dx</th>\n",
       "      <th>Art. coxo-femorale sx</th>\n",
       "      <th>Rotula o Ginocchio dx</th>\n",
       "      <th>Rotula o Ginocchio sx</th>\n",
       "      <th>Caviglia dx</th>\n",
       "      <th>Caviglia sx</th>\n",
       "    </tr>\n",
       "    <tr>\n",
       "      <th>VERBALE</th>\n",
       "      <th></th>\n",
       "      <th></th>\n",
       "      <th></th>\n",
       "      <th></th>\n",
       "      <th></th>\n",
       "      <th></th>\n",
       "      <th></th>\n",
       "      <th></th>\n",
       "      <th></th>\n",
       "      <th></th>\n",
       "      <th></th>\n",
       "      <th></th>\n",
       "      <th></th>\n",
       "      <th></th>\n",
       "      <th></th>\n",
       "      <th></th>\n",
       "      <th></th>\n",
       "      <th></th>\n",
       "      <th></th>\n",
       "      <th></th>\n",
       "      <th></th>\n",
       "    </tr>\n",
       "  </thead>\n",
       "  <tbody>\n",
       "    <tr>\n",
       "      <th>85567</th>\n",
       "      <td>10893</td>\n",
       "      <td>0</td>\n",
       "      <td>81</td>\n",
       "      <td>84.00</td>\n",
       "      <td>1.75</td>\n",
       "      <td>27.43</td>\n",
       "      <td>0</td>\n",
       "      <td>1</td>\n",
       "      <td>0</td>\n",
       "      <td>0</td>\n",
       "      <td>...</td>\n",
       "      <td>0</td>\n",
       "      <td>0</td>\n",
       "      <td>0</td>\n",
       "      <td>0</td>\n",
       "      <td>0</td>\n",
       "      <td>0</td>\n",
       "      <td>0</td>\n",
       "      <td>0</td>\n",
       "      <td>0</td>\n",
       "      <td>0</td>\n",
       "    </tr>\n",
       "    <tr>\n",
       "      <th>85829</th>\n",
       "      <td>10970</td>\n",
       "      <td>1</td>\n",
       "      <td>69</td>\n",
       "      <td>69.00</td>\n",
       "      <td>1.62</td>\n",
       "      <td>26.29</td>\n",
       "      <td>1</td>\n",
       "      <td>4</td>\n",
       "      <td>4</td>\n",
       "      <td>4</td>\n",
       "      <td>...</td>\n",
       "      <td>0</td>\n",
       "      <td>0</td>\n",
       "      <td>0</td>\n",
       "      <td>0</td>\n",
       "      <td>0</td>\n",
       "      <td>0</td>\n",
       "      <td>0</td>\n",
       "      <td>0</td>\n",
       "      <td>0</td>\n",
       "      <td>0</td>\n",
       "    </tr>\n",
       "    <tr>\n",
       "      <th>85977</th>\n",
       "      <td>11026</td>\n",
       "      <td>1</td>\n",
       "      <td>71</td>\n",
       "      <td>67.00</td>\n",
       "      <td>1.55</td>\n",
       "      <td>27.89</td>\n",
       "      <td>1</td>\n",
       "      <td>2</td>\n",
       "      <td>0</td>\n",
       "      <td>1</td>\n",
       "      <td>...</td>\n",
       "      <td>0</td>\n",
       "      <td>0</td>\n",
       "      <td>0</td>\n",
       "      <td>0</td>\n",
       "      <td>0</td>\n",
       "      <td>0</td>\n",
       "      <td>0</td>\n",
       "      <td>0</td>\n",
       "      <td>0</td>\n",
       "      <td>0</td>\n",
       "    </tr>\n",
       "    <tr>\n",
       "      <th>86220</th>\n",
       "      <td>11122</td>\n",
       "      <td>1</td>\n",
       "      <td>54</td>\n",
       "      <td>60.00</td>\n",
       "      <td>1.59</td>\n",
       "      <td>23.73</td>\n",
       "      <td>1</td>\n",
       "      <td>4</td>\n",
       "      <td>0</td>\n",
       "      <td>0</td>\n",
       "      <td>...</td>\n",
       "      <td>0</td>\n",
       "      <td>0</td>\n",
       "      <td>0</td>\n",
       "      <td>0</td>\n",
       "      <td>0</td>\n",
       "      <td>0</td>\n",
       "      <td>0</td>\n",
       "      <td>0</td>\n",
       "      <td>0</td>\n",
       "      <td>0</td>\n",
       "    </tr>\n",
       "    <tr>\n",
       "      <th>86247</th>\n",
       "      <td>11130</td>\n",
       "      <td>1</td>\n",
       "      <td>78</td>\n",
       "      <td>69.00</td>\n",
       "      <td>1.67</td>\n",
       "      <td>24.74</td>\n",
       "      <td>1</td>\n",
       "      <td>2</td>\n",
       "      <td>0</td>\n",
       "      <td>0</td>\n",
       "      <td>...</td>\n",
       "      <td>0</td>\n",
       "      <td>0</td>\n",
       "      <td>0</td>\n",
       "      <td>0</td>\n",
       "      <td>0</td>\n",
       "      <td>0</td>\n",
       "      <td>0</td>\n",
       "      <td>0</td>\n",
       "      <td>0</td>\n",
       "      <td>0</td>\n",
       "    </tr>\n",
       "  </tbody>\n",
       "</table>\n",
       "<p>5 rows × 366 columns</p>\n",
       "</div>"
      ],
      "text/plain": [
       "          DATA  SESSO  ANNI  PESO  ALTEZZA   BMI  Mezzo  Testa:Neurocranio  \\\n",
       "VERBALE                                                                      \n",
       "85567    10893      0    81 84.00     1.75 27.43      0                  1   \n",
       "85829    10970      1    69 69.00     1.62 26.29      1                  4   \n",
       "85977    11026      1    71 67.00     1.55 27.89      1                  2   \n",
       "86220    11122      1    54 60.00     1.59 23.73      1                  4   \n",
       "86247    11130      1    78 69.00     1.67 24.74      1                  2   \n",
       "\n",
       "         Testa:Splancnocranio  Testa:Telencefalo  ...  II raggio sx.1  \\\n",
       "VERBALE                                           ...                   \n",
       "85567                       0                  0  ...               0   \n",
       "85829                       4                  4  ...               0   \n",
       "85977                       0                  1  ...               0   \n",
       "86220                       0                  0  ...               0   \n",
       "86247                       0                  0  ...               0   \n",
       "\n",
       "         III raggio sx.1  IV raggio sx.1  V raggio sx.1  \\\n",
       "VERBALE                                                   \n",
       "85567                  0               0              0   \n",
       "85829                  0               0              0   \n",
       "85977                  0               0              0   \n",
       "86220                  0               0              0   \n",
       "86247                  0               0              0   \n",
       "\n",
       "         Art. coxo-femorale dx  Art. coxo-femorale sx  Rotula o Ginocchio dx  \\\n",
       "VERBALE                                                                        \n",
       "85567                        0                      0                      0   \n",
       "85829                        0                      0                      0   \n",
       "85977                        0                      0                      0   \n",
       "86220                        0                      0                      0   \n",
       "86247                        0                      0                      0   \n",
       "\n",
       "         Rotula o Ginocchio sx  Caviglia dx  Caviglia sx  \n",
       "VERBALE                                                   \n",
       "85567                        0            0            0  \n",
       "85829                        0            0            0  \n",
       "85977                        0            0            0  \n",
       "86220                        0            0            0  \n",
       "86247                        0            0            0  \n",
       "\n",
       "[5 rows x 366 columns]"
      ]
     },
     "execution_count": 2,
     "metadata": {},
     "output_type": "execute_result"
    }
   ],
   "source": [
    "dataset = pd.read_excel(\"dataset/DATABASE_UNITO_modificato.xlsx\")\n",
    "dataset = dataset.set_index(\"VERBALE\")\n",
    "\n",
    "import datetime as dt\n",
    "\n",
    "dataset.DATA = dataset.DATA.apply(lambda d: (d - dt.datetime(1970,1,1)).days)\n",
    "\n",
    "dataset.head()"
   ]
  },
  {
   "cell_type": "code",
   "execution_count": 8,
   "metadata": {},
   "outputs": [
    {
     "name": "stdout",
     "output_type": "stream",
     "text": [
      "['Neurocranio', 'Splancnocranio', 'Telencefalo', 'Cervelletto', 'Tronco encefalico']\n"
     ]
    }
   ],
   "source": [
    "print(list(map(lambda x: x.split(':')[1],list(dataset.columns)[7:12])))"
   ]
  },
  {
   "cell_type": "markdown",
   "metadata": {},
   "source": [
    "## Consistenza dei dati"
   ]
  },
  {
   "cell_type": "code",
   "execution_count": 6,
   "metadata": {},
   "outputs": [],
   "source": [
    "def check_column(predicate,column_name,values):\n",
    "    correct = all(map(predicate,values))\n",
    "    if not correct: print(column_name)"
   ]
  },
  {
   "cell_type": "markdown",
   "metadata": {},
   "source": [
    "### Lesioni e Totali"
   ]
  },
  {
   "cell_type": "code",
   "execution_count": 7,
   "metadata": {},
   "outputs": [],
   "source": [
    "lesioni_da_controllare = list(dataset.columns[32:])"
   ]
  },
  {
   "cell_type": "code",
   "execution_count": 8,
   "metadata": {},
   "outputs": [
    {
     "name": "stdout",
     "output_type": "stream",
     "text": [
      "I costa dx\n",
      "II costa dx\n",
      "III costa dx\n",
      "IV costa dx\n",
      "V costa dx\n",
      "VI costa dx\n",
      "VII costa dx\n",
      "VIII costa dx\n",
      "IX costa dx\n",
      "X costa dx\n",
      "XI costa dx\n",
      "XII costa dx\n",
      "I costa sx\n",
      "II costa sx\n",
      "III costa sx\n",
      "IV costa sx\n",
      "V costa sx\n",
      "VI costa sx\n",
      "VII costa sx\n",
      "VIII costa sx\n",
      "IX costa sx\n",
      "X costa sx\n",
      "XI costa sx\n",
      "XII costa sx\n"
     ]
    }
   ],
   "source": [
    "for column_name in lesioni_da_controllare:\n",
    "    check_column(lambda x: (x>=0 and x<=4) or (\"tot\" in column_name.lower()),column_name,dataset[column_name].values)"
   ]
  },
  {
   "cell_type": "markdown",
   "metadata": {},
   "source": [
    "Le uniche colonne corrispondenti a lesioni che hanno valori fuori dal range sono quelle legate alle coste che sono in realtà dei totali."
   ]
  },
  {
   "cell_type": "markdown",
   "metadata": {},
   "source": [
    "### Unicità indice"
   ]
  },
  {
   "cell_type": "code",
   "execution_count": 9,
   "metadata": {},
   "outputs": [
    {
     "data": {
      "text/plain": [
       "True"
      ]
     },
     "execution_count": 9,
     "metadata": {},
     "output_type": "execute_result"
    }
   ],
   "source": [
    "len(dataset.index.unique()) == len(dataset.index)"
   ]
  },
  {
   "cell_type": "markdown",
   "metadata": {},
   "source": [
    "### Sesso, Mezzo"
   ]
  },
  {
   "cell_type": "code",
   "execution_count": 10,
   "metadata": {},
   "outputs": [],
   "source": [
    "check_column(lambda x: x==0 or x==1,'SESSO',dataset['SESSO'].values)"
   ]
  },
  {
   "cell_type": "code",
   "execution_count": 11,
   "metadata": {},
   "outputs": [],
   "source": [
    "check_column(lambda x: x==0 or x==1,'Mezzo',dataset['Mezzo'].values)"
   ]
  },
  {
   "cell_type": "markdown",
   "metadata": {},
   "source": [
    "### Anagrafica"
   ]
  },
  {
   "cell_type": "code",
   "execution_count": 12,
   "metadata": {},
   "outputs": [],
   "source": [
    "for col in list(dataset.columns[2:6]):\n",
    "    check_column(lambda x: x>0,col,dataset[col].values)"
   ]
  },
  {
   "cell_type": "markdown",
   "metadata": {},
   "source": [
    "## Esperimenti"
   ]
  },
  {
   "cell_type": "code",
   "execution_count": 13,
   "metadata": {},
   "outputs": [],
   "source": [
    "import logging\n",
    "\n",
    "# create logger\n",
    "f_logger = logging.getLogger(__name__)\n",
    "f_logger.setLevel(logging.INFO)\n",
    "\n",
    "# create console handler and set level to debug\n",
    "file = logging.FileHandler('esperimenti_all_columns.log')\n",
    "file.setLevel(logging.INFO)\n",
    "\n",
    "# create formatter\n",
    "formatter = logging.Formatter('%(asctime)s -%(message)s')\n",
    "\n",
    "# add formatter to ch\n",
    "file.setFormatter(formatter)\n",
    "\n",
    "# add ch to logger\n",
    "f_logger.addHandler(file)"
   ]
  },
  {
   "cell_type": "code",
   "execution_count": 14,
   "metadata": {},
   "outputs": [
    {
     "data": {
      "text/plain": [
       "'\\nwith open(\\'esperimenti_all_columns.json\\', \"w\") as write_file:\\n    json.dump({}, write_file)\\n'"
      ]
     },
     "execution_count": 14,
     "metadata": {},
     "output_type": "execute_result"
    }
   ],
   "source": [
    "import json\n",
    "\n",
    "\"\"\"\n",
    "with open('esperimenti_all_columns.json', \"w\") as write_file:\n",
    "    json.dump({}, write_file)\n",
    "\"\"\""
   ]
  },
  {
   "cell_type": "code",
   "execution_count": 15,
   "metadata": {},
   "outputs": [],
   "source": [
    "mu1 = dataset['Mezzo'].values\n",
    "mu0 = np.asarray(list(map(lambda x: 0 if x else 1,mu1)))"
   ]
  },
  {
   "cell_type": "code",
   "execution_count": 16,
   "metadata": {},
   "outputs": [],
   "source": [
    "columns_lesioni = list(filter(lambda x: 'tot' not in x.lower(),list(dataset.columns[7:])))[:66]"
   ]
  },
  {
   "cell_type": "code",
   "execution_count": 17,
   "metadata": {},
   "outputs": [],
   "source": [
    "fuzzifiers_class = [LinearFuzzifier,ExponentialFuzzifier, CrispFuzzifier, QuantileConstantPiecewiseFuzzifier, QuantileLinearPiecewiseFuzzifier]\n",
    "fuzzifiers_to_string = {LinearFuzzifier: \"LinearFuzzifier\",\n",
    "                        ExponentialFuzzifier:\"ExponentialFuzzifier\",\n",
    "                        CrispFuzzifier: \"CrispFuzzifier\",\n",
    "                        QuantileConstantPiecewiseFuzzifier: \" QuantileConstantPiecewiseFuzzifier\",\n",
    "                        QuantileLinearPiecewiseFuzzifier: \"QuantileLinearPiecewiseFuzzifier\"}"
   ]
  },
  {
   "cell_type": "code",
   "execution_count": 18,
   "metadata": {},
   "outputs": [],
   "source": [
    "sigmas = np.arange(.1,1,.1)\n",
    "\n",
    "params_grid = {\n",
    "    'c': [0.021544346900318846],\n",
    "    'k': [LinearKernel()] + [GaussianKernel(sigma) for sigma in sigmas]\n",
    "}"
   ]
  },
  {
   "cell_type": "code",
   "execution_count": 19,
   "metadata": {},
   "outputs": [],
   "source": [
    "for c,l in zip([20,40,50,66],['LesioniAllNoCoste20','LesioniAllNoCoste40','LesioniAllNoCoste50','LesioniAllNoCoste66']):\n",
    "    dim_red = PCA(n_components=c)\n",
    "    tnc = incidenti_fuzzifier_table(dataset,[columns_lesioni],fuzzifiers_class,FuzzyInductor,mu1,params_grid,3,3,logger=f_logger,dim_reduction=dim_red,file_json='json_result/fuzzifiers_all.json',labels=[l])\n",
    "    tnc.to_json('json_result/fuzzifiers_all.json')"
   ]
  },
  {
   "cell_type": "code",
   "execution_count": 21,
   "metadata": {},
   "outputs": [],
   "source": [
    "for c,l in zip([20,40,50,66],['LesioniAllNoCoste20_0','LesioniAllNoCoste40_0','LesioniAllNoCoste50_0','LesioniAllNoCoste66_0']):\n",
    "    dim_red = PCA(n_components=c)\n",
    "    tnc0 = incidenti_fuzzifier_table(dataset,[columns_lesioni],fuzzifiers_class,FuzzyInductor,mu0,params_grid,3,3,logger=f_logger,dim_reduction=dim_red,file_json='json_result/fuzzifiers_all0.json',labels=[l])\n",
    "    tnc0.to_json('json_result/fuzzifiers_all0.json')"
   ]
  },
  {
   "cell_type": "code",
   "execution_count": 23,
   "metadata": {},
   "outputs": [],
   "source": [
    "columns_lesioni_all = list(filter(lambda x: 'tot' not in x.lower() and 'costa' not in x.lower(),list(dataset.columns[7:])))"
   ]
  },
  {
   "cell_type": "code",
   "execution_count": 41,
   "metadata": {},
   "outputs": [],
   "source": [
    "for c,l in zip([130],['LesioniAll130']):\n",
    "    dim_red = PCA(n_components=c)\n",
    "    tnc = incidenti_fuzzifier_table(dataset,[columns_lesioni_all],fuzzifiers_class,FuzzyInductor,mu1,params_grid,3,3,logger=f_logger,dim_reduction=dim_red,file_json='json_result/fuzzifiers_all.json',labels=[l])\n",
    "    tnc.to_json('json_result/fuzzifiers_all.json')"
   ]
  },
  {
   "cell_type": "code",
   "execution_count": 38,
   "metadata": {},
   "outputs": [
    {
     "data": {
      "text/html": [
       "<div>\n",
       "<style scoped>\n",
       "    .dataframe tbody tr th:only-of-type {\n",
       "        vertical-align: middle;\n",
       "    }\n",
       "\n",
       "    .dataframe tbody tr th {\n",
       "        vertical-align: top;\n",
       "    }\n",
       "\n",
       "    .dataframe thead th {\n",
       "        text-align: right;\n",
       "    }\n",
       "</style>\n",
       "<table border=\"1\" class=\"dataframe\">\n",
       "  <thead>\n",
       "    <tr style=\"text-align: right;\">\n",
       "      <th></th>\n",
       "      <th>LesioniAllNoCoste20</th>\n",
       "      <th>LesioniAllNoCoste40</th>\n",
       "      <th>LesioniAllNoCoste50</th>\n",
       "      <th>LesioniAllNoCoste66</th>\n",
       "      <th>LesioniAll50</th>\n",
       "      <th>LesioniAll100</th>\n",
       "      <th>LesioniAll130</th>\n",
       "    </tr>\n",
       "  </thead>\n",
       "  <tbody>\n",
       "    <tr>\n",
       "      <th>QuantileConstantPiecewiseFuzzifier</th>\n",
       "      <td>-0.61</td>\n",
       "      <td>-0.33</td>\n",
       "      <td>-0.62</td>\n",
       "      <td>-0.62</td>\n",
       "      <td>-0.33</td>\n",
       "      <td>-0.33</td>\n",
       "      <td>-0.33</td>\n",
       "    </tr>\n",
       "    <tr>\n",
       "      <th>CrispFuzzifier</th>\n",
       "      <td>-0.46</td>\n",
       "      <td>-0.45</td>\n",
       "      <td>-0.46</td>\n",
       "      <td>-0.46</td>\n",
       "      <td>-0.46</td>\n",
       "      <td>-0.46</td>\n",
       "      <td>-0.46</td>\n",
       "    </tr>\n",
       "    <tr>\n",
       "      <th>ExponentialFuzzifier</th>\n",
       "      <td>-0.45</td>\n",
       "      <td>-0.45</td>\n",
       "      <td>-0.45</td>\n",
       "      <td>-0.45</td>\n",
       "      <td>-0.46</td>\n",
       "      <td>-0.46</td>\n",
       "      <td>0.46</td>\n",
       "    </tr>\n",
       "    <tr>\n",
       "      <th>LinearFuzzifier</th>\n",
       "      <td>-0.57</td>\n",
       "      <td>-0.45</td>\n",
       "      <td>-0.54</td>\n",
       "      <td>-0.54</td>\n",
       "      <td>-0.46</td>\n",
       "      <td>-0.46</td>\n",
       "      <td>-0.46</td>\n",
       "    </tr>\n",
       "    <tr>\n",
       "      <th>QuantileLinearPiecewiseFuzzifier</th>\n",
       "      <td>-0.61</td>\n",
       "      <td>-0.33</td>\n",
       "      <td>-0.62</td>\n",
       "      <td>-0.62</td>\n",
       "      <td>-0.33</td>\n",
       "      <td>-0.33</td>\n",
       "      <td>-0.33</td>\n",
       "    </tr>\n",
       "  </tbody>\n",
       "</table>\n",
       "</div>"
      ],
      "text/plain": [
       "                                     LesioniAllNoCoste20  LesioniAllNoCoste40  \\\n",
       " QuantileConstantPiecewiseFuzzifier                -0.61                -0.33   \n",
       "CrispFuzzifier                                     -0.46                -0.45   \n",
       "ExponentialFuzzifier                               -0.45                -0.45   \n",
       "LinearFuzzifier                                    -0.57                -0.45   \n",
       "QuantileLinearPiecewiseFuzzifier                   -0.61                -0.33   \n",
       "\n",
       "                                     LesioniAllNoCoste50  LesioniAllNoCoste66  \\\n",
       " QuantileConstantPiecewiseFuzzifier                -0.62                -0.62   \n",
       "CrispFuzzifier                                     -0.46                -0.46   \n",
       "ExponentialFuzzifier                               -0.45                -0.45   \n",
       "LinearFuzzifier                                    -0.54                -0.54   \n",
       "QuantileLinearPiecewiseFuzzifier                   -0.62                -0.62   \n",
       "\n",
       "                                     LesioniAll50  LesioniAll100  \\\n",
       " QuantileConstantPiecewiseFuzzifier         -0.33          -0.33   \n",
       "CrispFuzzifier                              -0.46          -0.46   \n",
       "ExponentialFuzzifier                        -0.46          -0.46   \n",
       "LinearFuzzifier                             -0.46          -0.46   \n",
       "QuantileLinearPiecewiseFuzzifier            -0.33          -0.33   \n",
       "\n",
       "                                     LesioniAll130  \n",
       " QuantileConstantPiecewiseFuzzifier          -0.33  \n",
       "CrispFuzzifier                               -0.46  \n",
       "ExponentialFuzzifier                          0.46  \n",
       "LinearFuzzifier                              -0.46  \n",
       "QuantileLinearPiecewiseFuzzifier             -0.33  "
      ]
     },
     "execution_count": 38,
     "metadata": {},
     "output_type": "execute_result"
    }
   ],
   "source": [
    "tnc = pd.read_json('json_result/fuzzifiers_all.json')\n",
    "tnc"
   ]
  },
  {
   "cell_type": "code",
   "execution_count": 40,
   "metadata": {},
   "outputs": [],
   "source": [
    "for c,l in zip([50,100,130],['LesioniAll50_0','LesioniAll100_0','LesioniAll130_0']):\n",
    "    dim_red = PCA(n_components=c)\n",
    "    tnc = incidenti_fuzzifier_table(dataset,[columns_lesioni_all],fuzzifiers_class,FuzzyInductor,mu0,params_grid,3,3,logger=f_logger,dim_reduction=dim_red,file_json='json_result/fuzzifiers_all0.json',labels=[l])\n",
    "    tnc.to_json('json_result/fuzzifiers_all0.json')"
   ]
  },
  {
   "cell_type": "code",
   "execution_count": 39,
   "metadata": {},
   "outputs": [
    {
     "data": {
      "text/html": [
       "<div>\n",
       "<style scoped>\n",
       "    .dataframe tbody tr th:only-of-type {\n",
       "        vertical-align: middle;\n",
       "    }\n",
       "\n",
       "    .dataframe tbody tr th {\n",
       "        vertical-align: top;\n",
       "    }\n",
       "\n",
       "    .dataframe thead th {\n",
       "        text-align: right;\n",
       "    }\n",
       "</style>\n",
       "<table border=\"1\" class=\"dataframe\">\n",
       "  <thead>\n",
       "    <tr style=\"text-align: right;\">\n",
       "      <th></th>\n",
       "      <th>LesioniAllNoCoste20_0</th>\n",
       "      <th>LesioniAllNoCoste40_0</th>\n",
       "      <th>LesioniAllNoCoste50_0</th>\n",
       "      <th>LesioniAllNoCoste66_0</th>\n",
       "      <th>LesioniAll50_0</th>\n",
       "      <th>LesioniAll100_0</th>\n",
       "      <th>LesioniAll130_0</th>\n",
       "    </tr>\n",
       "  </thead>\n",
       "  <tbody>\n",
       "    <tr>\n",
       "      <th>QuantileConstantPiecewiseFuzzifier</th>\n",
       "      <td>-0.43</td>\n",
       "      <td>-0.42</td>\n",
       "      <td>-0.42</td>\n",
       "      <td>-0.42</td>\n",
       "      <td>-0.29</td>\n",
       "      <td>-0.29</td>\n",
       "      <td>-0.29</td>\n",
       "    </tr>\n",
       "    <tr>\n",
       "      <th>CrispFuzzifier</th>\n",
       "      <td>-0.54</td>\n",
       "      <td>-0.54</td>\n",
       "      <td>-0.54</td>\n",
       "      <td>-0.54</td>\n",
       "      <td>-0.48</td>\n",
       "      <td>-0.54</td>\n",
       "      <td>-0.54</td>\n",
       "    </tr>\n",
       "    <tr>\n",
       "      <th>ExponentialFuzzifier</th>\n",
       "      <td>-0.29</td>\n",
       "      <td>-0.28</td>\n",
       "      <td>-0.27</td>\n",
       "      <td>-0.27</td>\n",
       "      <td>-0.51</td>\n",
       "      <td>-0.54</td>\n",
       "      <td>-0.54</td>\n",
       "    </tr>\n",
       "    <tr>\n",
       "      <th>LinearFuzzifier</th>\n",
       "      <td>-0.30</td>\n",
       "      <td>-0.29</td>\n",
       "      <td>-0.28</td>\n",
       "      <td>-0.28</td>\n",
       "      <td>-0.49</td>\n",
       "      <td>-0.54</td>\n",
       "      <td>-0.54</td>\n",
       "    </tr>\n",
       "    <tr>\n",
       "      <th>QuantileLinearPiecewiseFuzzifier</th>\n",
       "      <td>-0.43</td>\n",
       "      <td>-0.42</td>\n",
       "      <td>-0.42</td>\n",
       "      <td>-0.42</td>\n",
       "      <td>-0.29</td>\n",
       "      <td>-0.29</td>\n",
       "      <td>-0.29</td>\n",
       "    </tr>\n",
       "  </tbody>\n",
       "</table>\n",
       "</div>"
      ],
      "text/plain": [
       "                                     LesioniAllNoCoste20_0  \\\n",
       " QuantileConstantPiecewiseFuzzifier                  -0.43   \n",
       "CrispFuzzifier                                       -0.54   \n",
       "ExponentialFuzzifier                                 -0.29   \n",
       "LinearFuzzifier                                      -0.30   \n",
       "QuantileLinearPiecewiseFuzzifier                     -0.43   \n",
       "\n",
       "                                     LesioniAllNoCoste40_0  \\\n",
       " QuantileConstantPiecewiseFuzzifier                  -0.42   \n",
       "CrispFuzzifier                                       -0.54   \n",
       "ExponentialFuzzifier                                 -0.28   \n",
       "LinearFuzzifier                                      -0.29   \n",
       "QuantileLinearPiecewiseFuzzifier                     -0.42   \n",
       "\n",
       "                                     LesioniAllNoCoste50_0  \\\n",
       " QuantileConstantPiecewiseFuzzifier                  -0.42   \n",
       "CrispFuzzifier                                       -0.54   \n",
       "ExponentialFuzzifier                                 -0.27   \n",
       "LinearFuzzifier                                      -0.28   \n",
       "QuantileLinearPiecewiseFuzzifier                     -0.42   \n",
       "\n",
       "                                     LesioniAllNoCoste66_0  LesioniAll50_0  \\\n",
       " QuantileConstantPiecewiseFuzzifier                  -0.42           -0.29   \n",
       "CrispFuzzifier                                       -0.54           -0.48   \n",
       "ExponentialFuzzifier                                 -0.27           -0.51   \n",
       "LinearFuzzifier                                      -0.28           -0.49   \n",
       "QuantileLinearPiecewiseFuzzifier                     -0.42           -0.29   \n",
       "\n",
       "                                     LesioniAll100_0  LesioniAll130_0  \n",
       " QuantileConstantPiecewiseFuzzifier            -0.29            -0.29  \n",
       "CrispFuzzifier                                 -0.54            -0.54  \n",
       "ExponentialFuzzifier                           -0.54            -0.54  \n",
       "LinearFuzzifier                                -0.54            -0.54  \n",
       "QuantileLinearPiecewiseFuzzifier               -0.29            -0.29  "
      ]
     },
     "execution_count": 39,
     "metadata": {},
     "output_type": "execute_result"
    }
   ],
   "source": [
    "tnc0 = pd.read_json('json_result/fuzzifiers_all0.json')\n",
    "tnc0"
   ]
  },
  {
   "cell_type": "markdown",
   "metadata": {},
   "source": [
    "## Defuzzification"
   ]
  },
  {
   "cell_type": "code",
   "execution_count": 24,
   "metadata": {},
   "outputs": [],
   "source": [
    "scaling = StandardScaler()\n",
    "dim_red = PCA(n_components=40)"
   ]
  },
  {
   "cell_type": "code",
   "execution_count": 25,
   "metadata": {},
   "outputs": [],
   "source": [
    "values = dataset[columns_lesioni].values\n",
    "values_std = scaling.fit_transform(values)\n",
    "values_20d = dim_red.fit_transform(values_std)\n",
    "\n",
    "classes = (1,0)"
   ]
  },
  {
   "cell_type": "code",
   "execution_count": 26,
   "metadata": {},
   "outputs": [],
   "source": [
    "be1 = FuzzyInductor(fuzzifier=QuantileConstantPiecewiseFuzzifier,c=0.021544346900318846,k=GaussianKernel(.4))\n",
    "be0 = FuzzyInductor(fuzzifier=ExponentialFuzzifier,c=0.021544346900318846,k=LinearKernel())\n",
    "bes = [be1,be0]"
   ]
  },
  {
   "cell_type": "code",
   "execution_count": 23,
   "metadata": {},
   "outputs": [],
   "source": [
    "results_df = pd.DataFrame()"
   ]
  },
  {
   "cell_type": "code",
   "execution_count": 28,
   "metadata": {},
   "outputs": [],
   "source": [
    "ptrain = 0.7"
   ]
  },
  {
   "cell_type": "code",
   "execution_count": 29,
   "metadata": {},
   "outputs": [
    {
     "name": "stderr",
     "output_type": "stream",
     "text": [
      "100%|██████████| 100/100 [00:23<00:00,  4.42it/s]\n",
      "100%|██████████| 100/100 [00:22<00:00,  4.49it/s]\n",
      "100%|██████████| 100/100 [00:23<00:00,  4.50it/s]\n",
      "100%|██████████| 100/100 [00:22<00:00,  4.35it/s]\n",
      "100%|██████████| 100/100 [00:22<00:00,  4.48it/s]\n",
      "100%|██████████| 100/100 [00:34<00:00,  3.61it/s]\n"
     ]
    }
   ],
   "source": [
    "perf_train, perf_test =best_estimator_holdout(bes,dataset.index,values_20d, mu1,\n",
    "                                              classes,ptrain,classify,3)"
   ]
  },
  {
   "cell_type": "code",
   "execution_count": 30,
   "metadata": {},
   "outputs": [],
   "source": [
    "results_df = results_df.append({'train_err': perf_train,'test_err': perf_test, 'train%': ptrain},ignore_index=True)"
   ]
  },
  {
   "cell_type": "code",
   "execution_count": 31,
   "metadata": {},
   "outputs": [
    {
     "data": {
      "text/html": [
       "<div>\n",
       "<style scoped>\n",
       "    .dataframe tbody tr th:only-of-type {\n",
       "        vertical-align: middle;\n",
       "    }\n",
       "\n",
       "    .dataframe tbody tr th {\n",
       "        vertical-align: top;\n",
       "    }\n",
       "\n",
       "    .dataframe thead th {\n",
       "        text-align: right;\n",
       "    }\n",
       "</style>\n",
       "<table border=\"1\" class=\"dataframe\">\n",
       "  <thead>\n",
       "    <tr style=\"text-align: right;\">\n",
       "      <th></th>\n",
       "      <th>test_err</th>\n",
       "      <th>train%</th>\n",
       "      <th>train_err</th>\n",
       "    </tr>\n",
       "  </thead>\n",
       "  <tbody>\n",
       "    <tr>\n",
       "      <th>0</th>\n",
       "      <td>0.33</td>\n",
       "      <td>0.99</td>\n",
       "      <td>0.42</td>\n",
       "    </tr>\n",
       "    <tr>\n",
       "      <th>1</th>\n",
       "      <td>0.46</td>\n",
       "      <td>0.70</td>\n",
       "      <td>0.40</td>\n",
       "    </tr>\n",
       "  </tbody>\n",
       "</table>\n",
       "</div>"
      ],
      "text/plain": [
       "   test_err  train%  train_err\n",
       "0      0.33    0.99       0.42\n",
       "1      0.46    0.70       0.40"
      ]
     },
     "execution_count": 31,
     "metadata": {},
     "output_type": "execute_result"
    }
   ],
   "source": [
    "results_df"
   ]
  }
 ],
 "metadata": {
  "kernelspec": {
   "display_name": "Python 3",
   "language": "python",
   "name": "python3"
  },
  "language_info": {
   "codemirror_mode": {
    "name": "ipython",
    "version": 3
   },
   "file_extension": ".py",
   "mimetype": "text/x-python",
   "name": "python",
   "nbconvert_exporter": "python",
   "pygments_lexer": "ipython3",
   "version": "3.7.3"
  }
 },
 "nbformat": 4,
 "nbformat_minor": 2
}
