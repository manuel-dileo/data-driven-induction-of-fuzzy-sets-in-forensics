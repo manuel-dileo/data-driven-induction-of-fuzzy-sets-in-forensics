{
 "cells": [
  {
   "cell_type": "code",
   "execution_count": 1,
   "metadata": {},
   "outputs": [],
   "source": [
    "import pandas as pd\n",
    "import matplotlib.pyplot as plt\n",
    "pd.options.display.float_format = \"{:,.2f}\".format\n",
    "\n",
    "import json\n",
    "import logging\n",
    "\n",
    "import sys\n",
    "\n",
    "sys.path.insert(1, '../fuzzylearn/')\n",
    "\n",
    "from fuzzylearn import *\n",
    "from fuzzylearn.fuzzifiers import LinearFuzzifier, CrispFuzzifier,ExponentialFuzzifier,QuantileLinearPiecewiseFuzzifier, QuantileConstantPiecewiseFuzzifier\n",
    "from fuzzylearn.kernel import GaussianKernel, LinearKernel, HyperbolicKernel, PolynomialKernel, HomogeneousPolynomialKernel\n",
    "from fuzzylearn import solve_optimization_gurobi\n",
    "\n",
    "from sklearn.preprocessing import StandardScaler, MinMaxScaler, MaxAbsScaler, QuantileTransformer, RobustScaler, PowerTransformer, Normalizer\n",
    "from sklearn.decomposition import PCA\n",
    "from sklearn.model_selection import GridSearchCV, cross_val_score\n",
    "\n",
    "from sklearn.manifold import TSNE"
   ]
  },
  {
   "cell_type": "code",
   "execution_count": 2,
   "metadata": {},
   "outputs": [],
   "source": [
    "dfo = pd.read_excel(\"dataset/DATABASE_UNITO_modificato.xlsx\")\n",
    "dfo = dfo.set_index(\"VERBALE\")"
   ]
  },
  {
   "cell_type": "code",
   "execution_count": 3,
   "metadata": {},
   "outputs": [
    {
     "data": {
      "text/html": [
       "<div>\n",
       "<style scoped>\n",
       "    .dataframe tbody tr th:only-of-type {\n",
       "        vertical-align: middle;\n",
       "    }\n",
       "\n",
       "    .dataframe tbody tr th {\n",
       "        vertical-align: top;\n",
       "    }\n",
       "\n",
       "    .dataframe thead th {\n",
       "        text-align: right;\n",
       "    }\n",
       "</style>\n",
       "<table border=\"1\" class=\"dataframe\">\n",
       "  <thead>\n",
       "    <tr style=\"text-align: right;\">\n",
       "      <th></th>\n",
       "      <th>DATA</th>\n",
       "      <th>SESSO</th>\n",
       "      <th>ANNI</th>\n",
       "      <th>PESO</th>\n",
       "      <th>ALTEZZA</th>\n",
       "      <th>BMI</th>\n",
       "      <th>Mezzo</th>\n",
       "      <th>Testa:Neurocranio</th>\n",
       "      <th>Testa:Splancnocranio</th>\n",
       "      <th>Testa:Telencefalo</th>\n",
       "      <th>...</th>\n",
       "      <th>II raggio sx.1</th>\n",
       "      <th>III raggio sx.1</th>\n",
       "      <th>IV raggio sx.1</th>\n",
       "      <th>V raggio sx.1</th>\n",
       "      <th>Art. coxo-femorale dx</th>\n",
       "      <th>Art. coxo-femorale sx</th>\n",
       "      <th>Rotula o Ginocchio dx</th>\n",
       "      <th>Rotula o Ginocchio sx</th>\n",
       "      <th>Caviglia dx</th>\n",
       "      <th>Caviglia sx</th>\n",
       "    </tr>\n",
       "    <tr>\n",
       "      <th>VERBALE</th>\n",
       "      <th></th>\n",
       "      <th></th>\n",
       "      <th></th>\n",
       "      <th></th>\n",
       "      <th></th>\n",
       "      <th></th>\n",
       "      <th></th>\n",
       "      <th></th>\n",
       "      <th></th>\n",
       "      <th></th>\n",
       "      <th></th>\n",
       "      <th></th>\n",
       "      <th></th>\n",
       "      <th></th>\n",
       "      <th></th>\n",
       "      <th></th>\n",
       "      <th></th>\n",
       "      <th></th>\n",
       "      <th></th>\n",
       "      <th></th>\n",
       "      <th></th>\n",
       "    </tr>\n",
       "  </thead>\n",
       "  <tbody>\n",
       "    <tr>\n",
       "      <th>85567</th>\n",
       "      <td>10893</td>\n",
       "      <td>0</td>\n",
       "      <td>81</td>\n",
       "      <td>84.00</td>\n",
       "      <td>1.75</td>\n",
       "      <td>27.43</td>\n",
       "      <td>0</td>\n",
       "      <td>1</td>\n",
       "      <td>0</td>\n",
       "      <td>0</td>\n",
       "      <td>...</td>\n",
       "      <td>0</td>\n",
       "      <td>0</td>\n",
       "      <td>0</td>\n",
       "      <td>0</td>\n",
       "      <td>0</td>\n",
       "      <td>0</td>\n",
       "      <td>0</td>\n",
       "      <td>0</td>\n",
       "      <td>0</td>\n",
       "      <td>0</td>\n",
       "    </tr>\n",
       "    <tr>\n",
       "      <th>85829</th>\n",
       "      <td>10970</td>\n",
       "      <td>1</td>\n",
       "      <td>69</td>\n",
       "      <td>69.00</td>\n",
       "      <td>1.62</td>\n",
       "      <td>26.29</td>\n",
       "      <td>1</td>\n",
       "      <td>4</td>\n",
       "      <td>4</td>\n",
       "      <td>4</td>\n",
       "      <td>...</td>\n",
       "      <td>0</td>\n",
       "      <td>0</td>\n",
       "      <td>0</td>\n",
       "      <td>0</td>\n",
       "      <td>0</td>\n",
       "      <td>0</td>\n",
       "      <td>0</td>\n",
       "      <td>0</td>\n",
       "      <td>0</td>\n",
       "      <td>0</td>\n",
       "    </tr>\n",
       "    <tr>\n",
       "      <th>85977</th>\n",
       "      <td>11026</td>\n",
       "      <td>1</td>\n",
       "      <td>71</td>\n",
       "      <td>67.00</td>\n",
       "      <td>1.55</td>\n",
       "      <td>27.89</td>\n",
       "      <td>1</td>\n",
       "      <td>2</td>\n",
       "      <td>0</td>\n",
       "      <td>1</td>\n",
       "      <td>...</td>\n",
       "      <td>0</td>\n",
       "      <td>0</td>\n",
       "      <td>0</td>\n",
       "      <td>0</td>\n",
       "      <td>0</td>\n",
       "      <td>0</td>\n",
       "      <td>0</td>\n",
       "      <td>0</td>\n",
       "      <td>0</td>\n",
       "      <td>0</td>\n",
       "    </tr>\n",
       "    <tr>\n",
       "      <th>86220</th>\n",
       "      <td>11122</td>\n",
       "      <td>1</td>\n",
       "      <td>54</td>\n",
       "      <td>60.00</td>\n",
       "      <td>1.59</td>\n",
       "      <td>23.73</td>\n",
       "      <td>1</td>\n",
       "      <td>4</td>\n",
       "      <td>0</td>\n",
       "      <td>0</td>\n",
       "      <td>...</td>\n",
       "      <td>0</td>\n",
       "      <td>0</td>\n",
       "      <td>0</td>\n",
       "      <td>0</td>\n",
       "      <td>0</td>\n",
       "      <td>0</td>\n",
       "      <td>0</td>\n",
       "      <td>0</td>\n",
       "      <td>0</td>\n",
       "      <td>0</td>\n",
       "    </tr>\n",
       "    <tr>\n",
       "      <th>86247</th>\n",
       "      <td>11130</td>\n",
       "      <td>1</td>\n",
       "      <td>78</td>\n",
       "      <td>69.00</td>\n",
       "      <td>1.67</td>\n",
       "      <td>24.74</td>\n",
       "      <td>1</td>\n",
       "      <td>2</td>\n",
       "      <td>0</td>\n",
       "      <td>0</td>\n",
       "      <td>...</td>\n",
       "      <td>0</td>\n",
       "      <td>0</td>\n",
       "      <td>0</td>\n",
       "      <td>0</td>\n",
       "      <td>0</td>\n",
       "      <td>0</td>\n",
       "      <td>0</td>\n",
       "      <td>0</td>\n",
       "      <td>0</td>\n",
       "      <td>0</td>\n",
       "    </tr>\n",
       "  </tbody>\n",
       "</table>\n",
       "<p>5 rows × 366 columns</p>\n",
       "</div>"
      ],
      "text/plain": [
       "          DATA  SESSO  ANNI  PESO  ALTEZZA   BMI  Mezzo  Testa:Neurocranio  \\\n",
       "VERBALE                                                                      \n",
       "85567    10893      0    81 84.00     1.75 27.43      0                  1   \n",
       "85829    10970      1    69 69.00     1.62 26.29      1                  4   \n",
       "85977    11026      1    71 67.00     1.55 27.89      1                  2   \n",
       "86220    11122      1    54 60.00     1.59 23.73      1                  4   \n",
       "86247    11130      1    78 69.00     1.67 24.74      1                  2   \n",
       "\n",
       "         Testa:Splancnocranio  Testa:Telencefalo  ...  II raggio sx.1  \\\n",
       "VERBALE                                           ...                   \n",
       "85567                       0                  0  ...               0   \n",
       "85829                       4                  4  ...               0   \n",
       "85977                       0                  1  ...               0   \n",
       "86220                       0                  0  ...               0   \n",
       "86247                       0                  0  ...               0   \n",
       "\n",
       "         III raggio sx.1  IV raggio sx.1  V raggio sx.1  \\\n",
       "VERBALE                                                   \n",
       "85567                  0               0              0   \n",
       "85829                  0               0              0   \n",
       "85977                  0               0              0   \n",
       "86220                  0               0              0   \n",
       "86247                  0               0              0   \n",
       "\n",
       "         Art. coxo-femorale dx  Art. coxo-femorale sx  Rotula o Ginocchio dx  \\\n",
       "VERBALE                                                                        \n",
       "85567                        0                      0                      0   \n",
       "85829                        0                      0                      0   \n",
       "85977                        0                      0                      0   \n",
       "86220                        0                      0                      0   \n",
       "86247                        0                      0                      0   \n",
       "\n",
       "         Rotula o Ginocchio sx  Caviglia dx  Caviglia sx  \n",
       "VERBALE                                                   \n",
       "85567                        0            0            0  \n",
       "85829                        0            0            0  \n",
       "85977                        0            0            0  \n",
       "86220                        0            0            0  \n",
       "86247                        0            0            0  \n",
       "\n",
       "[5 rows x 366 columns]"
      ]
     },
     "execution_count": 3,
     "metadata": {},
     "output_type": "execute_result"
    }
   ],
   "source": [
    "import datetime as dt\n",
    "\n",
    "dfo.DATA = dfo.DATA.apply(lambda d: (d - dt.datetime(1970,1,1)).days)\n",
    "\n",
    "dfo.head()"
   ]
  },
  {
   "cell_type": "markdown",
   "metadata": {},
   "source": [
    "# Dataset con PCA di gruppi sensati"
   ]
  },
  {
   "cell_type": "markdown",
   "metadata": {},
   "source": [
    "## Estrazione valori"
   ]
  },
  {
   "cell_type": "code",
   "execution_count": 43,
   "metadata": {},
   "outputs": [],
   "source": [
    "def get_reduction_columns(df,columns,ratio=.95,dim_reduction=PCA):\n",
    "    values = df[columns].values\n",
    "    for c in range(2,min(len(df),len(columns))+1):\n",
    "        dim_red = dim_reduction(n_components=c)\n",
    "        values_d = dim_red.fit_transform(values)\n",
    "        if sum(dim_red.explained_variance_ratio_) >= ratio : break\n",
    "    return values_d"
   ]
  },
  {
   "cell_type": "markdown",
   "metadata": {},
   "source": [
    "### Cranio"
   ]
  },
  {
   "cell_type": "code",
   "execution_count": 44,
   "metadata": {},
   "outputs": [],
   "source": [
    "columns_cranio = list(dfo.columns[32:50])"
   ]
  },
  {
   "cell_type": "code",
   "execution_count": 45,
   "metadata": {},
   "outputs": [],
   "source": [
    "values_cranio = get_reduction_columns(dfo,columns_cranio)"
   ]
  },
  {
   "cell_type": "markdown",
   "metadata": {},
   "source": [
    "### Cervicale"
   ]
  },
  {
   "cell_type": "code",
   "execution_count": 46,
   "metadata": {},
   "outputs": [],
   "source": [
    "columns_cervicale = list(dfo.columns[55:62])"
   ]
  },
  {
   "cell_type": "code",
   "execution_count": 47,
   "metadata": {},
   "outputs": [],
   "source": [
    "values_cervicale = get_reduction_columns(dfo,columns_cervicale)"
   ]
  },
  {
   "cell_type": "markdown",
   "metadata": {},
   "source": [
    "### Toracico"
   ]
  },
  {
   "cell_type": "code",
   "execution_count": 48,
   "metadata": {},
   "outputs": [],
   "source": [
    "columns_toracico = list(dfo.columns[62:74])"
   ]
  },
  {
   "cell_type": "code",
   "execution_count": 49,
   "metadata": {},
   "outputs": [],
   "source": [
    "values_toracico = get_reduction_columns(dfo,columns_toracico)"
   ]
  },
  {
   "cell_type": "markdown",
   "metadata": {},
   "source": [
    "### Lombare"
   ]
  },
  {
   "cell_type": "code",
   "execution_count": 50,
   "metadata": {},
   "outputs": [],
   "source": [
    "columns_lombare = list(dfo.columns[74:79])"
   ]
  },
  {
   "cell_type": "code",
   "execution_count": 51,
   "metadata": {},
   "outputs": [],
   "source": [
    "values_lombare = get_reduction_columns(dfo,columns_lombare)"
   ]
  },
  {
   "cell_type": "markdown",
   "metadata": {},
   "source": [
    "### Gabbia Toracica"
   ]
  },
  {
   "cell_type": "markdown",
   "metadata": {},
   "source": [
    "#### Emilato dx"
   ]
  },
  {
   "cell_type": "code",
   "execution_count": 52,
   "metadata": {},
   "outputs": [],
   "source": [
    "columns_torace_emidx = list(filter(lambda x : 'costa' not in x.lower(),list(dfo.columns[85:183]))) "
   ]
  },
  {
   "cell_type": "code",
   "execution_count": 53,
   "metadata": {},
   "outputs": [],
   "source": [
    "values_torace_emidx = get_reduction_columns(dfo,columns_torace_emidx)"
   ]
  },
  {
   "cell_type": "markdown",
   "metadata": {},
   "source": [
    "#### Emilato sx"
   ]
  },
  {
   "cell_type": "code",
   "execution_count": 54,
   "metadata": {},
   "outputs": [],
   "source": [
    "columns_torace_emisx = list(filter(lambda x: 'costa' not in x.lower(),list(dfo.columns[183:281])))"
   ]
  },
  {
   "cell_type": "code",
   "execution_count": 55,
   "metadata": {},
   "outputs": [],
   "source": [
    "values_torace_emisx = get_reduction_columns(dfo,columns_torace_emisx)"
   ]
  },
  {
   "cell_type": "markdown",
   "metadata": {},
   "source": [
    "#### Linea mediana"
   ]
  },
  {
   "cell_type": "code",
   "execution_count": 56,
   "metadata": {},
   "outputs": [],
   "source": [
    "columns_torace_mediana = list(dfo.columns[282:284])"
   ]
  },
  {
   "cell_type": "code",
   "execution_count": 57,
   "metadata": {},
   "outputs": [],
   "source": [
    "values_torace_mediana = get_reduction_columns(dfo,columns_torace_mediana)"
   ]
  },
  {
   "cell_type": "markdown",
   "metadata": {},
   "source": [
    "### Bacino"
   ]
  },
  {
   "cell_type": "code",
   "execution_count": 58,
   "metadata": {},
   "outputs": [],
   "source": [
    "columns_bacino = list(dfo.columns[285:295])"
   ]
  },
  {
   "cell_type": "code",
   "execution_count": 59,
   "metadata": {},
   "outputs": [],
   "source": [
    "values_bacino = get_reduction_columns(dfo,columns_bacino)"
   ]
  },
  {
   "cell_type": "markdown",
   "metadata": {},
   "source": [
    "### Arti Superiori"
   ]
  },
  {
   "cell_type": "code",
   "execution_count": 60,
   "metadata": {},
   "outputs": [],
   "source": [
    "columns_artisup = list(dfo.columns[296:330])"
   ]
  },
  {
   "cell_type": "code",
   "execution_count": 61,
   "metadata": {},
   "outputs": [],
   "source": [
    "values_artisup = get_reduction_columns(dfo,columns_artisup)"
   ]
  },
  {
   "cell_type": "markdown",
   "metadata": {},
   "source": [
    "### Arti inferiori"
   ]
  },
  {
   "cell_type": "code",
   "execution_count": 62,
   "metadata": {},
   "outputs": [],
   "source": [
    "columns_artinf = list(dfo.columns[330:])"
   ]
  },
  {
   "cell_type": "code",
   "execution_count": 63,
   "metadata": {},
   "outputs": [],
   "source": [
    "values_artinf = get_reduction_columns(dfo,columns_artinf)"
   ]
  },
  {
   "cell_type": "markdown",
   "metadata": {},
   "source": [
    "## Costruzione dataset"
   ]
  },
  {
   "cell_type": "code",
   "execution_count": 64,
   "metadata": {},
   "outputs": [],
   "source": [
    "def create_subdf(values,label):\n",
    "    return pd.DataFrame(values,columns=[label+str(i) for i in range(0,len(values[0]))],index=dfo.index)"
   ]
  },
  {
   "cell_type": "code",
   "execution_count": 65,
   "metadata": {},
   "outputs": [],
   "source": [
    "df_cranio = create_subdf(values_cranio,'cranio')\n",
    "\n",
    "df_cervicale = create_subdf(values_cervicale,'rachide_cervicale')\n",
    "\n",
    "df_toracico = create_subdf(values_toracico,'rachide_toracico')\n",
    "\n",
    "df_lombare = create_subdf(values_lombare,'rachide_lombare')\n",
    "\n",
    "df_gt_emidx = create_subdf(values_torace_emidx,'torace_emidx')\n",
    "\n",
    "df_gt_emisx = create_subdf(values_torace_emisx,'torace_emisx')\n",
    "\n",
    "df_gt_mediana = create_subdf(values_torace_mediana,'torace_mediana')\n",
    "\n",
    "df_bacino = create_subdf(values_bacino,'bacino')\n",
    "\n",
    "df_artsup = create_subdf(values_artisup,'arti_superiori')\n",
    "\n",
    "df_artinf = create_subdf(values_artinf,'arti_inferiori')"
   ]
  },
  {
   "cell_type": "code",
   "execution_count": 66,
   "metadata": {},
   "outputs": [],
   "source": [
    "df_pca = df_cranio.join(df_cervicale).join(df_toracico).join(df_lombare).join(df_gt_emidx).join(df_gt_emisx)\\\n",
    "         .join(df_gt_mediana).join(df_bacino).join(df_artsup).join(df_artinf)"
   ]
  },
  {
   "cell_type": "code",
   "execution_count": 67,
   "metadata": {},
   "outputs": [
    {
     "data": {
      "text/plain": [
       "(366, 105)"
      ]
     },
     "execution_count": 67,
     "metadata": {},
     "output_type": "execute_result"
    }
   ],
   "source": [
    "len(dfo.columns), len(df_pca.columns)"
   ]
  },
  {
   "cell_type": "code",
   "execution_count": 68,
   "metadata": {},
   "outputs": [],
   "source": [
    "df_pca.to_csv('dataset_pca.csv')"
   ]
  },
  {
   "cell_type": "markdown",
   "metadata": {},
   "source": [
    "## Esperimenti"
   ]
  },
  {
   "cell_type": "code",
   "execution_count": 4,
   "metadata": {},
   "outputs": [],
   "source": [
    "from experiments import *"
   ]
  },
  {
   "cell_type": "markdown",
   "metadata": {},
   "source": [
    "### Overfitting"
   ]
  },
  {
   "cell_type": "code",
   "execution_count": 70,
   "metadata": {},
   "outputs": [
    {
     "name": "stderr",
     "output_type": "stream",
     "text": [
      "100%|██████████| 100/100 [00:51<00:00,  1.93it/s]\n"
     ]
    }
   ],
   "source": [
    "f = FuzzyInductor()\n",
    "f.fit(df_pca.values,dfo['Mezzo'].values)\n",
    "score = f.score(df_pca.values,dfo['Mezzo'].values)"
   ]
  },
  {
   "cell_type": "code",
   "execution_count": 71,
   "metadata": {},
   "outputs": [
    {
     "data": {
      "text/plain": [
       "'-0.000024'"
      ]
     },
     "execution_count": 71,
     "metadata": {},
     "output_type": "execute_result"
    }
   ],
   "source": [
    "'{:.6f}'.format(score)"
   ]
  },
  {
   "cell_type": "code",
   "execution_count": 3,
   "metadata": {},
   "outputs": [
    {
     "ename": "NameError",
     "evalue": "name 'df_pca' is not defined",
     "output_type": "error",
     "traceback": [
      "\u001b[0;31m---------------------------------------------------------------------------\u001b[0m",
      "\u001b[0;31mNameError\u001b[0m                                 Traceback (most recent call last)",
      "\u001b[0;32m<ipython-input-3-d94cd2e0fca4>\u001b[0m in \u001b[0;36m<module>\u001b[0;34m\u001b[0m\n\u001b[1;32m      1\u001b[0m \u001b[0mclasses\u001b[0m \u001b[0;34m=\u001b[0m \u001b[0;34m(\u001b[0m\u001b[0;36m1\u001b[0m\u001b[0;34m,\u001b[0m\u001b[0;36m0\u001b[0m\u001b[0;34m)\u001b[0m\u001b[0;34m\u001b[0m\u001b[0;34m\u001b[0m\u001b[0m\n\u001b[0;32m----> 2\u001b[0;31m \u001b[0mindex\u001b[0m \u001b[0;34m=\u001b[0m \u001b[0mdf_pca\u001b[0m\u001b[0;34m.\u001b[0m\u001b[0mindex\u001b[0m\u001b[0;34m\u001b[0m\u001b[0;34m\u001b[0m\u001b[0m\n\u001b[0m\u001b[1;32m      3\u001b[0m \u001b[0mvalues\u001b[0m \u001b[0;34m=\u001b[0m \u001b[0mdf_pca\u001b[0m\u001b[0;34m.\u001b[0m\u001b[0mvalues\u001b[0m\u001b[0;34m\u001b[0m\u001b[0;34m\u001b[0m\u001b[0m\n\u001b[1;32m      4\u001b[0m \u001b[0mlabels\u001b[0m \u001b[0;34m=\u001b[0m \u001b[0mdfo\u001b[0m\u001b[0;34m[\u001b[0m\u001b[0;34m'Mezzo'\u001b[0m\u001b[0;34m]\u001b[0m\u001b[0;34m.\u001b[0m\u001b[0mvalues\u001b[0m\u001b[0;34m\u001b[0m\u001b[0;34m\u001b[0m\u001b[0m\n\u001b[1;32m      5\u001b[0m \u001b[0mmu0\u001b[0m \u001b[0;34m=\u001b[0m \u001b[0mlist\u001b[0m\u001b[0;34m(\u001b[0m\u001b[0mmap\u001b[0m\u001b[0;34m(\u001b[0m\u001b[0;32mlambda\u001b[0m \u001b[0mx\u001b[0m\u001b[0;34m:\u001b[0m \u001b[0;36m0\u001b[0m \u001b[0;32mif\u001b[0m \u001b[0mx\u001b[0m \u001b[0;32melse\u001b[0m \u001b[0;36m1\u001b[0m\u001b[0;34m,\u001b[0m\u001b[0mlabels\u001b[0m\u001b[0;34m)\u001b[0m\u001b[0;34m)\u001b[0m\u001b[0;34m\u001b[0m\u001b[0;34m\u001b[0m\u001b[0m\n",
      "\u001b[0;31mNameError\u001b[0m: name 'df_pca' is not defined"
     ]
    }
   ],
   "source": [
    "classes = (1,0)\n",
    "index = df_pca.index\n",
    "values = df_pca.values\n",
    "labels = dfo['Mezzo'].values\n",
    "mu0 = list(map(lambda x: 0 if x else 1,labels))"
   ]
  },
  {
   "cell_type": "markdown",
   "metadata": {},
   "source": [
    "### Proviamo i migliori classificatori ottenuti fino ad adesso"
   ]
  },
  {
   "cell_type": "code",
   "execution_count": 3,
   "metadata": {},
   "outputs": [],
   "source": [
    "be1 = FuzzyInductor(fuzzifier=ExponentialFuzzifier,c=0.021544346900318846,k=HyperbolicKernel(1,0))\n",
    "be0 = FuzzyInductor(fuzzifier=LinearFuzzifier,c=0.021544346900318846,k=LinearKernel())\n",
    "bes = [be1,be0]"
   ]
  },
  {
   "cell_type": "code",
   "execution_count": 74,
   "metadata": {},
   "outputs": [
    {
     "name": "stderr",
     "output_type": "stream",
     "text": [
      "100%|██████████| 100/100 [00:23<00:00,  4.27it/s]\n",
      "100%|██████████| 100/100 [00:40<00:00,  2.47it/s]\n",
      "100%|██████████| 100/100 [00:32<00:00,  3.10it/s]\n",
      "100%|██████████| 100/100 [00:33<00:00,  2.97it/s]\n",
      "100%|██████████| 100/100 [00:29<00:00,  3.34it/s]\n",
      "100%|██████████| 100/100 [00:26<00:00,  3.79it/s]\n",
      "100%|██████████| 100/100 [00:28<00:00,  3.53it/s]\n",
      "100%|██████████| 100/100 [00:32<00:00,  3.10it/s]\n",
      "100%|██████████| 100/100 [00:24<00:00,  4.05it/s]\n",
      "100%|██████████| 100/100 [00:22<00:00,  4.38it/s]\n"
     ]
    }
   ],
   "source": [
    "perf_train, perf_test =best_estimator_holdout(bes,index,values, labels,\n",
    "                                              classes,0.7,classify,5)"
   ]
  },
  {
   "cell_type": "code",
   "execution_count": 75,
   "metadata": {},
   "outputs": [
    {
     "data": {
      "text/plain": [
       "(0.28571428571428575, 0.3794871794871795)"
      ]
     },
     "execution_count": 75,
     "metadata": {},
     "output_type": "execute_result"
    }
   ],
   "source": [
    "perf_train, perf_test"
   ]
  },
  {
   "cell_type": "markdown",
   "metadata": {},
   "source": [
    "### Model selection Ordini Grandezza"
   ]
  },
  {
   "cell_type": "code",
   "execution_count": 5,
   "metadata": {},
   "outputs": [],
   "source": [
    "ordini = [.01,.1,1,10,100,1000]\n",
    "params_grid = {\n",
    "    'c' : ordini,\n",
    "    'k' : [GaussianKernel(sigma) for sigma in ordini] + [LinearKernel()] + \\\n",
    "          [HyperbolicKernel(1,o) for o in ordini]\n",
    "}"
   ]
  },
  {
   "cell_type": "code",
   "execution_count": 5,
   "metadata": {},
   "outputs": [],
   "source": [
    "import logging\n",
    "\n",
    "# create logger\n",
    "f_logger = logging.getLogger(__name__)\n",
    "f_logger.setLevel(logging.INFO)\n",
    "\n",
    "# create console handler and set level to debug\n",
    "file = logging.FileHandler('esperimenti_autoencoder.log')\n",
    "file.setLevel(logging.INFO)\n",
    "\n",
    "# create formatter\n",
    "formatter = logging.Formatter('%(asctime)s -%(message)s')\n",
    "\n",
    "# add formatter to ch\n",
    "file.setFormatter(formatter)\n",
    "\n",
    "# add ch to logger\n",
    "f_logger.addHandler(file)"
   ]
  },
  {
   "cell_type": "code",
   "execution_count": 6,
   "metadata": {},
   "outputs": [],
   "source": [
    "filejson = 'json_result/fuzzifiers_autoencoder.json'"
   ]
  },
  {
   "cell_type": "code",
   "execution_count": 6,
   "metadata": {},
   "outputs": [],
   "source": [
    "l = 'df_pca_MS_OrdineGrandezza'"
   ]
  },
  {
   "cell_type": "code",
   "execution_count": 80,
   "metadata": {},
   "outputs": [],
   "source": [
    "#ft = incidenti_fuzzifier_table(df_pca,[list(df_pca.columns)],fuzzifiers_class,FuzzyInductor,labels,params_grid, \\\n",
    "                               #3,3,logger=f_logger,scaling=None,labels=[l])"
   ]
  },
  {
   "cell_type": "markdown",
   "metadata": {},
   "source": [
    "I migliori risultati arrivano con c dell'ordine .1 e parametro del kernel dell'ordine delle unità"
   ]
  },
  {
   "cell_type": "markdown",
   "metadata": {},
   "source": [
    "### Model Selection fine"
   ]
  },
  {
   "cell_type": "code",
   "execution_count": 81,
   "metadata": {},
   "outputs": [],
   "source": [
    "valori_offset = range(0,10)\n",
    "c_space = np.arange(.1,1,.1)\n",
    "pg_fine = {\n",
    "    'c' : c_space,\n",
    "    'k' : [HyperbolicKernel(1,o) for o in valori_offset]\n",
    "}"
   ]
  },
  {
   "cell_type": "code",
   "execution_count": 82,
   "metadata": {},
   "outputs": [],
   "source": [
    "l = 'df_pca_MS_fine'"
   ]
  },
  {
   "cell_type": "code",
   "execution_count": 83,
   "metadata": {},
   "outputs": [],
   "source": [
    "#ft = incidenti_fuzzifier_table(df_pca,[list(df_pca.columns)],fuzzifiers_class,FuzzyInductor,labels,params_grid, \\\n",
    "                                #3,3,logger=f_logger,scaling=None,labels=[l])"
   ]
  },
  {
   "cell_type": "markdown",
   "metadata": {},
   "source": [
    "## Classe 0"
   ]
  },
  {
   "cell_type": "code",
   "execution_count": 84,
   "metadata": {},
   "outputs": [],
   "source": [
    "params_grid0 = {\n",
    "    'c': [.1],\n",
    "    'k': [GaussianKernel(sigma) for sigma in ordini] + [LinearKernel()] +\\\n",
    "        [HyperbolicKernel(1,o) for o in ordini] + [PolynomialKernel(d) for d in ordini if d not in [.01,.1]]\n",
    "}"
   ]
  },
  {
   "cell_type": "code",
   "execution_count": 85,
   "metadata": {},
   "outputs": [],
   "source": [
    "l = 'df_pca_MS_0'"
   ]
  },
  {
   "cell_type": "code",
   "execution_count": 86,
   "metadata": {},
   "outputs": [],
   "source": [
    "ft = incidenti_fuzzifier_table(df_pca,[list(df_pca.columns)],fuzzifiers_class,FuzzyInductor,mu0,params_grid0, \\\n",
    "                               3,3,logger=f_logger,scaling=None,labels=[l],file_json=filejson)"
   ]
  },
  {
   "cell_type": "code",
   "execution_count": 87,
   "metadata": {},
   "outputs": [
    {
     "data": {
      "text/html": [
       "<div>\n",
       "<style scoped>\n",
       "    .dataframe tbody tr th:only-of-type {\n",
       "        vertical-align: middle;\n",
       "    }\n",
       "\n",
       "    .dataframe tbody tr th {\n",
       "        vertical-align: top;\n",
       "    }\n",
       "\n",
       "    .dataframe thead th {\n",
       "        text-align: right;\n",
       "    }\n",
       "</style>\n",
       "<table border=\"1\" class=\"dataframe\">\n",
       "  <thead>\n",
       "    <tr style=\"text-align: right;\">\n",
       "      <th></th>\n",
       "      <th>df_autoencoder_MS</th>\n",
       "      <th>df_autoencoder_MSfine</th>\n",
       "      <th>df_autoencoder_MS_0</th>\n",
       "      <th>df_autoencoder_MSfine_0</th>\n",
       "      <th>df_pca_MS_0</th>\n",
       "      <th>df_pca_MSfine_0</th>\n",
       "      <th>TSNE2_MSOrdine</th>\n",
       "      <th>TSNE2_MSFine</th>\n",
       "      <th>TSNE2_MSOrdine_0</th>\n",
       "    </tr>\n",
       "  </thead>\n",
       "  <tbody>\n",
       "    <tr>\n",
       "      <th>QuantileConstantPiecewiseFuzzifier</th>\n",
       "      <td>-0.38</td>\n",
       "      <td>-0.38</td>\n",
       "      <td>-0.31</td>\n",
       "      <td>-0.31</td>\n",
       "      <td>-0.30</td>\n",
       "      <td>-0.29</td>\n",
       "      <td>-0.43</td>\n",
       "      <td>-0.43</td>\n",
       "      <td>-0.36</td>\n",
       "    </tr>\n",
       "    <tr>\n",
       "      <th>CrispFuzzifier</th>\n",
       "      <td>-0.43</td>\n",
       "      <td>-0.43</td>\n",
       "      <td>-0.37</td>\n",
       "      <td>-0.37</td>\n",
       "      <td>-0.31</td>\n",
       "      <td>-0.31</td>\n",
       "      <td>-0.44</td>\n",
       "      <td>-0.44</td>\n",
       "      <td>-0.32</td>\n",
       "    </tr>\n",
       "    <tr>\n",
       "      <th>ExponentialFuzzifier</th>\n",
       "      <td>-0.29</td>\n",
       "      <td>-0.29</td>\n",
       "      <td>-0.26</td>\n",
       "      <td>-0.26</td>\n",
       "      <td>-0.23</td>\n",
       "      <td>-0.23</td>\n",
       "      <td>-0.29</td>\n",
       "      <td>-0.29</td>\n",
       "      <td>-0.28</td>\n",
       "    </tr>\n",
       "    <tr>\n",
       "      <th>LinearFuzzifier</th>\n",
       "      <td>-0.29</td>\n",
       "      <td>-0.29</td>\n",
       "      <td>-0.26</td>\n",
       "      <td>-0.26</td>\n",
       "      <td>-0.24</td>\n",
       "      <td>-0.24</td>\n",
       "      <td>-0.30</td>\n",
       "      <td>-0.30</td>\n",
       "      <td>-0.28</td>\n",
       "    </tr>\n",
       "    <tr>\n",
       "      <th>QuantileLinearPiecewiseFuzzifier</th>\n",
       "      <td>-0.38</td>\n",
       "      <td>-0.38</td>\n",
       "      <td>-0.31</td>\n",
       "      <td>-0.31</td>\n",
       "      <td>-0.33</td>\n",
       "      <td>-0.33</td>\n",
       "      <td>-0.44</td>\n",
       "      <td>-0.44</td>\n",
       "      <td>-0.35</td>\n",
       "    </tr>\n",
       "  </tbody>\n",
       "</table>\n",
       "</div>"
      ],
      "text/plain": [
       "                                     df_autoencoder_MS  df_autoencoder_MSfine  \\\n",
       " QuantileConstantPiecewiseFuzzifier              -0.38                  -0.38   \n",
       "CrispFuzzifier                                   -0.43                  -0.43   \n",
       "ExponentialFuzzifier                             -0.29                  -0.29   \n",
       "LinearFuzzifier                                  -0.29                  -0.29   \n",
       "QuantileLinearPiecewiseFuzzifier                 -0.38                  -0.38   \n",
       "\n",
       "                                     df_autoencoder_MS_0  \\\n",
       " QuantileConstantPiecewiseFuzzifier                -0.31   \n",
       "CrispFuzzifier                                     -0.37   \n",
       "ExponentialFuzzifier                               -0.26   \n",
       "LinearFuzzifier                                    -0.26   \n",
       "QuantileLinearPiecewiseFuzzifier                   -0.31   \n",
       "\n",
       "                                     df_autoencoder_MSfine_0  df_pca_MS_0  \\\n",
       " QuantileConstantPiecewiseFuzzifier                    -0.31        -0.30   \n",
       "CrispFuzzifier                                         -0.37        -0.31   \n",
       "ExponentialFuzzifier                                   -0.26        -0.23   \n",
       "LinearFuzzifier                                        -0.26        -0.24   \n",
       "QuantileLinearPiecewiseFuzzifier                       -0.31        -0.33   \n",
       "\n",
       "                                     df_pca_MSfine_0  TSNE2_MSOrdine  \\\n",
       " QuantileConstantPiecewiseFuzzifier            -0.29           -0.43   \n",
       "CrispFuzzifier                                 -0.31           -0.44   \n",
       "ExponentialFuzzifier                           -0.23           -0.29   \n",
       "LinearFuzzifier                                -0.24           -0.30   \n",
       "QuantileLinearPiecewiseFuzzifier               -0.33           -0.44   \n",
       "\n",
       "                                     TSNE2_MSFine  TSNE2_MSOrdine_0  \n",
       " QuantileConstantPiecewiseFuzzifier         -0.43             -0.36  \n",
       "CrispFuzzifier                              -0.44             -0.32  \n",
       "ExponentialFuzzifier                        -0.29             -0.28  \n",
       "LinearFuzzifier                             -0.30             -0.28  \n",
       "QuantileLinearPiecewiseFuzzifier            -0.44             -0.35  "
      ]
     },
     "execution_count": 87,
     "metadata": {},
     "output_type": "execute_result"
    }
   ],
   "source": [
    "ft"
   ]
  },
  {
   "cell_type": "code",
   "execution_count": 88,
   "metadata": {},
   "outputs": [],
   "source": [
    "params_grid_fine0 = {\n",
    "    'c': [.1],\n",
    "    'k': [HyperbolicKernel(1,o) for o in range(0,10,1)]\n",
    "}\n",
    "l = 'df_pca_MSfine_0'"
   ]
  },
  {
   "cell_type": "code",
   "execution_count": 89,
   "metadata": {},
   "outputs": [],
   "source": [
    "ft = incidenti_fuzzifier_table(df_pca,[list(df_pca.columns)],fuzzifiers_class,FuzzyInductor,mu0,params_grid_fine0, \\\n",
    "                               3,3,logger=f_logger,scaling=None,labels=[l],file_json=filejson)"
   ]
  },
  {
   "cell_type": "code",
   "execution_count": 90,
   "metadata": {},
   "outputs": [
    {
     "data": {
      "text/html": [
       "<div>\n",
       "<style scoped>\n",
       "    .dataframe tbody tr th:only-of-type {\n",
       "        vertical-align: middle;\n",
       "    }\n",
       "\n",
       "    .dataframe tbody tr th {\n",
       "        vertical-align: top;\n",
       "    }\n",
       "\n",
       "    .dataframe thead th {\n",
       "        text-align: right;\n",
       "    }\n",
       "</style>\n",
       "<table border=\"1\" class=\"dataframe\">\n",
       "  <thead>\n",
       "    <tr style=\"text-align: right;\">\n",
       "      <th></th>\n",
       "      <th>df_autoencoder_MS</th>\n",
       "      <th>df_autoencoder_MSfine</th>\n",
       "      <th>df_autoencoder_MS_0</th>\n",
       "      <th>df_autoencoder_MSfine_0</th>\n",
       "      <th>df_pca_MS_0</th>\n",
       "      <th>df_pca_MSfine_0</th>\n",
       "      <th>TSNE2_MSOrdine</th>\n",
       "      <th>TSNE2_MSFine</th>\n",
       "      <th>TSNE2_MSOrdine_0</th>\n",
       "    </tr>\n",
       "  </thead>\n",
       "  <tbody>\n",
       "    <tr>\n",
       "      <th>QuantileConstantPiecewiseFuzzifier</th>\n",
       "      <td>-0.38</td>\n",
       "      <td>-0.38</td>\n",
       "      <td>-0.31</td>\n",
       "      <td>-0.31</td>\n",
       "      <td>-0.30</td>\n",
       "      <td>-0.29</td>\n",
       "      <td>-0.43</td>\n",
       "      <td>-0.43</td>\n",
       "      <td>-0.36</td>\n",
       "    </tr>\n",
       "    <tr>\n",
       "      <th>CrispFuzzifier</th>\n",
       "      <td>-0.43</td>\n",
       "      <td>-0.43</td>\n",
       "      <td>-0.37</td>\n",
       "      <td>-0.37</td>\n",
       "      <td>-0.31</td>\n",
       "      <td>-0.31</td>\n",
       "      <td>-0.44</td>\n",
       "      <td>-0.44</td>\n",
       "      <td>-0.32</td>\n",
       "    </tr>\n",
       "    <tr>\n",
       "      <th>ExponentialFuzzifier</th>\n",
       "      <td>-0.29</td>\n",
       "      <td>-0.29</td>\n",
       "      <td>-0.26</td>\n",
       "      <td>-0.26</td>\n",
       "      <td>-0.23</td>\n",
       "      <td>-0.23</td>\n",
       "      <td>-0.29</td>\n",
       "      <td>-0.29</td>\n",
       "      <td>-0.28</td>\n",
       "    </tr>\n",
       "    <tr>\n",
       "      <th>LinearFuzzifier</th>\n",
       "      <td>-0.29</td>\n",
       "      <td>-0.29</td>\n",
       "      <td>-0.26</td>\n",
       "      <td>-0.26</td>\n",
       "      <td>-0.24</td>\n",
       "      <td>-0.24</td>\n",
       "      <td>-0.30</td>\n",
       "      <td>-0.30</td>\n",
       "      <td>-0.28</td>\n",
       "    </tr>\n",
       "    <tr>\n",
       "      <th>QuantileLinearPiecewiseFuzzifier</th>\n",
       "      <td>-0.38</td>\n",
       "      <td>-0.38</td>\n",
       "      <td>-0.31</td>\n",
       "      <td>-0.31</td>\n",
       "      <td>-0.33</td>\n",
       "      <td>-0.33</td>\n",
       "      <td>-0.44</td>\n",
       "      <td>-0.44</td>\n",
       "      <td>-0.35</td>\n",
       "    </tr>\n",
       "  </tbody>\n",
       "</table>\n",
       "</div>"
      ],
      "text/plain": [
       "                                     df_autoencoder_MS  df_autoencoder_MSfine  \\\n",
       " QuantileConstantPiecewiseFuzzifier              -0.38                  -0.38   \n",
       "CrispFuzzifier                                   -0.43                  -0.43   \n",
       "ExponentialFuzzifier                             -0.29                  -0.29   \n",
       "LinearFuzzifier                                  -0.29                  -0.29   \n",
       "QuantileLinearPiecewiseFuzzifier                 -0.38                  -0.38   \n",
       "\n",
       "                                     df_autoencoder_MS_0  \\\n",
       " QuantileConstantPiecewiseFuzzifier                -0.31   \n",
       "CrispFuzzifier                                     -0.37   \n",
       "ExponentialFuzzifier                               -0.26   \n",
       "LinearFuzzifier                                    -0.26   \n",
       "QuantileLinearPiecewiseFuzzifier                   -0.31   \n",
       "\n",
       "                                     df_autoencoder_MSfine_0  df_pca_MS_0  \\\n",
       " QuantileConstantPiecewiseFuzzifier                    -0.31        -0.30   \n",
       "CrispFuzzifier                                         -0.37        -0.31   \n",
       "ExponentialFuzzifier                                   -0.26        -0.23   \n",
       "LinearFuzzifier                                        -0.26        -0.24   \n",
       "QuantileLinearPiecewiseFuzzifier                       -0.31        -0.33   \n",
       "\n",
       "                                     df_pca_MSfine_0  TSNE2_MSOrdine  \\\n",
       " QuantileConstantPiecewiseFuzzifier            -0.29           -0.43   \n",
       "CrispFuzzifier                                 -0.31           -0.44   \n",
       "ExponentialFuzzifier                           -0.23           -0.29   \n",
       "LinearFuzzifier                                -0.24           -0.30   \n",
       "QuantileLinearPiecewiseFuzzifier               -0.33           -0.44   \n",
       "\n",
       "                                     TSNE2_MSFine  TSNE2_MSOrdine_0  \n",
       " QuantileConstantPiecewiseFuzzifier         -0.43             -0.36  \n",
       "CrispFuzzifier                              -0.44             -0.32  \n",
       "ExponentialFuzzifier                        -0.29             -0.28  \n",
       "LinearFuzzifier                             -0.30             -0.28  \n",
       "QuantileLinearPiecewiseFuzzifier            -0.44             -0.35  "
      ]
     },
     "execution_count": 90,
     "metadata": {},
     "output_type": "execute_result"
    }
   ],
   "source": [
    "ft"
   ]
  },
  {
   "cell_type": "code",
   "execution_count": 91,
   "metadata": {},
   "outputs": [],
   "source": [
    "scalers = [StandardScaler(),MinMaxScaler(), MaxAbsScaler(), QuantileTransformer(output_distribution='normal'), \n",
    "           QuantileTransformer(output_distribution='uniform'), Normalizer(),\n",
    "           RobustScaler(quantile_range=(25, 75)), PowerTransformer(method='yeo-johnson')]"
   ]
  },
  {
   "cell_type": "code",
   "execution_count": 92,
   "metadata": {},
   "outputs": [],
   "source": [
    "grid = {\n",
    "    'c': [.1],\n",
    "    'k': [HyperbolicKernel(1,1)]\n",
    "}"
   ]
  },
  {
   "cell_type": "code",
   "execution_count": 93,
   "metadata": {},
   "outputs": [
    {
     "data": {
      "text/plain": [
       "'\\nscalers_exp, _ = [esperimento(df_pca,list(df_pca.columns),FuzzyInductor,labels,grid,3,3,                logger = f_logger,scaling=scaler,label=l)                for scaler,l in zip(scalers,[repr(s) for s in scalers])]\\n'"
      ]
     },
     "execution_count": 93,
     "metadata": {},
     "output_type": "execute_result"
    }
   ],
   "source": [
    "\"\"\"\n",
    "scalers_exp, _ = [esperimento(df_pca,list(df_pca.columns),FuzzyInductor,labels,grid,3,3,\\\n",
    "                logger = f_logger,scaling=scaler,label=l)\\\n",
    "                for scaler,l in zip(scalers,[repr(s) for s in scalers])]\n",
    "\"\"\""
   ]
  },
  {
   "cell_type": "code",
   "execution_count": 94,
   "metadata": {},
   "outputs": [
    {
     "data": {
      "text/plain": [
       "'[esperimento(df_pca,list(df_pca.columns),FuzzyInductor,mu0,grid,3,3,                logger = f_logger,scaling=scaler,label=l)                for scaler,l in zip(scalers,[repr(s) for s in scalers])]'"
      ]
     },
     "execution_count": 94,
     "metadata": {},
     "output_type": "execute_result"
    }
   ],
   "source": [
    "\"\"\"[esperimento(df_pca,list(df_pca.columns),FuzzyInductor,mu0,grid,3,3,\\\n",
    "                logger = f_logger,scaling=scaler,label=l)\\\n",
    "                for scaler,l in zip(scalers,[repr(s) for s in scalers])]\"\"\""
   ]
  },
  {
   "cell_type": "markdown",
   "metadata": {},
   "source": [
    "## Proviamo una diversa defuzzification"
   ]
  },
  {
   "cell_type": "code",
   "execution_count": 8,
   "metadata": {},
   "outputs": [],
   "source": [
    "from defuzzification import *\n",
    "from functools import partial\n",
    "\n",
    "be = FuzzyInductor(c=0.1,k=HyperbolicKernel(1,1))\n",
    "bes = [be,be]"
   ]
  },
  {
   "cell_type": "code",
   "execution_count": 96,
   "metadata": {},
   "outputs": [
    {
     "data": {
      "text/plain": [
       "\"\\nresults_alpha_cuts = pd.DataFrame()\\nfor alpha in np.arange(0.,1.05,.05):\\n    perf_train, perf_test = best_estimator_holdout(bes,df_pca.index,df_pca.values, labels,\\n                                              classes,0.7,partial(alpha_cut,alpha,0),5)\\n    results_alpha_cuts =     results_alpha_cuts.append({'alpha_cut': alpha,'train_err': perf_train,'test_err': perf_test},ignore_index=True)\\n\""
      ]
     },
     "execution_count": 96,
     "metadata": {},
     "output_type": "execute_result"
    }
   ],
   "source": [
    "\"\"\"\n",
    "results_alpha_cuts = pd.DataFrame()\n",
    "for alpha in np.arange(0.,1.05,.05):\n",
    "    perf_train, perf_test = best_estimator_holdout(bes,df_pca.index,df_pca.values, labels,\n",
    "                                              classes,0.7,partial(alpha_cut,alpha,0),5)\n",
    "    results_alpha_cuts = \\\n",
    "    results_alpha_cuts.append({'alpha_cut': alpha,'train_err': perf_train,'test_err': perf_test},ignore_index=True)\n",
    "\"\"\""
   ]
  },
  {
   "cell_type": "code",
   "execution_count": 26,
   "metadata": {},
   "outputs": [
    {
     "data": {
      "text/html": [
       "<div>\n",
       "<style scoped>\n",
       "    .dataframe tbody tr th:only-of-type {\n",
       "        vertical-align: middle;\n",
       "    }\n",
       "\n",
       "    .dataframe tbody tr th {\n",
       "        vertical-align: top;\n",
       "    }\n",
       "\n",
       "    .dataframe thead th {\n",
       "        text-align: right;\n",
       "    }\n",
       "</style>\n",
       "<table border=\"1\" class=\"dataframe\">\n",
       "  <thead>\n",
       "    <tr style=\"text-align: right;\">\n",
       "      <th></th>\n",
       "      <th>alpha_cut</th>\n",
       "      <th>test_err</th>\n",
       "      <th>train_err</th>\n",
       "    </tr>\n",
       "  </thead>\n",
       "  <tbody>\n",
       "    <tr>\n",
       "      <th>0</th>\n",
       "      <td>0.00</td>\n",
       "      <td>0.42</td>\n",
       "      <td>0.48</td>\n",
       "    </tr>\n",
       "    <tr>\n",
       "      <th>1</th>\n",
       "      <td>0.05</td>\n",
       "      <td>0.48</td>\n",
       "      <td>0.45</td>\n",
       "    </tr>\n",
       "    <tr>\n",
       "      <th>2</th>\n",
       "      <td>0.10</td>\n",
       "      <td>0.41</td>\n",
       "      <td>0.43</td>\n",
       "    </tr>\n",
       "    <tr>\n",
       "      <th>3</th>\n",
       "      <td>0.15</td>\n",
       "      <td>0.36</td>\n",
       "      <td>0.39</td>\n",
       "    </tr>\n",
       "    <tr>\n",
       "      <th>4</th>\n",
       "      <td>0.20</td>\n",
       "      <td>0.36</td>\n",
       "      <td>0.33</td>\n",
       "    </tr>\n",
       "    <tr>\n",
       "      <th>5</th>\n",
       "      <td>0.25</td>\n",
       "      <td>0.33</td>\n",
       "      <td>0.33</td>\n",
       "    </tr>\n",
       "    <tr>\n",
       "      <th>6</th>\n",
       "      <td>0.30</td>\n",
       "      <td>0.31</td>\n",
       "      <td>0.32</td>\n",
       "    </tr>\n",
       "    <tr>\n",
       "      <th>7</th>\n",
       "      <td>0.35</td>\n",
       "      <td>0.28</td>\n",
       "      <td>0.31</td>\n",
       "    </tr>\n",
       "    <tr>\n",
       "      <th>8</th>\n",
       "      <td>0.40</td>\n",
       "      <td>0.29</td>\n",
       "      <td>0.28</td>\n",
       "    </tr>\n",
       "    <tr>\n",
       "      <th>9</th>\n",
       "      <td>0.45</td>\n",
       "      <td>0.26</td>\n",
       "      <td>0.29</td>\n",
       "    </tr>\n",
       "    <tr>\n",
       "      <th>10</th>\n",
       "      <td>0.50</td>\n",
       "      <td>0.36</td>\n",
       "      <td>0.26</td>\n",
       "    </tr>\n",
       "    <tr>\n",
       "      <th>11</th>\n",
       "      <td>0.55</td>\n",
       "      <td>0.40</td>\n",
       "      <td>0.27</td>\n",
       "    </tr>\n",
       "    <tr>\n",
       "      <th>12</th>\n",
       "      <td>0.60</td>\n",
       "      <td>0.37</td>\n",
       "      <td>0.30</td>\n",
       "    </tr>\n",
       "    <tr>\n",
       "      <th>13</th>\n",
       "      <td>0.65</td>\n",
       "      <td>0.34</td>\n",
       "      <td>0.31</td>\n",
       "    </tr>\n",
       "    <tr>\n",
       "      <th>14</th>\n",
       "      <td>0.70</td>\n",
       "      <td>0.32</td>\n",
       "      <td>0.35</td>\n",
       "    </tr>\n",
       "    <tr>\n",
       "      <th>15</th>\n",
       "      <td>0.75</td>\n",
       "      <td>0.38</td>\n",
       "      <td>0.37</td>\n",
       "    </tr>\n",
       "    <tr>\n",
       "      <th>16</th>\n",
       "      <td>0.80</td>\n",
       "      <td>0.43</td>\n",
       "      <td>0.43</td>\n",
       "    </tr>\n",
       "    <tr>\n",
       "      <th>17</th>\n",
       "      <td>0.85</td>\n",
       "      <td>0.53</td>\n",
       "      <td>0.52</td>\n",
       "    </tr>\n",
       "    <tr>\n",
       "      <th>18</th>\n",
       "      <td>0.90</td>\n",
       "      <td>0.49</td>\n",
       "      <td>0.54</td>\n",
       "    </tr>\n",
       "    <tr>\n",
       "      <th>19</th>\n",
       "      <td>0.95</td>\n",
       "      <td>0.51</td>\n",
       "      <td>0.55</td>\n",
       "    </tr>\n",
       "    <tr>\n",
       "      <th>20</th>\n",
       "      <td>1.00</td>\n",
       "      <td>0.55</td>\n",
       "      <td>0.53</td>\n",
       "    </tr>\n",
       "  </tbody>\n",
       "</table>\n",
       "</div>"
      ],
      "text/plain": [
       "    alpha_cut  test_err  train_err\n",
       "0        0.00      0.42       0.48\n",
       "1        0.05      0.48       0.45\n",
       "2        0.10      0.41       0.43\n",
       "3        0.15      0.36       0.39\n",
       "4        0.20      0.36       0.33\n",
       "5        0.25      0.33       0.33\n",
       "6        0.30      0.31       0.32\n",
       "7        0.35      0.28       0.31\n",
       "8        0.40      0.29       0.28\n",
       "9        0.45      0.26       0.29\n",
       "10       0.50      0.36       0.26\n",
       "11       0.55      0.40       0.27\n",
       "12       0.60      0.37       0.30\n",
       "13       0.65      0.34       0.31\n",
       "14       0.70      0.32       0.35\n",
       "15       0.75      0.38       0.37\n",
       "16       0.80      0.43       0.43\n",
       "17       0.85      0.53       0.52\n",
       "18       0.90      0.49       0.54\n",
       "19       0.95      0.51       0.55\n",
       "20       1.00      0.55       0.53"
      ]
     },
     "execution_count": 26,
     "metadata": {},
     "output_type": "execute_result"
    }
   ],
   "source": [
    "results_alpha_cuts = pd.read_json(\"alpha_cuts_defuzzification.json\")\n",
    "results_alpha_cuts"
   ]
  },
  {
   "cell_type": "markdown",
   "metadata": {},
   "source": [
    "Alpha cut 0.45 è il migliore"
   ]
  },
  {
   "cell_type": "markdown",
   "metadata": {},
   "source": [
    "# Dataset PCA 1 componente "
   ]
  },
  {
   "cell_type": "code",
   "execution_count": 10,
   "metadata": {},
   "outputs": [
    {
     "data": {
      "text/html": [
       "<div>\n",
       "<style scoped>\n",
       "    .dataframe tbody tr th:only-of-type {\n",
       "        vertical-align: middle;\n",
       "    }\n",
       "\n",
       "    .dataframe tbody tr th {\n",
       "        vertical-align: top;\n",
       "    }\n",
       "\n",
       "    .dataframe thead th {\n",
       "        text-align: right;\n",
       "    }\n",
       "</style>\n",
       "<table border=\"1\" class=\"dataframe\">\n",
       "  <thead>\n",
       "    <tr style=\"text-align: right;\">\n",
       "      <th></th>\n",
       "      <th>DATA</th>\n",
       "      <th>SESSO</th>\n",
       "      <th>ANNI</th>\n",
       "      <th>PESO</th>\n",
       "      <th>ALTEZZA</th>\n",
       "      <th>BMI</th>\n",
       "      <th>Mezzo</th>\n",
       "      <th>Testa:Neurocranio</th>\n",
       "      <th>Testa:Splancnocranio</th>\n",
       "      <th>Testa:Telencefalo</th>\n",
       "      <th>...</th>\n",
       "      <th>Scheletro:Rachide-cervicale</th>\n",
       "      <th>Scheletro:Rachide-toracico</th>\n",
       "      <th>Scheletro:Rachide-lombare</th>\n",
       "      <th>Scheletro:Bacino-e-sacro</th>\n",
       "      <th>Scheletro:Complesso-sterno/claveo/costale</th>\n",
       "      <th>Tot Testa</th>\n",
       "      <th>Tot Torace</th>\n",
       "      <th>Tot Addome</th>\n",
       "      <th>Tot Scheletro</th>\n",
       "      <th>Totale</th>\n",
       "    </tr>\n",
       "    <tr>\n",
       "      <th>VERBALE</th>\n",
       "      <th></th>\n",
       "      <th></th>\n",
       "      <th></th>\n",
       "      <th></th>\n",
       "      <th></th>\n",
       "      <th></th>\n",
       "      <th></th>\n",
       "      <th></th>\n",
       "      <th></th>\n",
       "      <th></th>\n",
       "      <th></th>\n",
       "      <th></th>\n",
       "      <th></th>\n",
       "      <th></th>\n",
       "      <th></th>\n",
       "      <th></th>\n",
       "      <th></th>\n",
       "      <th></th>\n",
       "      <th></th>\n",
       "      <th></th>\n",
       "      <th></th>\n",
       "    </tr>\n",
       "  </thead>\n",
       "  <tbody>\n",
       "    <tr>\n",
       "      <th>85567</th>\n",
       "      <td>10893</td>\n",
       "      <td>0</td>\n",
       "      <td>81</td>\n",
       "      <td>84.00</td>\n",
       "      <td>1.75</td>\n",
       "      <td>27.43</td>\n",
       "      <td>0</td>\n",
       "      <td>1</td>\n",
       "      <td>0</td>\n",
       "      <td>0</td>\n",
       "      <td>...</td>\n",
       "      <td>0</td>\n",
       "      <td>3</td>\n",
       "      <td>0</td>\n",
       "      <td>3</td>\n",
       "      <td>3</td>\n",
       "      <td>2</td>\n",
       "      <td>0</td>\n",
       "      <td>3</td>\n",
       "      <td>9</td>\n",
       "      <td>14</td>\n",
       "    </tr>\n",
       "    <tr>\n",
       "      <th>85829</th>\n",
       "      <td>10970</td>\n",
       "      <td>1</td>\n",
       "      <td>69</td>\n",
       "      <td>69.00</td>\n",
       "      <td>1.62</td>\n",
       "      <td>26.29</td>\n",
       "      <td>1</td>\n",
       "      <td>4</td>\n",
       "      <td>4</td>\n",
       "      <td>4</td>\n",
       "      <td>...</td>\n",
       "      <td>0</td>\n",
       "      <td>0</td>\n",
       "      <td>0</td>\n",
       "      <td>0</td>\n",
       "      <td>4</td>\n",
       "      <td>20</td>\n",
       "      <td>7</td>\n",
       "      <td>1</td>\n",
       "      <td>4</td>\n",
       "      <td>32</td>\n",
       "    </tr>\n",
       "    <tr>\n",
       "      <th>85977</th>\n",
       "      <td>11026</td>\n",
       "      <td>1</td>\n",
       "      <td>71</td>\n",
       "      <td>67.00</td>\n",
       "      <td>1.55</td>\n",
       "      <td>27.89</td>\n",
       "      <td>1</td>\n",
       "      <td>2</td>\n",
       "      <td>0</td>\n",
       "      <td>1</td>\n",
       "      <td>...</td>\n",
       "      <td>0</td>\n",
       "      <td>0</td>\n",
       "      <td>0</td>\n",
       "      <td>0</td>\n",
       "      <td>4</td>\n",
       "      <td>6</td>\n",
       "      <td>0</td>\n",
       "      <td>0</td>\n",
       "      <td>4</td>\n",
       "      <td>10</td>\n",
       "    </tr>\n",
       "    <tr>\n",
       "      <th>86220</th>\n",
       "      <td>11122</td>\n",
       "      <td>1</td>\n",
       "      <td>54</td>\n",
       "      <td>60.00</td>\n",
       "      <td>1.59</td>\n",
       "      <td>23.73</td>\n",
       "      <td>1</td>\n",
       "      <td>4</td>\n",
       "      <td>0</td>\n",
       "      <td>0</td>\n",
       "      <td>...</td>\n",
       "      <td>0</td>\n",
       "      <td>0</td>\n",
       "      <td>0</td>\n",
       "      <td>0</td>\n",
       "      <td>4</td>\n",
       "      <td>5</td>\n",
       "      <td>3</td>\n",
       "      <td>2</td>\n",
       "      <td>4</td>\n",
       "      <td>14</td>\n",
       "    </tr>\n",
       "    <tr>\n",
       "      <th>86247</th>\n",
       "      <td>11130</td>\n",
       "      <td>1</td>\n",
       "      <td>78</td>\n",
       "      <td>69.00</td>\n",
       "      <td>1.67</td>\n",
       "      <td>24.74</td>\n",
       "      <td>1</td>\n",
       "      <td>2</td>\n",
       "      <td>0</td>\n",
       "      <td>0</td>\n",
       "      <td>...</td>\n",
       "      <td>0</td>\n",
       "      <td>0</td>\n",
       "      <td>0</td>\n",
       "      <td>0</td>\n",
       "      <td>4</td>\n",
       "      <td>2</td>\n",
       "      <td>0</td>\n",
       "      <td>2</td>\n",
       "      <td>4</td>\n",
       "      <td>8</td>\n",
       "    </tr>\n",
       "  </tbody>\n",
       "</table>\n",
       "<p>5 rows × 32 columns</p>\n",
       "</div>"
      ],
      "text/plain": [
       "          DATA  SESSO  ANNI  PESO  ALTEZZA   BMI  Mezzo  Testa:Neurocranio  \\\n",
       "VERBALE                                                                      \n",
       "85567    10893      0    81 84.00     1.75 27.43      0                  1   \n",
       "85829    10970      1    69 69.00     1.62 26.29      1                  4   \n",
       "85977    11026      1    71 67.00     1.55 27.89      1                  2   \n",
       "86220    11122      1    54 60.00     1.59 23.73      1                  4   \n",
       "86247    11130      1    78 69.00     1.67 24.74      1                  2   \n",
       "\n",
       "         Testa:Splancnocranio  Testa:Telencefalo  ...  \\\n",
       "VERBALE                                           ...   \n",
       "85567                       0                  0  ...   \n",
       "85829                       4                  4  ...   \n",
       "85977                       0                  1  ...   \n",
       "86220                       0                  0  ...   \n",
       "86247                       0                  0  ...   \n",
       "\n",
       "         Scheletro:Rachide-cervicale  Scheletro:Rachide-toracico  \\\n",
       "VERBALE                                                            \n",
       "85567                              0                           3   \n",
       "85829                              0                           0   \n",
       "85977                              0                           0   \n",
       "86220                              0                           0   \n",
       "86247                              0                           0   \n",
       "\n",
       "         Scheletro:Rachide-lombare  Scheletro:Bacino-e-sacro  \\\n",
       "VERBALE                                                        \n",
       "85567                            0                         3   \n",
       "85829                            0                         0   \n",
       "85977                            0                         0   \n",
       "86220                            0                         0   \n",
       "86247                            0                         0   \n",
       "\n",
       "         Scheletro:Complesso-sterno/claveo/costale  Tot Testa  Tot Torace  \\\n",
       "VERBALE                                                                     \n",
       "85567                                            3          2           0   \n",
       "85829                                            4         20           7   \n",
       "85977                                            4          6           0   \n",
       "86220                                            4          5           3   \n",
       "86247                                            4          2           0   \n",
       "\n",
       "         Tot Addome  Tot Scheletro  Totale  \n",
       "VERBALE                                     \n",
       "85567             3              9      14  \n",
       "85829             1              4      32  \n",
       "85977             0              4      10  \n",
       "86220             2              4      14  \n",
       "86247             2              4       8  \n",
       "\n",
       "[5 rows x 32 columns]"
      ]
     },
     "execution_count": 10,
     "metadata": {},
     "output_type": "execute_result"
    }
   ],
   "source": [
    "dataset = pd.read_excel(\"dataset/IncidentiModificato.xlsx\")\n",
    "dataset = dataset.set_index(\"VERBALE\")\n",
    "\n",
    "import datetime as dt\n",
    "\n",
    "dataset.DATA = dataset.DATA.apply(lambda d: (d - dt.datetime(1970,1,1)).days)\n",
    "\n",
    "dataset.head()"
   ]
  },
  {
   "cell_type": "code",
   "execution_count": 11,
   "metadata": {},
   "outputs": [],
   "source": [
    "anagrafica = dataset[list(dataset.columns)[1:6]]\n",
    "labels = dataset['Mezzo']\n",
    "lesioni = dataset[list(dataset.columns)[7:27]]"
   ]
  },
  {
   "cell_type": "code",
   "execution_count": 12,
   "metadata": {},
   "outputs": [],
   "source": [
    "labels_zone = ['Testa','Torace','Addome','Scheletro']"
   ]
  },
  {
   "cell_type": "code",
   "execution_count": 10,
   "metadata": {},
   "outputs": [],
   "source": [
    "df_compresso = anagrafica.copy()\n",
    "for i,l in zip(range(0,len(lesioni.columns),5),labels_zone):\n",
    "    zona = lesioni[list(lesioni.columns)[i:(i+5)]]\n",
    "    component = PCA(n_components=1).fit_transform(zona.values)\n",
    "    component_to_values = [v[0] for v in component]\n",
    "    serie = pd.Series(component_to_values,index=zona.index)\n",
    "    df_compresso[l] = serie"
   ]
  },
  {
   "cell_type": "code",
   "execution_count": 11,
   "metadata": {},
   "outputs": [
    {
     "data": {
      "text/html": [
       "<div>\n",
       "<style scoped>\n",
       "    .dataframe tbody tr th:only-of-type {\n",
       "        vertical-align: middle;\n",
       "    }\n",
       "\n",
       "    .dataframe tbody tr th {\n",
       "        vertical-align: top;\n",
       "    }\n",
       "\n",
       "    .dataframe thead th {\n",
       "        text-align: right;\n",
       "    }\n",
       "</style>\n",
       "<table border=\"1\" class=\"dataframe\">\n",
       "  <thead>\n",
       "    <tr style=\"text-align: right;\">\n",
       "      <th></th>\n",
       "      <th>SESSO</th>\n",
       "      <th>ANNI</th>\n",
       "      <th>PESO</th>\n",
       "      <th>ALTEZZA</th>\n",
       "      <th>BMI</th>\n",
       "      <th>Testa</th>\n",
       "      <th>Torace</th>\n",
       "      <th>Addome</th>\n",
       "      <th>Scheletro</th>\n",
       "    </tr>\n",
       "    <tr>\n",
       "      <th>VERBALE</th>\n",
       "      <th></th>\n",
       "      <th></th>\n",
       "      <th></th>\n",
       "      <th></th>\n",
       "      <th></th>\n",
       "      <th></th>\n",
       "      <th></th>\n",
       "      <th></th>\n",
       "      <th></th>\n",
       "    </tr>\n",
       "  </thead>\n",
       "  <tbody>\n",
       "    <tr>\n",
       "      <th>101618</th>\n",
       "      <td>1</td>\n",
       "      <td>82</td>\n",
       "      <td>80.20</td>\n",
       "      <td>1.62</td>\n",
       "      <td>30.56</td>\n",
       "      <td>-1.64</td>\n",
       "      <td>-0.92</td>\n",
       "      <td>-1.29</td>\n",
       "      <td>-3.13</td>\n",
       "    </tr>\n",
       "    <tr>\n",
       "      <th>101288E</th>\n",
       "      <td>1</td>\n",
       "      <td>70</td>\n",
       "      <td>75.60</td>\n",
       "      <td>1.57</td>\n",
       "      <td>30.67</td>\n",
       "      <td>-1.11</td>\n",
       "      <td>-1.50</td>\n",
       "      <td>-1.29</td>\n",
       "      <td>-1.02</td>\n",
       "    </tr>\n",
       "    <tr>\n",
       "      <th>E-97586</th>\n",
       "      <td>0</td>\n",
       "      <td>45</td>\n",
       "      <td>45.00</td>\n",
       "      <td>1.77</td>\n",
       "      <td>14.36</td>\n",
       "      <td>-2.17</td>\n",
       "      <td>-0.91</td>\n",
       "      <td>-1.29</td>\n",
       "      <td>1.65</td>\n",
       "    </tr>\n",
       "    <tr>\n",
       "      <th>X</th>\n",
       "      <td>0</td>\n",
       "      <td>54</td>\n",
       "      <td>89.60</td>\n",
       "      <td>1.68</td>\n",
       "      <td>31.75</td>\n",
       "      <td>-1.38</td>\n",
       "      <td>-0.60</td>\n",
       "      <td>-0.15</td>\n",
       "      <td>0.66</td>\n",
       "    </tr>\n",
       "    <tr>\n",
       "      <th>X1</th>\n",
       "      <td>1</td>\n",
       "      <td>86</td>\n",
       "      <td>50.00</td>\n",
       "      <td>1.55</td>\n",
       "      <td>20.81</td>\n",
       "      <td>-0.90</td>\n",
       "      <td>-0.60</td>\n",
       "      <td>1.03</td>\n",
       "      <td>1.65</td>\n",
       "    </tr>\n",
       "  </tbody>\n",
       "</table>\n",
       "</div>"
      ],
      "text/plain": [
       "         SESSO  ANNI  PESO  ALTEZZA   BMI  Testa  Torace  Addome  Scheletro\n",
       "VERBALE                                                                    \n",
       "101618       1    82 80.20     1.62 30.56  -1.64   -0.92   -1.29      -3.13\n",
       "101288E      1    70 75.60     1.57 30.67  -1.11   -1.50   -1.29      -1.02\n",
       "E-97586      0    45 45.00     1.77 14.36  -2.17   -0.91   -1.29       1.65\n",
       "X            0    54 89.60     1.68 31.75  -1.38   -0.60   -0.15       0.66\n",
       "X1           1    86 50.00     1.55 20.81  -0.90   -0.60    1.03       1.65"
      ]
     },
     "execution_count": 11,
     "metadata": {},
     "output_type": "execute_result"
    }
   ],
   "source": [
    "df_compresso.tail()"
   ]
  },
  {
   "cell_type": "markdown",
   "metadata": {},
   "source": [
    "### Esperimenti"
   ]
  },
  {
   "cell_type": "markdown",
   "metadata": {},
   "source": [
    "#### Tutte le colonne"
   ]
  },
  {
   "cell_type": "code",
   "execution_count": 19,
   "metadata": {},
   "outputs": [],
   "source": [
    "ordini = [.01,.1,1,10,100,1000]\n",
    "pg_ordini = {\n",
    "    'c': ordini,\n",
    "    'k': [GaussianKernel(sigma) for sigma in ordini]+\\\n",
    "         [LinearKernel()]+\\\n",
    "         [HyperbolicKernel(1,o) for o in ordini]\n",
    "}"
   ]
  },
  {
   "cell_type": "code",
   "execution_count": 20,
   "metadata": {},
   "outputs": [],
   "source": [
    "l='dfPCA1_MSOrdine'"
   ]
  },
  {
   "cell_type": "code",
   "execution_count": 21,
   "metadata": {},
   "outputs": [],
   "source": [
    "ft = incidenti_fuzzifier_table(df_compresso,[list(df_compresso.columns)],fuzzifiers_class,FuzzyInductor,labels.values,\\\n",
    "                               pg_ordini, 3,3,logger=f_logger,scaling=StandardScaler(),labels=[l],\\\n",
    "                               file_json=filejson)\n",
    "ft.to_json(filejson)"
   ]
  },
  {
   "cell_type": "code",
   "execution_count": 22,
   "metadata": {},
   "outputs": [],
   "source": [
    "mu0 = [1 if not label else 0 for label in labels.values]"
   ]
  },
  {
   "cell_type": "code",
   "execution_count": 23,
   "metadata": {},
   "outputs": [],
   "source": [
    "l = 'dfPCA1_MSOrdine_0'"
   ]
  },
  {
   "cell_type": "code",
   "execution_count": 24,
   "metadata": {},
   "outputs": [],
   "source": [
    "ft = incidenti_fuzzifier_table(df_compresso,[list(df_compresso.columns)],fuzzifiers_class,FuzzyInductor,mu0,\\\n",
    "                               pg_ordini, 3,3,logger=f_logger,scaling=StandardScaler(),labels=[l],\\\n",
    "                               file_json=filejson)\n",
    "ft.to_json(filejson)"
   ]
  },
  {
   "cell_type": "code",
   "execution_count": 25,
   "metadata": {},
   "outputs": [],
   "source": [
    "l = 'dfPCA1_MSFine_0'\n",
    "pg_fine0 = {\n",
    "    'c': [.1],\n",
    "    'k': [HyperbolicKernel(1,o) for o in [.01,.02,.03,.04,.05,.06,.07,.08,.09]]\n",
    "}"
   ]
  },
  {
   "cell_type": "code",
   "execution_count": 26,
   "metadata": {},
   "outputs": [],
   "source": [
    "ft = incidenti_fuzzifier_table(df_compresso,[list(df_compresso.columns)],fuzzifiers_class,FuzzyInductor,mu0,\\\n",
    "                               pg_fine0, 3,3,logger=f_logger,scaling=StandardScaler(),labels=[l],\\\n",
    "                               file_json=filejson)\n",
    "ft.to_json(filejson)"
   ]
  },
  {
   "cell_type": "code",
   "execution_count": 27,
   "metadata": {},
   "outputs": [],
   "source": [
    "pg_ordinif = pg_ordini\n",
    "pg_ordinif['fuzzifier'] = [ExponentialFuzzifier,LinearFuzzifier,CrispFuzzifier,\\\n",
    "                           QuantileLinearPiecewiseFuzzifier,QuantileConstantPiecewiseFuzzifier]\n",
    "l = 'dfPCA1_MSOrdineF'"
   ]
  },
  {
   "cell_type": "code",
   "execution_count": 16,
   "metadata": {},
   "outputs": [
    {
     "name": "stderr",
     "output_type": "stream",
     "text": [
      "/home/manueldileo/anaconda3/lib/python3.7/site-packages/sklearn/model_selection/_search.py:788: RuntimeWarning: invalid value encountered in subtract\n",
      "  array_means[:, np.newaxis]) ** 2,\n",
      "100%|██████████| 100/100 [00:29<00:00,  3.41it/s]\n",
      "/home/manueldileo/anaconda3/lib/python3.7/site-packages/sklearn/model_selection/_search.py:788: RuntimeWarning: invalid value encountered in subtract\n",
      "  array_means[:, np.newaxis]) ** 2,\n",
      "100%|██████████| 100/100 [00:15<00:00,  6.52it/s]\n",
      "/home/manueldileo/anaconda3/lib/python3.7/site-packages/sklearn/model_selection/_search.py:788: RuntimeWarning: invalid value encountered in subtract\n",
      "  array_means[:, np.newaxis]) ** 2,\n",
      "100%|██████████| 100/100 [00:15<00:00,  6.39it/s]\n",
      "/home/manueldileo/anaconda3/lib/python3.7/site-packages/sklearn/model_selection/_search.py:788: RuntimeWarning: invalid value encountered in subtract\n",
      "  array_means[:, np.newaxis]) ** 2,\n",
      "100%|██████████| 100/100 [00:15<00:00,  6.41it/s]\n"
     ]
    },
    {
     "data": {
      "text/html": [
       "<div>\n",
       "<style scoped>\n",
       "    .dataframe tbody tr th:only-of-type {\n",
       "        vertical-align: middle;\n",
       "    }\n",
       "\n",
       "    .dataframe tbody tr th {\n",
       "        vertical-align: top;\n",
       "    }\n",
       "\n",
       "    .dataframe thead th {\n",
       "        text-align: right;\n",
       "    }\n",
       "</style>\n",
       "<table border=\"1\" class=\"dataframe\">\n",
       "  <thead>\n",
       "    <tr style=\"text-align: right;\">\n",
       "      <th></th>\n",
       "      <th>dfPCA1_MSOrdineF</th>\n",
       "    </tr>\n",
       "  </thead>\n",
       "  <tbody>\n",
       "    <tr>\n",
       "      <th>c</th>\n",
       "      <td>0.1</td>\n",
       "    </tr>\n",
       "    <tr>\n",
       "      <th>fuzzifier</th>\n",
       "      <td>&lt;class 'fuzzylearn.fuzzifiers.LinearFuzzifier'&gt;</td>\n",
       "    </tr>\n",
       "    <tr>\n",
       "      <th>k</th>\n",
       "      <td>HyperbolicKernel(1, 1)</td>\n",
       "    </tr>\n",
       "    <tr>\n",
       "      <th>score</th>\n",
       "      <td>-0.38</td>\n",
       "    </tr>\n",
       "  </tbody>\n",
       "</table>\n",
       "</div>"
      ],
      "text/plain": [
       "                                          dfPCA1_MSOrdineF\n",
       "c                                                      0.1\n",
       "fuzzifier  <class 'fuzzylearn.fuzzifiers.LinearFuzzifier'>\n",
       "k                                   HyperbolicKernel(1, 1)\n",
       "score                                                -0.38"
      ]
     },
     "execution_count": 16,
     "metadata": {},
     "output_type": "execute_result"
    }
   ],
   "source": [
    "esperimento_registrato(df_compresso,list(df_compresso.columns),FuzzyInductor, labels.values, pg_ordinif, 3, 3, logger = f_logger, scaling=StandardScaler(), dim_reduction=None,label=l)"
   ]
  },
  {
   "cell_type": "markdown",
   "metadata": {},
   "source": [
    "#### Lesioni"
   ]
  },
  {
   "cell_type": "code",
   "execution_count": 19,
   "metadata": {},
   "outputs": [],
   "source": [
    "columns_lesioni = list(df_compresso.columns)[5:]"
   ]
  },
  {
   "cell_type": "code",
   "execution_count": 33,
   "metadata": {},
   "outputs": [],
   "source": [
    "l= 'dfPCA1Lesioni_MSOrdine'"
   ]
  },
  {
   "cell_type": "code",
   "execution_count": 36,
   "metadata": {},
   "outputs": [],
   "source": [
    "ft = incidenti_fuzzifier_table(df_compresso,[columns_lesioni],fuzzifiers_class,FuzzyInductor,labels.values,\\\n",
    "                               pg_ordini, 3,3,logger=f_logger,scaling=None,labels=[l],\\\n",
    "                               file_json=filejson)\n",
    "ft.to_json(filejson)"
   ]
  },
  {
   "cell_type": "markdown",
   "metadata": {},
   "source": [
    "Risultati simili"
   ]
  },
  {
   "cell_type": "markdown",
   "metadata": {},
   "source": [
    "### PCA 2 COMPONENTI"
   ]
  },
  {
   "cell_type": "code",
   "execution_count": 13,
   "metadata": {},
   "outputs": [
    {
     "data": {
      "text/plain": [
       "[('Testa', 'Testa2'),\n",
       " ('Torace', 'Torace2'),\n",
       " ('Addome', 'Addome2'),\n",
       " ('Scheletro', 'Scheletro2')]"
      ]
     },
     "execution_count": 13,
     "metadata": {},
     "output_type": "execute_result"
    }
   ],
   "source": [
    "labels_zone2 = list(zip(['Testa','Torace','Addome','Scheletro'],list(map(lambda x: x+\"2\",labels_zone))))\n",
    "labels_zone2"
   ]
  },
  {
   "cell_type": "code",
   "execution_count": 14,
   "metadata": {},
   "outputs": [
    {
     "data": {
      "text/html": [
       "<div>\n",
       "<style scoped>\n",
       "    .dataframe tbody tr th:only-of-type {\n",
       "        vertical-align: middle;\n",
       "    }\n",
       "\n",
       "    .dataframe tbody tr th {\n",
       "        vertical-align: top;\n",
       "    }\n",
       "\n",
       "    .dataframe thead th {\n",
       "        text-align: right;\n",
       "    }\n",
       "</style>\n",
       "<table border=\"1\" class=\"dataframe\">\n",
       "  <thead>\n",
       "    <tr style=\"text-align: right;\">\n",
       "      <th></th>\n",
       "      <th>SESSO</th>\n",
       "      <th>ANNI</th>\n",
       "      <th>PESO</th>\n",
       "      <th>ALTEZZA</th>\n",
       "      <th>BMI</th>\n",
       "      <th>Testa</th>\n",
       "      <th>Testa2</th>\n",
       "      <th>Torace</th>\n",
       "      <th>Torace2</th>\n",
       "      <th>Addome</th>\n",
       "      <th>Addome2</th>\n",
       "      <th>Scheletro</th>\n",
       "      <th>Scheletro2</th>\n",
       "    </tr>\n",
       "    <tr>\n",
       "      <th>VERBALE</th>\n",
       "      <th></th>\n",
       "      <th></th>\n",
       "      <th></th>\n",
       "      <th></th>\n",
       "      <th></th>\n",
       "      <th></th>\n",
       "      <th></th>\n",
       "      <th></th>\n",
       "      <th></th>\n",
       "      <th></th>\n",
       "      <th></th>\n",
       "      <th></th>\n",
       "      <th></th>\n",
       "    </tr>\n",
       "  </thead>\n",
       "  <tbody>\n",
       "    <tr>\n",
       "      <th>101618</th>\n",
       "      <td>1</td>\n",
       "      <td>82</td>\n",
       "      <td>80.20</td>\n",
       "      <td>1.62</td>\n",
       "      <td>30.56</td>\n",
       "      <td>-1.64</td>\n",
       "      <td>-0.01</td>\n",
       "      <td>-0.92</td>\n",
       "      <td>0.18</td>\n",
       "      <td>-1.29</td>\n",
       "      <td>0.14</td>\n",
       "      <td>-3.13</td>\n",
       "      <td>0.75</td>\n",
       "    </tr>\n",
       "    <tr>\n",
       "      <th>101288E</th>\n",
       "      <td>1</td>\n",
       "      <td>70</td>\n",
       "      <td>75.60</td>\n",
       "      <td>1.57</td>\n",
       "      <td>30.67</td>\n",
       "      <td>-1.11</td>\n",
       "      <td>0.37</td>\n",
       "      <td>-1.50</td>\n",
       "      <td>-0.37</td>\n",
       "      <td>-1.29</td>\n",
       "      <td>0.14</td>\n",
       "      <td>-1.02</td>\n",
       "      <td>-1.19</td>\n",
       "    </tr>\n",
       "    <tr>\n",
       "      <th>E-97586</th>\n",
       "      <td>0</td>\n",
       "      <td>45</td>\n",
       "      <td>45.00</td>\n",
       "      <td>1.77</td>\n",
       "      <td>14.36</td>\n",
       "      <td>-2.17</td>\n",
       "      <td>-0.39</td>\n",
       "      <td>-0.91</td>\n",
       "      <td>0.19</td>\n",
       "      <td>-1.29</td>\n",
       "      <td>0.14</td>\n",
       "      <td>1.65</td>\n",
       "      <td>1.02</td>\n",
       "    </tr>\n",
       "    <tr>\n",
       "      <th>X</th>\n",
       "      <td>0</td>\n",
       "      <td>54</td>\n",
       "      <td>89.60</td>\n",
       "      <td>1.68</td>\n",
       "      <td>31.75</td>\n",
       "      <td>-1.38</td>\n",
       "      <td>-0.88</td>\n",
       "      <td>-0.60</td>\n",
       "      <td>0.57</td>\n",
       "      <td>-0.15</td>\n",
       "      <td>-0.35</td>\n",
       "      <td>0.66</td>\n",
       "      <td>-0.41</td>\n",
       "    </tr>\n",
       "    <tr>\n",
       "      <th>X1</th>\n",
       "      <td>1</td>\n",
       "      <td>86</td>\n",
       "      <td>50.00</td>\n",
       "      <td>1.55</td>\n",
       "      <td>20.81</td>\n",
       "      <td>-0.90</td>\n",
       "      <td>-0.95</td>\n",
       "      <td>-0.60</td>\n",
       "      <td>0.57</td>\n",
       "      <td>1.03</td>\n",
       "      <td>-1.68</td>\n",
       "      <td>1.65</td>\n",
       "      <td>0.44</td>\n",
       "    </tr>\n",
       "  </tbody>\n",
       "</table>\n",
       "</div>"
      ],
      "text/plain": [
       "         SESSO  ANNI  PESO  ALTEZZA   BMI  Testa  Testa2  Torace  Torace2  \\\n",
       "VERBALE                                                                     \n",
       "101618       1    82 80.20     1.62 30.56  -1.64   -0.01   -0.92     0.18   \n",
       "101288E      1    70 75.60     1.57 30.67  -1.11    0.37   -1.50    -0.37   \n",
       "E-97586      0    45 45.00     1.77 14.36  -2.17   -0.39   -0.91     0.19   \n",
       "X            0    54 89.60     1.68 31.75  -1.38   -0.88   -0.60     0.57   \n",
       "X1           1    86 50.00     1.55 20.81  -0.90   -0.95   -0.60     0.57   \n",
       "\n",
       "         Addome  Addome2  Scheletro  Scheletro2  \n",
       "VERBALE                                          \n",
       "101618    -1.29     0.14      -3.13        0.75  \n",
       "101288E   -1.29     0.14      -1.02       -1.19  \n",
       "E-97586   -1.29     0.14       1.65        1.02  \n",
       "X         -0.15    -0.35       0.66       -0.41  \n",
       "X1         1.03    -1.68       1.65        0.44  "
      ]
     },
     "execution_count": 14,
     "metadata": {},
     "output_type": "execute_result"
    }
   ],
   "source": [
    "df_compresso2 = anagrafica.copy()\n",
    "for i,l in zip(range(0,len(lesioni.columns),5),labels_zone2): \n",
    "    l1,l2 = l\n",
    "    zona = lesioni[list(lesioni.columns)[i:(i+5)]]\n",
    "    component = PCA(n_components=2).fit_transform(zona.values)\n",
    "    component_to_values1 = [v[0] for v in component]\n",
    "    serie = pd.Series(component_to_values1,index=zona.index)\n",
    "    df_compresso2[l1] = serie\n",
    "    component_to_values2 = [v[1] for v in component]\n",
    "    serie = pd.Series(component_to_values2,index=zona.index)\n",
    "    df_compresso2[l2] = serie\n",
    "df_compresso2.tail()"
   ]
  },
  {
   "cell_type": "code",
   "execution_count": 30,
   "metadata": {},
   "outputs": [],
   "source": [
    "l = 'dfPCA2_MSOrdine'"
   ]
  },
  {
   "cell_type": "code",
   "execution_count": 31,
   "metadata": {},
   "outputs": [],
   "source": [
    "ft = incidenti_fuzzifier_table(df_compresso2,[list(df_compresso2.columns)],fuzzifiers_class,FuzzyInductor,labels.values,\\\n",
    "                               pg_ordini, 3,3,logger=f_logger,scaling=StandardScaler(),labels=[l],\\\n",
    "                               file_json=filejson)\n",
    "ft.to_json(filejson)"
   ]
  },
  {
   "cell_type": "code",
   "execution_count": 32,
   "metadata": {},
   "outputs": [],
   "source": [
    "l = 'dfPCA2_MSOrdine_0'"
   ]
  },
  {
   "cell_type": "code",
   "execution_count": 33,
   "metadata": {},
   "outputs": [],
   "source": [
    "ft = incidenti_fuzzifier_table(df_compresso2,[list(df_compresso2.columns)],fuzzifiers_class,FuzzyInductor,mu0,\\\n",
    "                               pg_ordini, 3,3,logger=f_logger,scaling=StandardScaler(),labels=[l],\\\n",
    "                               file_json=filejson)\n",
    "ft.to_json(filejson)"
   ]
  },
  {
   "cell_type": "code",
   "execution_count": 17,
   "metadata": {},
   "outputs": [],
   "source": [
    "l = 'dfPCA2Lesioni_0'\n",
    "pg_ordini = {'c': [0.1],\n",
    " 'k': [GaussianKernel(0.01),\n",
    "  GaussianKernel(0.1),\n",
    "  GaussianKernel(1),\n",
    "  GaussianKernel(10),\n",
    "  GaussianKernel(100),\n",
    "  GaussianKernel(1000),\n",
    "  LinearKernel(),\n",
    "  HyperbolicKernel(1, 0.01),\n",
    "  HyperbolicKernel(1, 0.1),\n",
    "  HyperbolicKernel(1, 1),\n",
    "  HyperbolicKernel(1, 10),\n",
    "  HyperbolicKernel(1, 100),\n",
    "  HyperbolicKernel(1, 1000)],\n",
    " 'fuzzifier': [ExponentialFuzzifier,\n",
    "  LinearFuzzifier]}"
   ]
  },
  {
   "cell_type": "code",
   "execution_count": 18,
   "metadata": {},
   "outputs": [],
   "source": [
    "columns_lesioni2 = list(df_compresso2.columns)[5:]"
   ]
  },
  {
   "cell_type": "code",
   "execution_count": 44,
   "metadata": {},
   "outputs": [
    {
     "name": "stderr",
     "output_type": "stream",
     "text": [
      "100%|██████████| 100/100 [00:49<00:00,  2.03it/s]\n",
      "100%|██████████| 100/100 [00:42<00:00,  2.36it/s]\n",
      "100%|██████████| 100/100 [00:26<00:00,  3.83it/s]\n",
      "100%|██████████| 100/100 [00:26<00:00,  3.78it/s]\n",
      "100%|██████████| 100/100 [00:26<00:00,  3.77it/s]\n",
      "100%|██████████| 100/100 [00:38<00:00,  2.60it/s]\n",
      "100%|██████████| 100/100 [00:36<00:00,  2.75it/s]\n",
      "100%|██████████| 100/100 [00:31<00:00,  3.21it/s]\n",
      "100%|██████████| 100/100 [00:34<00:00,  2.91it/s]\n",
      "100%|██████████| 100/100 [00:52<00:00,  1.89it/s]\n",
      "/home/manueldileo/anaconda3/lib/python3.7/site-packages/scipy/optimize/minpack.py:808: OptimizeWarning: Covariance of the parameters could not be estimated\n",
      "  category=OptimizeWarning)\n",
      "100%|██████████| 100/100 [00:34<00:00,  2.93it/s]\n",
      "/home/manueldileo/anaconda3/lib/python3.7/site-packages/scipy/optimize/minpack.py:808: OptimizeWarning: Covariance of the parameters could not be estimated\n",
      "  category=OptimizeWarning)\n",
      "100%|██████████| 100/100 [00:34<00:00,  2.93it/s]\n",
      "/home/manueldileo/anaconda3/lib/python3.7/site-packages/scipy/optimize/minpack.py:808: OptimizeWarning: Covariance of the parameters could not be estimated\n",
      "  category=OptimizeWarning)\n",
      "100%|██████████| 100/100 [00:33<00:00,  3.00it/s]\n",
      "/home/manueldileo/anaconda3/lib/python3.7/site-packages/scipy/optimize/minpack.py:808: OptimizeWarning: Covariance of the parameters could not be estimated\n",
      "  category=OptimizeWarning)\n",
      "100%|██████████| 100/100 [00:45<00:00,  2.21it/s]\n",
      "100%|██████████| 100/100 [00:25<00:00,  3.89it/s]\n",
      "100%|██████████| 100/100 [00:26<00:00,  3.76it/s]\n",
      "100%|██████████| 100/100 [00:26<00:00,  3.82it/s]\n",
      "100%|██████████| 100/100 [00:38<00:00,  2.58it/s]\n",
      "100%|██████████| 100/100 [00:26<00:00,  3.84it/s]\n",
      "100%|██████████| 100/100 [00:27<00:00,  3.61it/s]\n",
      "100%|██████████| 100/100 [00:26<00:00,  3.74it/s]\n"
     ]
    }
   ],
   "source": [
    "ft = incidenti_fuzzifier_table(df_compresso2,[columns_lesioni2],fuzzifiers_class,FuzzyInductor,mu0,\\\n",
    "                               pg_ordini, 3,3,logger=f_logger,scaling=StandardScaler(),labels=[l],\\\n",
    "                               file_json=filejson)\n",
    "ft.to_json(filejson)"
   ]
  },
  {
   "cell_type": "code",
   "execution_count": 20,
   "metadata": {},
   "outputs": [
    {
     "name": "stderr",
     "output_type": "stream",
     "text": [
      "100%|██████████| 100/100 [00:31<00:00,  3.19it/s]\n",
      "100%|██████████| 100/100 [00:31<00:00,  3.14it/s]\n",
      "100%|██████████| 100/100 [00:21<00:00,  4.63it/s]\n",
      "100%|██████████| 100/100 [00:21<00:00,  4.57it/s]\n",
      "100%|██████████| 100/100 [00:22<00:00,  4.51it/s]\n",
      "100%|██████████| 100/100 [00:31<00:00,  3.18it/s]\n",
      "100%|██████████| 100/100 [00:21<00:00,  4.62it/s]\n",
      "100%|██████████| 100/100 [00:22<00:00,  4.53it/s]\n",
      "100%|██████████| 100/100 [00:21<00:00,  4.59it/s]\n",
      "100%|██████████| 100/100 [00:31<00:00,  3.20it/s]\n",
      "/home/manueldileo/anaconda3/lib/python3.7/site-packages/scipy/optimize/minpack.py:808: OptimizeWarning: Covariance of the parameters could not be estimated\n",
      "  category=OptimizeWarning)\n",
      "100%|██████████| 100/100 [00:21<00:00,  4.64it/s]\n",
      "/home/manueldileo/anaconda3/lib/python3.7/site-packages/scipy/optimize/minpack.py:808: OptimizeWarning: Covariance of the parameters could not be estimated\n",
      "  category=OptimizeWarning)\n",
      "100%|██████████| 100/100 [00:22<00:00,  4.51it/s]\n",
      "/home/manueldileo/anaconda3/lib/python3.7/site-packages/scipy/optimize/minpack.py:808: OptimizeWarning: Covariance of the parameters could not be estimated\n",
      "  category=OptimizeWarning)\n",
      "100%|██████████| 100/100 [00:21<00:00,  4.63it/s]\n",
      "/home/manueldileo/anaconda3/lib/python3.7/site-packages/scipy/optimize/minpack.py:808: OptimizeWarning: Covariance of the parameters could not be estimated\n",
      "  category=OptimizeWarning)\n",
      "100%|██████████| 100/100 [00:31<00:00,  3.20it/s]\n",
      "100%|██████████| 100/100 [00:22<00:00,  4.54it/s]\n",
      "100%|██████████| 100/100 [00:22<00:00,  4.50it/s]\n",
      "100%|██████████| 100/100 [00:22<00:00,  4.54it/s]\n",
      "100%|██████████| 100/100 [00:31<00:00,  3.14it/s]\n",
      "100%|██████████| 100/100 [00:21<00:00,  4.67it/s]\n",
      "100%|██████████| 100/100 [00:22<00:00,  4.45it/s]\n",
      "100%|██████████| 100/100 [00:22<00:00,  4.53it/s]\n"
     ]
    }
   ],
   "source": [
    "l = 'dfPCA2Lesioni'\n",
    "ft = incidenti_fuzzifier_table(df_compresso2,[columns_lesioni2],fuzzifiers_class,FuzzyInductor,labels.values,\\\n",
    "                               pg_ordini, 3,3,logger=f_logger,scaling=StandardScaler(),labels=[l],\\\n",
    "                               file_json=filejson)\n",
    "ft.to_json(filejson)"
   ]
  },
  {
   "cell_type": "code",
   "execution_count": 48,
   "metadata": {},
   "outputs": [
    {
     "name": "stderr",
     "output_type": "stream",
     "text": [
      "100%|██████████| 100/100 [00:43<00:00,  2.32it/s]\n",
      "100%|██████████| 100/100 [00:43<00:00,  2.31it/s]\n",
      "100%|██████████| 100/100 [00:29<00:00,  3.34it/s]\n",
      "100%|██████████| 100/100 [00:30<00:00,  3.31it/s]\n",
      "100%|██████████| 100/100 [00:31<00:00,  3.13it/s]\n",
      "100%|██████████| 100/100 [00:45<00:00,  2.21it/s]\n",
      "100%|██████████| 100/100 [00:30<00:00,  3.31it/s]\n",
      "100%|██████████| 100/100 [00:22<00:00,  4.47it/s]\n",
      "100%|██████████| 100/100 [00:22<00:00,  4.42it/s]\n",
      "100%|██████████| 100/100 [00:31<00:00,  3.22it/s]\n",
      "/home/manueldileo/anaconda3/lib/python3.7/site-packages/scipy/optimize/minpack.py:808: OptimizeWarning: Covariance of the parameters could not be estimated\n",
      "  category=OptimizeWarning)\n",
      "100%|██████████| 100/100 [00:21<00:00,  4.63it/s]\n",
      "/home/manueldileo/anaconda3/lib/python3.7/site-packages/scipy/optimize/minpack.py:808: OptimizeWarning: Covariance of the parameters could not be estimated\n",
      "  category=OptimizeWarning)\n",
      "100%|██████████| 100/100 [00:22<00:00,  4.44it/s]\n",
      "/home/manueldileo/anaconda3/lib/python3.7/site-packages/scipy/optimize/minpack.py:808: OptimizeWarning: Covariance of the parameters could not be estimated\n",
      "  category=OptimizeWarning)\n",
      "100%|██████████| 100/100 [00:22<00:00,  4.54it/s]\n",
      "/home/manueldileo/anaconda3/lib/python3.7/site-packages/scipy/optimize/minpack.py:808: OptimizeWarning: Covariance of the parameters could not be estimated\n",
      "  category=OptimizeWarning)\n",
      "100%|██████████| 100/100 [00:31<00:00,  3.13it/s]\n",
      "100%|██████████| 100/100 [00:22<00:00,  4.47it/s]\n",
      "100%|██████████| 100/100 [00:21<00:00,  4.57it/s]\n",
      "100%|██████████| 100/100 [00:22<00:00,  4.55it/s]\n",
      "100%|██████████| 100/100 [00:31<00:00,  3.20it/s]\n",
      "100%|██████████| 100/100 [00:21<00:00,  4.63it/s]\n",
      "100%|██████████| 100/100 [00:22<00:00,  4.52it/s]\n",
      "100%|██████████| 100/100 [00:22<00:00,  4.52it/s]\n"
     ]
    }
   ],
   "source": [
    "l='dfPCA2LesioniFine_0'\n",
    "pg_fine = {'c': [0.1],\n",
    " 'k': [HyperbolicKernel(1, o) for o in np.arange(0.01,0.1,0.01)],\n",
    " 'fuzzifier': [LinearFuzzifier]\n",
    "}\n",
    "\n",
    "ft = incidenti_fuzzifier_table(df_compresso2,[columns_lesioni2],fuzzifiers_class,FuzzyInductor,mu0,\\\n",
    "                               pg_fine, 3,3,logger=f_logger,scaling=StandardScaler(),labels=[l],\\\n",
    "                               file_json=filejson)\n",
    "ft.to_json(filejson)"
   ]
  },
  {
   "cell_type": "code",
   "execution_count": 49,
   "metadata": {},
   "outputs": [
    {
     "data": {
      "text/html": [
       "<div>\n",
       "<style scoped>\n",
       "    .dataframe tbody tr th:only-of-type {\n",
       "        vertical-align: middle;\n",
       "    }\n",
       "\n",
       "    .dataframe tbody tr th {\n",
       "        vertical-align: top;\n",
       "    }\n",
       "\n",
       "    .dataframe thead th {\n",
       "        text-align: right;\n",
       "    }\n",
       "</style>\n",
       "<table border=\"1\" class=\"dataframe\">\n",
       "  <thead>\n",
       "    <tr style=\"text-align: right;\">\n",
       "      <th></th>\n",
       "      <th>df_autoencoder_MS</th>\n",
       "      <th>df_autoencoder_MSfine</th>\n",
       "      <th>df_autoencoder_MS_0</th>\n",
       "      <th>df_autoencoder_MSfine_0</th>\n",
       "      <th>df_pca_MS_0</th>\n",
       "      <th>df_pca_MSfine_0</th>\n",
       "      <th>TSNE2_MSOrdine</th>\n",
       "      <th>TSNE2_MSFine</th>\n",
       "      <th>TSNE2_MSOrdine_0</th>\n",
       "      <th>dfPCA1_MSOrdine</th>\n",
       "      <th>dfPCA1_MSOrdine_0</th>\n",
       "      <th>dfPCA1_MSFine_0</th>\n",
       "      <th>dfPCA1Lesioni_MSOrdine</th>\n",
       "      <th>dfPCA1_MSOrdineF</th>\n",
       "      <th>dfPCA2_MSOrdine</th>\n",
       "      <th>dfPCA2_MSOrdine_0</th>\n",
       "      <th>dfPCA2Lesioni_0</th>\n",
       "      <th>dfPCA2LesioniFine_0</th>\n",
       "    </tr>\n",
       "  </thead>\n",
       "  <tbody>\n",
       "    <tr>\n",
       "      <th>QuantileConstantPiecewiseFuzzifier</th>\n",
       "      <td>-0.38</td>\n",
       "      <td>-0.38</td>\n",
       "      <td>-0.31</td>\n",
       "      <td>-0.31</td>\n",
       "      <td>-0.30</td>\n",
       "      <td>-0.29</td>\n",
       "      <td>-0.43</td>\n",
       "      <td>-0.43</td>\n",
       "      <td>-0.36</td>\n",
       "      <td>-0.41</td>\n",
       "      <td>-0.30</td>\n",
       "      <td>-0.29</td>\n",
       "      <td>-0.45</td>\n",
       "      <td>-0.41</td>\n",
       "      <td>-0.42</td>\n",
       "      <td>-0.26</td>\n",
       "      <td>-0.25</td>\n",
       "      <td>-0.25</td>\n",
       "    </tr>\n",
       "    <tr>\n",
       "      <th>CrispFuzzifier</th>\n",
       "      <td>-0.43</td>\n",
       "      <td>-0.43</td>\n",
       "      <td>-0.37</td>\n",
       "      <td>-0.37</td>\n",
       "      <td>-0.31</td>\n",
       "      <td>-0.31</td>\n",
       "      <td>-0.44</td>\n",
       "      <td>-0.44</td>\n",
       "      <td>-0.32</td>\n",
       "      <td>-0.46</td>\n",
       "      <td>-0.32</td>\n",
       "      <td>-0.32</td>\n",
       "      <td>-0.45</td>\n",
       "      <td>-0.46</td>\n",
       "      <td>-0.42</td>\n",
       "      <td>-0.34</td>\n",
       "      <td>-0.28</td>\n",
       "      <td>-0.28</td>\n",
       "    </tr>\n",
       "    <tr>\n",
       "      <th>ExponentialFuzzifier</th>\n",
       "      <td>-0.29</td>\n",
       "      <td>-0.29</td>\n",
       "      <td>-0.26</td>\n",
       "      <td>-0.26</td>\n",
       "      <td>-0.23</td>\n",
       "      <td>-0.23</td>\n",
       "      <td>-0.29</td>\n",
       "      <td>-0.29</td>\n",
       "      <td>-0.28</td>\n",
       "      <td>-0.28</td>\n",
       "      <td>-0.26</td>\n",
       "      <td>-0.26</td>\n",
       "      <td>-0.29</td>\n",
       "      <td>-0.28</td>\n",
       "      <td>-0.27</td>\n",
       "      <td>-0.24</td>\n",
       "      <td>-0.23</td>\n",
       "      <td>-0.23</td>\n",
       "    </tr>\n",
       "    <tr>\n",
       "      <th>LinearFuzzifier</th>\n",
       "      <td>-0.29</td>\n",
       "      <td>-0.29</td>\n",
       "      <td>-0.26</td>\n",
       "      <td>-0.26</td>\n",
       "      <td>-0.24</td>\n",
       "      <td>-0.24</td>\n",
       "      <td>-0.30</td>\n",
       "      <td>-0.30</td>\n",
       "      <td>-0.28</td>\n",
       "      <td>-0.28</td>\n",
       "      <td>-0.26</td>\n",
       "      <td>-0.26</td>\n",
       "      <td>-0.30</td>\n",
       "      <td>-0.28</td>\n",
       "      <td>-0.27</td>\n",
       "      <td>-0.24</td>\n",
       "      <td>-0.23</td>\n",
       "      <td>-0.23</td>\n",
       "    </tr>\n",
       "    <tr>\n",
       "      <th>QuantileLinearPiecewiseFuzzifier</th>\n",
       "      <td>-0.38</td>\n",
       "      <td>-0.38</td>\n",
       "      <td>-0.31</td>\n",
       "      <td>-0.31</td>\n",
       "      <td>-0.33</td>\n",
       "      <td>-0.33</td>\n",
       "      <td>-0.44</td>\n",
       "      <td>-0.44</td>\n",
       "      <td>-0.35</td>\n",
       "      <td>-0.41</td>\n",
       "      <td>-0.33</td>\n",
       "      <td>-0.33</td>\n",
       "      <td>-0.45</td>\n",
       "      <td>-0.41</td>\n",
       "      <td>-0.39</td>\n",
       "      <td>-0.28</td>\n",
       "      <td>-0.27</td>\n",
       "      <td>-0.27</td>\n",
       "    </tr>\n",
       "  </tbody>\n",
       "</table>\n",
       "</div>"
      ],
      "text/plain": [
       "                                     df_autoencoder_MS  df_autoencoder_MSfine  \\\n",
       " QuantileConstantPiecewiseFuzzifier              -0.38                  -0.38   \n",
       "CrispFuzzifier                                   -0.43                  -0.43   \n",
       "ExponentialFuzzifier                             -0.29                  -0.29   \n",
       "LinearFuzzifier                                  -0.29                  -0.29   \n",
       "QuantileLinearPiecewiseFuzzifier                 -0.38                  -0.38   \n",
       "\n",
       "                                     df_autoencoder_MS_0  \\\n",
       " QuantileConstantPiecewiseFuzzifier                -0.31   \n",
       "CrispFuzzifier                                     -0.37   \n",
       "ExponentialFuzzifier                               -0.26   \n",
       "LinearFuzzifier                                    -0.26   \n",
       "QuantileLinearPiecewiseFuzzifier                   -0.31   \n",
       "\n",
       "                                     df_autoencoder_MSfine_0  df_pca_MS_0  \\\n",
       " QuantileConstantPiecewiseFuzzifier                    -0.31        -0.30   \n",
       "CrispFuzzifier                                         -0.37        -0.31   \n",
       "ExponentialFuzzifier                                   -0.26        -0.23   \n",
       "LinearFuzzifier                                        -0.26        -0.24   \n",
       "QuantileLinearPiecewiseFuzzifier                       -0.31        -0.33   \n",
       "\n",
       "                                     df_pca_MSfine_0  TSNE2_MSOrdine  \\\n",
       " QuantileConstantPiecewiseFuzzifier            -0.29           -0.43   \n",
       "CrispFuzzifier                                 -0.31           -0.44   \n",
       "ExponentialFuzzifier                           -0.23           -0.29   \n",
       "LinearFuzzifier                                -0.24           -0.30   \n",
       "QuantileLinearPiecewiseFuzzifier               -0.33           -0.44   \n",
       "\n",
       "                                     TSNE2_MSFine  TSNE2_MSOrdine_0  \\\n",
       " QuantileConstantPiecewiseFuzzifier         -0.43             -0.36   \n",
       "CrispFuzzifier                              -0.44             -0.32   \n",
       "ExponentialFuzzifier                        -0.29             -0.28   \n",
       "LinearFuzzifier                             -0.30             -0.28   \n",
       "QuantileLinearPiecewiseFuzzifier            -0.44             -0.35   \n",
       "\n",
       "                                     dfPCA1_MSOrdine  dfPCA1_MSOrdine_0  \\\n",
       " QuantileConstantPiecewiseFuzzifier            -0.41              -0.30   \n",
       "CrispFuzzifier                                 -0.46              -0.32   \n",
       "ExponentialFuzzifier                           -0.28              -0.26   \n",
       "LinearFuzzifier                                -0.28              -0.26   \n",
       "QuantileLinearPiecewiseFuzzifier               -0.41              -0.33   \n",
       "\n",
       "                                     dfPCA1_MSFine_0  dfPCA1Lesioni_MSOrdine  \\\n",
       " QuantileConstantPiecewiseFuzzifier            -0.29                   -0.45   \n",
       "CrispFuzzifier                                 -0.32                   -0.45   \n",
       "ExponentialFuzzifier                           -0.26                   -0.29   \n",
       "LinearFuzzifier                                -0.26                   -0.30   \n",
       "QuantileLinearPiecewiseFuzzifier               -0.33                   -0.45   \n",
       "\n",
       "                                     dfPCA1_MSOrdineF  dfPCA2_MSOrdine  \\\n",
       " QuantileConstantPiecewiseFuzzifier             -0.41            -0.42   \n",
       "CrispFuzzifier                                  -0.46            -0.42   \n",
       "ExponentialFuzzifier                            -0.28            -0.27   \n",
       "LinearFuzzifier                                 -0.28            -0.27   \n",
       "QuantileLinearPiecewiseFuzzifier                -0.41            -0.39   \n",
       "\n",
       "                                     dfPCA2_MSOrdine_0  dfPCA2Lesioni_0  \\\n",
       " QuantileConstantPiecewiseFuzzifier              -0.26            -0.25   \n",
       "CrispFuzzifier                                   -0.34            -0.28   \n",
       "ExponentialFuzzifier                             -0.24            -0.23   \n",
       "LinearFuzzifier                                  -0.24            -0.23   \n",
       "QuantileLinearPiecewiseFuzzifier                 -0.28            -0.27   \n",
       "\n",
       "                                    dfPCA2LesioniFine_0  \n",
       " QuantileConstantPiecewiseFuzzifier               -0.25  \n",
       "CrispFuzzifier                                    -0.28  \n",
       "ExponentialFuzzifier                              -0.23  \n",
       "LinearFuzzifier                                   -0.23  \n",
       "QuantileLinearPiecewiseFuzzifier                  -0.27  "
      ]
     },
     "execution_count": 49,
     "metadata": {},
     "output_type": "execute_result"
    }
   ],
   "source": [
    "ft"
   ]
  },
  {
   "cell_type": "code",
   "execution_count": 32,
   "metadata": {},
   "outputs": [],
   "source": [
    "be1 = FuzzyInductor(c=.1,k=HyperbolicKernel(1,.01),fuzzifier=LinearFuzzifier)\n",
    "be0 = FuzzyInductor(c=.1,k=HyperbolicKernel(1,.01),fuzzifier=ExponentialFuzzifier)\n",
    "bes = [be1,be0]\n",
    "classes = (1,0)"
   ]
  },
  {
   "cell_type": "code",
   "execution_count": 39,
   "metadata": {},
   "outputs": [],
   "source": [
    "values = StandardScaler().fit_transform(df_compresso2.values)\n",
    "index = df_compresso2.index\n",
    "y = labels.values"
   ]
  },
  {
   "cell_type": "code",
   "execution_count": 40,
   "metadata": {},
   "outputs": [
    {
     "name": "stderr",
     "output_type": "stream",
     "text": [
      "100%|██████████| 100/100 [00:25<00:00,  3.87it/s]\n",
      "100%|██████████| 100/100 [00:24<00:00,  4.08it/s]\n",
      "100%|██████████| 100/100 [00:24<00:00,  4.08it/s]\n",
      "100%|██████████| 100/100 [00:24<00:00,  4.13it/s]\n",
      "100%|██████████| 100/100 [00:23<00:00,  4.20it/s]\n",
      "100%|██████████| 100/100 [00:23<00:00,  4.20it/s]\n",
      "100%|██████████| 100/100 [00:24<00:00,  4.05it/s]\n",
      "100%|██████████| 100/100 [00:24<00:00,  4.06it/s]\n",
      "100%|██████████| 100/100 [00:24<00:00,  4.01it/s]\n",
      "100%|██████████| 100/100 [00:24<00:00,  4.09it/s]\n"
     ]
    }
   ],
   "source": [
    "perf_train, perf_test =best_estimator_holdout(bes,index,values, y,\n",
    "                                              classes,0.7,classify,5)"
   ]
  },
  {
   "cell_type": "code",
   "execution_count": 41,
   "metadata": {},
   "outputs": [
    {
     "data": {
      "text/plain": [
       "(0.31868131868131866, 0.3282051282051282)"
      ]
     },
     "execution_count": 41,
     "metadata": {},
     "output_type": "execute_result"
    }
   ],
   "source": [
    "perf_train, perf_test"
   ]
  },
  {
   "cell_type": "code",
   "execution_count": 44,
   "metadata": {},
   "outputs": [
    {
     "data": {
      "text/plain": [
       "\"\\nresults_alpha_cuts = pd.DataFrame()\\nfor alpha in np.arange(.1,.95,.05):\\n    perf_train, perf_test = best_estimator_holdout(bes,index,values, y,\\n                                              classes,0.7,partial(alpha_cut,alpha,0),2)\\n    results_alpha_cuts =     results_alpha_cuts.append({'alpha_cut': alpha,'train_err': perf_train,'test_err': perf_test},ignore_index=True)\\n\""
      ]
     },
     "execution_count": 44,
     "metadata": {},
     "output_type": "execute_result"
    }
   ],
   "source": [
    "\"\"\"\n",
    "results_alpha_cuts = pd.DataFrame()\n",
    "for alpha in np.arange(.1,.95,.05):\n",
    "    perf_train, perf_test = best_estimator_holdout(bes,index,values, y,\n",
    "                                              classes,0.7,partial(alpha_cut,alpha,0),2)\n",
    "    results_alpha_cuts = \\\n",
    "    results_alpha_cuts.append({'alpha_cut': alpha,'train_err': perf_train,'test_err': perf_test},ignore_index=True)\n",
    "\"\"\""
   ]
  },
  {
   "cell_type": "code",
   "execution_count": 43,
   "metadata": {},
   "outputs": [
    {
     "data": {
      "text/html": [
       "<div>\n",
       "<style scoped>\n",
       "    .dataframe tbody tr th:only-of-type {\n",
       "        vertical-align: middle;\n",
       "    }\n",
       "\n",
       "    .dataframe tbody tr th {\n",
       "        vertical-align: top;\n",
       "    }\n",
       "\n",
       "    .dataframe thead th {\n",
       "        text-align: right;\n",
       "    }\n",
       "</style>\n",
       "<table border=\"1\" class=\"dataframe\">\n",
       "  <thead>\n",
       "    <tr style=\"text-align: right;\">\n",
       "      <th></th>\n",
       "      <th>alpha_cut</th>\n",
       "      <th>test_err</th>\n",
       "      <th>train_err</th>\n",
       "    </tr>\n",
       "  </thead>\n",
       "  <tbody>\n",
       "    <tr>\n",
       "      <th>0</th>\n",
       "      <td>0.10</td>\n",
       "      <td>0.51</td>\n",
       "      <td>0.44</td>\n",
       "    </tr>\n",
       "    <tr>\n",
       "      <th>1</th>\n",
       "      <td>0.15</td>\n",
       "      <td>0.46</td>\n",
       "      <td>0.46</td>\n",
       "    </tr>\n",
       "    <tr>\n",
       "      <th>2</th>\n",
       "      <td>0.20</td>\n",
       "      <td>0.42</td>\n",
       "      <td>0.46</td>\n",
       "    </tr>\n",
       "    <tr>\n",
       "      <th>3</th>\n",
       "      <td>0.25</td>\n",
       "      <td>0.46</td>\n",
       "      <td>0.42</td>\n",
       "    </tr>\n",
       "    <tr>\n",
       "      <th>4</th>\n",
       "      <td>0.30</td>\n",
       "      <td>0.45</td>\n",
       "      <td>0.37</td>\n",
       "    </tr>\n",
       "    <tr>\n",
       "      <th>5</th>\n",
       "      <td>0.35</td>\n",
       "      <td>0.35</td>\n",
       "      <td>0.40</td>\n",
       "    </tr>\n",
       "    <tr>\n",
       "      <th>6</th>\n",
       "      <td>0.40</td>\n",
       "      <td>0.29</td>\n",
       "      <td>0.32</td>\n",
       "    </tr>\n",
       "    <tr>\n",
       "      <th>7</th>\n",
       "      <td>0.45</td>\n",
       "      <td>0.36</td>\n",
       "      <td>0.26</td>\n",
       "    </tr>\n",
       "    <tr>\n",
       "      <th>8</th>\n",
       "      <td>0.50</td>\n",
       "      <td>0.32</td>\n",
       "      <td>0.31</td>\n",
       "    </tr>\n",
       "    <tr>\n",
       "      <th>9</th>\n",
       "      <td>0.55</td>\n",
       "      <td>0.33</td>\n",
       "      <td>0.30</td>\n",
       "    </tr>\n",
       "    <tr>\n",
       "      <th>10</th>\n",
       "      <td>0.60</td>\n",
       "      <td>0.33</td>\n",
       "      <td>0.32</td>\n",
       "    </tr>\n",
       "    <tr>\n",
       "      <th>11</th>\n",
       "      <td>0.65</td>\n",
       "      <td>0.40</td>\n",
       "      <td>0.34</td>\n",
       "    </tr>\n",
       "    <tr>\n",
       "      <th>12</th>\n",
       "      <td>0.70</td>\n",
       "      <td>0.41</td>\n",
       "      <td>0.35</td>\n",
       "    </tr>\n",
       "    <tr>\n",
       "      <th>13</th>\n",
       "      <td>0.75</td>\n",
       "      <td>0.44</td>\n",
       "      <td>0.46</td>\n",
       "    </tr>\n",
       "    <tr>\n",
       "      <th>14</th>\n",
       "      <td>0.80</td>\n",
       "      <td>0.54</td>\n",
       "      <td>0.40</td>\n",
       "    </tr>\n",
       "    <tr>\n",
       "      <th>15</th>\n",
       "      <td>0.85</td>\n",
       "      <td>0.55</td>\n",
       "      <td>0.50</td>\n",
       "    </tr>\n",
       "    <tr>\n",
       "      <th>16</th>\n",
       "      <td>0.90</td>\n",
       "      <td>0.49</td>\n",
       "      <td>0.47</td>\n",
       "    </tr>\n",
       "  </tbody>\n",
       "</table>\n",
       "</div>"
      ],
      "text/plain": [
       "    alpha_cut  test_err  train_err\n",
       "0        0.10      0.51       0.44\n",
       "1        0.15      0.46       0.46\n",
       "2        0.20      0.42       0.46\n",
       "3        0.25      0.46       0.42\n",
       "4        0.30      0.45       0.37\n",
       "5        0.35      0.35       0.40\n",
       "6        0.40      0.29       0.32\n",
       "7        0.45      0.36       0.26\n",
       "8        0.50      0.32       0.31\n",
       "9        0.55      0.33       0.30\n",
       "10       0.60      0.33       0.32\n",
       "11       0.65      0.40       0.34\n",
       "12       0.70      0.41       0.35\n",
       "13       0.75      0.44       0.46\n",
       "14       0.80      0.54       0.40\n",
       "15       0.85      0.55       0.50\n",
       "16       0.90      0.49       0.47"
      ]
     },
     "execution_count": 43,
     "metadata": {},
     "output_type": "execute_result"
    }
   ],
   "source": [
    "results_alpha_cuts"
   ]
  }
 ],
 "metadata": {
  "kernelspec": {
   "display_name": "Python 3",
   "language": "python",
   "name": "python3"
  },
  "language_info": {
   "codemirror_mode": {
    "name": "ipython",
    "version": 3
   },
   "file_extension": ".py",
   "mimetype": "text/x-python",
   "name": "python",
   "nbconvert_exporter": "python",
   "pygments_lexer": "ipython3",
   "version": "3.7.3"
  }
 },
 "nbformat": 4,
 "nbformat_minor": 4
}
