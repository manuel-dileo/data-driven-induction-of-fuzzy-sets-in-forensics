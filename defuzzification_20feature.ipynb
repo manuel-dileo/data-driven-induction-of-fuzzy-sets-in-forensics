{
 "cells": [
  {
   "cell_type": "code",
   "execution_count": 1,
   "metadata": {},
   "outputs": [],
   "source": [
    "import pandas as pd\n",
    "import matplotlib.pyplot as plt\n",
    "pd.options.display.float_format = \"{:,.2f}\".format\n",
    "\n",
    "from experiments import *\n",
    "\n",
    "import sys\n",
    "\n",
    "sys.path.insert(1, '../fuzzylearn/')\n",
    "\n",
    "from fuzzylearn import *\n",
    "from fuzzylearn.fuzzifiers import LinearFuzzifier, CrispFuzzifier,ExponentialFuzzifier,QuantileLinearPiecewiseFuzzifier, QuantileConstantPiecewiseFuzzifier\n",
    "from fuzzylearn.kernel import GaussianKernel, LinearKernel, HyperbolicKernel, PolynomialKernel, HomogeneousPolynomialKernel\n",
    "from fuzzylearn import solve_optimization_gurobi\n",
    "\n",
    "from sklearn.preprocessing import StandardScaler, MinMaxScaler, MaxAbsScaler, QuantileTransformer, RobustScaler, PowerTransformer, Normalizer\n",
    "from sklearn.decomposition import PCA\n",
    "from sklearn.model_selection import GridSearchCV, cross_val_score\n",
    "\n",
    "dataset = pd.read_excel(\"dataset/IncidentiModificato.xlsx\")\n",
    "dataset = dataset.set_index(\"VERBALE\")"
   ]
  },
  {
   "cell_type": "code",
   "execution_count": 2,
   "metadata": {},
   "outputs": [
    {
     "data": {
      "text/html": [
       "<div>\n",
       "<style scoped>\n",
       "    .dataframe tbody tr th:only-of-type {\n",
       "        vertical-align: middle;\n",
       "    }\n",
       "\n",
       "    .dataframe tbody tr th {\n",
       "        vertical-align: top;\n",
       "    }\n",
       "\n",
       "    .dataframe thead th {\n",
       "        text-align: right;\n",
       "    }\n",
       "</style>\n",
       "<table border=\"1\" class=\"dataframe\">\n",
       "  <thead>\n",
       "    <tr style=\"text-align: right;\">\n",
       "      <th></th>\n",
       "      <th>DATA</th>\n",
       "      <th>SESSO</th>\n",
       "      <th>ANNI</th>\n",
       "      <th>PESO</th>\n",
       "      <th>ALTEZZA</th>\n",
       "      <th>BMI</th>\n",
       "      <th>Mezzo</th>\n",
       "      <th>Testa:Neurocranio</th>\n",
       "      <th>Testa:Splancnocranio</th>\n",
       "      <th>Testa:Telencefalo</th>\n",
       "      <th>...</th>\n",
       "      <th>Scheletro:Rachide-cervicale</th>\n",
       "      <th>Scheletro:Rachide-toracico</th>\n",
       "      <th>Scheletro:Rachide-lombare</th>\n",
       "      <th>Scheletro:Bacino-e-sacro</th>\n",
       "      <th>Scheletro:Complesso-sterno/claveo/costale</th>\n",
       "      <th>Tot Testa</th>\n",
       "      <th>Tot Torace</th>\n",
       "      <th>Tot Addome</th>\n",
       "      <th>Tot Scheletro</th>\n",
       "      <th>Totale</th>\n",
       "    </tr>\n",
       "    <tr>\n",
       "      <th>VERBALE</th>\n",
       "      <th></th>\n",
       "      <th></th>\n",
       "      <th></th>\n",
       "      <th></th>\n",
       "      <th></th>\n",
       "      <th></th>\n",
       "      <th></th>\n",
       "      <th></th>\n",
       "      <th></th>\n",
       "      <th></th>\n",
       "      <th></th>\n",
       "      <th></th>\n",
       "      <th></th>\n",
       "      <th></th>\n",
       "      <th></th>\n",
       "      <th></th>\n",
       "      <th></th>\n",
       "      <th></th>\n",
       "      <th></th>\n",
       "      <th></th>\n",
       "      <th></th>\n",
       "    </tr>\n",
       "  </thead>\n",
       "  <tbody>\n",
       "    <tr>\n",
       "      <th>85567</th>\n",
       "      <td>10893</td>\n",
       "      <td>0</td>\n",
       "      <td>81</td>\n",
       "      <td>84.00</td>\n",
       "      <td>1.75</td>\n",
       "      <td>27.43</td>\n",
       "      <td>0</td>\n",
       "      <td>1</td>\n",
       "      <td>0</td>\n",
       "      <td>0</td>\n",
       "      <td>...</td>\n",
       "      <td>0</td>\n",
       "      <td>3</td>\n",
       "      <td>0</td>\n",
       "      <td>3</td>\n",
       "      <td>3</td>\n",
       "      <td>2</td>\n",
       "      <td>0</td>\n",
       "      <td>3</td>\n",
       "      <td>9</td>\n",
       "      <td>14</td>\n",
       "    </tr>\n",
       "    <tr>\n",
       "      <th>85829</th>\n",
       "      <td>10970</td>\n",
       "      <td>1</td>\n",
       "      <td>69</td>\n",
       "      <td>69.00</td>\n",
       "      <td>1.62</td>\n",
       "      <td>26.29</td>\n",
       "      <td>1</td>\n",
       "      <td>4</td>\n",
       "      <td>4</td>\n",
       "      <td>4</td>\n",
       "      <td>...</td>\n",
       "      <td>0</td>\n",
       "      <td>0</td>\n",
       "      <td>0</td>\n",
       "      <td>0</td>\n",
       "      <td>4</td>\n",
       "      <td>20</td>\n",
       "      <td>7</td>\n",
       "      <td>1</td>\n",
       "      <td>4</td>\n",
       "      <td>32</td>\n",
       "    </tr>\n",
       "    <tr>\n",
       "      <th>85977</th>\n",
       "      <td>11026</td>\n",
       "      <td>1</td>\n",
       "      <td>71</td>\n",
       "      <td>67.00</td>\n",
       "      <td>1.55</td>\n",
       "      <td>27.89</td>\n",
       "      <td>1</td>\n",
       "      <td>2</td>\n",
       "      <td>0</td>\n",
       "      <td>1</td>\n",
       "      <td>...</td>\n",
       "      <td>0</td>\n",
       "      <td>0</td>\n",
       "      <td>0</td>\n",
       "      <td>0</td>\n",
       "      <td>4</td>\n",
       "      <td>6</td>\n",
       "      <td>0</td>\n",
       "      <td>0</td>\n",
       "      <td>4</td>\n",
       "      <td>10</td>\n",
       "    </tr>\n",
       "    <tr>\n",
       "      <th>86220</th>\n",
       "      <td>11122</td>\n",
       "      <td>1</td>\n",
       "      <td>54</td>\n",
       "      <td>60.00</td>\n",
       "      <td>1.59</td>\n",
       "      <td>23.73</td>\n",
       "      <td>1</td>\n",
       "      <td>4</td>\n",
       "      <td>0</td>\n",
       "      <td>0</td>\n",
       "      <td>...</td>\n",
       "      <td>0</td>\n",
       "      <td>0</td>\n",
       "      <td>0</td>\n",
       "      <td>0</td>\n",
       "      <td>4</td>\n",
       "      <td>5</td>\n",
       "      <td>3</td>\n",
       "      <td>2</td>\n",
       "      <td>4</td>\n",
       "      <td>14</td>\n",
       "    </tr>\n",
       "    <tr>\n",
       "      <th>86247</th>\n",
       "      <td>11130</td>\n",
       "      <td>1</td>\n",
       "      <td>78</td>\n",
       "      <td>69.00</td>\n",
       "      <td>1.67</td>\n",
       "      <td>24.74</td>\n",
       "      <td>1</td>\n",
       "      <td>2</td>\n",
       "      <td>0</td>\n",
       "      <td>0</td>\n",
       "      <td>...</td>\n",
       "      <td>0</td>\n",
       "      <td>0</td>\n",
       "      <td>0</td>\n",
       "      <td>0</td>\n",
       "      <td>4</td>\n",
       "      <td>2</td>\n",
       "      <td>0</td>\n",
       "      <td>2</td>\n",
       "      <td>4</td>\n",
       "      <td>8</td>\n",
       "    </tr>\n",
       "  </tbody>\n",
       "</table>\n",
       "<p>5 rows × 32 columns</p>\n",
       "</div>"
      ],
      "text/plain": [
       "          DATA  SESSO  ANNI  PESO  ALTEZZA   BMI  Mezzo  Testa:Neurocranio  \\\n",
       "VERBALE                                                                      \n",
       "85567    10893      0    81 84.00     1.75 27.43      0                  1   \n",
       "85829    10970      1    69 69.00     1.62 26.29      1                  4   \n",
       "85977    11026      1    71 67.00     1.55 27.89      1                  2   \n",
       "86220    11122      1    54 60.00     1.59 23.73      1                  4   \n",
       "86247    11130      1    78 69.00     1.67 24.74      1                  2   \n",
       "\n",
       "         Testa:Splancnocranio  Testa:Telencefalo  ...  \\\n",
       "VERBALE                                           ...   \n",
       "85567                       0                  0  ...   \n",
       "85829                       4                  4  ...   \n",
       "85977                       0                  1  ...   \n",
       "86220                       0                  0  ...   \n",
       "86247                       0                  0  ...   \n",
       "\n",
       "         Scheletro:Rachide-cervicale  Scheletro:Rachide-toracico  \\\n",
       "VERBALE                                                            \n",
       "85567                              0                           3   \n",
       "85829                              0                           0   \n",
       "85977                              0                           0   \n",
       "86220                              0                           0   \n",
       "86247                              0                           0   \n",
       "\n",
       "         Scheletro:Rachide-lombare  Scheletro:Bacino-e-sacro  \\\n",
       "VERBALE                                                        \n",
       "85567                            0                         3   \n",
       "85829                            0                         0   \n",
       "85977                            0                         0   \n",
       "86220                            0                         0   \n",
       "86247                            0                         0   \n",
       "\n",
       "         Scheletro:Complesso-sterno/claveo/costale  Tot Testa  Tot Torace  \\\n",
       "VERBALE                                                                     \n",
       "85567                                            3          2           0   \n",
       "85829                                            4         20           7   \n",
       "85977                                            4          6           0   \n",
       "86220                                            4          5           3   \n",
       "86247                                            4          2           0   \n",
       "\n",
       "         Tot Addome  Tot Scheletro  Totale  \n",
       "VERBALE                                     \n",
       "85567             3              9      14  \n",
       "85829             1              4      32  \n",
       "85977             0              4      10  \n",
       "86220             2              4      14  \n",
       "86247             2              4       8  \n",
       "\n",
       "[5 rows x 32 columns]"
      ]
     },
     "execution_count": 2,
     "metadata": {},
     "output_type": "execute_result"
    }
   ],
   "source": [
    "import datetime as dt\n",
    "\n",
    "dataset.DATA = dataset.DATA.apply(lambda d: (d - dt.datetime(1970,1,1)).days)\n",
    "\n",
    "dataset.head()"
   ]
  },
  {
   "cell_type": "code",
   "execution_count": 3,
   "metadata": {},
   "outputs": [],
   "source": [
    "import logging\n",
    "\n",
    "# create logger\n",
    "f_logger = logging.getLogger(__name__)\n",
    "f_logger.setLevel(logging.INFO)\n",
    "\n",
    "# create console handler and set level to debug\n",
    "file = logging.FileHandler('esperimenti.log')\n",
    "file.setLevel(logging.INFO)\n",
    "\n",
    "# create formatter\n",
    "formatter = logging.Formatter('%(asctime)s -%(message)s')\n",
    "\n",
    "# add formatter to ch\n",
    "file.setFormatter(formatter)\n",
    "\n",
    "# add ch to logger\n",
    "f_logger.addHandler(file)"
   ]
  },
  {
   "cell_type": "markdown",
   "metadata": {},
   "source": [
    "# Defuzzification"
   ]
  },
  {
   "cell_type": "code",
   "execution_count": 3,
   "metadata": {},
   "outputs": [],
   "source": [
    "from experiments import *"
   ]
  },
  {
   "cell_type": "code",
   "execution_count": 11,
   "metadata": {},
   "outputs": [],
   "source": [
    "risultati_gaussian = pd.read_json(\"json_result/first_experiments20.json\")\n",
    "risultati_other_kernels = pd.read_json(\"json_result/experiments_otherkernels20.json\")\n",
    "risultati0 = pd.read_json(\"json_result/first_experiments20_class0.json\")\n",
    "risultati = risultati_gaussian.join(risultati_other_kernels)"
   ]
  },
  {
   "cell_type": "code",
   "execution_count": 18,
   "metadata": {},
   "outputs": [],
   "source": [
    "scalers_table = pd.read_json(\"json_result/experiments_20feature_scalers.json\")"
   ]
  },
  {
   "cell_type": "code",
   "execution_count": 12,
   "metadata": {},
   "outputs": [],
   "source": [
    "def classify(item, est_mu,classes):\n",
    "    return sorted([(l, est_mu[l](item)) for l in classes], key=lambda i:i[1], reverse=True)[0][0]"
   ]
  },
  {
   "cell_type": "code",
   "execution_count": 13,
   "metadata": {},
   "outputs": [],
   "source": [
    "def to_membership_values(labels, target):\n",
    "    return [1 if l==target else 0 for l in labels]"
   ]
  },
  {
   "cell_type": "code",
   "execution_count": 14,
   "metadata": {},
   "outputs": [],
   "source": [
    "def best_estimator_holdout(best_estimators,data_index,data_values, data_labels,classes,train_percentage,classifier, num_holdouts):\n",
    "    n = len(data_values)\n",
    "    \n",
    "    performance_train = performance_test = 0.0\n",
    "    \n",
    "    trials = range(num_holdouts)\n",
    "    \n",
    "    for trial in trials:\n",
    "    \n",
    "        permuted_indices = np.random.permutation(n)\n",
    "        train_indices = permuted_indices[:int(n*train_percentage)]\n",
    "        test_indices = permuted_indices[int(n*train_percentage):]\n",
    "    \n",
    "        train_values = [data_values[i] for i in train_indices]\n",
    "        test_values = [data_values[i] for i in test_indices]\n",
    "        \n",
    "        train_values_arr = np.asarray(train_values)\n",
    "        \n",
    "        mu = {} \n",
    "        mu_train = {}\n",
    "        mu_test = {}\n",
    "        \n",
    "        result = []\n",
    "        \n",
    "        for target in classes:\n",
    "            mu[target] = to_membership_values(data_labels, target)\n",
    "            mu_train[target] = [mu[target][i] for i in train_indices]\n",
    "            mu_test[target] = [mu[target][i] for i in test_indices]\n",
    "        \n",
    "        labels_train = [data_labels[i] for i in train_indices]\n",
    "        labels_test = [data_labels[i] for i in test_indices]\n",
    "        \n",
    "        est_mu = {}\n",
    "        \n",
    "        targets = classes\n",
    "        \n",
    "        for target,be in zip(targets,best_estimators):\n",
    "            be.fit(train_values_arr, mu_train[target], n_jobs=-1)\n",
    "            est_mu[target] = be.estimated_membership_\n",
    "\n",
    "            if len(est_mu.values()) < len(classes):\n",
    "                continue # at least one class not inferred\n",
    "        \n",
    "        index_train = [data_index[i] for i in train_indices]\n",
    "        index_test = [data_index[i] for i in test_indices]\n",
    "        \n",
    "        results_train = list(zip(index_train,\n",
    "                            map(lambda item: classifier(item, est_mu,classes),\n",
    "                            train_values), labels_train))\n",
    "        performance_train += 1.0 * len([r for r in results_train if r[1] != r[2]]) / len(results_train)\n",
    "    \n",
    "        results_test = list(zip(index_test,\n",
    "                           map(lambda item: classifier(item, est_mu,classes),\n",
    "                           test_values), labels_test))\n",
    "    \n",
    "        performance_test += 1.0 * len([r for r in results_test if r[1] != r[2]]) / len(results_test)\n",
    "        \n",
    "    return (performance_train/num_holdouts, performance_test/num_holdouts)"
   ]
  },
  {
   "cell_type": "code",
   "execution_count": 15,
   "metadata": {
    "scrolled": true
   },
   "outputs": [
    {
     "data": {
      "text/html": [
       "<div>\n",
       "<style scoped>\n",
       "    .dataframe tbody tr th:only-of-type {\n",
       "        vertical-align: middle;\n",
       "    }\n",
       "\n",
       "    .dataframe tbody tr th {\n",
       "        vertical-align: top;\n",
       "    }\n",
       "\n",
       "    .dataframe thead th {\n",
       "        text-align: right;\n",
       "    }\n",
       "</style>\n",
       "<table border=\"1\" class=\"dataframe\">\n",
       "  <thead>\n",
       "    <tr style=\"text-align: right;\">\n",
       "      <th></th>\n",
       "      <th>Totale</th>\n",
       "      <th>Totali distretti</th>\n",
       "      <th>Totali</th>\n",
       "      <th>Lesioni 5 componenti</th>\n",
       "      <th>Lesioni 10 componenti</th>\n",
       "      <th>Lesioni 15 componenti</th>\n",
       "      <th>Lesioni 20 componenti</th>\n",
       "      <th>LesioniTotali5</th>\n",
       "      <th>LesioniTotali10</th>\n",
       "      <th>LesioniTotali15</th>\n",
       "      <th>...</th>\n",
       "      <th>All20</th>\n",
       "      <th>All25</th>\n",
       "      <th>All30</th>\n",
       "      <th>TotaleK</th>\n",
       "      <th>TotaliK</th>\n",
       "      <th>TotaliDistrettiK</th>\n",
       "      <th>LesioniTotali20K</th>\n",
       "      <th>Lesioni20K</th>\n",
       "      <th>All20K</th>\n",
       "      <th>BMI_Lesioni_Totali20K</th>\n",
       "    </tr>\n",
       "  </thead>\n",
       "  <tbody>\n",
       "    <tr>\n",
       "      <th>c</th>\n",
       "      <td>0.021544346900318846</td>\n",
       "      <td>0.021544346900318846</td>\n",
       "      <td>0.021544346900318846</td>\n",
       "      <td>0.021544346900318846</td>\n",
       "      <td>0.021544346900318846</td>\n",
       "      <td>0.021544346900318846</td>\n",
       "      <td>0.021544346900318846</td>\n",
       "      <td>0.021544346900318846</td>\n",
       "      <td>0.021544346900318846</td>\n",
       "      <td>0.021544346900318846</td>\n",
       "      <td>...</td>\n",
       "      <td>0.021544346900318846</td>\n",
       "      <td>0.021544346900318846</td>\n",
       "      <td>0.021544346900318846</td>\n",
       "      <td>0.021544346900318846</td>\n",
       "      <td>0.021544346900318846</td>\n",
       "      <td>0.021544346900318846</td>\n",
       "      <td>0.021544346900318846</td>\n",
       "      <td>0.021544346900318846</td>\n",
       "      <td>0.021544346900318846</td>\n",
       "      <td>0.021544346900318846</td>\n",
       "    </tr>\n",
       "    <tr>\n",
       "      <th>fuzzifier</th>\n",
       "      <td>&lt;class 'fuzzylearn.fuzzifiers.ExponentialFuzzi...</td>\n",
       "      <td>&lt;class 'fuzzylearn.fuzzifiers.ExponentialFuzzi...</td>\n",
       "      <td>&lt;class 'fuzzylearn.fuzzifiers.ExponentialFuzzi...</td>\n",
       "      <td>&lt;class 'fuzzylearn.fuzzifiers.ExponentialFuzzi...</td>\n",
       "      <td>&lt;class 'fuzzylearn.fuzzifiers.ExponentialFuzzi...</td>\n",
       "      <td>&lt;class 'fuzzylearn.fuzzifiers.ExponentialFuzzi...</td>\n",
       "      <td>&lt;class 'fuzzylearn.fuzzifiers.QuantileConstant...</td>\n",
       "      <td>&lt;class 'fuzzylearn.fuzzifiers.ExponentialFuzzi...</td>\n",
       "      <td>&lt;class 'fuzzylearn.fuzzifiers.LinearFuzzifier'&gt;</td>\n",
       "      <td>&lt;class 'fuzzylearn.fuzzifiers.QuantileConstant...</td>\n",
       "      <td>...</td>\n",
       "      <td>&lt;class 'fuzzylearn.fuzzifiers.QuantileConstant...</td>\n",
       "      <td>&lt;class 'fuzzylearn.fuzzifiers.QuantileConstant...</td>\n",
       "      <td>&lt;class 'fuzzylearn.fuzzifiers.QuantileConstant...</td>\n",
       "      <td>&lt;class 'fuzzylearn.fuzzifiers.ExponentialFuzzi...</td>\n",
       "      <td>&lt;class 'fuzzylearn.fuzzifiers.ExponentialFuzzi...</td>\n",
       "      <td>&lt;class 'fuzzylearn.fuzzifiers.LinearFuzzifier'&gt;</td>\n",
       "      <td>&lt;class 'fuzzylearn.fuzzifiers.LinearFuzzifier'&gt;</td>\n",
       "      <td>&lt;class 'fuzzylearn.fuzzifiers.ExponentialFuzzi...</td>\n",
       "      <td>&lt;class 'fuzzylearn.fuzzifiers.LinearFuzzifier'&gt;</td>\n",
       "      <td>&lt;class 'fuzzylearn.fuzzifiers.LinearFuzzifier'&gt;</td>\n",
       "    </tr>\n",
       "    <tr>\n",
       "      <th>k</th>\n",
       "      <td>GaussianKernel(0.1)</td>\n",
       "      <td>GaussianKernel(0.7)</td>\n",
       "      <td>GaussianKernel(0.7)</td>\n",
       "      <td>GaussianKernel(0.9)</td>\n",
       "      <td>GaussianKernel(0.9)</td>\n",
       "      <td>GaussianKernel(0.5)</td>\n",
       "      <td>GaussianKernel(0.3)</td>\n",
       "      <td>GaussianKernel(0.9)</td>\n",
       "      <td>GaussianKernel(0.9)</td>\n",
       "      <td>GaussianKernel(0.3)</td>\n",
       "      <td>...</td>\n",
       "      <td>GaussianKernel(0.4)</td>\n",
       "      <td>GaussianKernel(0.4)</td>\n",
       "      <td>GaussianKernel(0.4)</td>\n",
       "      <td>HomogeneousPolynomialKernel(4)</td>\n",
       "      <td>HyperbolicKernel(1, 1)</td>\n",
       "      <td>HyperbolicKernel(1, 1)</td>\n",
       "      <td>HyperbolicKernel(1, 0)</td>\n",
       "      <td>HyperbolicKernel(1, 0)</td>\n",
       "      <td>HyperbolicKernel(1, 0)</td>\n",
       "      <td>HyperbolicKernel(1, 0)</td>\n",
       "    </tr>\n",
       "    <tr>\n",
       "      <th>score</th>\n",
       "      <td>-0.31</td>\n",
       "      <td>-0.30</td>\n",
       "      <td>-0.30</td>\n",
       "      <td>-0.31</td>\n",
       "      <td>-0.47</td>\n",
       "      <td>-0.46</td>\n",
       "      <td>-0.32</td>\n",
       "      <td>-0.33</td>\n",
       "      <td>-0.33</td>\n",
       "      <td>-0.38</td>\n",
       "      <td>...</td>\n",
       "      <td>-0.32</td>\n",
       "      <td>-0.33</td>\n",
       "      <td>-0.33</td>\n",
       "      <td>-0.31</td>\n",
       "      <td>-0.31</td>\n",
       "      <td>-0.32</td>\n",
       "      <td>-0.29</td>\n",
       "      <td>-0.29</td>\n",
       "      <td>-0.29</td>\n",
       "      <td>-0.29</td>\n",
       "    </tr>\n",
       "  </tbody>\n",
       "</table>\n",
       "<p>4 rows × 48 columns</p>\n",
       "</div>"
      ],
      "text/plain": [
       "                                                      Totale  \\\n",
       "c                                       0.021544346900318846   \n",
       "fuzzifier  <class 'fuzzylearn.fuzzifiers.ExponentialFuzzi...   \n",
       "k                                        GaussianKernel(0.1)   \n",
       "score                                                  -0.31   \n",
       "\n",
       "                                            Totali distretti  \\\n",
       "c                                       0.021544346900318846   \n",
       "fuzzifier  <class 'fuzzylearn.fuzzifiers.ExponentialFuzzi...   \n",
       "k                                        GaussianKernel(0.7)   \n",
       "score                                                  -0.30   \n",
       "\n",
       "                                                      Totali  \\\n",
       "c                                       0.021544346900318846   \n",
       "fuzzifier  <class 'fuzzylearn.fuzzifiers.ExponentialFuzzi...   \n",
       "k                                        GaussianKernel(0.7)   \n",
       "score                                                  -0.30   \n",
       "\n",
       "                                        Lesioni 5 componenti  \\\n",
       "c                                       0.021544346900318846   \n",
       "fuzzifier  <class 'fuzzylearn.fuzzifiers.ExponentialFuzzi...   \n",
       "k                                        GaussianKernel(0.9)   \n",
       "score                                                  -0.31   \n",
       "\n",
       "                                       Lesioni 10 componenti  \\\n",
       "c                                       0.021544346900318846   \n",
       "fuzzifier  <class 'fuzzylearn.fuzzifiers.ExponentialFuzzi...   \n",
       "k                                        GaussianKernel(0.9)   \n",
       "score                                                  -0.47   \n",
       "\n",
       "                                       Lesioni 15 componenti  \\\n",
       "c                                       0.021544346900318846   \n",
       "fuzzifier  <class 'fuzzylearn.fuzzifiers.ExponentialFuzzi...   \n",
       "k                                        GaussianKernel(0.5)   \n",
       "score                                                  -0.46   \n",
       "\n",
       "                                       Lesioni 20 componenti  \\\n",
       "c                                       0.021544346900318846   \n",
       "fuzzifier  <class 'fuzzylearn.fuzzifiers.QuantileConstant...   \n",
       "k                                        GaussianKernel(0.3)   \n",
       "score                                                  -0.32   \n",
       "\n",
       "                                              LesioniTotali5  \\\n",
       "c                                       0.021544346900318846   \n",
       "fuzzifier  <class 'fuzzylearn.fuzzifiers.ExponentialFuzzi...   \n",
       "k                                        GaussianKernel(0.9)   \n",
       "score                                                  -0.33   \n",
       "\n",
       "                                           LesioniTotali10  \\\n",
       "c                                     0.021544346900318846   \n",
       "fuzzifier  <class 'fuzzylearn.fuzzifiers.LinearFuzzifier'>   \n",
       "k                                      GaussianKernel(0.9)   \n",
       "score                                                -0.33   \n",
       "\n",
       "                                             LesioniTotali15  ...  \\\n",
       "c                                       0.021544346900318846  ...   \n",
       "fuzzifier  <class 'fuzzylearn.fuzzifiers.QuantileConstant...  ...   \n",
       "k                                        GaussianKernel(0.3)  ...   \n",
       "score                                                  -0.38  ...   \n",
       "\n",
       "                                                       All20  \\\n",
       "c                                       0.021544346900318846   \n",
       "fuzzifier  <class 'fuzzylearn.fuzzifiers.QuantileConstant...   \n",
       "k                                        GaussianKernel(0.4)   \n",
       "score                                                  -0.32   \n",
       "\n",
       "                                                       All25  \\\n",
       "c                                       0.021544346900318846   \n",
       "fuzzifier  <class 'fuzzylearn.fuzzifiers.QuantileConstant...   \n",
       "k                                        GaussianKernel(0.4)   \n",
       "score                                                  -0.33   \n",
       "\n",
       "                                                       All30  \\\n",
       "c                                       0.021544346900318846   \n",
       "fuzzifier  <class 'fuzzylearn.fuzzifiers.QuantileConstant...   \n",
       "k                                        GaussianKernel(0.4)   \n",
       "score                                                  -0.33   \n",
       "\n",
       "                                                     TotaleK  \\\n",
       "c                                       0.021544346900318846   \n",
       "fuzzifier  <class 'fuzzylearn.fuzzifiers.ExponentialFuzzi...   \n",
       "k                             HomogeneousPolynomialKernel(4)   \n",
       "score                                                  -0.31   \n",
       "\n",
       "                                                     TotaliK  \\\n",
       "c                                       0.021544346900318846   \n",
       "fuzzifier  <class 'fuzzylearn.fuzzifiers.ExponentialFuzzi...   \n",
       "k                                     HyperbolicKernel(1, 1)   \n",
       "score                                                  -0.31   \n",
       "\n",
       "                                          TotaliDistrettiK  \\\n",
       "c                                     0.021544346900318846   \n",
       "fuzzifier  <class 'fuzzylearn.fuzzifiers.LinearFuzzifier'>   \n",
       "k                                   HyperbolicKernel(1, 1)   \n",
       "score                                                -0.32   \n",
       "\n",
       "                                          LesioniTotali20K  \\\n",
       "c                                     0.021544346900318846   \n",
       "fuzzifier  <class 'fuzzylearn.fuzzifiers.LinearFuzzifier'>   \n",
       "k                                   HyperbolicKernel(1, 0)   \n",
       "score                                                -0.29   \n",
       "\n",
       "                                                  Lesioni20K  \\\n",
       "c                                       0.021544346900318846   \n",
       "fuzzifier  <class 'fuzzylearn.fuzzifiers.ExponentialFuzzi...   \n",
       "k                                     HyperbolicKernel(1, 0)   \n",
       "score                                                  -0.29   \n",
       "\n",
       "                                                    All20K  \\\n",
       "c                                     0.021544346900318846   \n",
       "fuzzifier  <class 'fuzzylearn.fuzzifiers.LinearFuzzifier'>   \n",
       "k                                   HyperbolicKernel(1, 0)   \n",
       "score                                                -0.29   \n",
       "\n",
       "                                     BMI_Lesioni_Totali20K  \n",
       "c                                     0.021544346900318846  \n",
       "fuzzifier  <class 'fuzzylearn.fuzzifiers.LinearFuzzifier'>  \n",
       "k                                   HyperbolicKernel(1, 0)  \n",
       "score                                                -0.29  \n",
       "\n",
       "[4 rows x 48 columns]"
      ]
     },
     "execution_count": 15,
     "metadata": {},
     "output_type": "execute_result"
    }
   ],
   "source": [
    "risultati"
   ]
  },
  {
   "cell_type": "code",
   "execution_count": 16,
   "metadata": {},
   "outputs": [
    {
     "data": {
      "text/html": [
       "<div>\n",
       "<style scoped>\n",
       "    .dataframe tbody tr th:only-of-type {\n",
       "        vertical-align: middle;\n",
       "    }\n",
       "\n",
       "    .dataframe tbody tr th {\n",
       "        vertical-align: top;\n",
       "    }\n",
       "\n",
       "    .dataframe thead th {\n",
       "        text-align: right;\n",
       "    }\n",
       "</style>\n",
       "<table border=\"1\" class=\"dataframe\">\n",
       "  <thead>\n",
       "    <tr style=\"text-align: right;\">\n",
       "      <th></th>\n",
       "      <th>BMI_Lesioni_Totali5_0</th>\n",
       "      <th>BMI_Lesioni_Totali10_0</th>\n",
       "      <th>BMI_Lesioni_Totali15_0</th>\n",
       "      <th>BMI_Lesioni_Totali20_0</th>\n",
       "      <th>Anagrafica_Totale_0</th>\n",
       "      <th>Lesioni5_0</th>\n",
       "      <th>Lesioni10_0</th>\n",
       "      <th>Lesioni15_0</th>\n",
       "      <th>Lesioni20_0</th>\n",
       "      <th>Totale_0</th>\n",
       "      <th>TotaliDistretti_0</th>\n",
       "      <th>Totali_0</th>\n",
       "      <th>All5_0</th>\n",
       "      <th>All10_0</th>\n",
       "      <th>All15_0</th>\n",
       "      <th>All20_0</th>\n",
       "      <th>LesioniTotali5_0</th>\n",
       "      <th>LesioniTotali10_0</th>\n",
       "      <th>LesioniTotali15_0</th>\n",
       "      <th>LesioniTotali20_0</th>\n",
       "    </tr>\n",
       "  </thead>\n",
       "  <tbody>\n",
       "    <tr>\n",
       "      <th>c</th>\n",
       "      <td>0.021544346900318846</td>\n",
       "      <td>0.021544346900318846</td>\n",
       "      <td>0.021544346900318846</td>\n",
       "      <td>0.021544346900318846</td>\n",
       "      <td>0.021544346900318846</td>\n",
       "      <td>0.021544346900318846</td>\n",
       "      <td>0.021544346900318846</td>\n",
       "      <td>0.021544346900318846</td>\n",
       "      <td>0.021544346900318846</td>\n",
       "      <td>0.021544346900318846</td>\n",
       "      <td>0.021544346900318846</td>\n",
       "      <td>0.021544346900318846</td>\n",
       "      <td>0.021544346900318846</td>\n",
       "      <td>0.021544346900318846</td>\n",
       "      <td>0.021544346900318846</td>\n",
       "      <td>0.021544346900318846</td>\n",
       "      <td>0.021544346900318846</td>\n",
       "      <td>0.021544346900318846</td>\n",
       "      <td>0.021544346900318846</td>\n",
       "      <td>0.021544346900318846</td>\n",
       "    </tr>\n",
       "    <tr>\n",
       "      <th>fuzzifier</th>\n",
       "      <td>&lt;class 'fuzzylearn.fuzzifiers.LinearFuzzifier'&gt;</td>\n",
       "      <td>&lt;class 'fuzzylearn.fuzzifiers.LinearFuzzifier'&gt;</td>\n",
       "      <td>&lt;class 'fuzzylearn.fuzzifiers.ExponentialFuzzi...</td>\n",
       "      <td>&lt;class 'fuzzylearn.fuzzifiers.LinearFuzzifier'&gt;</td>\n",
       "      <td>&lt;class 'fuzzylearn.fuzzifiers.LinearFuzzifier'&gt;</td>\n",
       "      <td>&lt;class 'fuzzylearn.fuzzifiers.LinearFuzzifier'&gt;</td>\n",
       "      <td>&lt;class 'fuzzylearn.fuzzifiers.ExponentialFuzzi...</td>\n",
       "      <td>&lt;class 'fuzzylearn.fuzzifiers.LinearFuzzifier'&gt;</td>\n",
       "      <td>&lt;class 'fuzzylearn.fuzzifiers.LinearFuzzifier'&gt;</td>\n",
       "      <td>&lt;class 'fuzzylearn.fuzzifiers.ExponentialFuzzi...</td>\n",
       "      <td>&lt;class 'fuzzylearn.fuzzifiers.ExponentialFuzzi...</td>\n",
       "      <td>&lt;class 'fuzzylearn.fuzzifiers.ExponentialFuzzi...</td>\n",
       "      <td>&lt;class 'fuzzylearn.fuzzifiers.LinearFuzzifier'&gt;</td>\n",
       "      <td>&lt;class 'fuzzylearn.fuzzifiers.LinearFuzzifier'&gt;</td>\n",
       "      <td>&lt;class 'fuzzylearn.fuzzifiers.ExponentialFuzzi...</td>\n",
       "      <td>&lt;class 'fuzzylearn.fuzzifiers.LinearFuzzifier'&gt;</td>\n",
       "      <td>&lt;class 'fuzzylearn.fuzzifiers.LinearFuzzifier'&gt;</td>\n",
       "      <td>&lt;class 'fuzzylearn.fuzzifiers.LinearFuzzifier'&gt;</td>\n",
       "      <td>&lt;class 'fuzzylearn.fuzzifiers.LinearFuzzifier'&gt;</td>\n",
       "      <td>&lt;class 'fuzzylearn.fuzzifiers.LinearFuzzifier'&gt;</td>\n",
       "    </tr>\n",
       "    <tr>\n",
       "      <th>k</th>\n",
       "      <td>HyperbolicKernel(1, 2)</td>\n",
       "      <td>HyperbolicKernel(1, 2)</td>\n",
       "      <td>LinearKernel()</td>\n",
       "      <td>LinearKernel()</td>\n",
       "      <td>HyperbolicKernel(1, 0)</td>\n",
       "      <td>HyperbolicKernel(1, 1)</td>\n",
       "      <td>LinearKernel()</td>\n",
       "      <td>LinearKernel()</td>\n",
       "      <td>LinearKernel()</td>\n",
       "      <td>GaussianKernel(0.9)</td>\n",
       "      <td>HyperbolicKernel(1, 1)</td>\n",
       "      <td>HyperbolicKernel(1, 1)</td>\n",
       "      <td>HyperbolicKernel(1, 2)</td>\n",
       "      <td>HyperbolicKernel(1, 2)</td>\n",
       "      <td>LinearKernel()</td>\n",
       "      <td>LinearKernel()</td>\n",
       "      <td>HyperbolicKernel(1, 1)</td>\n",
       "      <td>HyperbolicKernel(1, 2)</td>\n",
       "      <td>LinearKernel()</td>\n",
       "      <td>LinearKernel()</td>\n",
       "    </tr>\n",
       "    <tr>\n",
       "      <th>score</th>\n",
       "      <td>-0.25</td>\n",
       "      <td>-0.26</td>\n",
       "      <td>-0.26</td>\n",
       "      <td>-0.25</td>\n",
       "      <td>-0.28</td>\n",
       "      <td>-0.25</td>\n",
       "      <td>-0.25</td>\n",
       "      <td>-0.25</td>\n",
       "      <td>-0.24</td>\n",
       "      <td>-0.27</td>\n",
       "      <td>-0.26</td>\n",
       "      <td>-0.25</td>\n",
       "      <td>-0.25</td>\n",
       "      <td>-0.26</td>\n",
       "      <td>-0.26</td>\n",
       "      <td>-0.25</td>\n",
       "      <td>-0.25</td>\n",
       "      <td>-0.26</td>\n",
       "      <td>-0.25</td>\n",
       "      <td>-0.25</td>\n",
       "    </tr>\n",
       "  </tbody>\n",
       "</table>\n",
       "</div>"
      ],
      "text/plain": [
       "                                     BMI_Lesioni_Totali5_0  \\\n",
       "c                                     0.021544346900318846   \n",
       "fuzzifier  <class 'fuzzylearn.fuzzifiers.LinearFuzzifier'>   \n",
       "k                                   HyperbolicKernel(1, 2)   \n",
       "score                                                -0.25   \n",
       "\n",
       "                                    BMI_Lesioni_Totali10_0  \\\n",
       "c                                     0.021544346900318846   \n",
       "fuzzifier  <class 'fuzzylearn.fuzzifiers.LinearFuzzifier'>   \n",
       "k                                   HyperbolicKernel(1, 2)   \n",
       "score                                                -0.26   \n",
       "\n",
       "                                      BMI_Lesioni_Totali15_0  \\\n",
       "c                                       0.021544346900318846   \n",
       "fuzzifier  <class 'fuzzylearn.fuzzifiers.ExponentialFuzzi...   \n",
       "k                                             LinearKernel()   \n",
       "score                                                  -0.26   \n",
       "\n",
       "                                    BMI_Lesioni_Totali20_0  \\\n",
       "c                                     0.021544346900318846   \n",
       "fuzzifier  <class 'fuzzylearn.fuzzifiers.LinearFuzzifier'>   \n",
       "k                                           LinearKernel()   \n",
       "score                                                -0.25   \n",
       "\n",
       "                                       Anagrafica_Totale_0  \\\n",
       "c                                     0.021544346900318846   \n",
       "fuzzifier  <class 'fuzzylearn.fuzzifiers.LinearFuzzifier'>   \n",
       "k                                   HyperbolicKernel(1, 0)   \n",
       "score                                                -0.28   \n",
       "\n",
       "                                                Lesioni5_0  \\\n",
       "c                                     0.021544346900318846   \n",
       "fuzzifier  <class 'fuzzylearn.fuzzifiers.LinearFuzzifier'>   \n",
       "k                                   HyperbolicKernel(1, 1)   \n",
       "score                                                -0.25   \n",
       "\n",
       "                                                 Lesioni10_0  \\\n",
       "c                                       0.021544346900318846   \n",
       "fuzzifier  <class 'fuzzylearn.fuzzifiers.ExponentialFuzzi...   \n",
       "k                                             LinearKernel()   \n",
       "score                                                  -0.25   \n",
       "\n",
       "                                               Lesioni15_0  \\\n",
       "c                                     0.021544346900318846   \n",
       "fuzzifier  <class 'fuzzylearn.fuzzifiers.LinearFuzzifier'>   \n",
       "k                                           LinearKernel()   \n",
       "score                                                -0.25   \n",
       "\n",
       "                                               Lesioni20_0  \\\n",
       "c                                     0.021544346900318846   \n",
       "fuzzifier  <class 'fuzzylearn.fuzzifiers.LinearFuzzifier'>   \n",
       "k                                           LinearKernel()   \n",
       "score                                                -0.24   \n",
       "\n",
       "                                                    Totale_0  \\\n",
       "c                                       0.021544346900318846   \n",
       "fuzzifier  <class 'fuzzylearn.fuzzifiers.ExponentialFuzzi...   \n",
       "k                                        GaussianKernel(0.9)   \n",
       "score                                                  -0.27   \n",
       "\n",
       "                                           TotaliDistretti_0  \\\n",
       "c                                       0.021544346900318846   \n",
       "fuzzifier  <class 'fuzzylearn.fuzzifiers.ExponentialFuzzi...   \n",
       "k                                     HyperbolicKernel(1, 1)   \n",
       "score                                                  -0.26   \n",
       "\n",
       "                                                    Totali_0  \\\n",
       "c                                       0.021544346900318846   \n",
       "fuzzifier  <class 'fuzzylearn.fuzzifiers.ExponentialFuzzi...   \n",
       "k                                     HyperbolicKernel(1, 1)   \n",
       "score                                                  -0.25   \n",
       "\n",
       "                                                    All5_0  \\\n",
       "c                                     0.021544346900318846   \n",
       "fuzzifier  <class 'fuzzylearn.fuzzifiers.LinearFuzzifier'>   \n",
       "k                                   HyperbolicKernel(1, 2)   \n",
       "score                                                -0.25   \n",
       "\n",
       "                                                   All10_0  \\\n",
       "c                                     0.021544346900318846   \n",
       "fuzzifier  <class 'fuzzylearn.fuzzifiers.LinearFuzzifier'>   \n",
       "k                                   HyperbolicKernel(1, 2)   \n",
       "score                                                -0.26   \n",
       "\n",
       "                                                     All15_0  \\\n",
       "c                                       0.021544346900318846   \n",
       "fuzzifier  <class 'fuzzylearn.fuzzifiers.ExponentialFuzzi...   \n",
       "k                                             LinearKernel()   \n",
       "score                                                  -0.26   \n",
       "\n",
       "                                                   All20_0  \\\n",
       "c                                     0.021544346900318846   \n",
       "fuzzifier  <class 'fuzzylearn.fuzzifiers.LinearFuzzifier'>   \n",
       "k                                           LinearKernel()   \n",
       "score                                                -0.25   \n",
       "\n",
       "                                          LesioniTotali5_0  \\\n",
       "c                                     0.021544346900318846   \n",
       "fuzzifier  <class 'fuzzylearn.fuzzifiers.LinearFuzzifier'>   \n",
       "k                                   HyperbolicKernel(1, 1)   \n",
       "score                                                -0.25   \n",
       "\n",
       "                                         LesioniTotali10_0  \\\n",
       "c                                     0.021544346900318846   \n",
       "fuzzifier  <class 'fuzzylearn.fuzzifiers.LinearFuzzifier'>   \n",
       "k                                   HyperbolicKernel(1, 2)   \n",
       "score                                                -0.26   \n",
       "\n",
       "                                         LesioniTotali15_0  \\\n",
       "c                                     0.021544346900318846   \n",
       "fuzzifier  <class 'fuzzylearn.fuzzifiers.LinearFuzzifier'>   \n",
       "k                                           LinearKernel()   \n",
       "score                                                -0.25   \n",
       "\n",
       "                                         LesioniTotali20_0  \n",
       "c                                     0.021544346900318846  \n",
       "fuzzifier  <class 'fuzzylearn.fuzzifiers.LinearFuzzifier'>  \n",
       "k                                           LinearKernel()  \n",
       "score                                                -0.25  "
      ]
     },
     "execution_count": 16,
     "metadata": {},
     "output_type": "execute_result"
    }
   ],
   "source": [
    "risultati0"
   ]
  },
  {
   "cell_type": "code",
   "execution_count": 19,
   "metadata": {},
   "outputs": [
    {
     "name": "stdout",
     "output_type": "stream",
     "text": [
      "                                                  Lesioni20K\n",
      "c                                       0.021544346900318846\n",
      "fuzzifier  <class 'fuzzylearn.fuzzifiers.ExponentialFuzzi...\n",
      "k                                     HyperbolicKernel(1, 0)\n",
      "score                                                  -0.29\n"
     ]
    },
    {
     "data": {
      "text/html": [
       "<div>\n",
       "<style scoped>\n",
       "    .dataframe tbody tr th:only-of-type {\n",
       "        vertical-align: middle;\n",
       "    }\n",
       "\n",
       "    .dataframe tbody tr th {\n",
       "        vertical-align: top;\n",
       "    }\n",
       "\n",
       "    .dataframe thead th {\n",
       "        text-align: right;\n",
       "    }\n",
       "</style>\n",
       "<table border=\"1\" class=\"dataframe\">\n",
       "  <thead>\n",
       "    <tr style=\"text-align: right;\">\n",
       "      <th></th>\n",
       "      <th>Lesioni20K</th>\n",
       "    </tr>\n",
       "  </thead>\n",
       "  <tbody>\n",
       "    <tr>\n",
       "      <th>StandardScaler(copy=True, with_mean=True, with_std=True)</th>\n",
       "      <td>-0.29</td>\n",
       "    </tr>\n",
       "    <tr>\n",
       "      <th>MinMaxScaler(copy=True, feature_range=(0, 1))</th>\n",
       "      <td>-0.32</td>\n",
       "    </tr>\n",
       "    <tr>\n",
       "      <th>MaxAbsScaler(copy=True)</th>\n",
       "      <td>-0.32</td>\n",
       "    </tr>\n",
       "    <tr>\n",
       "      <th>QuantileTransformer(copy=True, ignore_implicit_zeros=False, n_quantiles=1000,\\n                    output_distribution='normal', random_state=None,\\n                    subsample=100000)</th>\n",
       "      <td>-0.28</td>\n",
       "    </tr>\n",
       "    <tr>\n",
       "      <th>QuantileTransformer(copy=True, ignore_implicit_zeros=False, n_quantiles=1000,\\n                    output_distribution='uniform', random_state=None,\\n                    subsample=100000)</th>\n",
       "      <td>-0.29</td>\n",
       "    </tr>\n",
       "    <tr>\n",
       "      <th>Normalizer(copy=True, norm='l2')</th>\n",
       "      <td>-0.54</td>\n",
       "    </tr>\n",
       "    <tr>\n",
       "      <th>RobustScaler(copy=True, quantile_range=(25, 75), with_centering=True,\\n             with_scaling=True)</th>\n",
       "      <td>-0.29</td>\n",
       "    </tr>\n",
       "    <tr>\n",
       "      <th>PowerTransformer(copy=True, method='yeo-johnson', standardize=True)</th>\n",
       "      <td>-0.28</td>\n",
       "    </tr>\n",
       "  </tbody>\n",
       "</table>\n",
       "</div>"
      ],
      "text/plain": [
       "                                                    Lesioni20K\n",
       "StandardScaler(copy=True, with_mean=True, with_...       -0.29\n",
       "MinMaxScaler(copy=True, feature_range=(0, 1))            -0.32\n",
       "MaxAbsScaler(copy=True)                                  -0.32\n",
       "QuantileTransformer(copy=True, ignore_implicit_...       -0.28\n",
       "QuantileTransformer(copy=True, ignore_implicit_...       -0.29\n",
       "Normalizer(copy=True, norm='l2')                         -0.54\n",
       "RobustScaler(copy=True, quantile_range=(25, 75)...       -0.29\n",
       "PowerTransformer(copy=True, method='yeo-johnson...       -0.28"
      ]
     },
     "execution_count": 19,
     "metadata": {},
     "output_type": "execute_result"
    }
   ],
   "source": [
    "best_exp=[col for col in risultati.columns if risultati[col]['score'] == risultati.loc['score'].max()]\n",
    "print(risultati[best_exp])\n",
    "scalers_table[best_exp]"
   ]
  },
  {
   "cell_type": "code",
   "execution_count": 20,
   "metadata": {},
   "outputs": [
    {
     "name": "stdout",
     "output_type": "stream",
     "text": [
      "                                               Lesioni20_0\n",
      "c                                     0.021544346900318846\n",
      "fuzzifier  <class 'fuzzylearn.fuzzifiers.LinearFuzzifier'>\n",
      "k                                           LinearKernel()\n",
      "score                                                -0.24\n"
     ]
    },
    {
     "data": {
      "text/html": [
       "<div>\n",
       "<style scoped>\n",
       "    .dataframe tbody tr th:only-of-type {\n",
       "        vertical-align: middle;\n",
       "    }\n",
       "\n",
       "    .dataframe tbody tr th {\n",
       "        vertical-align: top;\n",
       "    }\n",
       "\n",
       "    .dataframe thead th {\n",
       "        text-align: right;\n",
       "    }\n",
       "</style>\n",
       "<table border=\"1\" class=\"dataframe\">\n",
       "  <thead>\n",
       "    <tr style=\"text-align: right;\">\n",
       "      <th></th>\n",
       "      <th>Lesioni20_0</th>\n",
       "    </tr>\n",
       "  </thead>\n",
       "  <tbody>\n",
       "    <tr>\n",
       "      <th>StandardScaler(copy=True, with_mean=True, with_std=True)</th>\n",
       "      <td>-0.24</td>\n",
       "    </tr>\n",
       "    <tr>\n",
       "      <th>MinMaxScaler(copy=True, feature_range=(0, 1))</th>\n",
       "      <td>-0.24</td>\n",
       "    </tr>\n",
       "    <tr>\n",
       "      <th>MaxAbsScaler(copy=True)</th>\n",
       "      <td>-0.24</td>\n",
       "    </tr>\n",
       "    <tr>\n",
       "      <th>QuantileTransformer(copy=True, ignore_implicit_zeros=False, n_quantiles=1000,\\n                    output_distribution='normal', random_state=None,\\n                    subsample=100000)</th>\n",
       "      <td>-0.24</td>\n",
       "    </tr>\n",
       "    <tr>\n",
       "      <th>QuantileTransformer(copy=True, ignore_implicit_zeros=False, n_quantiles=1000,\\n                    output_distribution='uniform', random_state=None,\\n                    subsample=100000)</th>\n",
       "      <td>-0.25</td>\n",
       "    </tr>\n",
       "    <tr>\n",
       "      <th>Normalizer(copy=True, norm='l2')</th>\n",
       "      <td>-0.34</td>\n",
       "    </tr>\n",
       "    <tr>\n",
       "      <th>RobustScaler(copy=True, quantile_range=(25, 75), with_centering=True,\\n             with_scaling=True)</th>\n",
       "      <td>-0.24</td>\n",
       "    </tr>\n",
       "    <tr>\n",
       "      <th>PowerTransformer(copy=True, method='yeo-johnson', standardize=True)</th>\n",
       "      <td>-0.26</td>\n",
       "    </tr>\n",
       "  </tbody>\n",
       "</table>\n",
       "</div>"
      ],
      "text/plain": [
       "                                                    Lesioni20_0\n",
       "StandardScaler(copy=True, with_mean=True, with_...        -0.24\n",
       "MinMaxScaler(copy=True, feature_range=(0, 1))             -0.24\n",
       "MaxAbsScaler(copy=True)                                   -0.24\n",
       "QuantileTransformer(copy=True, ignore_implicit_...        -0.24\n",
       "QuantileTransformer(copy=True, ignore_implicit_...        -0.25\n",
       "Normalizer(copy=True, norm='l2')                          -0.34\n",
       "RobustScaler(copy=True, quantile_range=(25, 75)...        -0.24\n",
       "PowerTransformer(copy=True, method='yeo-johnson...        -0.26"
      ]
     },
     "execution_count": 20,
     "metadata": {},
     "output_type": "execute_result"
    }
   ],
   "source": [
    "best_exp0=[col for col in risultati0.columns if risultati0[col]['score'] == risultati0.loc['score'].max()]\n",
    "print(risultati0[best_exp0])\n",
    "scalers_table[best_exp0]"
   ]
  },
  {
   "cell_type": "code",
   "execution_count": 21,
   "metadata": {},
   "outputs": [],
   "source": [
    "dim_red = PCA(n_components=20)\n",
    "scaling = QuantileTransformer(output_distribution='normal')"
   ]
  },
  {
   "cell_type": "code",
   "execution_count": 146,
   "metadata": {},
   "outputs": [
    {
     "name": "stderr",
     "output_type": "stream",
     "text": [
      "/home/manueldileo/anaconda3/lib/python3.7/site-packages/sklearn/preprocessing/_data.py:2357: UserWarning: n_quantiles (1000) is greater than the total number of samples (130). n_quantiles is set to n_samples.\n",
      "  % (self.n_quantiles, n_samples))\n"
     ]
    }
   ],
   "source": [
    "values = dataset[columns_lesioni].values\n",
    "values_std = scaling.fit_transform(values)\n",
    "values_20d = dim_red.fit_transform(values_std)"
   ]
  },
  {
   "cell_type": "code",
   "execution_count": 147,
   "metadata": {},
   "outputs": [],
   "source": [
    "classes = (1,0)"
   ]
  },
  {
   "cell_type": "code",
   "execution_count": 153,
   "metadata": {},
   "outputs": [],
   "source": [
    "be1 = FuzzyInductor(fuzzifier=ExponentialFuzzifier,c=0.021544346900318846,k=HyperbolicKernel(1,0))\n",
    "be0 = FuzzyInductor(fuzzifier=LinearFuzzifier,c=0.021544346900318846,k=LinearKernel())\n",
    "bes = [be1,be0]"
   ]
  },
  {
   "cell_type": "code",
   "execution_count": 147,
   "metadata": {
    "scrolled": true
   },
   "outputs": [],
   "source": [
    "results_df = pd.DataFrame()"
   ]
  },
  {
   "cell_type": "code",
   "execution_count": 148,
   "metadata": {
    "scrolled": true
   },
   "outputs": [
    {
     "name": "stderr",
     "output_type": "stream",
     "text": [
      "100%|██████████| 100/100 [00:21<00:00,  4.88it/s]\n",
      "100%|██████████| 100/100 [00:21<00:00,  4.44it/s]\n",
      "100%|██████████| 100/100 [00:25<00:00,  5.13it/s]\n",
      "100%|██████████| 100/100 [00:21<00:00,  3.97it/s]\n",
      "100%|██████████| 100/100 [00:22<00:00,  4.73it/s]\n",
      "100%|██████████| 100/100 [00:22<00:00,  4.80it/s]\n"
     ]
    }
   ],
   "source": [
    "perf_train, perf_test =best_estimator_holdout(bes,dataset.index,values_20d, dataset_labels,\n",
    "                                              classes,0.7,classify,3)"
   ]
  },
  {
   "cell_type": "code",
   "execution_count": 149,
   "metadata": {},
   "outputs": [],
   "source": [
    "results_df = results_df.append(dict(dict({'esperimento': best_exp[0][:-1],\n",
    "                                'train_err': perf_train,\n",
    "                                'test_err': perf_test},**{(k+\"1\"):v for k,v in be1.get_params().items() if k in ['k','fuzzifier','c']}),\n",
    "                                   **{(k+\"0\"):v for k,v in be0.get_params().items() if k in ['k','fuzzifier','c']}), \n",
    "                                ignore_index=True)"
   ]
  },
  {
   "cell_type": "code",
   "execution_count": 150,
   "metadata": {},
   "outputs": [
    {
     "data": {
      "text/html": [
       "<div>\n",
       "<style scoped>\n",
       "    .dataframe tbody tr th:only-of-type {\n",
       "        vertical-align: middle;\n",
       "    }\n",
       "\n",
       "    .dataframe tbody tr th {\n",
       "        vertical-align: top;\n",
       "    }\n",
       "\n",
       "    .dataframe thead th {\n",
       "        text-align: right;\n",
       "    }\n",
       "</style>\n",
       "<table border=\"1\" class=\"dataframe\">\n",
       "  <thead>\n",
       "    <tr style=\"text-align: right;\">\n",
       "      <th></th>\n",
       "      <th>train_err</th>\n",
       "      <th>test_err</th>\n",
       "    </tr>\n",
       "  </thead>\n",
       "  <tbody>\n",
       "    <tr>\n",
       "      <th>0</th>\n",
       "      <td>0.30</td>\n",
       "      <td>0.26</td>\n",
       "    </tr>\n",
       "  </tbody>\n",
       "</table>\n",
       "</div>"
      ],
      "text/plain": [
       "   train_err  test_err\n",
       "0       0.30      0.26"
      ]
     },
     "execution_count": 150,
     "metadata": {},
     "output_type": "execute_result"
    }
   ],
   "source": [
    "results_df[['train_err','test_err']]"
   ]
  },
  {
   "cell_type": "markdown",
   "metadata": {},
   "source": [
    "#### Alpha-cut"
   ]
  },
  {
   "cell_type": "code",
   "execution_count": 155,
   "metadata": {},
   "outputs": [],
   "source": [
    "from defuzzification import *\n",
    "from functools import partial"
   ]
  },
  {
   "cell_type": "code",
   "execution_count": 156,
   "metadata": {},
   "outputs": [
    {
     "name": "stderr",
     "output_type": "stream",
     "text": [
      "100%|██████████| 100/100 [00:51<00:00,  1.94it/s]\n",
      "100%|██████████| 100/100 [00:51<00:00,  1.94it/s]\n",
      "100%|██████████| 100/100 [00:51<00:00,  1.92it/s]\n",
      "100%|██████████| 100/100 [00:51<00:00,  1.93it/s]\n",
      "100%|██████████| 100/100 [00:52<00:00,  1.92it/s]\n",
      "100%|██████████| 100/100 [00:49<00:00,  2.02it/s]\n"
     ]
    },
    {
     "name": "stdout",
     "output_type": "stream",
     "text": [
      "alpha-cut 0.2 : 0.3406593406593406 , 0.37606837606837606\n"
     ]
    },
    {
     "name": "stderr",
     "output_type": "stream",
     "text": [
      "100%|██████████| 100/100 [00:51<00:00,  1.93it/s]\n",
      "100%|██████████| 100/100 [00:51<00:00,  1.94it/s]\n",
      "100%|██████████| 100/100 [00:52<00:00,  1.92it/s]\n",
      "100%|██████████| 100/100 [00:52<00:00,  1.92it/s]\n",
      "100%|██████████| 100/100 [00:51<00:00,  1.95it/s]\n",
      "100%|██████████| 100/100 [00:51<00:00,  1.93it/s]\n"
     ]
    },
    {
     "name": "stdout",
     "output_type": "stream",
     "text": [
      "alpha-cut 0.25 : 0.34432234432234426 , 0.35042735042735046\n"
     ]
    },
    {
     "name": "stderr",
     "output_type": "stream",
     "text": [
      "100%|██████████| 100/100 [00:52<00:00,  1.92it/s]\n",
      "100%|██████████| 100/100 [00:50<00:00,  1.98it/s]\n",
      "100%|██████████| 100/100 [00:51<00:00,  1.94it/s]\n",
      "100%|██████████| 100/100 [00:51<00:00,  1.96it/s]\n",
      "100%|██████████| 100/100 [00:50<00:00,  1.97it/s]\n",
      "100%|██████████| 100/100 [00:51<00:00,  1.95it/s]\n"
     ]
    },
    {
     "name": "stdout",
     "output_type": "stream",
     "text": [
      "alpha-cut 0.3 : 0.3076923076923077 , 0.4188034188034188\n"
     ]
    },
    {
     "name": "stderr",
     "output_type": "stream",
     "text": [
      "100%|██████████| 100/100 [00:51<00:00,  1.94it/s]\n",
      "100%|██████████| 100/100 [00:51<00:00,  1.95it/s]\n",
      "100%|██████████| 100/100 [00:51<00:00,  1.95it/s]\n",
      "100%|██████████| 100/100 [00:51<00:00,  1.93it/s]\n",
      "100%|██████████| 100/100 [00:51<00:00,  1.96it/s]\n",
      "100%|██████████| 100/100 [00:52<00:00,  1.92it/s]\n"
     ]
    },
    {
     "name": "stdout",
     "output_type": "stream",
     "text": [
      "alpha-cut 0.35 : 0.3443223443223444 , 0.3076923076923077\n"
     ]
    },
    {
     "name": "stderr",
     "output_type": "stream",
     "text": [
      "100%|██████████| 100/100 [00:51<00:00,  1.94it/s]\n",
      "100%|██████████| 100/100 [00:51<00:00,  1.94it/s]\n",
      "100%|██████████| 100/100 [00:51<00:00,  1.95it/s]\n",
      "100%|██████████| 100/100 [00:50<00:00,  1.98it/s]\n",
      "100%|██████████| 100/100 [00:51<00:00,  1.95it/s]\n",
      "100%|██████████| 100/100 [00:51<00:00,  1.96it/s]\n"
     ]
    },
    {
     "name": "stdout",
     "output_type": "stream",
     "text": [
      "alpha-cut 0.4 : 0.3553113553113553 , 0.3162393162393162\n"
     ]
    },
    {
     "name": "stderr",
     "output_type": "stream",
     "text": [
      "100%|██████████| 100/100 [00:51<00:00,  1.94it/s]\n",
      "100%|██████████| 100/100 [00:51<00:00,  1.94it/s]\n",
      "100%|██████████| 100/100 [00:52<00:00,  1.92it/s]\n",
      "100%|██████████| 100/100 [00:51<00:00,  1.94it/s]\n",
      "100%|██████████| 100/100 [00:53<00:00,  1.89it/s]\n",
      "100%|██████████| 100/100 [00:52<00:00,  1.91it/s]\n"
     ]
    },
    {
     "name": "stdout",
     "output_type": "stream",
     "text": [
      "alpha-cut 0.45 : 0.3626373626373627 , 0.3333333333333333\n"
     ]
    },
    {
     "name": "stderr",
     "output_type": "stream",
     "text": [
      "100%|██████████| 100/100 [00:52<00:00,  1.91it/s]\n",
      "100%|██████████| 100/100 [00:51<00:00,  1.92it/s]\n",
      "100%|██████████| 100/100 [00:51<00:00,  1.93it/s]\n",
      "100%|██████████| 100/100 [00:51<00:00,  1.95it/s]\n",
      "100%|██████████| 100/100 [00:53<00:00,  1.87it/s]\n",
      "100%|██████████| 100/100 [00:53<00:00,  1.87it/s]\n"
     ]
    },
    {
     "name": "stdout",
     "output_type": "stream",
     "text": [
      "alpha-cut 0.5 : 0.3553113553113553 , 0.358974358974359\n"
     ]
    },
    {
     "name": "stderr",
     "output_type": "stream",
     "text": [
      "100%|██████████| 100/100 [00:53<00:00,  1.89it/s]\n",
      "100%|██████████| 100/100 [00:52<00:00,  1.89it/s]\n",
      "100%|██████████| 100/100 [00:53<00:00,  1.88it/s]\n",
      "100%|██████████| 100/100 [00:53<00:00,  1.88it/s]\n",
      "100%|██████████| 100/100 [00:53<00:00,  1.85it/s]\n",
      "100%|██████████| 100/100 [00:53<00:00,  1.88it/s]\n"
     ]
    },
    {
     "name": "stdout",
     "output_type": "stream",
     "text": [
      "alpha-cut 0.55 : 0.3626373626373627 , 0.29914529914529914\n"
     ]
    },
    {
     "name": "stderr",
     "output_type": "stream",
     "text": [
      "100%|██████████| 100/100 [00:51<00:00,  1.94it/s]\n",
      "100%|██████████| 100/100 [00:52<00:00,  1.89it/s]\n",
      "100%|██████████| 100/100 [00:53<00:00,  1.88it/s]\n",
      "100%|██████████| 100/100 [00:53<00:00,  1.88it/s]\n",
      "100%|██████████| 100/100 [00:52<00:00,  1.91it/s]\n",
      "100%|██████████| 100/100 [00:52<00:00,  1.89it/s]\n"
     ]
    },
    {
     "name": "stdout",
     "output_type": "stream",
     "text": [
      "alpha-cut 0.6 : 0.304029304029304 , 0.39316239316239315\n"
     ]
    },
    {
     "name": "stderr",
     "output_type": "stream",
     "text": [
      "100%|██████████| 100/100 [00:27<00:00,  3.66it/s]\n",
      "100%|██████████| 100/100 [00:22<00:00,  4.36it/s]\n",
      "100%|██████████| 100/100 [00:50<00:00,  1.99it/s]\n",
      "100%|██████████| 100/100 [00:23<00:00,  4.34it/s]\n",
      "100%|██████████| 100/100 [00:36<00:00,  2.77it/s]\n",
      "100%|██████████| 100/100 [00:27<00:00,  3.69it/s]\n",
      "  0%|          | 0/100 [00:00<?, ?it/s]"
     ]
    },
    {
     "name": "stdout",
     "output_type": "stream",
     "text": [
      "alpha-cut 0.65 : 0.315018315018315 , 0.30769230769230765\n"
     ]
    },
    {
     "name": "stderr",
     "output_type": "stream",
     "text": [
      "100%|██████████| 100/100 [00:40<00:00,  2.44it/s]\n",
      "100%|██████████| 100/100 [00:26<00:00,  3.71it/s]\n",
      "100%|██████████| 100/100 [00:37<00:00,  2.69it/s]\n",
      "100%|██████████| 100/100 [00:36<00:00,  2.77it/s]\n",
      "100%|██████████| 100/100 [00:42<00:00,  2.35it/s]\n",
      "100%|██████████| 100/100 [00:26<00:00,  3.76it/s]\n",
      "  0%|          | 0/100 [00:00<?, ?it/s]"
     ]
    },
    {
     "name": "stdout",
     "output_type": "stream",
     "text": [
      "alpha-cut 0.7 : 0.3626373626373627 , 0.35042735042735035\n"
     ]
    },
    {
     "name": "stderr",
     "output_type": "stream",
     "text": [
      "100%|██████████| 100/100 [00:42<00:00,  2.35it/s]\n",
      "100%|██████████| 100/100 [00:30<00:00,  3.24it/s]\n",
      "100%|██████████| 100/100 [00:36<00:00,  2.75it/s]\n",
      "100%|██████████| 100/100 [00:39<00:00,  2.52it/s]\n",
      "100%|██████████| 100/100 [00:28<00:00,  3.49it/s]\n",
      "100%|██████████| 100/100 [00:48<00:00,  2.08it/s]\n"
     ]
    },
    {
     "name": "stdout",
     "output_type": "stream",
     "text": [
      "alpha-cut 0.75 : 0.40659340659340665 , 0.4188034188034188\n"
     ]
    },
    {
     "name": "stderr",
     "output_type": "stream",
     "text": [
      "100%|██████████| 100/100 [00:38<00:00,  2.63it/s]\n",
      "100%|██████████| 100/100 [00:36<00:00,  2.72it/s]\n",
      "100%|██████████| 100/100 [00:37<00:00,  2.64it/s]\n",
      "100%|██████████| 100/100 [00:41<00:00,  2.40it/s]\n",
      "100%|██████████| 100/100 [00:29<00:00,  3.40it/s]\n",
      "100%|██████████| 100/100 [00:50<00:00,  1.97it/s]\n"
     ]
    },
    {
     "name": "stdout",
     "output_type": "stream",
     "text": [
      "alpha-cut 0.8 : 0.4761904761904762 , 0.4102564102564103\n"
     ]
    }
   ],
   "source": [
    "\"\"\"\n",
    "for alpha in [.2,.25,.3,.35,.4,.45,.5,.55,.6,.65,.7,.75,.8]:\n",
    "    perf_train, perf_test = best_estimator_holdout(bes,dataset.index,values_20d, dataset_labels,\n",
    "                                              classes,0.7,partial(alpha_cut,alpha,0),3)\n",
    "    print(\"alpha-cut {} : {} , {}\".format(alpha,perf_train,perf_test))\n",
    "\"\"\""
   ]
  },
  {
   "cell_type": "code",
   "execution_count": 157,
   "metadata": {},
   "outputs": [
    {
     "name": "stderr",
     "output_type": "stream",
     "text": [
      "100%|██████████| 100/100 [00:23<00:00,  4.17it/s]\n",
      "100%|██████████| 100/100 [00:24<00:00,  4.11it/s]\n",
      "100%|██████████| 100/100 [00:24<00:00,  4.00it/s]\n",
      "100%|██████████| 100/100 [00:23<00:00,  4.26it/s]\n",
      "100%|██████████| 100/100 [00:24<00:00,  4.16it/s]\n",
      "100%|██████████| 100/100 [00:25<00:00,  3.88it/s]\n",
      "  0%|          | 0/100 [00:00<?, ?it/s]"
     ]
    },
    {
     "name": "stdout",
     "output_type": "stream",
     "text": [
      "alpha-cut 0.2 : 0.4945054945054945 , 0.641025641025641\n"
     ]
    },
    {
     "name": "stderr",
     "output_type": "stream",
     "text": [
      "100%|██████████| 100/100 [00:23<00:00,  4.28it/s]\n",
      "100%|██████████| 100/100 [00:25<00:00,  3.94it/s]\n",
      "100%|██████████| 100/100 [00:20<00:00,  4.89it/s]\n",
      "100%|██████████| 100/100 [00:20<00:00,  4.79it/s]\n",
      "100%|██████████| 100/100 [00:21<00:00,  4.56it/s]\n",
      "100%|██████████| 100/100 [00:21<00:00,  4.62it/s]\n",
      "  0%|          | 0/100 [00:00<?, ?it/s]"
     ]
    },
    {
     "name": "stdout",
     "output_type": "stream",
     "text": [
      "alpha-cut 0.25 : 0.5384615384615384 , 0.42735042735042733\n"
     ]
    },
    {
     "name": "stderr",
     "output_type": "stream",
     "text": [
      "100%|██████████| 100/100 [00:21<00:00,  4.59it/s]\n",
      "100%|██████████| 100/100 [00:20<00:00,  4.78it/s]\n",
      "100%|██████████| 100/100 [00:19<00:00,  5.05it/s]\n",
      "100%|██████████| 100/100 [00:21<00:00,  4.72it/s]\n",
      "100%|██████████| 100/100 [00:20<00:00,  4.96it/s]\n",
      "100%|██████████| 100/100 [00:20<00:00,  5.00it/s]\n",
      "  0%|          | 0/100 [00:00<?, ?it/s]"
     ]
    },
    {
     "name": "stdout",
     "output_type": "stream",
     "text": [
      "alpha-cut 0.3 : 0.4761904761904762 , 0.5299145299145299\n"
     ]
    },
    {
     "name": "stderr",
     "output_type": "stream",
     "text": [
      "100%|██████████| 100/100 [00:21<00:00,  4.73it/s]\n",
      "100%|██████████| 100/100 [00:21<00:00,  4.57it/s]\n",
      "100%|██████████| 100/100 [00:20<00:00,  4.96it/s]\n",
      "100%|██████████| 100/100 [00:21<00:00,  4.66it/s]\n",
      "100%|██████████| 100/100 [00:21<00:00,  4.62it/s]\n",
      "100%|██████████| 100/100 [00:20<00:00,  4.77it/s]\n",
      "  0%|          | 0/100 [00:00<?, ?it/s]"
     ]
    },
    {
     "name": "stdout",
     "output_type": "stream",
     "text": [
      "alpha-cut 0.35 : 0.46520146520146527 , 0.5042735042735043\n"
     ]
    },
    {
     "name": "stderr",
     "output_type": "stream",
     "text": [
      "100%|██████████| 100/100 [00:20<00:00,  4.86it/s]\n",
      "100%|██████████| 100/100 [00:21<00:00,  4.70it/s]\n",
      "100%|██████████| 100/100 [00:20<00:00,  4.85it/s]\n",
      "100%|██████████| 100/100 [00:21<00:00,  4.62it/s]\n",
      "100%|██████████| 100/100 [00:21<00:00,  4.67it/s]\n",
      "100%|██████████| 100/100 [00:21<00:00,  4.62it/s]\n",
      "  0%|          | 0/100 [00:00<?, ?it/s]"
     ]
    },
    {
     "name": "stdout",
     "output_type": "stream",
     "text": [
      "alpha-cut 0.4 : 0.3626373626373626 , 0.5042735042735043\n"
     ]
    },
    {
     "name": "stderr",
     "output_type": "stream",
     "text": [
      "100%|██████████| 100/100 [00:21<00:00,  4.61it/s]\n",
      "100%|██████████| 100/100 [00:22<00:00,  4.53it/s]\n",
      "100%|██████████| 100/100 [00:20<00:00,  4.86it/s]\n",
      "100%|██████████| 100/100 [00:20<00:00,  4.86it/s]\n",
      "100%|██████████| 100/100 [00:21<00:00,  4.72it/s]\n",
      "100%|██████████| 100/100 [00:21<00:00,  4.62it/s]\n",
      "  0%|          | 0/100 [00:00<?, ?it/s]"
     ]
    },
    {
     "name": "stdout",
     "output_type": "stream",
     "text": [
      "alpha-cut 0.45 : 0.3882783882783883 , 0.37606837606837606\n"
     ]
    },
    {
     "name": "stderr",
     "output_type": "stream",
     "text": [
      "100%|██████████| 100/100 [00:20<00:00,  4.83it/s]\n",
      "100%|██████████| 100/100 [00:21<00:00,  4.65it/s]\n",
      "100%|██████████| 100/100 [00:20<00:00,  4.81it/s]\n",
      "100%|██████████| 100/100 [00:20<00:00,  4.85it/s]\n",
      "100%|██████████| 100/100 [00:21<00:00,  4.56it/s]\n",
      "100%|██████████| 100/100 [00:22<00:00,  4.53it/s]\n",
      "  0%|          | 0/100 [00:00<?, ?it/s]"
     ]
    },
    {
     "name": "stdout",
     "output_type": "stream",
     "text": [
      "alpha-cut 0.5 : 0.4249084249084249 , 0.43589743589743585\n"
     ]
    },
    {
     "name": "stderr",
     "output_type": "stream",
     "text": [
      "100%|██████████| 100/100 [00:21<00:00,  4.68it/s]\n",
      "100%|██████████| 100/100 [00:21<00:00,  4.75it/s]\n",
      "100%|██████████| 100/100 [00:20<00:00,  5.00it/s]\n",
      "100%|██████████| 100/100 [00:20<00:00,  4.90it/s]\n",
      "100%|██████████| 100/100 [00:21<00:00,  4.66it/s]\n",
      "100%|██████████| 100/100 [00:21<00:00,  4.73it/s]\n",
      "  0%|          | 0/100 [00:00<?, ?it/s]"
     ]
    },
    {
     "name": "stdout",
     "output_type": "stream",
     "text": [
      "alpha-cut 0.55 : 0.402930402930403 , 0.5042735042735043\n"
     ]
    },
    {
     "name": "stderr",
     "output_type": "stream",
     "text": [
      "100%|██████████| 100/100 [00:19<00:00,  5.06it/s]\n",
      "100%|██████████| 100/100 [00:20<00:00,  4.82it/s]\n",
      "100%|██████████| 100/100 [00:20<00:00,  4.87it/s]\n",
      "100%|██████████| 100/100 [00:21<00:00,  4.71it/s]\n",
      "100%|██████████| 100/100 [00:20<00:00,  4.84it/s]\n",
      "100%|██████████| 100/100 [00:20<00:00,  4.83it/s]\n",
      "  0%|          | 0/100 [00:00<?, ?it/s]"
     ]
    },
    {
     "name": "stdout",
     "output_type": "stream",
     "text": [
      "alpha-cut 0.6 : 0.4358974358974359 , 0.47863247863247865\n"
     ]
    },
    {
     "name": "stderr",
     "output_type": "stream",
     "text": [
      "100%|██████████| 100/100 [00:21<00:00,  4.62it/s]\n",
      "100%|██████████| 100/100 [00:21<00:00,  4.57it/s]\n",
      "100%|██████████| 100/100 [00:19<00:00,  5.08it/s]\n",
      "100%|██████████| 100/100 [00:20<00:00,  4.91it/s]\n",
      "100%|██████████| 100/100 [00:20<00:00,  4.85it/s]\n",
      "100%|██████████| 100/100 [00:20<00:00,  4.88it/s]\n",
      "  0%|          | 0/100 [00:00<?, ?it/s]"
     ]
    },
    {
     "name": "stdout",
     "output_type": "stream",
     "text": [
      "alpha-cut 0.65 : 0.45787545787545786 , 0.39316239316239315\n"
     ]
    },
    {
     "name": "stderr",
     "output_type": "stream",
     "text": [
      "100%|██████████| 100/100 [00:20<00:00,  4.92it/s]\n",
      "100%|██████████| 100/100 [00:20<00:00,  4.79it/s]\n",
      "100%|██████████| 100/100 [00:20<00:00,  4.95it/s]\n",
      "100%|██████████| 100/100 [00:20<00:00,  4.94it/s]\n",
      "100%|██████████| 100/100 [00:20<00:00,  4.84it/s]\n",
      "100%|██████████| 100/100 [00:20<00:00,  4.92it/s]\n",
      "  0%|          | 0/100 [00:00<?, ?it/s]"
     ]
    },
    {
     "name": "stdout",
     "output_type": "stream",
     "text": [
      "alpha-cut 0.7 : 0.45054945054945056 , 0.4102564102564103\n"
     ]
    },
    {
     "name": "stderr",
     "output_type": "stream",
     "text": [
      "100%|██████████| 100/100 [00:21<00:00,  4.63it/s]\n",
      "100%|██████████| 100/100 [00:21<00:00,  4.67it/s]\n",
      "100%|██████████| 100/100 [00:20<00:00,  4.78it/s]\n",
      "100%|██████████| 100/100 [00:20<00:00,  4.93it/s]\n",
      "100%|██████████| 100/100 [00:20<00:00,  4.78it/s]\n",
      "100%|██████████| 100/100 [00:20<00:00,  4.83it/s]\n",
      "  0%|          | 0/100 [00:00<?, ?it/s]"
     ]
    },
    {
     "name": "stdout",
     "output_type": "stream",
     "text": [
      "alpha-cut 0.75 : 0.4102564102564103 , 0.49572649572649574\n"
     ]
    },
    {
     "name": "stderr",
     "output_type": "stream",
     "text": [
      "100%|██████████| 100/100 [00:20<00:00,  4.85it/s]\n",
      "100%|██████████| 100/100 [00:20<00:00,  4.84it/s]\n",
      "100%|██████████| 100/100 [00:20<00:00,  4.86it/s]\n",
      "100%|██████████| 100/100 [00:20<00:00,  4.97it/s]\n",
      "100%|██████████| 100/100 [00:21<00:00,  4.67it/s]\n",
      "100%|██████████| 100/100 [00:20<00:00,  4.90it/s]\n"
     ]
    },
    {
     "name": "stdout",
     "output_type": "stream",
     "text": [
      "alpha-cut 0.8 : 0.4468864468864469 , 0.48717948717948717\n"
     ]
    }
   ],
   "source": [
    "\"\"\"\n",
    "for alpha in [.2,.25,.3,.35,.4,.45,.5,.55,.6,.65,.7,.75,.8]:\n",
    "    perf_train, perf_test = best_estimator_holdout(bes,dataset.index,values_20d, dataset_labels,\n",
    "                                              classes,0.7,partial(alpha_cut,alpha,1),3)\n",
    "    print(\"alpha-cut {} : {} , {}\".format(alpha,perf_train,perf_test))\n",
    "\"\"\""
   ]
  },
  {
   "cell_type": "markdown",
   "metadata": {},
   "source": [
    "#### Parametro dell'ExponentialFuzzifier"
   ]
  },
  {
   "cell_type": "code",
   "execution_count": 152,
   "metadata": {},
   "outputs": [],
   "source": [
    "class ExponentialFuzzifierFactory():\n",
    "    def __init__(self): pass\n",
    "            \n",
    "    def exponential_fuzzifier_with_alpha(self,alpha):\n",
    "        \n",
    "        class ExponentialFuzzifierAlpha(ExponentialFuzzifier):\n",
    "            def __init__(self,xs=None,mus=None):\n",
    "                super().__init__(xs, mus,profile='alpha',alpha=alpha)\n",
    "                \n",
    "        return ExponentialFuzzifierAlpha"
   ]
  },
  {
   "cell_type": "code",
   "execution_count": 153,
   "metadata": {},
   "outputs": [],
   "source": [
    "be0 = FuzzyInductor(fuzzifier=LinearFuzzifier,c=0.021544346900318846,k=LinearKernel())\n",
    "results_ef = pd.DataFrame()"
   ]
  },
  {
   "cell_type": "code",
   "execution_count": 154,
   "metadata": {},
   "outputs": [
    {
     "name": "stderr",
     "output_type": "stream",
     "text": [
      "100%|██████████| 100/100 [00:25<00:00,  3.90it/s]\n",
      "../fuzzylearn/fuzzylearn/fuzzifiers.py:254: RuntimeWarning: divide by zero encountered in log\n",
      "  else np.exp(np.log(self.alpha)/q * (r - ssd))\n",
      "100%|██████████| 100/100 [00:23<00:00,  4.28it/s]\n",
      "../fuzzylearn/fuzzylearn/fuzzifiers.py:254: RuntimeWarning: divide by zero encountered in log\n",
      "  else np.exp(np.log(self.alpha)/q * (r - ssd))\n",
      "100%|██████████| 100/100 [00:23<00:00,  4.32it/s]\n",
      "../fuzzylearn/fuzzylearn/fuzzifiers.py:254: RuntimeWarning: divide by zero encountered in log\n",
      "  else np.exp(np.log(self.alpha)/q * (r - ssd))\n",
      "100%|██████████| 100/100 [00:23<00:00,  4.18it/s]\n",
      "../fuzzylearn/fuzzylearn/fuzzifiers.py:254: RuntimeWarning: divide by zero encountered in log\n",
      "  else np.exp(np.log(self.alpha)/q * (r - ssd))\n",
      "100%|██████████| 100/100 [00:23<00:00,  4.18it/s]\n",
      "../fuzzylearn/fuzzylearn/fuzzifiers.py:254: RuntimeWarning: divide by zero encountered in log\n",
      "  else np.exp(np.log(self.alpha)/q * (r - ssd))\n",
      "100%|██████████| 100/100 [00:23<00:00,  4.17it/s]\n",
      "../fuzzylearn/fuzzylearn/fuzzifiers.py:254: RuntimeWarning: divide by zero encountered in log\n",
      "  else np.exp(np.log(self.alpha)/q * (r - ssd))\n",
      "100%|██████████| 100/100 [00:24<00:00,  4.13it/s]\n",
      "../fuzzylearn/fuzzylearn/fuzzifiers.py:254: RuntimeWarning: divide by zero encountered in log\n",
      "  else np.exp(np.log(self.alpha)/q * (r - ssd))\n",
      "100%|██████████| 100/100 [00:21<00:00,  4.60it/s]\n",
      "../fuzzylearn/fuzzylearn/fuzzifiers.py:254: RuntimeWarning: divide by zero encountered in log\n",
      "  else np.exp(np.log(self.alpha)/q * (r - ssd))\n",
      "100%|██████████| 100/100 [00:27<00:00,  3.69it/s]\n",
      "../fuzzylearn/fuzzylearn/fuzzifiers.py:254: RuntimeWarning: divide by zero encountered in log\n",
      "  else np.exp(np.log(self.alpha)/q * (r - ssd))\n",
      "100%|██████████| 100/100 [00:22<00:00,  4.43it/s]\n",
      "../fuzzylearn/fuzzylearn/fuzzifiers.py:254: RuntimeWarning: divide by zero encountered in log\n",
      "  else np.exp(np.log(self.alpha)/q * (r - ssd))\n",
      "100%|██████████| 100/100 [00:23<00:00,  4.28it/s]\n",
      "100%|██████████| 100/100 [00:24<00:00,  4.07it/s]\n",
      "100%|██████████| 100/100 [00:31<00:00,  3.15it/s]\n",
      "100%|██████████| 100/100 [00:28<00:00,  3.51it/s]\n",
      "100%|██████████| 100/100 [00:29<00:00,  3.44it/s]\n",
      "100%|██████████| 100/100 [00:29<00:00,  3.35it/s]\n",
      "100%|██████████| 100/100 [00:23<00:00,  4.29it/s]\n",
      "100%|██████████| 100/100 [00:21<00:00,  4.57it/s]\n",
      "100%|██████████| 100/100 [00:22<00:00,  4.41it/s]\n",
      "100%|██████████| 100/100 [00:27<00:00,  3.64it/s]\n",
      "100%|██████████| 100/100 [00:27<00:00,  3.66it/s]\n",
      "100%|██████████| 100/100 [00:23<00:00,  4.22it/s]\n",
      "100%|██████████| 100/100 [00:24<00:00,  4.14it/s]\n",
      "100%|██████████| 100/100 [00:24<00:00,  4.07it/s]\n",
      "100%|██████████| 100/100 [00:30<00:00,  3.27it/s]\n",
      "100%|██████████| 100/100 [00:23<00:00,  4.20it/s]\n",
      "100%|██████████| 100/100 [00:25<00:00,  3.94it/s]\n",
      "100%|██████████| 100/100 [00:24<00:00,  4.07it/s]\n",
      "100%|██████████| 100/100 [00:35<00:00,  2.81it/s]\n",
      "100%|██████████| 100/100 [00:50<00:00,  1.97it/s]\n",
      "100%|██████████| 100/100 [00:48<00:00,  2.05it/s]\n",
      "100%|██████████| 100/100 [00:51<00:00,  1.93it/s]\n",
      "100%|██████████| 100/100 [00:52<00:00,  1.92it/s]\n",
      "100%|██████████| 100/100 [00:59<00:00,  1.68it/s]\n",
      "100%|██████████| 100/100 [00:59<00:00,  1.69it/s]\n",
      "100%|██████████| 100/100 [00:52<00:00,  1.90it/s]\n",
      "100%|██████████| 100/100 [00:56<00:00,  1.76it/s]\n",
      "100%|██████████| 100/100 [00:52<00:00,  1.89it/s]\n",
      "100%|██████████| 100/100 [00:53<00:00,  1.88it/s]\n",
      "100%|██████████| 100/100 [00:54<00:00,  1.85it/s]\n",
      "100%|██████████| 100/100 [00:54<00:00,  1.83it/s]\n",
      "100%|██████████| 100/100 [00:59<00:00,  1.68it/s]\n",
      "100%|██████████| 100/100 [00:54<00:00,  1.84it/s]\n",
      "100%|██████████| 100/100 [00:52<00:00,  1.92it/s]\n",
      "100%|██████████| 100/100 [00:51<00:00,  1.94it/s]\n",
      "100%|██████████| 100/100 [00:50<00:00,  2.00it/s]\n",
      "100%|██████████| 100/100 [00:49<00:00,  2.03it/s]\n",
      "100%|██████████| 100/100 [00:49<00:00,  2.02it/s]\n",
      "100%|██████████| 100/100 [00:47<00:00,  2.10it/s]\n",
      "100%|██████████| 100/100 [00:39<00:00,  2.53it/s]\n",
      "100%|██████████| 100/100 [00:39<00:00,  2.56it/s]\n",
      "100%|██████████| 100/100 [00:47<00:00,  2.10it/s]\n",
      "100%|██████████| 100/100 [00:53<00:00,  1.87it/s]\n",
      "100%|██████████| 100/100 [00:52<00:00,  1.92it/s]\n",
      "100%|██████████| 100/100 [00:50<00:00,  1.98it/s]\n",
      "100%|██████████| 100/100 [00:44<00:00,  2.27it/s]\n",
      "100%|██████████| 100/100 [00:44<00:00,  2.22it/s]\n",
      "100%|██████████| 100/100 [00:42<00:00,  2.35it/s]\n",
      "100%|██████████| 100/100 [00:42<00:00,  2.36it/s]\n",
      "100%|██████████| 100/100 [00:42<00:00,  2.34it/s]\n",
      "100%|██████████| 100/100 [00:43<00:00,  2.30it/s]\n",
      "100%|██████████| 100/100 [00:42<00:00,  2.35it/s]\n",
      "100%|██████████| 100/100 [00:45<00:00,  2.22it/s]\n",
      "100%|██████████| 100/100 [00:41<00:00,  2.42it/s]\n",
      "100%|██████████| 100/100 [00:42<00:00,  2.37it/s]\n",
      "100%|██████████| 100/100 [00:43<00:00,  2.29it/s]\n",
      "100%|██████████| 100/100 [00:42<00:00,  2.33it/s]\n",
      "100%|██████████| 100/100 [00:42<00:00,  2.37it/s]\n",
      "100%|██████████| 100/100 [00:42<00:00,  2.37it/s]\n",
      "100%|██████████| 100/100 [00:42<00:00,  2.37it/s]\n",
      "100%|██████████| 100/100 [00:42<00:00,  2.36it/s]\n",
      "100%|██████████| 100/100 [00:44<00:00,  2.22it/s]\n",
      "100%|██████████| 100/100 [00:43<00:00,  2.32it/s]\n",
      "100%|██████████| 100/100 [00:43<00:00,  2.32it/s]\n",
      "100%|██████████| 100/100 [00:42<00:00,  2.37it/s]\n",
      "100%|██████████| 100/100 [00:42<00:00,  2.37it/s]\n",
      "100%|██████████| 100/100 [00:41<00:00,  2.41it/s]\n",
      "100%|██████████| 100/100 [00:41<00:00,  2.42it/s]\n",
      "100%|██████████| 100/100 [00:41<00:00,  2.43it/s]\n",
      "100%|██████████| 100/100 [00:41<00:00,  2.40it/s]\n",
      "100%|██████████| 100/100 [00:41<00:00,  2.41it/s]\n",
      "100%|██████████| 100/100 [00:42<00:00,  2.37it/s]\n",
      "100%|██████████| 100/100 [00:43<00:00,  2.30it/s]\n",
      "100%|██████████| 100/100 [00:44<00:00,  2.24it/s]\n",
      "100%|██████████| 100/100 [00:42<00:00,  2.34it/s]\n",
      "100%|██████████| 100/100 [00:43<00:00,  2.29it/s]\n",
      "100%|██████████| 100/100 [00:43<00:00,  2.32it/s]\n",
      "100%|██████████| 100/100 [00:41<00:00,  2.39it/s]\n",
      "100%|██████████| 100/100 [00:42<00:00,  2.36it/s]\n",
      "100%|██████████| 100/100 [00:41<00:00,  2.40it/s]\n",
      "100%|██████████| 100/100 [00:42<00:00,  2.34it/s]\n",
      "100%|██████████| 100/100 [00:42<00:00,  2.34it/s]\n",
      "100%|██████████| 100/100 [00:41<00:00,  2.41it/s]\n",
      "100%|██████████| 100/100 [00:41<00:00,  2.42it/s]\n",
      "100%|██████████| 100/100 [00:41<00:00,  2.39it/s]\n",
      "100%|██████████| 100/100 [00:40<00:00,  2.45it/s]\n",
      "100%|██████████| 100/100 [00:42<00:00,  2.36it/s]\n",
      "100%|██████████| 100/100 [00:43<00:00,  2.32it/s]\n",
      "100%|██████████| 100/100 [00:42<00:00,  2.37it/s]\n",
      "100%|██████████| 100/100 [00:42<00:00,  2.36it/s]\n",
      "100%|██████████| 100/100 [00:40<00:00,  2.48it/s]\n",
      "100%|██████████| 100/100 [00:40<00:00,  2.48it/s]\n",
      "100%|██████████| 100/100 [00:40<00:00,  2.47it/s]\n",
      "100%|██████████| 100/100 [00:40<00:00,  2.48it/s]\n",
      "100%|██████████| 100/100 [00:41<00:00,  2.43it/s]\n",
      "100%|██████████| 100/100 [00:39<00:00,  2.52it/s]\n",
      "100%|██████████| 100/100 [00:42<00:00,  2.38it/s]\n",
      "100%|██████████| 100/100 [00:44<00:00,  2.27it/s]\n",
      "100%|██████████| 100/100 [00:40<00:00,  2.49it/s]\n",
      "100%|██████████| 100/100 [00:41<00:00,  2.40it/s]\n"
     ]
    }
   ],
   "source": [
    "alpha = np.arange(0,1.1,.1)\n",
    "for a in alpha:\n",
    "    efa = ExponentialFuzzifierFactory().exponential_fuzzifier_with_alpha(a)\n",
    "    be1 = FuzzyInductor(fuzzifier=efa,c=0.021544346900318846,k=HyperbolicKernel(1,0))\n",
    "    bes = [be1,be0]\n",
    "    perf_train, perf_test = best_estimator_holdout(bes,dataset.index,values_20d, dataset_labels,\n",
    "                                              classes,0.7,classify,5)\n",
    "    results_ef = results_ef.append({'alpha': a,\n",
    "                                   'train': perf_train,\n",
    "                                   'test': perf_test}, \n",
    "                                  ignore_index=True)"
   ]
  },
  {
   "cell_type": "code",
   "execution_count": 157,
   "metadata": {},
   "outputs": [
    {
     "data": {
      "text/html": [
       "<div>\n",
       "<style scoped>\n",
       "    .dataframe tbody tr th:only-of-type {\n",
       "        vertical-align: middle;\n",
       "    }\n",
       "\n",
       "    .dataframe tbody tr th {\n",
       "        vertical-align: top;\n",
       "    }\n",
       "\n",
       "    .dataframe thead th {\n",
       "        text-align: right;\n",
       "    }\n",
       "</style>\n",
       "<table border=\"1\" class=\"dataframe\">\n",
       "  <thead>\n",
       "    <tr style=\"text-align: right;\">\n",
       "      <th></th>\n",
       "      <th>alpha</th>\n",
       "      <th>test</th>\n",
       "      <th>train</th>\n",
       "    </tr>\n",
       "  </thead>\n",
       "  <tbody>\n",
       "    <tr>\n",
       "      <th>0</th>\n",
       "      <td>0.00</td>\n",
       "      <td>0.39</td>\n",
       "      <td>0.35</td>\n",
       "    </tr>\n",
       "    <tr>\n",
       "      <th>1</th>\n",
       "      <td>0.10</td>\n",
       "      <td>0.42</td>\n",
       "      <td>0.33</td>\n",
       "    </tr>\n",
       "    <tr>\n",
       "      <th>2</th>\n",
       "      <td>0.20</td>\n",
       "      <td>0.38</td>\n",
       "      <td>0.36</td>\n",
       "    </tr>\n",
       "    <tr>\n",
       "      <th>3</th>\n",
       "      <td>0.30</td>\n",
       "      <td>0.39</td>\n",
       "      <td>0.33</td>\n",
       "    </tr>\n",
       "    <tr>\n",
       "      <th>4</th>\n",
       "      <td>0.40</td>\n",
       "      <td>0.31</td>\n",
       "      <td>0.33</td>\n",
       "    </tr>\n",
       "    <tr>\n",
       "      <th>5</th>\n",
       "      <td>0.50</td>\n",
       "      <td>0.34</td>\n",
       "      <td>0.33</td>\n",
       "    </tr>\n",
       "    <tr>\n",
       "      <th>6</th>\n",
       "      <td>0.60</td>\n",
       "      <td>0.33</td>\n",
       "      <td>0.37</td>\n",
       "    </tr>\n",
       "    <tr>\n",
       "      <th>7</th>\n",
       "      <td>0.70</td>\n",
       "      <td>0.48</td>\n",
       "      <td>0.37</td>\n",
       "    </tr>\n",
       "    <tr>\n",
       "      <th>8</th>\n",
       "      <td>0.80</td>\n",
       "      <td>0.44</td>\n",
       "      <td>0.40</td>\n",
       "    </tr>\n",
       "    <tr>\n",
       "      <th>9</th>\n",
       "      <td>0.90</td>\n",
       "      <td>0.58</td>\n",
       "      <td>0.52</td>\n",
       "    </tr>\n",
       "    <tr>\n",
       "      <th>10</th>\n",
       "      <td>1.00</td>\n",
       "      <td>0.58</td>\n",
       "      <td>0.52</td>\n",
       "    </tr>\n",
       "  </tbody>\n",
       "</table>\n",
       "</div>"
      ],
      "text/plain": [
       "    alpha  test  train\n",
       "0    0.00  0.39   0.35\n",
       "1    0.10  0.42   0.33\n",
       "2    0.20  0.38   0.36\n",
       "3    0.30  0.39   0.33\n",
       "4    0.40  0.31   0.33\n",
       "5    0.50  0.34   0.33\n",
       "6    0.60  0.33   0.37\n",
       "7    0.70  0.48   0.37\n",
       "8    0.80  0.44   0.40\n",
       "9    0.90  0.58   0.52\n",
       "10   1.00  0.58   0.52"
      ]
     },
     "execution_count": 157,
     "metadata": {},
     "output_type": "execute_result"
    }
   ],
   "source": [
    "results_ef"
   ]
  }
 ],
 "metadata": {
  "kernelspec": {
   "display_name": "Python 3",
   "language": "python",
   "name": "python3"
  },
  "language_info": {
   "codemirror_mode": {
    "name": "ipython",
    "version": 3
   },
   "file_extension": ".py",
   "mimetype": "text/x-python",
   "name": "python",
   "nbconvert_exporter": "python",
   "pygments_lexer": "ipython3",
   "version": "3.7.3"
  }
 },
 "nbformat": 4,
 "nbformat_minor": 2
}
